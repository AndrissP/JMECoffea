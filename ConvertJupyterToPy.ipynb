{
 "cells": [
  {
   "cell_type": "markdown",
   "metadata": {},
   "source": [
    "### Change the 'Filename' and 'Folder' of the file you want to convert and run the code\n",
    "\n",
    "This removes also magic commands (strating with %) and makes the script readable by removing #ln(Cell number), markdown code and comments"
   ]
  },
  {
   "cell_type": "code",
   "execution_count": 205,
   "metadata": {},
   "outputs": [],
   "source": [
    "Folder = ''+''  ## '+' if the same directory\n",
    "Filename = 'CoffeaJERC-Andris'  #without .ipynb"
   ]
  },
  {
   "cell_type": "code",
   "execution_count": 206,
   "metadata": {},
   "outputs": [],
   "source": [
    "PathFile = Folder + Filename"
   ]
  },
  {
   "cell_type": "code",
   "execution_count": 207,
   "metadata": {},
   "outputs": [
    {
     "name": "stdout",
     "output_type": "stream",
     "text": [
      "/opt/conda/lib/python3.8/site-packages/traitlets/traitlets.py:2750: FutureWarning: --TagRemovePreprocessor.remove_cell_tags=['parameters'] for containers is deprecated in traitlets 5.0. You can pass `--TagRemovePreprocessor.remove_cell_tags item` ... multiple times to add items to a list.\n",
      "  warn(\n",
      "[NbConvertApp] Converting notebook CoffeaJERC-Andris.ipynb to python\n",
      "[NbConvertApp] Writing 15008 bytes to CoffeaJERC-Andris.py\n"
     ]
    }
   ],
   "source": [
    "!jupyter nbconvert \\\n",
    "    --TagRemovePreprocessor.enabled=True \\\n",
    "    --TagRemovePreprocessor.remove_cell_tags=\"['parameters']\" \\\n",
    "    --TemplateExporter.exclude_markdown=True \\\n",
    "    --to python {PathFile+\".ipynb\"}"
   ]
  },
  {
   "cell_type": "code",
   "execution_count": 208,
   "metadata": {},
   "outputs": [],
   "source": [
    "import re\n",
    "from pathlib import Path\n",
    "import numpy as np"
   ]
  },
  {
   "cell_type": "code",
   "execution_count": 209,
   "metadata": {},
   "outputs": [],
   "source": [
    "def flatten(foo):\n",
    "    for x in foo:\n",
    "        if hasattr(x, '__iter__') and not isinstance(x, str):\n",
    "            for y in flatten(x):\n",
    "                yield y\n",
    "        else:\n",
    "            yield x"
   ]
  },
  {
   "cell_type": "code",
   "execution_count": 210,
   "metadata": {},
   "outputs": [],
   "source": [
    "def LineCheck(line):\n",
    "    if (len(line) == 0 or (line[0] != '#') and (not('InteractiveShell' in line)) and (not('Image' in line))):\n",
    "#         print(\"Here1\")\n",
    "        if 'get_ipython()' in line:\n",
    "#             print(\"Here2\")\n",
    "            #             if 'get_ipython().run_cell_magic(\\'time\\'' in line:\n",
    "            if line[:42] == \"get_ipython().run_cell_magic('time', '', '\":\n",
    "#                 print(\"Here3\")\n",
    "                line_split = line[42:-2].split('\\\\n')\n",
    "#                 [li.replace(\"\\\\'\", \"'\") for li in line_split]\n",
    "                return line_split\n",
    "        else:\n",
    "            return line"
   ]
  },
  {
   "cell_type": "code",
   "execution_count": 211,
   "metadata": {},
   "outputs": [
    {
     "data": {
      "text/plain": [
       "11200"
      ]
     },
     "execution_count": 211,
     "metadata": {},
     "output_type": "execute_result"
    }
   ],
   "source": [
    "filename = Path.cwd() / (PathFile + '.py')\n",
    "code_text = filename.read_text().split('\\n')\n",
    "lines = [LineCheck(line) for line in code_text]\n",
    "lines = [x for x in lines if x is not None]  ###Remove all None created by previous line\n",
    "lines = [i for i in flatten(lines)]\n",
    "\n",
    "lines2 = []\n",
    "was_empty = 0\n",
    "for li in lines:\n",
    "    if len(li)==0 and not was_empty:\n",
    "        lines2.append('    '+li)\n",
    "        was_empty=1\n",
    "    elif len(li)!=0:\n",
    "        lines2.append('    '+li)\n",
    "        was_empty=0\n",
    "\n",
    "lines = lines2\n",
    "        # lines = ['    '+i for i in lines if i!='\\n']\n",
    "lines = [\"def main():\"]+lines\n",
    "\n",
    "main_lines = ['if __name__ == \"__main__\":',\n",
    "              '    main()' ]\n",
    "lines = lines+main_lines\n",
    "\n",
    "clean_code = '\\n'.join(lines)\n",
    "# clean_code = re.sub(r'\\n{2,}', '\\n\\n', clean_code)\n",
    "filename.write_text(clean_code.strip())"
   ]
  },
  {
   "cell_type": "code",
   "execution_count": 212,
   "metadata": {},
   "outputs": [],
   "source": [
    "# txt = '    \\n    \\n    \\n    \\ns\\ns\\ns\\ns'\n",
    "# re.sub(r'\\n{2,}', '\\n\\n', txt)"
   ]
  },
  {
   "cell_type": "code",
   "execution_count": 213,
   "metadata": {},
   "outputs": [],
   "source": [
    "# lines"
   ]
  },
  {
   "cell_type": "code",
   "execution_count": 214,
   "metadata": {},
   "outputs": [],
   "source": [
    "# filename = Path.cwd() / (PathFile + '.py')\n",
    "# code_text = filename.read_text().split('\\n')\n",
    "# lines = [LineCheck(line) for line in code_text]"
   ]
  },
  {
   "cell_type": "code",
   "execution_count": null,
   "metadata": {},
   "outputs": [],
   "source": []
  }
 ],
 "metadata": {
  "kernelspec": {
   "display_name": "Python 3 (ipykernel)",
   "language": "python",
   "name": "python3"
  },
  "language_info": {
   "codemirror_mode": {
    "name": "ipython",
    "version": 3
   },
   "file_extension": ".py",
   "mimetype": "text/x-python",
   "name": "python",
   "nbconvert_exporter": "python",
   "pygments_lexer": "ipython3",
   "version": "3.8.13"
  },
  "varInspector": {
   "cols": {
    "lenName": 16,
    "lenType": 16,
    "lenVar": 40
   },
   "kernels_config": {
    "python": {
     "delete_cmd_postfix": "",
     "delete_cmd_prefix": "del ",
     "library": "var_list.py",
     "varRefreshCmd": "print(var_dic_list())"
    },
    "r": {
     "delete_cmd_postfix": ") ",
     "delete_cmd_prefix": "rm(",
     "library": "var_list.r",
     "varRefreshCmd": "cat(var_dic_list()) "
    }
   },
   "types_to_exclude": [
    "module",
    "function",
    "builtin_function_or_method",
    "instance",
    "_Feature"
   ],
   "window_display": false
  }
 },
 "nbformat": 4,
 "nbformat_minor": 4
}
