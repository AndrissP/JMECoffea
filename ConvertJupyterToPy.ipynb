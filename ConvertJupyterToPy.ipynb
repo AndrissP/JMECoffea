{
 "cells": [
  {
   "cell_type": "markdown",
   "metadata": {},
   "source": [
    "### Change the 'Filename' and 'Folder' of the file you want to convert and run the code\n",
    "\n",
    "`!jupyter nbconvert` does most of the converting work but there are leftover formatting issues.\n",
    "\n",
    "This code removes also the magic commands (strating with %) and makes the script readable by removing #ln(Cell number), markdown code and comments.\n",
    "\n",
    "This also wraps the code under a main() call.\n",
    "\n",
    "Isses can be if a cell starts with a magic comman as with %time."
   ]
  },
  {
   "cell_type": "code",
   "execution_count": 56,
   "metadata": {},
   "outputs": [],
   "source": [
    "Folder = ''+''  ## '+' if the same directory\n",
    "Filename = 'CoffeaJERC-Andris'  #without .ipynb"
   ]
  },
  {
   "cell_type": "code",
   "execution_count": 57,
   "metadata": {},
   "outputs": [],
   "source": [
    "PathFile = Folder + Filename"
   ]
  },
  {
   "cell_type": "code",
   "execution_count": 58,
   "metadata": {},
   "outputs": [
    {
     "name": "stdout",
     "output_type": "stream",
     "text": [
      "/cvmfs/sft-nightlies.cern.ch/lcg/views/dev4/Mon/x86_64-centos7-gcc11-opt/lib/python3.9/site-packages/traitlets/traitlets.py:2556: FutureWarning: --TagRemovePreprocessor.remove_cell_tags=['parameters'] for containers is deprecated in traitlets 5.0. You can pass `--TagRemovePreprocessor.remove_cell_tags item` ... multiple times to add items to a list.\n",
      "  warn(\n",
      "[NbConvertApp] Converting notebook CoffeaJERC-Andris.ipynb to python\n",
      "[NbConvertApp] Writing 33457 bytes to CoffeaJERC-Andris.py\n"
     ]
    }
   ],
   "source": [
    "!jupyter nbconvert \\\n",
    "    --TagRemovePreprocessor.enabled=True \\\n",
    "    --TagRemovePreprocessor.remove_cell_tags=\"['parameters']\" \\\n",
    "    --TemplateExporter.exclude_markdown=True \\\n",
    "    --to python {PathFile+\".ipynb\"}"
   ]
  },
  {
   "cell_type": "code",
   "execution_count": 59,
   "metadata": {},
   "outputs": [
    {
     "data": {
      "text/plain": [
       "'/cvmfs/sft-nightlies.cern.ch/lcg/latest/Python/3.9.12-9a1bc/x86_64-centos7-gcc11-opt/bin/python3'"
      ]
     },
     "execution_count": 59,
     "metadata": {},
     "output_type": "execute_result"
    }
   ],
   "source": [
    "import sys\n",
    "sys.executable"
   ]
  },
  {
   "cell_type": "code",
   "execution_count": 60,
   "metadata": {},
   "outputs": [],
   "source": [
    "import re\n",
    "from pathlib import Path\n",
    "import numpy as np"
   ]
  },
  {
   "cell_type": "code",
   "execution_count": 61,
   "metadata": {},
   "outputs": [],
   "source": [
    "def flatten(foo):\n",
    "    for x in foo:\n",
    "        if hasattr(x, '__iter__') and not isinstance(x, str):\n",
    "            for y in flatten(x):\n",
    "                yield y\n",
    "        else:\n",
    "            yield x"
   ]
  },
  {
   "cell_type": "code",
   "execution_count": 62,
   "metadata": {},
   "outputs": [],
   "source": [
    "def LineCheck(line):\n",
    "    if (len(line) == 0 or (line[0] != '#') and (not('InteractiveShell' in line)) and (not('Image' in line))):\n",
    "#         print(\"Here1\")\n",
    "        if 'get_ipython()' in line:\n",
    "#             print(\"Here2\")\n",
    "            #             if 'get_ipython().run_cell_magic(\\'time\\'' in line:\n",
    "            if line[:42] == \"get_ipython().run_cell_magic('time', '', '\":\n",
    "#                 print(\"Here3\")\n",
    "                line_split = line[42:-2].split('\\\\n')\n",
    "#                 [li.replace(\"\\\\'\", \"'\") for li in line_split]\n",
    "                return line_split\n",
    "        else:\n",
    "            return line"
   ]
  },
  {
   "cell_type": "code",
   "execution_count": 63,
   "metadata": {},
   "outputs": [
    {
     "data": {
      "text/plain": [
       "29632"
      ]
     },
     "execution_count": 63,
     "metadata": {},
     "output_type": "execute_result"
    }
   ],
   "source": [
    "filename = Path.cwd() / (PathFile + '.py')\n",
    "code_text = filename.read_text().split('\\n')\n",
    "lines = [LineCheck(line) for line in code_text]\n",
    "lines = [x for x in lines if x is not None]  ###Remove all None created by previous line\n",
    "lines = [i for i in flatten(lines)]\n",
    "\n",
    "lines2 = []\n",
    "was_empty = 0\n",
    "for li in lines:\n",
    "    if len(li)==0 and not was_empty:\n",
    "        lines2.append('    '+li)\n",
    "        was_empty=1\n",
    "    elif len(li)!=0:\n",
    "        lines2.append('    '+li)\n",
    "        was_empty=0\n",
    "\n",
    "lines = lines2\n",
    "        # lines = ['    '+i for i in lines if i!='\\n']\n",
    "initial_comment_lines = [\"### \"+PathFile+\".py\",\n",
    "                         \"### File automatically converted using ConvertJupyterToPy.ipynb from \"+PathFile+\".ipynb\",\n",
    "                         \"### No comments or formatting is preserved by the transfer.\"]\n",
    "lines = initial_comment_lines+[\"def main():\"]+lines\n",
    "\n",
    "main_lines = ['if __name__ == \"__main__\":',\n",
    "              '    main()' ]\n",
    "lines = lines+main_lines\n",
    "\n",
    "clean_code = '\\n'.join(lines)\n",
    "# clean_code = re.sub(r'\\n{2,}', '\\n\\n', clean_code)\n",
    "filename.write_text(clean_code.strip())"
   ]
  },
  {
   "cell_type": "code",
   "execution_count": null,
   "metadata": {},
   "outputs": [],
   "source": []
  }
 ],
 "metadata": {
  "kernelspec": {
   "display_name": "Python 3 (ipykernel)",
   "language": "python",
   "name": "python3"
  },
  "language_info": {
   "codemirror_mode": {
    "name": "ipython",
    "version": 3
   },
   "file_extension": ".py",
   "mimetype": "text/x-python",
   "name": "python",
   "nbconvert_exporter": "python",
   "pygments_lexer": "ipython3",
   "version": "3.9.12"
  },
  "varInspector": {
   "cols": {
    "lenName": 16,
    "lenType": 16,
    "lenVar": 40
   },
   "kernels_config": {
    "python": {
     "delete_cmd_postfix": "",
     "delete_cmd_prefix": "del ",
     "library": "var_list.py",
     "varRefreshCmd": "print(var_dic_list())"
    },
    "r": {
     "delete_cmd_postfix": ") ",
     "delete_cmd_prefix": "rm(",
     "library": "var_list.r",
     "varRefreshCmd": "cat(var_dic_list()) "
    }
   },
   "types_to_exclude": [
    "module",
    "function",
    "builtin_function_or_method",
    "instance",
    "_Feature"
   ],
   "window_display": false
  }
 },
 "nbformat": 4,
 "nbformat_minor": 4
}
