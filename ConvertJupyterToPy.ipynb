{
 "cells": [
  {
   "cell_type": "markdown",
   "metadata": {},
   "source": [
    "### Change the 'Filename' and 'Folder' of the file you want to convert and run the code\n",
    "\n",
    "`!jupyter nbconvert` does most of the converting work but there are leftover formatting issues.\n",
    "\n",
    "This code removes also the magic commands (strating with %) and makes the script readable by removing #ln(Cell number), markdown code and comments.\n",
    "\n",
    "This also wraps the code under a main() call.\n",
    "\n",
    "Isses can be if a cell starts with a magic command as with `%time` as in the notebooks such cells are wrapped around a `get_ipython().run_cell_magic()` function call."
   ]
  },
  {
   "cell_type": "code",
   "execution_count": 17,
   "metadata": {},
   "outputs": [],
   "source": [
    "Folder = ''+''  ## '+' if the same directory\n",
    "Filename = 'run_processor_response_fitter' #'ConvertJupyterToPy' #'CoffeaJERC-Andris'  #without .ipynb"
   ]
  },
  {
   "cell_type": "code",
   "execution_count": 18,
   "metadata": {},
   "outputs": [],
   "source": [
    "PathFile = Folder + Filename"
   ]
  },
  {
   "cell_type": "code",
   "execution_count": 19,
   "metadata": {},
   "outputs": [
    {
     "name": "stdout",
     "output_type": "stream",
     "text": [
      "[NbConvertApp] Converting notebook run_processor_response_fitter.ipynb to script\n",
      "[NbConvertApp] Writing 24080 bytes to run_processor_response_fitter.py\n"
     ]
    }
   ],
   "source": [
    "! jupyter nbconvert \\\n",
    "    --TagRemovePreprocessor.enabled=True \\\n",
    "    --TagRemovePreprocessor.remove_cell_tags='remove_when_script' \\\n",
    "    --TemplateExporter.exclude_markdown=False \\\n",
    "    --to script {PathFile+\".ipynb\"} \\\n",
    "#     --output test\n",
    "# jupyter nbconvert \\\n",
    "#     --TagRemovePreprocessor.enabled=True \\\n",
    "#     --TagRemovePreprocessor.remove_cell_tags=\"['parameters']\" \\\n",
    "# #     --TagRemovePreprocessor.remove_cell_tags 'parameters' \\\n",
    "#     --TemplateExporter.exclude_markdown=False \\\n",
    "#     --to script {PathFile+\".ipynb\"} \\\n",
    "#     --output 'test'"
   ]
  },
  {
   "cell_type": "code",
   "execution_count": 20,
   "metadata": {},
   "outputs": [],
   "source": [
    "# import sys\n",
    "# sys.executable"
   ]
  },
  {
   "cell_type": "code",
   "execution_count": 21,
   "metadata": {},
   "outputs": [],
   "source": [
    "import re\n",
    "from pathlib import Path\n",
    "import numpy as np"
   ]
  },
  {
   "cell_type": "code",
   "execution_count": 22,
   "metadata": {},
   "outputs": [],
   "source": [
    "def flatten(foo):\n",
    "    for x in foo:\n",
    "        if hasattr(x, '__iter__') and not isinstance(x, str):\n",
    "            for y in flatten(x):\n",
    "                yield y\n",
    "        else:\n",
    "            yield x"
   ]
  },
  {
   "cell_type": "code",
   "execution_count": 23,
   "metadata": {},
   "outputs": [],
   "source": [
    "def LineCheck(line):\n",
    "    ''' Checks if the line `line` is good (e.g. does not contain an image).\n",
    "    If it is good, it outputs it otherwise it outputs None.\n",
    "    It also checks if the cell was wrapped into a %%time magig and splits the lines corretly back.\n",
    "    '''\n",
    "    if (\n",
    "        (len(line) == 0) or\n",
    "        ((line[0:5] != '# In[') and (not('InteractiveShell' in line)) and (not('Image' in line)))\n",
    "       ):\n",
    "        if 'get_ipython()' in line:\n",
    "#             print(\"Here2\")\n",
    "            #             if 'get_ipython().run_cell_magic(\\'time\\'' in line:\n",
    "            if line[:42] == \"get_ipython().run_cell_magic('time', '', '\":\n",
    "#                 print(\"Here3\")\n",
    "                line_split = line[42:-2].split('\\\\n')\n",
    "#                 [li.replace(\"\\\\'\", \"'\") for li in line_split]\n",
    "                return line_split\n",
    "        else:\n",
    "            return line"
   ]
  },
  {
   "cell_type": "code",
   "execution_count": 24,
   "metadata": {},
   "outputs": [
    {
     "data": {
      "text/plain": [
       "26546"
      ]
     },
     "execution_count": 24,
     "metadata": {},
     "output_type": "execute_result"
    }
   ],
   "source": [
    "filename = Path.cwd() / (PathFile + '.py')\n",
    "code_text = filename.read_text().split('\\n')\n",
    "lines = [LineCheck(line) for line in code_text]\n",
    "lines = [x for x in lines if x is not None]  ###Remove all None created by previous line\n",
    "lines = [i for i in flatten(lines)]\n",
    "\n",
    "lines2 = []\n",
    "was_empty = 0\n",
    "for li in lines:\n",
    "    if len(li)==0 and not was_empty:\n",
    "        lines2.append('    '+li)\n",
    "        was_empty=1\n",
    "    elif len(li)!=0:\n",
    "        lines2.append('    '+li)\n",
    "        was_empty=0\n",
    "\n",
    "lines = lines2\n",
    "        # lines = ['    '+i for i in lines if i!='\\n']\n",
    "initial_comment_lines = [\"### \"+PathFile+\".py\",\n",
    "                         \"### File automatically converted using ConvertJupyterToPy.ipynb from \"+PathFile+\".ipynb\",\n",
    "                         \"### Formatting or commets may not be preserved by the conversion.\"]\n",
    "lines = lines[:2]+initial_comment_lines+[\"def main():\"]+lines[2:]\n",
    "\n",
    "main_lines = ['if __name__ == \"__main__\":',\n",
    "              '    main()' ]\n",
    "lines = lines+main_lines\n",
    "\n",
    "clean_code = '\\n'.join(lines)\n",
    "# clean_code = re.sub(r'\\n{2,}', '\\n\\n', clean_code)\n",
    "filename.write_text(clean_code.strip())"
   ]
  },
  {
   "cell_type": "code",
   "execution_count": null,
   "metadata": {},
   "outputs": [],
   "source": []
  },
  {
   "cell_type": "code",
   "execution_count": null,
   "metadata": {},
   "outputs": [],
   "source": []
  }
 ],
 "metadata": {
  "kernelspec": {
   "display_name": "Python 3 (ipykernel)",
   "language": "python",
   "name": "python3"
  },
  "language_info": {
   "codemirror_mode": {
    "name": "ipython",
    "version": 3
   },
   "file_extension": ".py",
   "mimetype": "text/x-python",
   "name": "python",
   "nbconvert_exporter": "python",
   "pygments_lexer": "ipython3",
   "version": "3.9.12"
  },
  "varInspector": {
   "cols": {
    "lenName": 16,
    "lenType": 16,
    "lenVar": 40
   },
   "kernels_config": {
    "python": {
     "delete_cmd_postfix": "",
     "delete_cmd_prefix": "del ",
     "library": "var_list.py",
     "varRefreshCmd": "print(var_dic_list())"
    },
    "r": {
     "delete_cmd_postfix": ") ",
     "delete_cmd_prefix": "rm(",
     "library": "var_list.r",
     "varRefreshCmd": "cat(var_dic_list()) "
    }
   },
   "types_to_exclude": [
    "module",
    "function",
    "builtin_function_or_method",
    "instance",
    "_Feature"
   ],
   "window_display": false
  }
 },
 "nbformat": 4,
 "nbformat_minor": 4
}
