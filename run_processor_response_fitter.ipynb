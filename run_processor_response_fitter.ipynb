{
 "cells": [
  {
   "cell_type": "code",
   "execution_count": 92,
   "metadata": {
    "tags": [
     "remove_when_script"
    ]
   },
   "outputs": [
    {
     "name": "stdout",
     "output_type": "stream",
     "text": [
      "The autoreload extension is already loaded. To reload it, use:\n",
      "  %reload_ext autoreload\n"
     ]
    }
   ],
   "source": [
    "%load_ext autoreload\n",
    "## Set extension to reload modules every time before executing code\n",
    "%autoreload 2  #0 to turn of reloading"
   ]
  },
  {
   "cell_type": "code",
   "execution_count": 93,
   "metadata": {
    "tags": [
     "remove_when_script"
    ]
   },
   "outputs": [],
   "source": [
    "## Print not only the last line in a cell\n",
    "from IPython.core.interactiveshell import InteractiveShell\n",
    "InteractiveShell.ast_node_interactivity = \"all\""
   ]
  },
  {
   "cell_type": "code",
   "execution_count": 94,
   "metadata": {
    "tags": [
     "remove_when_script"
    ]
   },
   "outputs": [
    {
     "data": {
      "text/plain": [
       "{'Cell': {'cm_config': {'lineNumbers': True}},\n",
       " 'CodeCell': {'cm_config': {'autoCloseBrackets': False}},\n",
       " 'load_extensions': {'jupyter-js-widgets/extension': True}}"
      ]
     },
     "execution_count": 94,
     "metadata": {},
     "output_type": "execute_result"
    }
   ],
   "source": [
    "## Don't autoclose brackets\n",
    "from notebook.services.config import ConfigManager\n",
    "c = ConfigManager()\n",
    "c.update('notebook', {\"CodeCell\": {\"cm_config\": {\"autoCloseBrackets\": False}}})"
   ]
  },
  {
   "cell_type": "markdown",
   "metadata": {},
   "source": [
    "### Imports"
   ]
  },
  {
   "cell_type": "code",
   "execution_count": 95,
   "metadata": {
    "scrolled": true
   },
   "outputs": [],
   "source": [
    "import sys\n",
    "coffea_path = '/afs/cern.ch/user/a/anpotreb/top/JERC/coffea/'\n",
    "if coffea_path not in sys.path:\n",
    "    sys.path.insert(0,coffea_path)"
   ]
  },
  {
   "cell_type": "code",
   "execution_count": 96,
   "metadata": {},
   "outputs": [],
   "source": [
    "import time\n",
    "import scipy.stats as ss\n",
    "from scipy.optimize import curve_fit\n",
    "from coffea import processor, util\n",
    "from coffea.nanoevents import NanoAODSchema, BaseSchema\n",
    "\n",
    "import numpy as np\n",
    "from numpy.random import RandomState\n",
    "import importlib\n",
    "\n",
    "# import inspect\n",
    "import matplotlib.pyplot as plt\n",
    "import matplotlib as mpl\n",
    "import hist\n",
    "\n",
    "from plotters.pltStyle import pltStyle\n",
    "pltStyle(style='hep')\n",
    "# pltStyle(style='paper')\n",
    "plt.rcParams['figure.dpi'] = 150\n",
    "import os\n",
    "\n",
    "### import subpackages\n",
    "from helpers import hist_add, hist_mult, hist_div, dictionary_pattern, sum_subhist, xsecstr2float\n",
    "from helpers import save_data, read_data, get_median, gauss, slice_histogram, add_flavors\n",
    "from plotters.plotters import plot_response_dist, plot_corrections, plot_corrections_eta\n",
    "\n",
    "from helpers import rebin_hist, mirror_eta_to_plus, sum_neg_pos_eta, find_ttbar_xsec\n",
    "# %matplotlib notebook "
   ]
  },
  {
   "cell_type": "markdown",
   "metadata": {},
   "source": [
    "### Parameters of the run"
   ]
  },
  {
   "cell_type": "code",
   "execution_count": 97,
   "metadata": {},
   "outputs": [],
   "source": [
    "UsingDaskExecutor = False\n",
    "CERNCondorCluster = True\n",
    "CoffeaCasaEnv     = False\n",
    "load_preexisting  = False    ### True if don't repeat the processing of files and use preexisting JER from output\n",
    "test_run          = True   ### True if run only on one file and five chuncs to debug processor\n",
    "load_fit_res      = False   ### True if only replot the fit results\n",
    "\n",
    "fine_etabins      = False   ### Don't merge eta bins together when fitting responses. Preprocessing always done in many bins\n",
    "one_bin           = False   ### Unite all eta and pt bins in one\n",
    "\n",
    "Nfiles = -1                 ### -1 for all files\n",
    "\n",
    "tag_Lx = '_L5'                 ### L5 or L23, but L23 not supported since ages.\n",
    "\n",
    "### tag for the dataset used\n",
    "data_tag = 'DY-MG-Py' #'_LHEflav1_TTBAR-JME' #'_LHEflav1_TTBAR-Summer16-cFlip'\n",
    "data_tag = 'DY-FxFx'\n",
    "### name of the specific run if parameters changed\n",
    "add_tag = ''  \n",
    "\n",
    "certificate_dir = '/afs/cern.ch/user/a/anpotreb/k5-ca-proxy.pem'"
   ]
  },
  {
   "cell_type": "markdown",
   "metadata": {},
   "source": [
    "### Dataset parameters"
   ]
  },
  {
   "cell_type": "code",
   "execution_count": 98,
   "metadata": {},
   "outputs": [
    {
     "name": "stdout",
     "output_type": "stream",
     "text": [
      "The data tag \"DY-FxFx\" found in the dataset_dictionary. The dataset \"fileNames/DYJets.txt\" will be used.\n"
     ]
    }
   ],
   "source": [
    "dataset = None\n",
    "fileslist = None\n",
    "\n",
    "dataset_dictionary = {\n",
    "    \"Pythia-TTBAR\": 'fileNames/TTToSemi20UL18_JMENano.txt',\n",
    "    \"Herwig-TTBAR\": 'fileNames/TTbar_Herwig_20UL18_JMENano.txt',\n",
    "    \"DY-MG-Py\":     'fileNames/DYJets_MG-Py.txt',\n",
    "    \"DY-MG-Her\":    'fileNames/DYJets_MG-Her.txt',\n",
    "    \"QCD-MG-Py\":    'fileNames/QCD_MG_Py8_20UL18/xsecs_QCD_MG_py8.txt',\n",
    "    \"QCD-MG-Her\":   'fileNames/QCD_Herwig_20UL18/xsecs_QCD_Herwig_corrected.txt',\n",
    "    \"QCD-Py\":       'fileNames/QCD20UL18_JMENano.txt',\n",
    "    \"DY-FxFx\":      'fileNames/DYJets.txt',\n",
    "}\n",
    "\n",
    "if not (fileslist is None):\n",
    "    print(f'A specific filelist specified. The calculation will be run on the files {filelist}')\n",
    "elif data_tag in dataset_dictionary.keys():\n",
    "    dataset = dataset_dictionary[data_tag]\n",
    "    print(f'The data tag \"{data_tag}\" found in the dataset_dictionary. The dataset \"{dataset}\" will be used.')\n",
    "elif not(dataset is None):\n",
    "    print(f'Using the provided dataset \"{dataset}\" and the data tag \"{data_tag}\".')\n",
    "else:\n",
    "    raise ValueError(f'The data tag \"{data_tag}\" not found in the dataset_dictionary and no dataset provided.')"
   ]
  },
  {
   "cell_type": "code",
   "execution_count": 99,
   "metadata": {},
   "outputs": [],
   "source": [
    "### Choose the correct redirector\n",
    "## assume running on the LPC\n",
    "# xrootdstr = 'root://cmsxrootd.fnal.gov/'\n",
    "## assume running on the lxplus\n",
    "# xrootdstr = 'root://cms-xrd-global.cern.ch//'\n",
    "xrootdstr = 'root://xrootd-cms.infn.it/'\n",
    "\n",
    "# if running on coffea casa instead...\n",
    "if CoffeaCasaEnv:\n",
    "    xrootdstr = 'root://xcache/'"
   ]
  },
  {
   "cell_type": "code",
   "execution_count": 100,
   "metadata": {},
   "outputs": [
    {
     "name": "stdout",
     "output_type": "stream",
     "text": [
      "Running on the number of files: 1\n",
      " Job with the full tag _L5_DY-FxFx_test\n",
      " Outname = out/CoffeaJERCOutputs_L5_DY-FxFx_test.coffea\n"
     ]
    }
   ],
   "source": [
    "#Import the correct processor\n",
    "Processor = importlib.import_module('CoffeaJERCProcessor'+tag_Lx).Processor\n",
    "\n",
    "tag_full = tag_Lx+'_'+data_tag+add_tag\n",
    "if test_run:\n",
    "    tag_full = tag_full+'_test'\n",
    "outname = 'out/CoffeaJERCOutputs'+tag_full+'.coffea'\n",
    "\n",
    "tag_fit_res = tag_full\n",
    "\n",
    "if fine_etabins:\n",
    "    tag_fit_res=tag_full+'_fine_etaBins'\n",
    "\n",
    "if one_bin:\n",
    "    tag_fit_res=tag_fit_res+'_oneBin'\n",
    "    \n",
    "if load_preexisting == True:\n",
    "    UsingDaskExecutor = False\n",
    "    \n",
    "if UsingDaskExecutor == False:\n",
    "    CERNCondorCluster = False\n",
    "    \n",
    "if not os.path.exists(\"out\"):\n",
    "    os.mkdir(\"out\")\n",
    "    \n",
    "if not os.path.exists(\"out_txt\"):\n",
    "    os.mkdir(\"out_txt\")\n",
    "    \n",
    "if not os.path.exists(\"fig\"):\n",
    "    os.mkdir(\"fig/\")\n",
    "    os.mkdir(\"fig/responses/\")\n",
    "    \n",
    "if test_run and not os.path.exists(\"test\"):\n",
    "    os.mkdir(\"test/\")\n",
    "    os.mkdir(\"test/out_txt\")\n",
    "    os.mkdir(\"test/fig\")\n",
    "    \n",
    "maxchunks = 5 if test_run else None\n",
    "if test_run:\n",
    "    Nfiles = 1\n",
    "\n",
    "print(f'Running on the number of files: {Nfiles}\\n Job with the full tag {tag_full}\\n Outname = {outname}')\n"
   ]
  },
  {
   "cell_type": "markdown",
   "metadata": {},
   "source": [
    "### For the attempt to correctly combine three ttbar channels. Not fully tested"
   ]
  },
  {
   "cell_type": "code",
   "execution_count": 101,
   "metadata": {},
   "outputs": [],
   "source": [
    "def txt2filesls(dataset_name):\n",
    "    with open(dataset_name) as f:\n",
    "        rootfiles = f.read().split()\n",
    "        fileslist = [xrootdstr + file for file in rootfiles]\n",
    "    return fileslist"
   ]
  },
  {
   "cell_type": "code",
   "execution_count": 102,
   "metadata": {},
   "outputs": [],
   "source": [
    "combineTTbar = False\n",
    "ttbar_tags = ['Semi', 'Dilep', 'Had']\n",
    "\n",
    "filesets = {}\n",
    "if not (fileslist is None):\n",
    "    xsec_dict = {'dataset1': 1}\n",
    "    filesets = {'dataset1': {\"files\": fileslist, \"metadata\": {\"xsec\": 1}}}\n",
    "elif combineTTbar:\n",
    "    for ftag in ttbar_tags:\n",
    "        data_name = f'fileNames/fileNames_TTTo{ftag}20UL18_JMENano.txt'\n",
    "        fileslist = txt2filesls(data_name)[:Nfiles]\n",
    "        xsec = find_ttbar_xsec(data_name)\n",
    "        filesets[ftag] = {\"files\": fileslist, \"metadata\": {\"xsec\": xsec}}\n",
    "elif \"QCD-MG\" in data_tag:\n",
    "    ### if dataset striched together from a set of datasets where the cross-section for each is given in `dataset`\n",
    "    dataset_path = '/'.join(dataset.split('/')[:-1])\n",
    "    with open(dataset) as f:\n",
    "        lines = f.readlines()\n",
    "    lines_split = [line.split() for line in lines]\n",
    "    xsec_dict = {lineii[1]: xsecstr2float(lineii[2]) for lineii in lines_split }\n",
    "    file_dict = {lineii[1]: lineii[0] for lineii in lines_split }\n",
    "    for key in file_dict.keys():\n",
    "        data_name = file_dict[key]\n",
    "        fileslist = txt2filesls(dataset_path+'/'+data_name)[:Nfiles]\n",
    "        filesets[key] = {\"files\": fileslist, \"metadata\": {\"xsec\": xsec_dict[key]}}\n",
    "    if test_run:\n",
    "        filesets = {key: filesets[key] for key in list(filesets.keys())[:3]}      \n",
    "else:\n",
    "    fileslist = txt2filesls(dataset)[:Nfiles]\n",
    "    #### If manyally adding fileslist\n",
    "    xsec_dict = {'dataset1': 1}\n",
    "    filesets = {'dataset1': {\"files\": fileslist, \"metadata\": {\"xsec\": 1}}}\n"
   ]
  },
  {
   "cell_type": "markdown",
   "metadata": {
    "tags": [
     "remove_when_script"
    ]
   },
   "source": [
    "Test if certificate works to open the file"
   ]
  },
  {
   "cell_type": "code",
   "execution_count": 103,
   "metadata": {
    "tags": [
     "remove_when_script"
    ]
   },
   "outputs": [
    {
     "name": "stdout",
     "output_type": "stream",
     "text": [
      "Found proxy at /afs/cern.ch/user/a/anpotreb/k5-ca-proxy.pem\n"
     ]
    }
   ],
   "source": [
    "### RUN THIS CELL ONLY IF YOU ARE USING SWAN \n",
    "\n",
    "##### REMEMBER TO MANUALLY COPY THE PROXY TO YOUR CERNBOX FOLDER AND TO MODIFY THE NEXT LINE\n",
    "os.environ['X509_USER_PROXY'] = certificate_dir\n",
    "if os.path.isfile(os.environ['X509_USER_PROXY']):\n",
    "    print(\"Found proxy at {}\".format(os.environ['X509_USER_PROXY']))\n",
    "else:\n",
    "    print(\"os.environ['X509_USER_PROXY'] \",os.environ['X509_USER_PROXY'])\n",
    "os.environ['X509_CERT_DIR'] = '/cvmfs/cms.cern.ch/grid/etc/grid-security/certificates'\n",
    "os.environ['X509_VOMS_DIR'] = '/cvmfs/cms.cern.ch/grid/etc/grid-security/vomsdir'\n",
    "os.environ['X509_USER_CERT'] = '/afs/cern.ch/user/a/anpotreb/k5-ca-proxy.pem'\n",
    "\n",
    "env_extra = [\n",
    "            f'export X509_USER_PROXY={certificate_dir}',\n",
    "            f'export X509_CERT_DIR={certificate_dir}',\n",
    "        ]"
   ]
  },
  {
   "cell_type": "code",
   "execution_count": 104,
   "metadata": {},
   "outputs": [
    {
     "data": {
      "text/plain": [
       "['tag;1',\n",
       " 'Events;1',\n",
       " 'LuminosityBlocks;1',\n",
       " 'Runs;1',\n",
       " 'MetaData;1',\n",
       " 'ParameterSets;1']"
      ]
     },
     "execution_count": 104,
     "metadata": {},
     "output_type": "execute_result"
    }
   ],
   "source": [
    "import uproot\n",
    "ff = uproot.open(fileslist[0])\n",
    "ff.keys()\n",
    "ff.close()\n",
    "\n",
    "# print(f\"The test file read successfully. All good with certifiates.\")"
   ]
  },
  {
   "cell_type": "markdown",
   "metadata": {},
   "source": [
    "# Dask Setup:\n",
    "---\n",
    "### For Dask+Condor setup on lxplus\n",
    "#### 1.) The wrapper needs to be installed following https://github.com/cernops/dask-lxplus\n",
    "#### 2.) Source lcg environment in bash\n",
    "#### `source /cvmfs/sft-nightlies.cern.ch/lcg/views/dev4/latest/x86_64-centos7-gcc11-opt/setup.sh`\n",
    "#### Singularity could work but not confirmed.\n",
    "---\n",
    "### For Coffea-Casa, the client must be specified according to the user that is logged into the Coffea-Casa Environment.\n",
    "#### 1.) go to the left of this coffea-casa session to the task bar and click the orange-red button; it will say \"Dask\" if you hover your cursor over it\n",
    "#### 2.) scroll down to the blue box where it shows the \"Scheduler Address\"\n",
    "#### 3.) write that full address into the dask Client function \n",
    "#### Example: `client = Client(\"tls://ac-2emalik-2ewilliams-40cern-2ech.dask.coffea.casa:8786\")`\n",
    "---\n",
    "### For CMSLPC, the client must be specified with the LPCCondorCluster\n",
    "#### 1.) follow installation instructions from https://github.com/CoffeaTeam/lpcjobqueue, if you have not already done so, to get a working singularity environment with access to lpcjobqueue and LPCCondorCluster class\n",
    "#### 2.) import LPCCondorCluster: `from lpcjobqueue import LPCCondorCluster`\n",
    "#### 3.) define the client\n",
    "#### Example: \n",
    "`cluster = LPCCondorCluster()`\n",
    "\n",
    "`client = Client(cluster)`\n"
   ]
  },
  {
   "cell_type": "code",
   "execution_count": 105,
   "metadata": {},
   "outputs": [],
   "source": [
    " # Dask set up for Coffea-Casa only\n",
    "if(UsingDaskExecutor and CoffeaCasaEnv):\n",
    "    from dask.distributed import Client \n",
    "    client = Client(\"tls://ac-2emalik-2ewilliams-40cern-2ech.dask.coffea.casa:8786\")\n",
    "    client.upload_file('CoffeaJERCProcessor.py')"
   ]
  },
  {
   "cell_type": "code",
   "execution_count": 106,
   "metadata": {
    "scrolled": true
   },
   "outputs": [],
   "source": [
    "if(UsingDaskExecutor and not CoffeaCasaEnv):\n",
    "    from dask.distributed import Client \n",
    " # Dask set up for LPC only \n",
    "    if not CERNCondorCluster:\n",
    "        client = Client()\n",
    "        client.get_versions(check=True)\n",
    "#         client.nanny = False\n",
    "\n",
    "    else:\n",
    "        from dask_lxplus import CernCluster\n",
    "        import socket\n",
    "\n",
    "        cluster = CernCluster(\n",
    "# #             memory=config.run_options['mem_per_worker'],\n",
    "# #             disk=config.run_options.get('disk_per_worker', \"20GB\"),\n",
    "#             env_extra=env_extra,\n",
    "            cores = 1,\n",
    "            memory = '4000MB',\n",
    "            disk = '2000MB',\n",
    "            death_timeout = '60',\n",
    "            lcg = True,\n",
    "            nanny = False,\n",
    "            container_runtime = 'none',\n",
    "            log_directory = '/eos/user/a/anpotreb/condor/log',\n",
    "            scheduler_options = {\n",
    "                'port': 8786,\n",
    "                'host': socket.gethostname(),\n",
    "            },\n",
    "            job_extra = {\n",
    "                'MY.JobFlavour': '\"longlunch\"',\n",
    "                'transfer_input_files': '/afs/cern.ch/user/a/anpotreb/top/JERC/JMECoffea/count_2d.py',\n",
    "            },\n",
    "        )\n",
    "        cluster.adapt(minimum=2, maximum=200)\n",
    "        cluster.scale(8)\n",
    "        client = Client(cluster)\n",
    "    \n",
    "    client.upload_file('CoffeaJERCProcessor'+tag_Lx+'.py')\n",
    "    client.upload_file('count_2d.py')\n",
    "\n",
    "    client"
   ]
  },
  {
   "cell_type": "markdown",
   "metadata": {},
   "source": [
    "### Run the processor"
   ]
  },
  {
   "cell_type": "code",
   "execution_count": 107,
   "metadata": {
    "scrolled": true
   },
   "outputs": [
    {
     "data": {
      "application/vnd.jupyter.widget-view+json": {
       "model_id": "b6b9814198244960a1f8d7b2fa0f68b3",
       "version_major": 2,
       "version_minor": 0
      },
      "text/plain": [
       "Output()"
      ]
     },
     "metadata": {},
     "output_type": "display_data"
    },
    {
     "name": "stdout",
     "output_type": "stream",
     "text": [
      "evaluator =  <coffea.lookup_tools.evaluator.evaluator object at 0x7f52c2eed2b0>\n",
      "evaluator keys =  dict_keys(['Summer20UL18_V2_MC_L1FastJet_AK4PFchs', 'Summer20UL18_V2_MC_L2Relative_AK4PFchs', 'Summer20UL18_V2_MC_L3Absolute_AK4PFchs'])\n"
     ]
    },
    {
     "data": {
      "text/html": [
       "<pre style=\"white-space:pre;overflow-x:auto;line-height:normal;font-family:Menlo,'DejaVu Sans Mono',consolas,'Courier New',monospace\">/cvmfs/sft-nightlies.cern.ch/lcg/views/dev4/Thu/x86_64-centos7-gcc11-opt/lib/python3.9/site-packages/ipywidgets/wid\n",
       "gets/widget_output.py:111: DeprecationWarning: Kernel._parent_header is deprecated in ipykernel 6. Use \n",
       ".get_parent()\n",
       "  if ip and hasattr(ip, 'kernel') and hasattr(ip.kernel, '_parent_header'):\n",
       "</pre>\n"
      ],
      "text/plain": [
       "/cvmfs/sft-nightlies.cern.ch/lcg/views/dev4/Thu/x86_64-centos7-gcc11-opt/lib/python3.9/site-packages/ipywidgets/wid\n",
       "gets/widget_output.py:111: DeprecationWarning: Kernel._parent_header is deprecated in ipykernel 6. Use \n",
       ".get_parent()\n",
       "  if ip and hasattr(ip, 'kernel') and hasattr(ip.kernel, '_parent_header'):\n"
      ]
     },
     "metadata": {},
     "output_type": "display_data"
    },
    {
     "data": {
      "text/html": [
       "<pre style=\"white-space:pre;overflow-x:auto;line-height:normal;font-family:Menlo,'DejaVu Sans Mono',consolas,'Courier New',monospace\">/cvmfs/sft-nightlies.cern.ch/lcg/views/dev4/Thu/x86_64-centos7-gcc11-opt/lib/python3.9/site-packages/ipywidgets/wid\n",
       "gets/widget_output.py:112: DeprecationWarning: Kernel._parent_header is deprecated in ipykernel 6. Use \n",
       ".get_parent()\n",
       "  self.msg_id = ip.kernel._parent_header['header']['msg_id']\n",
       "</pre>\n"
      ],
      "text/plain": [
       "/cvmfs/sft-nightlies.cern.ch/lcg/views/dev4/Thu/x86_64-centos7-gcc11-opt/lib/python3.9/site-packages/ipywidgets/wid\n",
       "gets/widget_output.py:112: DeprecationWarning: Kernel._parent_header is deprecated in ipykernel 6. Use \n",
       ".get_parent()\n",
       "  self.msg_id = ip.kernel._parent_header['header']['msg_id']\n"
      ]
     },
     "metadata": {},
     "output_type": "display_data"
    },
    {
     "data": {
      "text/html": [
       "<pre style=\"white-space:pre;overflow-x:auto;line-height:normal;font-family:Menlo,'DejaVu Sans Mono',consolas,'Courier New',monospace\"></pre>\n"
      ],
      "text/plain": []
     },
     "metadata": {},
     "output_type": "display_data"
    },
    {
     "data": {
      "text/html": [
       "<pre style=\"white-space:pre;overflow-x:auto;line-height:normal;font-family:Menlo,'DejaVu Sans Mono',consolas,'Courier New',monospace\">\n",
       "</pre>\n"
      ],
      "text/plain": [
       "\n"
      ]
     },
     "metadata": {},
     "output_type": "display_data"
    },
    {
     "data": {
      "application/vnd.jupyter.widget-view+json": {
       "model_id": "23fa214dcef64a8badd020940c2be0a0",
       "version_major": 2,
       "version_minor": 0
      },
      "text/plain": [
       "Output()"
      ]
     },
     "metadata": {},
     "output_type": "display_data"
    },
    {
     "data": {
      "text/html": [
       "<pre style=\"white-space:pre;overflow-x:auto;line-height:normal;font-family:Menlo,'DejaVu Sans Mono',consolas,'Courier New',monospace\">/cvmfs/sft-nightlies.cern.ch/lcg/views/dev4/Thu/x86_64-centos7-gcc11-opt/lib/python3.9/site-packages/ipywidgets/wid\n",
       "gets/widget_output.py:111: DeprecationWarning: Kernel._parent_header is deprecated in ipykernel 6. Use \n",
       ".get_parent()\n",
       "  if ip and hasattr(ip, 'kernel') and hasattr(ip.kernel, '_parent_header'):\n",
       "</pre>\n"
      ],
      "text/plain": [
       "/cvmfs/sft-nightlies.cern.ch/lcg/views/dev4/Thu/x86_64-centos7-gcc11-opt/lib/python3.9/site-packages/ipywidgets/wid\n",
       "gets/widget_output.py:111: DeprecationWarning: Kernel._parent_header is deprecated in ipykernel 6. Use \n",
       ".get_parent()\n",
       "  if ip and hasattr(ip, 'kernel') and hasattr(ip.kernel, '_parent_header'):\n"
      ]
     },
     "metadata": {},
     "output_type": "display_data"
    },
    {
     "data": {
      "text/html": [
       "<pre style=\"white-space:pre;overflow-x:auto;line-height:normal;font-family:Menlo,'DejaVu Sans Mono',consolas,'Courier New',monospace\">/cvmfs/sft-nightlies.cern.ch/lcg/views/dev4/Thu/x86_64-centos7-gcc11-opt/lib/python3.9/site-packages/ipywidgets/wid\n",
       "gets/widget_output.py:112: DeprecationWarning: Kernel._parent_header is deprecated in ipykernel 6. Use \n",
       ".get_parent()\n",
       "  self.msg_id = ip.kernel._parent_header['header']['msg_id']\n",
       "</pre>\n"
      ],
      "text/plain": [
       "/cvmfs/sft-nightlies.cern.ch/lcg/views/dev4/Thu/x86_64-centos7-gcc11-opt/lib/python3.9/site-packages/ipywidgets/wid\n",
       "gets/widget_output.py:112: DeprecationWarning: Kernel._parent_header is deprecated in ipykernel 6. Use \n",
       ".get_parent()\n",
       "  self.msg_id = ip.kernel._parent_header['header']['msg_id']\n"
      ]
     },
     "metadata": {},
     "output_type": "display_data"
    },
    {
     "data": {
      "text/html": [
       "<pre style=\"white-space:pre;overflow-x:auto;line-height:normal;font-family:Menlo,'DejaVu Sans Mono',consolas,'Courier New',monospace\"></pre>\n"
      ],
      "text/plain": []
     },
     "metadata": {},
     "output_type": "display_data"
    },
    {
     "data": {
      "text/html": [
       "<pre style=\"white-space:pre;overflow-x:auto;line-height:normal;font-family:Menlo,'DejaVu Sans Mono',consolas,'Courier New',monospace\">\n",
       "</pre>\n"
      ],
      "text/plain": [
       "\n"
      ]
     },
     "metadata": {},
     "output_type": "display_data"
    },
    {
     "name": "stdout",
     "output_type": "stream",
     "text": [
      "Processor finished. Time elapsed:  24.096303701400757\n",
      "Saving the output histograms under:  out/CoffeaJERCOutputs_L5_DY-FxFx_test.coffea\n"
     ]
    }
   ],
   "source": [
    "tstart = time.time()\n",
    "\n",
    "outputs_unweighted = {}\n",
    "\n",
    "seed = 1234577890\n",
    "prng = RandomState(seed)\n",
    "chunksize = 10000\n",
    "# maxchunks = 20\n",
    "\n",
    "if not load_preexisting:\n",
    "    if not UsingDaskExecutor:\n",
    "        chosen_exec = 'futures'\n",
    "        output = processor.run_uproot_job(filesets,\n",
    "                                          treename='Events',\n",
    "                                          processor_instance=Processor(),\n",
    "                                          executor=processor.iterative_executor,\n",
    "    #                                        executor=processor.futures_executor,\n",
    "                                          executor_args={\n",
    "                                              'skipbadfiles':True,\n",
    "                                              'schema': NanoAODSchema, #BaseSchema\n",
    "                                              'workers': 2},\n",
    "                                          chunksize=chunksize,\n",
    "                                          maxchunks=maxchunks)\n",
    "    else:\n",
    "        chosen_exec = 'dask'\n",
    "        output = processor.run_uproot_job(filesets,\n",
    "                                          treename='Events',\n",
    "                                          processor_instance=Processor(),\n",
    "                                          executor=processor.dask_executor,\n",
    "                                          executor_args={\n",
    "                                              'client': client,\n",
    "                                              'skipbadfiles':True,\n",
    "                                              'schema': NanoAODSchema, #BaseSchema\n",
    "                                              'xrootdtimeout': 60,\n",
    "                                              'retries': 2,\n",
    "#                                               'workers': 2\n",
    "                                          },\n",
    "                                          chunksize=chunksize,\n",
    "                                          maxchunks=maxchunks)\n",
    "\n",
    "    elapsed = time.time() - tstart\n",
    "    print(\"Processor finished. Time elapsed: \", elapsed)\n",
    "#     outputs_unweighted[name] = output\n",
    "    print(\"Saving the output histograms under: \", outname)\n",
    "    util.save(output, outname)\n",
    "#     outputs_unweighted[name] = output\n",
    "else:\n",
    "    output = util.load(outname)\n",
    "    print(\"Loaded histograms from: \", outname)\n",
    "\n",
    "#### Attempt to prevent the error when the cluster closes. Doesn't always work.\n",
    "if UsingDaskExecutor:\n",
    "    client.close()\n",
    "    time.sleep(5)\n",
    "    if CERNCondorCluster or CoffeaCasaEnv:\n",
    "        cluster.close()"
   ]
  },
  {
   "cell_type": "code",
   "execution_count": 108,
   "metadata": {},
   "outputs": [],
   "source": [
    "allflav = [key for key in output.keys() if 'ptresponse' in key]"
   ]
  },
  {
   "cell_type": "code",
   "execution_count": 109,
   "metadata": {},
   "outputs": [
    {
     "data": {
      "text/plain": [
       "{'dataset1': {'ptresponse_b': Hist(\n",
       "    Variable(array([   15.,    17.,    20.,    23.,    27.,    30.,    35.,    40.,\n",
       "            45.,    57.,    72.,    90.,   120.,   150.,   200.,   300.,\n",
       "           400.,   550.,   750.,  1000.,  1500.,  2000.,  2500.,  3000.,\n",
       "          3500.,  4000.,  4500.,  5000., 10000.]), name='pt_gen', label='$p_{T,gen}$'),\n",
       "    Regular(100, 0, 2.5, name='ptresponse', label='RECO / GEN response'),\n",
       "    Variable(array([-5.191, -4.889, -4.716, -4.538, -4.363, -4.191, -4.013, -3.839,\n",
       "         -3.664, -3.489, -3.314, -3.139, -2.964, -2.853, -2.65 , -2.5  ,\n",
       "         -2.322, -2.172, -2.043, -1.93 , -1.83 , -1.74 , -1.653, -1.566,\n",
       "         -1.479, -1.392, -1.305, -1.218, -1.131, -1.044, -0.957, -0.879,\n",
       "         -0.783, -0.696, -0.609, -0.522, -0.435, -0.348, -0.261, -0.174,\n",
       "         -0.087,  0.   ,  0.087,  0.174,  0.261,  0.348,  0.435,  0.522,\n",
       "          0.609,  0.696,  0.783,  0.879,  0.957,  1.044,  1.131,  1.218,\n",
       "          1.305,  1.392,  1.479,  1.566,  1.653,  1.74 ,  1.83 ,  1.93 ,\n",
       "          2.043,  2.172,  2.322,  2.5  ,  2.65 ,  2.853,  2.964,  3.139,\n",
       "          3.314,  3.489,  3.664,  3.839,  4.013,  4.191,  4.363,  4.538,\n",
       "          4.716,  4.889,  5.191]), name='jeteta', label='Jet $\\\\eta$'),\n",
       "    storage=Weight()) # Sum: WeightedSum(value=676, variance=676),\n",
       "  'ptresponse_c': Hist(\n",
       "    Variable(array([   15.,    17.,    20.,    23.,    27.,    30.,    35.,    40.,\n",
       "            45.,    57.,    72.,    90.,   120.,   150.,   200.,   300.,\n",
       "           400.,   550.,   750.,  1000.,  1500.,  2000.,  2500.,  3000.,\n",
       "          3500.,  4000.,  4500.,  5000., 10000.]), name='pt_gen', label='$p_{T,gen}$'),\n",
       "    Regular(100, 0, 2.5, name='ptresponse', label='RECO / GEN response'),\n",
       "    Variable(array([-5.191, -4.889, -4.716, -4.538, -4.363, -4.191, -4.013, -3.839,\n",
       "         -3.664, -3.489, -3.314, -3.139, -2.964, -2.853, -2.65 , -2.5  ,\n",
       "         -2.322, -2.172, -2.043, -1.93 , -1.83 , -1.74 , -1.653, -1.566,\n",
       "         -1.479, -1.392, -1.305, -1.218, -1.131, -1.044, -0.957, -0.879,\n",
       "         -0.783, -0.696, -0.609, -0.522, -0.435, -0.348, -0.261, -0.174,\n",
       "         -0.087,  0.   ,  0.087,  0.174,  0.261,  0.348,  0.435,  0.522,\n",
       "          0.609,  0.696,  0.783,  0.879,  0.957,  1.044,  1.131,  1.218,\n",
       "          1.305,  1.392,  1.479,  1.566,  1.653,  1.74 ,  1.83 ,  1.93 ,\n",
       "          2.043,  2.172,  2.322,  2.5  ,  2.65 ,  2.853,  2.964,  3.139,\n",
       "          3.314,  3.489,  3.664,  3.839,  4.013,  4.191,  4.363,  4.538,\n",
       "          4.716,  4.889,  5.191]), name='jeteta', label='Jet $\\\\eta$'),\n",
       "    storage=Weight()) # Sum: WeightedSum(value=1394, variance=1394),\n",
       "  'ptresponse_s': Hist(\n",
       "    Variable(array([   15.,    17.,    20.,    23.,    27.,    30.,    35.,    40.,\n",
       "            45.,    57.,    72.,    90.,   120.,   150.,   200.,   300.,\n",
       "           400.,   550.,   750.,  1000.,  1500.,  2000.,  2500.,  3000.,\n",
       "          3500.,  4000.,  4500.,  5000., 10000.]), name='pt_gen', label='$p_{T,gen}$'),\n",
       "    Regular(100, 0, 2.5, name='ptresponse', label='RECO / GEN response'),\n",
       "    Variable(array([-5.191, -4.889, -4.716, -4.538, -4.363, -4.191, -4.013, -3.839,\n",
       "         -3.664, -3.489, -3.314, -3.139, -2.964, -2.853, -2.65 , -2.5  ,\n",
       "         -2.322, -2.172, -2.043, -1.93 , -1.83 , -1.74 , -1.653, -1.566,\n",
       "         -1.479, -1.392, -1.305, -1.218, -1.131, -1.044, -0.957, -0.879,\n",
       "         -0.783, -0.696, -0.609, -0.522, -0.435, -0.348, -0.261, -0.174,\n",
       "         -0.087,  0.   ,  0.087,  0.174,  0.261,  0.348,  0.435,  0.522,\n",
       "          0.609,  0.696,  0.783,  0.879,  0.957,  1.044,  1.131,  1.218,\n",
       "          1.305,  1.392,  1.479,  1.566,  1.653,  1.74 ,  1.83 ,  1.93 ,\n",
       "          2.043,  2.172,  2.322,  2.5  ,  2.65 ,  2.853,  2.964,  3.139,\n",
       "          3.314,  3.489,  3.664,  3.839,  4.013,  4.191,  4.363,  4.538,\n",
       "          4.716,  4.889,  5.191]), name='jeteta', label='Jet $\\\\eta$'),\n",
       "    storage=Weight()) # Sum: WeightedSum(value=1678, variance=1678),\n",
       "  'ptresponse_u': Hist(\n",
       "    Variable(array([   15.,    17.,    20.,    23.,    27.,    30.,    35.,    40.,\n",
       "            45.,    57.,    72.,    90.,   120.,   150.,   200.,   300.,\n",
       "           400.,   550.,   750.,  1000.,  1500.,  2000.,  2500.,  3000.,\n",
       "          3500.,  4000.,  4500.,  5000., 10000.]), name='pt_gen', label='$p_{T,gen}$'),\n",
       "    Regular(100, 0, 2.5, name='ptresponse', label='RECO / GEN response'),\n",
       "    Variable(array([-5.191, -4.889, -4.716, -4.538, -4.363, -4.191, -4.013, -3.839,\n",
       "         -3.664, -3.489, -3.314, -3.139, -2.964, -2.853, -2.65 , -2.5  ,\n",
       "         -2.322, -2.172, -2.043, -1.93 , -1.83 , -1.74 , -1.653, -1.566,\n",
       "         -1.479, -1.392, -1.305, -1.218, -1.131, -1.044, -0.957, -0.879,\n",
       "         -0.783, -0.696, -0.609, -0.522, -0.435, -0.348, -0.261, -0.174,\n",
       "         -0.087,  0.   ,  0.087,  0.174,  0.261,  0.348,  0.435,  0.522,\n",
       "          0.609,  0.696,  0.783,  0.879,  0.957,  1.044,  1.131,  1.218,\n",
       "          1.305,  1.392,  1.479,  1.566,  1.653,  1.74 ,  1.83 ,  1.93 ,\n",
       "          2.043,  2.172,  2.322,  2.5  ,  2.65 ,  2.853,  2.964,  3.139,\n",
       "          3.314,  3.489,  3.664,  3.839,  4.013,  4.191,  4.363,  4.538,\n",
       "          4.716,  4.889,  5.191]), name='jeteta', label='Jet $\\\\eta$'),\n",
       "    storage=Weight()) # Sum: WeightedSum(value=5339, variance=5339) (WeightedSum(value=5356, variance=5356) with flow),\n",
       "  'ptresponse_d': Hist(\n",
       "    Variable(array([   15.,    17.,    20.,    23.,    27.,    30.,    35.,    40.,\n",
       "            45.,    57.,    72.,    90.,   120.,   150.,   200.,   300.,\n",
       "           400.,   550.,   750.,  1000.,  1500.,  2000.,  2500.,  3000.,\n",
       "          3500.,  4000.,  4500.,  5000., 10000.]), name='pt_gen', label='$p_{T,gen}$'),\n",
       "    Regular(100, 0, 2.5, name='ptresponse', label='RECO / GEN response'),\n",
       "    Variable(array([-5.191, -4.889, -4.716, -4.538, -4.363, -4.191, -4.013, -3.839,\n",
       "         -3.664, -3.489, -3.314, -3.139, -2.964, -2.853, -2.65 , -2.5  ,\n",
       "         -2.322, -2.172, -2.043, -1.93 , -1.83 , -1.74 , -1.653, -1.566,\n",
       "         -1.479, -1.392, -1.305, -1.218, -1.131, -1.044, -0.957, -0.879,\n",
       "         -0.783, -0.696, -0.609, -0.522, -0.435, -0.348, -0.261, -0.174,\n",
       "         -0.087,  0.   ,  0.087,  0.174,  0.261,  0.348,  0.435,  0.522,\n",
       "          0.609,  0.696,  0.783,  0.879,  0.957,  1.044,  1.131,  1.218,\n",
       "          1.305,  1.392,  1.479,  1.566,  1.653,  1.74 ,  1.83 ,  1.93 ,\n",
       "          2.043,  2.172,  2.322,  2.5  ,  2.65 ,  2.853,  2.964,  3.139,\n",
       "          3.314,  3.489,  3.664,  3.839,  4.013,  4.191,  4.363,  4.538,\n",
       "          4.716,  4.889,  5.191]), name='jeteta', label='Jet $\\\\eta$'),\n",
       "    storage=Weight()) # Sum: WeightedSum(value=3825, variance=3825) (WeightedSum(value=3832, variance=3832) with flow),\n",
       "  'ptresponse_bbar': Hist(\n",
       "    Variable(array([   15.,    17.,    20.,    23.,    27.,    30.,    35.,    40.,\n",
       "            45.,    57.,    72.,    90.,   120.,   150.,   200.,   300.,\n",
       "           400.,   550.,   750.,  1000.,  1500.,  2000.,  2500.,  3000.,\n",
       "          3500.,  4000.,  4500.,  5000., 10000.]), name='pt_gen', label='$p_{T,gen}$'),\n",
       "    Regular(100, 0, 2.5, name='ptresponse', label='RECO / GEN response'),\n",
       "    Variable(array([-5.191, -4.889, -4.716, -4.538, -4.363, -4.191, -4.013, -3.839,\n",
       "         -3.664, -3.489, -3.314, -3.139, -2.964, -2.853, -2.65 , -2.5  ,\n",
       "         -2.322, -2.172, -2.043, -1.93 , -1.83 , -1.74 , -1.653, -1.566,\n",
       "         -1.479, -1.392, -1.305, -1.218, -1.131, -1.044, -0.957, -0.879,\n",
       "         -0.783, -0.696, -0.609, -0.522, -0.435, -0.348, -0.261, -0.174,\n",
       "         -0.087,  0.   ,  0.087,  0.174,  0.261,  0.348,  0.435,  0.522,\n",
       "          0.609,  0.696,  0.783,  0.879,  0.957,  1.044,  1.131,  1.218,\n",
       "          1.305,  1.392,  1.479,  1.566,  1.653,  1.74 ,  1.83 ,  1.93 ,\n",
       "          2.043,  2.172,  2.322,  2.5  ,  2.65 ,  2.853,  2.964,  3.139,\n",
       "          3.314,  3.489,  3.664,  3.839,  4.013,  4.191,  4.363,  4.538,\n",
       "          4.716,  4.889,  5.191]), name='jeteta', label='Jet $\\\\eta$'),\n",
       "    storage=Weight()) # Sum: WeightedSum(value=683, variance=683),\n",
       "  'ptresponse_cbar': Hist(\n",
       "    Variable(array([   15.,    17.,    20.,    23.,    27.,    30.,    35.,    40.,\n",
       "            45.,    57.,    72.,    90.,   120.,   150.,   200.,   300.,\n",
       "           400.,   550.,   750.,  1000.,  1500.,  2000.,  2500.,  3000.,\n",
       "          3500.,  4000.,  4500.,  5000., 10000.]), name='pt_gen', label='$p_{T,gen}$'),\n",
       "    Regular(100, 0, 2.5, name='ptresponse', label='RECO / GEN response'),\n",
       "    Variable(array([-5.191, -4.889, -4.716, -4.538, -4.363, -4.191, -4.013, -3.839,\n",
       "         -3.664, -3.489, -3.314, -3.139, -2.964, -2.853, -2.65 , -2.5  ,\n",
       "         -2.322, -2.172, -2.043, -1.93 , -1.83 , -1.74 , -1.653, -1.566,\n",
       "         -1.479, -1.392, -1.305, -1.218, -1.131, -1.044, -0.957, -0.879,\n",
       "         -0.783, -0.696, -0.609, -0.522, -0.435, -0.348, -0.261, -0.174,\n",
       "         -0.087,  0.   ,  0.087,  0.174,  0.261,  0.348,  0.435,  0.522,\n",
       "          0.609,  0.696,  0.783,  0.879,  0.957,  1.044,  1.131,  1.218,\n",
       "          1.305,  1.392,  1.479,  1.566,  1.653,  1.74 ,  1.83 ,  1.93 ,\n",
       "          2.043,  2.172,  2.322,  2.5  ,  2.65 ,  2.853,  2.964,  3.139,\n",
       "          3.314,  3.489,  3.664,  3.839,  4.013,  4.191,  4.363,  4.538,\n",
       "          4.716,  4.889,  5.191]), name='jeteta', label='Jet $\\\\eta$'),\n",
       "    storage=Weight()) # Sum: WeightedSum(value=1432, variance=1432) (WeightedSum(value=1433, variance=1433) with flow),\n",
       "  'ptresponse_sbar': Hist(\n",
       "    Variable(array([   15.,    17.,    20.,    23.,    27.,    30.,    35.,    40.,\n",
       "            45.,    57.,    72.,    90.,   120.,   150.,   200.,   300.,\n",
       "           400.,   550.,   750.,  1000.,  1500.,  2000.,  2500.,  3000.,\n",
       "          3500.,  4000.,  4500.,  5000., 10000.]), name='pt_gen', label='$p_{T,gen}$'),\n",
       "    Regular(100, 0, 2.5, name='ptresponse', label='RECO / GEN response'),\n",
       "    Variable(array([-5.191, -4.889, -4.716, -4.538, -4.363, -4.191, -4.013, -3.839,\n",
       "         -3.664, -3.489, -3.314, -3.139, -2.964, -2.853, -2.65 , -2.5  ,\n",
       "         -2.322, -2.172, -2.043, -1.93 , -1.83 , -1.74 , -1.653, -1.566,\n",
       "         -1.479, -1.392, -1.305, -1.218, -1.131, -1.044, -0.957, -0.879,\n",
       "         -0.783, -0.696, -0.609, -0.522, -0.435, -0.348, -0.261, -0.174,\n",
       "         -0.087,  0.   ,  0.087,  0.174,  0.261,  0.348,  0.435,  0.522,\n",
       "          0.609,  0.696,  0.783,  0.879,  0.957,  1.044,  1.131,  1.218,\n",
       "          1.305,  1.392,  1.479,  1.566,  1.653,  1.74 ,  1.83 ,  1.93 ,\n",
       "          2.043,  2.172,  2.322,  2.5  ,  2.65 ,  2.853,  2.964,  3.139,\n",
       "          3.314,  3.489,  3.664,  3.839,  4.013,  4.191,  4.363,  4.538,\n",
       "          4.716,  4.889,  5.191]), name='jeteta', label='Jet $\\\\eta$'),\n",
       "    storage=Weight()) # Sum: WeightedSum(value=1549, variance=1549) (WeightedSum(value=1550, variance=1550) with flow),\n",
       "  'ptresponse_ubar': Hist(\n",
       "    Variable(array([   15.,    17.,    20.,    23.,    27.,    30.,    35.,    40.,\n",
       "            45.,    57.,    72.,    90.,   120.,   150.,   200.,   300.,\n",
       "           400.,   550.,   750.,  1000.,  1500.,  2000.,  2500.,  3000.,\n",
       "          3500.,  4000.,  4500.,  5000., 10000.]), name='pt_gen', label='$p_{T,gen}$'),\n",
       "    Regular(100, 0, 2.5, name='ptresponse', label='RECO / GEN response'),\n",
       "    Variable(array([-5.191, -4.889, -4.716, -4.538, -4.363, -4.191, -4.013, -3.839,\n",
       "         -3.664, -3.489, -3.314, -3.139, -2.964, -2.853, -2.65 , -2.5  ,\n",
       "         -2.322, -2.172, -2.043, -1.93 , -1.83 , -1.74 , -1.653, -1.566,\n",
       "         -1.479, -1.392, -1.305, -1.218, -1.131, -1.044, -0.957, -0.879,\n",
       "         -0.783, -0.696, -0.609, -0.522, -0.435, -0.348, -0.261, -0.174,\n",
       "         -0.087,  0.   ,  0.087,  0.174,  0.261,  0.348,  0.435,  0.522,\n",
       "          0.609,  0.696,  0.783,  0.879,  0.957,  1.044,  1.131,  1.218,\n",
       "          1.305,  1.392,  1.479,  1.566,  1.653,  1.74 ,  1.83 ,  1.93 ,\n",
       "          2.043,  2.172,  2.322,  2.5  ,  2.65 ,  2.853,  2.964,  3.139,\n",
       "          3.314,  3.489,  3.664,  3.839,  4.013,  4.191,  4.363,  4.538,\n",
       "          4.716,  4.889,  5.191]), name='jeteta', label='Jet $\\\\eta$'),\n",
       "    storage=Weight()) # Sum: WeightedSum(value=1630, variance=1630) (WeightedSum(value=1631, variance=1631) with flow),\n",
       "  'ptresponse_dbar': Hist(\n",
       "    Variable(array([   15.,    17.,    20.,    23.,    27.,    30.,    35.,    40.,\n",
       "            45.,    57.,    72.,    90.,   120.,   150.,   200.,   300.,\n",
       "           400.,   550.,   750.,  1000.,  1500.,  2000.,  2500.,  3000.,\n",
       "          3500.,  4000.,  4500.,  5000., 10000.]), name='pt_gen', label='$p_{T,gen}$'),\n",
       "    Regular(100, 0, 2.5, name='ptresponse', label='RECO / GEN response'),\n",
       "    Variable(array([-5.191, -4.889, -4.716, -4.538, -4.363, -4.191, -4.013, -3.839,\n",
       "         -3.664, -3.489, -3.314, -3.139, -2.964, -2.853, -2.65 , -2.5  ,\n",
       "         -2.322, -2.172, -2.043, -1.93 , -1.83 , -1.74 , -1.653, -1.566,\n",
       "         -1.479, -1.392, -1.305, -1.218, -1.131, -1.044, -0.957, -0.879,\n",
       "         -0.783, -0.696, -0.609, -0.522, -0.435, -0.348, -0.261, -0.174,\n",
       "         -0.087,  0.   ,  0.087,  0.174,  0.261,  0.348,  0.435,  0.522,\n",
       "          0.609,  0.696,  0.783,  0.879,  0.957,  1.044,  1.131,  1.218,\n",
       "          1.305,  1.392,  1.479,  1.566,  1.653,  1.74 ,  1.83 ,  1.93 ,\n",
       "          2.043,  2.172,  2.322,  2.5  ,  2.65 ,  2.853,  2.964,  3.139,\n",
       "          3.314,  3.489,  3.664,  3.839,  4.013,  4.191,  4.363,  4.538,\n",
       "          4.716,  4.889,  5.191]), name='jeteta', label='Jet $\\\\eta$'),\n",
       "    storage=Weight()) # Sum: WeightedSum(value=2000, variance=2000) (WeightedSum(value=2002, variance=2002) with flow),\n",
       "  'ptresponse_g': Hist(\n",
       "    Variable(array([   15.,    17.,    20.,    23.,    27.,    30.,    35.,    40.,\n",
       "            45.,    57.,    72.,    90.,   120.,   150.,   200.,   300.,\n",
       "           400.,   550.,   750.,  1000.,  1500.,  2000.,  2500.,  3000.,\n",
       "          3500.,  4000.,  4500.,  5000., 10000.]), name='pt_gen', label='$p_{T,gen}$'),\n",
       "    Regular(100, 0, 2.5, name='ptresponse', label='RECO / GEN response'),\n",
       "    Variable(array([-5.191, -4.889, -4.716, -4.538, -4.363, -4.191, -4.013, -3.839,\n",
       "         -3.664, -3.489, -3.314, -3.139, -2.964, -2.853, -2.65 , -2.5  ,\n",
       "         -2.322, -2.172, -2.043, -1.93 , -1.83 , -1.74 , -1.653, -1.566,\n",
       "         -1.479, -1.392, -1.305, -1.218, -1.131, -1.044, -0.957, -0.879,\n",
       "         -0.783, -0.696, -0.609, -0.522, -0.435, -0.348, -0.261, -0.174,\n",
       "         -0.087,  0.   ,  0.087,  0.174,  0.261,  0.348,  0.435,  0.522,\n",
       "          0.609,  0.696,  0.783,  0.879,  0.957,  1.044,  1.131,  1.218,\n",
       "          1.305,  1.392,  1.479,  1.566,  1.653,  1.74 ,  1.83 ,  1.93 ,\n",
       "          2.043,  2.172,  2.322,  2.5  ,  2.65 ,  2.853,  2.964,  3.139,\n",
       "          3.314,  3.489,  3.664,  3.839,  4.013,  4.191,  4.363,  4.538,\n",
       "          4.716,  4.889,  5.191]), name='jeteta', label='Jet $\\\\eta$'),\n",
       "    storage=Weight()) # Sum: WeightedSum(value=15508, variance=15508) (WeightedSum(value=15526, variance=15526) with flow),\n",
       "  'ptresponse_unmatched': Hist(\n",
       "    Variable(array([   15.,    17.,    20.,    23.,    27.,    30.,    35.,    40.,\n",
       "            45.,    57.,    72.,    90.,   120.,   150.,   200.,   300.,\n",
       "           400.,   550.,   750.,  1000.,  1500.,  2000.,  2500.,  3000.,\n",
       "          3500.,  4000.,  4500.,  5000., 10000.]), name='pt_gen', label='$p_{T,gen}$'),\n",
       "    Regular(100, 0, 2.5, name='ptresponse', label='RECO / GEN response'),\n",
       "    Variable(array([-5.191, -4.889, -4.716, -4.538, -4.363, -4.191, -4.013, -3.839,\n",
       "         -3.664, -3.489, -3.314, -3.139, -2.964, -2.853, -2.65 , -2.5  ,\n",
       "         -2.322, -2.172, -2.043, -1.93 , -1.83 , -1.74 , -1.653, -1.566,\n",
       "         -1.479, -1.392, -1.305, -1.218, -1.131, -1.044, -0.957, -0.879,\n",
       "         -0.783, -0.696, -0.609, -0.522, -0.435, -0.348, -0.261, -0.174,\n",
       "         -0.087,  0.   ,  0.087,  0.174,  0.261,  0.348,  0.435,  0.522,\n",
       "          0.609,  0.696,  0.783,  0.879,  0.957,  1.044,  1.131,  1.218,\n",
       "          1.305,  1.392,  1.479,  1.566,  1.653,  1.74 ,  1.83 ,  1.93 ,\n",
       "          2.043,  2.172,  2.322,  2.5  ,  2.65 ,  2.853,  2.964,  3.139,\n",
       "          3.314,  3.489,  3.664,  3.839,  4.013,  4.191,  4.363,  4.538,\n",
       "          4.716,  4.889,  5.191]), name='jeteta', label='Jet $\\\\eta$'),\n",
       "    storage=Weight()) # Sum: WeightedSum(value=31388, variance=31388) (WeightedSum(value=31511, variance=31511) with flow),\n",
       "  'reco_pt_sumwx_b': Hist(\n",
       "    Variable(array([   15.,    17.,    20.,    23.,    27.,    30.,    35.,    40.,\n",
       "            45.,    57.,    72.,    90.,   120.,   150.,   200.,   300.,\n",
       "           400.,   550.,   750.,  1000.,  1500.,  2000.,  2500.,  3000.,\n",
       "          3500.,  4000.,  4500.,  5000., 10000.]), name='pt_gen', label='$p_{T,gen}$'),\n",
       "    Variable(array([-5.191, -4.889, -4.716, -4.538, -4.363, -4.191, -4.013, -3.839,\n",
       "         -3.664, -3.489, -3.314, -3.139, -2.964, -2.853, -2.65 , -2.5  ,\n",
       "         -2.322, -2.172, -2.043, -1.93 , -1.83 , -1.74 , -1.653, -1.566,\n",
       "         -1.479, -1.392, -1.305, -1.218, -1.131, -1.044, -0.957, -0.879,\n",
       "         -0.783, -0.696, -0.609, -0.522, -0.435, -0.348, -0.261, -0.174,\n",
       "         -0.087,  0.   ,  0.087,  0.174,  0.261,  0.348,  0.435,  0.522,\n",
       "          0.609,  0.696,  0.783,  0.879,  0.957,  1.044,  1.131,  1.218,\n",
       "          1.305,  1.392,  1.479,  1.566,  1.653,  1.74 ,  1.83 ,  1.93 ,\n",
       "          2.043,  2.172,  2.322,  2.5  ,  2.65 ,  2.853,  2.964,  3.139,\n",
       "          3.314,  3.489,  3.664,  3.839,  4.013,  4.191,  4.363,  4.538,\n",
       "          4.716,  4.889,  5.191]), name='jeteta', label='Jet $\\\\eta$'),\n",
       "    storage=Weight()) # Sum: WeightedSum(value=23597.1, variance=1.28702e+06),\n",
       "  'reco_pt_sumwx_c': Hist(\n",
       "    Variable(array([   15.,    17.,    20.,    23.,    27.,    30.,    35.,    40.,\n",
       "            45.,    57.,    72.,    90.,   120.,   150.,   200.,   300.,\n",
       "           400.,   550.,   750.,  1000.,  1500.,  2000.,  2500.,  3000.,\n",
       "          3500.,  4000.,  4500.,  5000., 10000.]), name='pt_gen', label='$p_{T,gen}$'),\n",
       "    Variable(array([-5.191, -4.889, -4.716, -4.538, -4.363, -4.191, -4.013, -3.839,\n",
       "         -3.664, -3.489, -3.314, -3.139, -2.964, -2.853, -2.65 , -2.5  ,\n",
       "         -2.322, -2.172, -2.043, -1.93 , -1.83 , -1.74 , -1.653, -1.566,\n",
       "         -1.479, -1.392, -1.305, -1.218, -1.131, -1.044, -0.957, -0.879,\n",
       "         -0.783, -0.696, -0.609, -0.522, -0.435, -0.348, -0.261, -0.174,\n",
       "         -0.087,  0.   ,  0.087,  0.174,  0.261,  0.348,  0.435,  0.522,\n",
       "          0.609,  0.696,  0.783,  0.879,  0.957,  1.044,  1.131,  1.218,\n",
       "          1.305,  1.392,  1.479,  1.566,  1.653,  1.74 ,  1.83 ,  1.93 ,\n",
       "          2.043,  2.172,  2.322,  2.5  ,  2.65 ,  2.853,  2.964,  3.139,\n",
       "          3.314,  3.489,  3.664,  3.839,  4.013,  4.191,  4.363,  4.538,\n",
       "          4.716,  4.889,  5.191]), name='jeteta', label='Jet $\\\\eta$'),\n",
       "    storage=Weight()) # Sum: WeightedSum(value=49876.9, variance=2.91716e+06),\n",
       "  'reco_pt_sumwx_s': Hist(\n",
       "    Variable(array([   15.,    17.,    20.,    23.,    27.,    30.,    35.,    40.,\n",
       "            45.,    57.,    72.,    90.,   120.,   150.,   200.,   300.,\n",
       "           400.,   550.,   750.,  1000.,  1500.,  2000.,  2500.,  3000.,\n",
       "          3500.,  4000.,  4500.,  5000., 10000.]), name='pt_gen', label='$p_{T,gen}$'),\n",
       "    Variable(array([-5.191, -4.889, -4.716, -4.538, -4.363, -4.191, -4.013, -3.839,\n",
       "         -3.664, -3.489, -3.314, -3.139, -2.964, -2.853, -2.65 , -2.5  ,\n",
       "         -2.322, -2.172, -2.043, -1.93 , -1.83 , -1.74 , -1.653, -1.566,\n",
       "         -1.479, -1.392, -1.305, -1.218, -1.131, -1.044, -0.957, -0.879,\n",
       "         -0.783, -0.696, -0.609, -0.522, -0.435, -0.348, -0.261, -0.174,\n",
       "         -0.087,  0.   ,  0.087,  0.174,  0.261,  0.348,  0.435,  0.522,\n",
       "          0.609,  0.696,  0.783,  0.879,  0.957,  1.044,  1.131,  1.218,\n",
       "          1.305,  1.392,  1.479,  1.566,  1.653,  1.74 ,  1.83 ,  1.93 ,\n",
       "          2.043,  2.172,  2.322,  2.5  ,  2.65 ,  2.853,  2.964,  3.139,\n",
       "          3.314,  3.489,  3.664,  3.839,  4.013,  4.191,  4.363,  4.538,\n",
       "          4.716,  4.889,  5.191]), name='jeteta', label='Jet $\\\\eta$'),\n",
       "    storage=Weight()) # Sum: WeightedSum(value=64050.2, variance=3.80481e+06),\n",
       "  'reco_pt_sumwx_u': Hist(\n",
       "    Variable(array([   15.,    17.,    20.,    23.,    27.,    30.,    35.,    40.,\n",
       "            45.,    57.,    72.,    90.,   120.,   150.,   200.,   300.,\n",
       "           400.,   550.,   750.,  1000.,  1500.,  2000.,  2500.,  3000.,\n",
       "          3500.,  4000.,  4500.,  5000., 10000.]), name='pt_gen', label='$p_{T,gen}$'),\n",
       "    Variable(array([-5.191, -4.889, -4.716, -4.538, -4.363, -4.191, -4.013, -3.839,\n",
       "         -3.664, -3.489, -3.314, -3.139, -2.964, -2.853, -2.65 , -2.5  ,\n",
       "         -2.322, -2.172, -2.043, -1.93 , -1.83 , -1.74 , -1.653, -1.566,\n",
       "         -1.479, -1.392, -1.305, -1.218, -1.131, -1.044, -0.957, -0.879,\n",
       "         -0.783, -0.696, -0.609, -0.522, -0.435, -0.348, -0.261, -0.174,\n",
       "         -0.087,  0.   ,  0.087,  0.174,  0.261,  0.348,  0.435,  0.522,\n",
       "          0.609,  0.696,  0.783,  0.879,  0.957,  1.044,  1.131,  1.218,\n",
       "          1.305,  1.392,  1.479,  1.566,  1.653,  1.74 ,  1.83 ,  1.93 ,\n",
       "          2.043,  2.172,  2.322,  2.5  ,  2.65 ,  2.853,  2.964,  3.139,\n",
       "          3.314,  3.489,  3.664,  3.839,  4.013,  4.191,  4.363,  4.538,\n",
       "          4.716,  4.889,  5.191]), name='jeteta', label='Jet $\\\\eta$'),\n",
       "    storage=Weight()) # Sum: WeightedSum(value=242759, variance=1.7639e+07) (WeightedSum(value=242936, variance=1.76416e+07) with flow),\n",
       "  'reco_pt_sumwx_d': Hist(\n",
       "    Variable(array([   15.,    17.,    20.,    23.,    27.,    30.,    35.,    40.,\n",
       "            45.,    57.,    72.,    90.,   120.,   150.,   200.,   300.,\n",
       "           400.,   550.,   750.,  1000.,  1500.,  2000.,  2500.,  3000.,\n",
       "          3500.,  4000.,  4500.,  5000., 10000.]), name='pt_gen', label='$p_{T,gen}$'),\n",
       "    Variable(array([-5.191, -4.889, -4.716, -4.538, -4.363, -4.191, -4.013, -3.839,\n",
       "         -3.664, -3.489, -3.314, -3.139, -2.964, -2.853, -2.65 , -2.5  ,\n",
       "         -2.322, -2.172, -2.043, -1.93 , -1.83 , -1.74 , -1.653, -1.566,\n",
       "         -1.479, -1.392, -1.305, -1.218, -1.131, -1.044, -0.957, -0.879,\n",
       "         -0.783, -0.696, -0.609, -0.522, -0.435, -0.348, -0.261, -0.174,\n",
       "         -0.087,  0.   ,  0.087,  0.174,  0.261,  0.348,  0.435,  0.522,\n",
       "          0.609,  0.696,  0.783,  0.879,  0.957,  1.044,  1.131,  1.218,\n",
       "          1.305,  1.392,  1.479,  1.566,  1.653,  1.74 ,  1.83 ,  1.93 ,\n",
       "          2.043,  2.172,  2.322,  2.5  ,  2.65 ,  2.853,  2.964,  3.139,\n",
       "          3.314,  3.489,  3.664,  3.839,  4.013,  4.191,  4.363,  4.538,\n",
       "          4.716,  4.889,  5.191]), name='jeteta', label='Jet $\\\\eta$'),\n",
       "    storage=Weight()) # Sum: WeightedSum(value=164887, variance=1.19499e+07) (WeightedSum(value=164949, variance=1.19506e+07) with flow),\n",
       "  'reco_pt_sumwx_bbar': Hist(\n",
       "    Variable(array([   15.,    17.,    20.,    23.,    27.,    30.,    35.,    40.,\n",
       "            45.,    57.,    72.,    90.,   120.,   150.,   200.,   300.,\n",
       "           400.,   550.,   750.,  1000.,  1500.,  2000.,  2500.,  3000.,\n",
       "          3500.,  4000.,  4500.,  5000., 10000.]), name='pt_gen', label='$p_{T,gen}$'),\n",
       "    Variable(array([-5.191, -4.889, -4.716, -4.538, -4.363, -4.191, -4.013, -3.839,\n",
       "         -3.664, -3.489, -3.314, -3.139, -2.964, -2.853, -2.65 , -2.5  ,\n",
       "         -2.322, -2.172, -2.043, -1.93 , -1.83 , -1.74 , -1.653, -1.566,\n",
       "         -1.479, -1.392, -1.305, -1.218, -1.131, -1.044, -0.957, -0.879,\n",
       "         -0.783, -0.696, -0.609, -0.522, -0.435, -0.348, -0.261, -0.174,\n",
       "         -0.087,  0.   ,  0.087,  0.174,  0.261,  0.348,  0.435,  0.522,\n",
       "          0.609,  0.696,  0.783,  0.879,  0.957,  1.044,  1.131,  1.218,\n",
       "          1.305,  1.392,  1.479,  1.566,  1.653,  1.74 ,  1.83 ,  1.93 ,\n",
       "          2.043,  2.172,  2.322,  2.5  ,  2.65 ,  2.853,  2.964,  3.139,\n",
       "          3.314,  3.489,  3.664,  3.839,  4.013,  4.191,  4.363,  4.538,\n",
       "          4.716,  4.889,  5.191]), name='jeteta', label='Jet $\\\\eta$'),\n",
       "    storage=Weight()) # Sum: WeightedSum(value=24676.6, variance=1.41851e+06),\n",
       "  'reco_pt_sumwx_cbar': Hist(\n",
       "    Variable(array([   15.,    17.,    20.,    23.,    27.,    30.,    35.,    40.,\n",
       "            45.,    57.,    72.,    90.,   120.,   150.,   200.,   300.,\n",
       "           400.,   550.,   750.,  1000.,  1500.,  2000.,  2500.,  3000.,\n",
       "          3500.,  4000.,  4500.,  5000., 10000.]), name='pt_gen', label='$p_{T,gen}$'),\n",
       "    Variable(array([-5.191, -4.889, -4.716, -4.538, -4.363, -4.191, -4.013, -3.839,\n",
       "         -3.664, -3.489, -3.314, -3.139, -2.964, -2.853, -2.65 , -2.5  ,\n",
       "         -2.322, -2.172, -2.043, -1.93 , -1.83 , -1.74 , -1.653, -1.566,\n",
       "         -1.479, -1.392, -1.305, -1.218, -1.131, -1.044, -0.957, -0.879,\n",
       "         -0.783, -0.696, -0.609, -0.522, -0.435, -0.348, -0.261, -0.174,\n",
       "         -0.087,  0.   ,  0.087,  0.174,  0.261,  0.348,  0.435,  0.522,\n",
       "          0.609,  0.696,  0.783,  0.879,  0.957,  1.044,  1.131,  1.218,\n",
       "          1.305,  1.392,  1.479,  1.566,  1.653,  1.74 ,  1.83 ,  1.93 ,\n",
       "          2.043,  2.172,  2.322,  2.5  ,  2.65 ,  2.853,  2.964,  3.139,\n",
       "          3.314,  3.489,  3.664,  3.839,  4.013,  4.191,  4.363,  4.538,\n",
       "          4.716,  4.889,  5.191]), name='jeteta', label='Jet $\\\\eta$'),\n",
       "    storage=Weight()) # Sum: WeightedSum(value=51336.8, variance=2.88299e+06) (WeightedSum(value=51343.1, variance=2.88303e+06) with flow),\n",
       "  'reco_pt_sumwx_sbar': Hist(\n",
       "    Variable(array([   15.,    17.,    20.,    23.,    27.,    30.,    35.,    40.,\n",
       "            45.,    57.,    72.,    90.,   120.,   150.,   200.,   300.,\n",
       "           400.,   550.,   750.,  1000.,  1500.,  2000.,  2500.,  3000.,\n",
       "          3500.,  4000.,  4500.,  5000., 10000.]), name='pt_gen', label='$p_{T,gen}$'),\n",
       "    Variable(array([-5.191, -4.889, -4.716, -4.538, -4.363, -4.191, -4.013, -3.839,\n",
       "         -3.664, -3.489, -3.314, -3.139, -2.964, -2.853, -2.65 , -2.5  ,\n",
       "         -2.322, -2.172, -2.043, -1.93 , -1.83 , -1.74 , -1.653, -1.566,\n",
       "         -1.479, -1.392, -1.305, -1.218, -1.131, -1.044, -0.957, -0.879,\n",
       "         -0.783, -0.696, -0.609, -0.522, -0.435, -0.348, -0.261, -0.174,\n",
       "         -0.087,  0.   ,  0.087,  0.174,  0.261,  0.348,  0.435,  0.522,\n",
       "          0.609,  0.696,  0.783,  0.879,  0.957,  1.044,  1.131,  1.218,\n",
       "          1.305,  1.392,  1.479,  1.566,  1.653,  1.74 ,  1.83 ,  1.93 ,\n",
       "          2.043,  2.172,  2.322,  2.5  ,  2.65 ,  2.853,  2.964,  3.139,\n",
       "          3.314,  3.489,  3.664,  3.839,  4.013,  4.191,  4.363,  4.538,\n",
       "          4.716,  4.889,  5.191]), name='jeteta', label='Jet $\\\\eta$'),\n",
       "    storage=Weight()) # Sum: WeightedSum(value=57630.9, variance=3.51653e+06) (WeightedSum(value=57631.4, variance=3.51653e+06) with flow),\n",
       "  'reco_pt_sumwx_ubar': Hist(\n",
       "    Variable(array([   15.,    17.,    20.,    23.,    27.,    30.,    35.,    40.,\n",
       "            45.,    57.,    72.,    90.,   120.,   150.,   200.,   300.,\n",
       "           400.,   550.,   750.,  1000.,  1500.,  2000.,  2500.,  3000.,\n",
       "          3500.,  4000.,  4500.,  5000., 10000.]), name='pt_gen', label='$p_{T,gen}$'),\n",
       "    Variable(array([-5.191, -4.889, -4.716, -4.538, -4.363, -4.191, -4.013, -3.839,\n",
       "         -3.664, -3.489, -3.314, -3.139, -2.964, -2.853, -2.65 , -2.5  ,\n",
       "         -2.322, -2.172, -2.043, -1.93 , -1.83 , -1.74 , -1.653, -1.566,\n",
       "         -1.479, -1.392, -1.305, -1.218, -1.131, -1.044, -0.957, -0.879,\n",
       "         -0.783, -0.696, -0.609, -0.522, -0.435, -0.348, -0.261, -0.174,\n",
       "         -0.087,  0.   ,  0.087,  0.174,  0.261,  0.348,  0.435,  0.522,\n",
       "          0.609,  0.696,  0.783,  0.879,  0.957,  1.044,  1.131,  1.218,\n",
       "          1.305,  1.392,  1.479,  1.566,  1.653,  1.74 ,  1.83 ,  1.93 ,\n",
       "          2.043,  2.172,  2.322,  2.5  ,  2.65 ,  2.853,  2.964,  3.139,\n",
       "          3.314,  3.489,  3.664,  3.839,  4.013,  4.191,  4.363,  4.538,\n",
       "          4.716,  4.889,  5.191]), name='jeteta', label='Jet $\\\\eta$'),\n",
       "    storage=Weight()) # Sum: WeightedSum(value=60903.5, variance=3.589e+06) (WeightedSum(value=60909.1, variance=3.58904e+06) with flow),\n",
       "  'reco_pt_sumwx_dbar': Hist(\n",
       "    Variable(array([   15.,    17.,    20.,    23.,    27.,    30.,    35.,    40.,\n",
       "            45.,    57.,    72.,    90.,   120.,   150.,   200.,   300.,\n",
       "           400.,   550.,   750.,  1000.,  1500.,  2000.,  2500.,  3000.,\n",
       "          3500.,  4000.,  4500.,  5000., 10000.]), name='pt_gen', label='$p_{T,gen}$'),\n",
       "    Variable(array([-5.191, -4.889, -4.716, -4.538, -4.363, -4.191, -4.013, -3.839,\n",
       "         -3.664, -3.489, -3.314, -3.139, -2.964, -2.853, -2.65 , -2.5  ,\n",
       "         -2.322, -2.172, -2.043, -1.93 , -1.83 , -1.74 , -1.653, -1.566,\n",
       "         -1.479, -1.392, -1.305, -1.218, -1.131, -1.044, -0.957, -0.879,\n",
       "         -0.783, -0.696, -0.609, -0.522, -0.435, -0.348, -0.261, -0.174,\n",
       "         -0.087,  0.   ,  0.087,  0.174,  0.261,  0.348,  0.435,  0.522,\n",
       "          0.609,  0.696,  0.783,  0.879,  0.957,  1.044,  1.131,  1.218,\n",
       "          1.305,  1.392,  1.479,  1.566,  1.653,  1.74 ,  1.83 ,  1.93 ,\n",
       "          2.043,  2.172,  2.322,  2.5  ,  2.65 ,  2.853,  2.964,  3.139,\n",
       "          3.314,  3.489,  3.664,  3.839,  4.013,  4.191,  4.363,  4.538,\n",
       "          4.716,  4.889,  5.191]), name='jeteta', label='Jet $\\\\eta$'),\n",
       "    storage=Weight()) # Sum: WeightedSum(value=78741.3, variance=4.89964e+06) (WeightedSum(value=78748.6, variance=4.89969e+06) with flow),\n",
       "  'reco_pt_sumwx_g': Hist(\n",
       "    Variable(array([   15.,    17.,    20.,    23.,    27.,    30.,    35.,    40.,\n",
       "            45.,    57.,    72.,    90.,   120.,   150.,   200.,   300.,\n",
       "           400.,   550.,   750.,  1000.,  1500.,  2000.,  2500.,  3000.,\n",
       "          3500.,  4000.,  4500.,  5000., 10000.]), name='pt_gen', label='$p_{T,gen}$'),\n",
       "    Variable(array([-5.191, -4.889, -4.716, -4.538, -4.363, -4.191, -4.013, -3.839,\n",
       "         -3.664, -3.489, -3.314, -3.139, -2.964, -2.853, -2.65 , -2.5  ,\n",
       "         -2.322, -2.172, -2.043, -1.93 , -1.83 , -1.74 , -1.653, -1.566,\n",
       "         -1.479, -1.392, -1.305, -1.218, -1.131, -1.044, -0.957, -0.879,\n",
       "         -0.783, -0.696, -0.609, -0.522, -0.435, -0.348, -0.261, -0.174,\n",
       "         -0.087,  0.   ,  0.087,  0.174,  0.261,  0.348,  0.435,  0.522,\n",
       "          0.609,  0.696,  0.783,  0.879,  0.957,  1.044,  1.131,  1.218,\n",
       "          1.305,  1.392,  1.479,  1.566,  1.653,  1.74 ,  1.83 ,  1.93 ,\n",
       "          2.043,  2.172,  2.322,  2.5  ,  2.65 ,  2.853,  2.964,  3.139,\n",
       "          3.314,  3.489,  3.664,  3.839,  4.013,  4.191,  4.363,  4.538,\n",
       "          4.716,  4.889,  5.191]), name='jeteta', label='Jet $\\\\eta$'),\n",
       "    storage=Weight()) # Sum: WeightedSum(value=469702, variance=2.31554e+07) (WeightedSum(value=469867, variance=2.31577e+07) with flow),\n",
       "  'reco_pt_sumwx_unmatched': Hist(\n",
       "    Variable(array([   15.,    17.,    20.,    23.,    27.,    30.,    35.,    40.,\n",
       "            45.,    57.,    72.,    90.,   120.,   150.,   200.,   300.,\n",
       "           400.,   550.,   750.,  1000.,  1500.,  2000.,  2500.,  3000.,\n",
       "          3500.,  4000.,  4500.,  5000., 10000.]), name='pt_gen', label='$p_{T,gen}$'),\n",
       "    Variable(array([-5.191, -4.889, -4.716, -4.538, -4.363, -4.191, -4.013, -3.839,\n",
       "         -3.664, -3.489, -3.314, -3.139, -2.964, -2.853, -2.65 , -2.5  ,\n",
       "         -2.322, -2.172, -2.043, -1.93 , -1.83 , -1.74 , -1.653, -1.566,\n",
       "         -1.479, -1.392, -1.305, -1.218, -1.131, -1.044, -0.957, -0.879,\n",
       "         -0.783, -0.696, -0.609, -0.522, -0.435, -0.348, -0.261, -0.174,\n",
       "         -0.087,  0.   ,  0.087,  0.174,  0.261,  0.348,  0.435,  0.522,\n",
       "          0.609,  0.696,  0.783,  0.879,  0.957,  1.044,  1.131,  1.218,\n",
       "          1.305,  1.392,  1.479,  1.566,  1.653,  1.74 ,  1.83 ,  1.93 ,\n",
       "          2.043,  2.172,  2.322,  2.5  ,  2.65 ,  2.853,  2.964,  3.139,\n",
       "          3.314,  3.489,  3.664,  3.839,  4.013,  4.191,  4.363,  4.538,\n",
       "          4.716,  4.889,  5.191]), name='jeteta', label='Jet $\\\\eta$'),\n",
       "    storage=Weight()) # Sum: WeightedSum(value=915367, variance=4.24563e+07) (WeightedSum(value=916204, variance=4.24658e+07) with flow),\n",
       "  'cutflow': Hist(StrCategory(['all_events', 'selected_events', 'all_jets', 'gen_matched+no_dressed_lep', 'jetpt>15', 'iso jets'], growth=True, name='cutflow', label='Cutflow Scenarios'), storage=Weight()) # Sum: WeightedSum(value=2.10195e+06, variance=3.76906e+11)}}"
      ]
     },
     "execution_count": 109,
     "metadata": {},
     "output_type": "execute_result"
    }
   ],
   "source": [
    "output"
   ]
  },
  {
   "cell_type": "code",
   "execution_count": 110,
   "metadata": {},
   "outputs": [
    {
     "data": {
      "text/plain": [
       "10455"
      ]
     },
     "execution_count": 110,
     "metadata": {},
     "output_type": "execute_result"
    },
    {
     "data": {
      "text/plain": [
       "3725"
      ]
     },
     "execution_count": 110,
     "metadata": {},
     "output_type": "execute_result"
    },
    {
     "data": {
      "text/plain": [
       "3557"
      ]
     },
     "execution_count": 110,
     "metadata": {},
     "output_type": "execute_result"
    },
    {
     "data": {
      "text/plain": [
       "5832"
      ]
     },
     "execution_count": 110,
     "metadata": {},
     "output_type": "execute_result"
    }
   ],
   "source": [
    "5299+5156\n",
    "1874+1851\n",
    "1811+1746\n",
    "2969+2863"
   ]
  },
  {
   "cell_type": "code",
   "execution_count": 112,
   "metadata": {},
   "outputs": [],
   "source": [
    "# output['ptresponse_b'].sum().value"
   ]
  },
  {
   "cell_type": "code",
   "execution_count": 113,
   "metadata": {},
   "outputs": [],
   "source": [
    "# # [output[key].sum().value for key in allflav]\n",
    "# for key in allflav:\n",
    "#     print(key, ' = ', output[key].sum().value)"
   ]
  },
  {
   "cell_type": "code",
   "execution_count": 114,
   "metadata": {},
   "outputs": [],
   "source": [
    "# sum([output[key].sum().value for key in allflav])"
   ]
  },
  {
   "cell_type": "code",
   "execution_count": 115,
   "metadata": {},
   "outputs": [],
   "source": [
    "# 36959+37286"
   ]
  },
  {
   "cell_type": "code",
   "execution_count": 116,
   "metadata": {},
   "outputs": [],
   "source": [
    "# output['ptresponse_unmatched'].sum()\n",
    "# output['cutflow']['iso jets']"
   ]
  },
  {
   "cell_type": "markdown",
   "metadata": {},
   "source": [
    "### Striching up the sample"
   ]
  },
  {
   "cell_type": "code",
   "execution_count": 117,
   "metadata": {},
   "outputs": [],
   "source": [
    "output_orig = output\n",
    "if \"QCD-MG\" in data_tag:\n",
    "    response_sums = {key:sum(dictionary_pattern(output[key], \"ptresponse_\").values()).sum().value for key in output.keys()}\n",
    "    scale_factors = hist_div(xsec_dict, response_sums)\n",
    "    all_histo_keys = output[next(iter(output.keys()))].keys()\n",
    "    result = {histo_key:sum_subhist(output, histo_key, scale_factors) for histo_key in all_histo_keys }\n",
    "    output = result\n",
    "elif len(output.keys())==1:\n",
    "    output = output[list(output.keys())[0]]"
   ]
  },
  {
   "cell_type": "markdown",
   "metadata": {},
   "source": [
    "### Fit responses"
   ]
  },
  {
   "cell_type": "markdown",
   "metadata": {},
   "source": [
    "Define some global variables for the fit"
   ]
  },
  {
   "cell_type": "code",
   "execution_count": 118,
   "metadata": {
    "scrolled": true
   },
   "outputs": [],
   "source": [
    "## find the first response histogram to extract the axes\n",
    "for key in output.keys():\n",
    "    if 'response' in key:\n",
    "        response_key = key\n",
    "        break\n",
    "\n",
    "if fine_etabins==True:\n",
    "    tag_full = tag_full+'_fineeta'\n",
    "    ptbins = output[response_key].axes[\"pt_gen\"].edges \n",
    "    ptbins_c = output[response_key].axes['pt_gen'].centers\n",
    "#     ptbins = np.array([15, 40, 150, 400, 4000, 10000])\n",
    "#     ptbins_c = (ptbins[:-1]+ptbins[1:])/2\n",
    "    etabins = output[response_key].axes[\"jeteta\"].edges #output['ptresponse'].axis('jeteta').edges()\n",
    "elif one_bin==True:\n",
    "    ptbins = np.array([15, 10000])\n",
    "    ptbins_c = (ptbins[:-1]+ptbins[1:])/2\n",
    "#     etabins = np.array([-5, -3, -2.5, -1.3, 0, 1.3, 2.5, 3, 5])\n",
    "    etabins = np.array([etabins[0], 0, etabins[-1]])\n",
    "#     etabins = np.array([etabins[3], 0, etabins[-4]])\n",
    "else:\n",
    "    ptbins = output[response_key].axes[\"pt_gen\"].edges \n",
    "#     ptbins = ptbins[2:] #because there is a pt cut on pt gen and no point of fitting and plotting below that\n",
    "    ptbins_c = output[response_key].axes['pt_gen'].centers\n",
    "    etabins = np.array([-5.191, -3.489, -3.139, -2.853,   -2.5, -2.322,  -1.93, -1.653, -1.305, -0.783,      0,  0.783,  1.305,  1.653,   1.93,  2.322,    2.5,  2.853,  3.139,  3.489, 5.191])\n",
    "#     etabins = np.array([-5.191, -3, -2.5, -1.3, 0, 1.3, 2.5, 3, 5.191])\n",
    "    etabins = np.array([-5.191, -3.139, -2.5, -1.305, 0., 1.305, 2.5, 3.139, 5.191])\n",
    "    \n",
    "\n",
    "    \n",
    "jetpt_length = len(ptbins)-1\n",
    "jeteta_length = (len(etabins)-1)//2\n",
    "\n",
    "etabins_mod = etabins[(len(etabins)-1)//2:]\n",
    "etabins_c = (etabins_mod[:-1]+etabins_mod[1:])/2 #output['ptresponse'].axis('jeteta').centers()\n",
    "\n",
    "# ptresp_edd = output[response_key].axes['ptresponse'].edges\n",
    "# plot_pt_edges = ptresp_edd[0:np.nonzero(ptresp_edd>=2.0)[0][0]]"
   ]
  },
  {
   "cell_type": "markdown",
   "metadata": {},
   "source": [
    "#### Testing adding ttbar hists\n",
    "##### To do: replace to the system done with `sum_subhist`"
   ]
  },
  {
   "cell_type": "code",
   "execution_count": 119,
   "metadata": {},
   "outputs": [],
   "source": [
    "# combineTTbar = False\n",
    "if combineTTbar:\n",
    "    ids = output[list(output.keys())[0]].axis('dataset').identifiers()\n",
    "    names = [idii.name for idii in ids  ]\n",
    "\n",
    "    output_comb = {}\n",
    "\n",
    "    N = {}\n",
    "    for s in names:\n",
    "        N[s] = output['cutflow'][s+': all events']\n",
    "    N_av = sum(N.values())/3\n",
    "\n",
    "    for key in output.keys():\n",
    "        if key!='cutflow':\n",
    "            hist_comb = output[key].integrate('dataset', ids[0])\n",
    "            hist_comb.scale(find_ttbar_xsec(names[0])*N[names[0]]/N_av)\n",
    "            for ii in range(1,len(ids)-1):\n",
    "                hist2 = output[key].integrate('dataset', ids[ii])\n",
    "                hist2.scale(find_ttbar_xsec(ids[ii].name)*N[names[ii]]/N_av)\n",
    "                hist_comb = hist_comb+hist2\n",
    "            output_comb[key] = hist_comb\n",
    "        else:\n",
    "            cut_keys = list(output[key].keys())\n",
    "            len_new_keys = len(cut_keys)//3\n",
    "            output_comb[\"cutflow\"] = {}\n",
    "            for cut in range(len_new_keys):\n",
    "                output_comb[\"cutflow\"][\"Inclusive\"+cut_keys[cut][4:]] = (output[key][cut_keys[cut]]*find_ttbar_xsec(names[0])*N[names[0]]/N_av +\n",
    "                                                               output[key][cut_keys[cut+len_new_keys]]*find_ttbar_xsec(names[1])*N[names[1]]/N_av +\n",
    "                                                               output[key][cut_keys[cut+2*len_new_keys]]*find_ttbar_xsec(names[2])*N[names[2]]/N_av \n",
    "                                                              )\n",
    "                \n",
    "    output = output_comb\n",
    "    tag_full = tag + '_LHEflav1_TTBAR-Inclusive-JME'"
   ]
  },
  {
   "cell_type": "code",
   "execution_count": 120,
   "metadata": {},
   "outputs": [],
   "source": [
    "def fit_response(xvals, yvals, Neff):\n",
    "    if_failed = False\n",
    "    \n",
    "    # once adding weights, Neff appears to be ~1/4 - 1/3 of N when not using weights,\n",
    "    # so changing limits to match the both cases\n",
    "    if (np.sum(yvals)-Neff)/Neff<1e-5:\n",
    "        N_min_limit=50\n",
    "    else:\n",
    "        N_min_limit=15\n",
    "    \n",
    "    nonzero_bins = np.sum(yvals>0)\n",
    "    if nonzero_bins<2 or Neff<N_min_limit:\n",
    "        p2=[0,0,0]\n",
    "        chi2 = np.nan\n",
    "        cov = np.array([[np.nan]*3]*3)\n",
    "        Ndof = 0\n",
    "    #                 print(\"Too little data points, skipping p = \", p2)\n",
    "    else:\n",
    "        try:\n",
    "            p, cov = curve_fit(gauss, xvals, yvals, p0=[10,1,1])\n",
    "                 ######## Second Gaussian ########\n",
    "            xfit_l = np.where(xvals>=p[1]-np.abs(p[2])*1.5)[0][0]\n",
    "            xfit_hs = np.where(xvals>=p[1]+np.abs(p[2])*1.5)[0]\n",
    "            xfit_h = xfit_hs[0] if len(xfit_hs)>0 else len(xvals)\n",
    "    #                     print(\"xfit_l = \", xfit_l, \", xfit_h = \", xfit_h)\n",
    "\n",
    "            if len(range(xfit_l,xfit_h))<6: #if there are only 3pnts, the uncertainty is infty\n",
    "                xfit_l = xfit_l-1\n",
    "                xfit_h = xfit_h+1\n",
    "                if len(range(xfit_l,xfit_h))<6:\n",
    "                    xfit_l = xfit_l-1\n",
    "                    xfit_h = xfit_h+1\n",
    "            if xfit_l<0:\n",
    "                xfit_h-=xfit_l\n",
    "                xfit_l = 0\n",
    "            xvals2 = xvals[xfit_l: xfit_h]\n",
    "            yvals2 = yvals[xfit_l: xfit_h]\n",
    "    #                     if ptBin.lo>290:\n",
    "    #                         print(\"xfit_l = \", xfit_l, \", h = \", xfit_h)\n",
    "    #                         print(\"yvals = \", yvals)\n",
    "    #                         print(\"yvals2 = \", yvals2)\n",
    "            p2, cov = curve_fit(gauss, xvals2, yvals2, p0=p)\n",
    "                         ######## End second Gaussian ########\n",
    "\n",
    "            ygaus = gauss(xvals, *p2)\n",
    "            chi2 = sum((yvals-ygaus)**2/(yvals+1E-9))\n",
    "            Ndof = len(xvals2)-3\n",
    "    #                     if chi2<50000:\n",
    "    #                         pass\n",
    "    #                         print(\"Fit converged, p = \", p2, \", chi2 = \", chi2 )\n",
    "    #                     else:\n",
    "    #                         print(\"Fit failed because of high chi2, p = \", p2, \", chi2 = \", chi2 )\n",
    "        except(RuntimeError):   #When fit failed\n",
    "            p2=[0,0,0]\n",
    "    #                     print(\"Fit failed because of non-convergance, p = \", p2)\n",
    "            chi2 = np.nan\n",
    "            cov = np.array([[np.nan]*3]*3)\n",
    "            Ndof = 0\n",
    "            if_failed = True\n",
    "            \n",
    "    return [p2, cov, chi2, Ndof, if_failed]"
   ]
  },
  {
   "cell_type": "code",
   "execution_count": 121,
   "metadata": {},
   "outputs": [],
   "source": [
    "import warnings\n",
    "# warnings.filterwarnings('ignore') ### To suppress warnings with bad\n",
    "\n",
    "def fit_responses(output, flavor='b'):\n",
    "    warnings.filterwarnings('ignore')\n",
    "    saveplots = True\n",
    "    if test_run or fine_etabins:\n",
    "        saveplots = False\n",
    "    saveplots = False\n",
    "        \n",
    "    response_hist, recopt_hist = add_flavors(output, flavor, combine_antiflavour)\n",
    "    \n",
    "    response_hist = rebin_hist(response_hist, 'jeteta' , etabins)\n",
    "    recopt_hist = rebin_hist(recopt_hist, 'jeteta' , etabins)\n",
    "    \n",
    "    sum_neg_pos_eta_bool=True\n",
    "    if sum_neg_pos_eta_bool==True:\n",
    "        response_hist = sum_neg_pos_eta(response_hist)\n",
    "        recopt_hist = sum_neg_pos_eta(recopt_hist)\n",
    "        \n",
    "    results = {key:np.zeros((jetpt_length, jeteta_length))\n",
    "                  for key in [\"Mean\", \"MeanVar\", \"Median\", \"MedianStd\", \"MeanRecoPt\"]  }\n",
    "                            \n",
    "    N_converge = 0\n",
    "    N_not_converge = 0\n",
    "\n",
    "    FitFigDir1 = 'fig/responses/responses'+tag_full\n",
    "    if saveplots and not os.path.exists(FitFigDir1):\n",
    "        os.mkdir(FitFigDir1)\n",
    "    \n",
    "    FitFigDir = FitFigDir1+'/response_pt_eta'+flavor+tag_full\n",
    "    if saveplots and not os.path.exists(FitFigDir):\n",
    "        os.mkdir(FitFigDir)\n",
    "        print(\"Response fits will be saved under \", FitFigDir)\n",
    "    elif not saveplots:\n",
    "        print(\"Response fits won't be saved\")\n",
    "\n",
    "    xvals = response_hist.axes['ptresponse'].centers[1:] #[1:] to exclude the second peak for low pt\n",
    "    response_edges = response_hist.axes['ptresponse'].edges[1:]\n",
    "\n",
    "    for i in range(jetpt_length):\n",
    "        pt_lo = ptbins[i]\n",
    "        pt_hi = ptbins[i+1]\n",
    "    #         print('-'*25)\n",
    "\n",
    "        if not np.isinf(pt_hi):\n",
    "            pt_string = '_pT'+str(int(pt_lo))+'to'+str(int(pt_hi))\n",
    "        else:\n",
    "            pt_string = '_pT'+str(pt_lo) + 'to' + str(pt_hi)\n",
    "            pt_string = pt_string.replace('.0','').replace('-infto','0to')\n",
    "\n",
    "        for k in range(jeteta_length):\n",
    "            histo = response_hist[i, :, k]\n",
    "            histopt = recopt_hist[i, k]\n",
    "            \n",
    "            etaPl_lo = etabins[k+jeteta_length]\n",
    "            etaPl_hi = etabins[k+1+jeteta_length]\n",
    "            eta_string = '_eta'+str(etaPl_lo)+'to'+str(etaPl_hi)\n",
    "            eta_string = eta_string.replace('.','')\n",
    "            \n",
    "#             histo, histopt, eta_string = slice_histogram(response_hist, recopt_hist, etabins, k, pt_lo, pt_hi)\n",
    "            yvals = histo.values()[1:]     #[1:] to exclude the second peak for low pt\n",
    "            try:\n",
    "                Neff = histo.sum().value**2/(histo.sum().variance)\n",
    "            except ZeroDivisionError:\n",
    "                Neff = histo.sum().value**2/(histo.sum().variance+1e-11)\n",
    "\n",
    "            median, medianstd = get_median(xvals, yvals, response_edges, Neff)\n",
    "            \n",
    "            ##################### Mean of the pt_reco  ######################\n",
    "            ### (The mean includes events that potentially had ptresponse in the second peak at low pt)\n",
    "            ### No way to distinguish it if only x*weights are saved instead of the whole histogram.\n",
    "            mean_reco_pt = histopt.value/np.sum(histo.values())\n",
    "            \n",
    "            ####################### Fitting ############################\n",
    "            p2, cov, chi2, Ndof, if_failed = fit_response(xvals, yvals, Neff)\n",
    "            if if_failed:\n",
    "                N_not_converge += 1\n",
    "            else:\n",
    "                N_converge += 1\n",
    "            \n",
    "            results[\"Mean\"][i,k] = p2[1]\n",
    "            results[\"MeanVar\"][i,k] = cov[1,1]\n",
    "            results[\"Median\"][i,k] = median\n",
    "            results[\"MedianStd\"][i,k] = medianstd\n",
    "            results[\"MeanRecoPt\"][i,k] = mean_reco_pt\n",
    "    #             chi2s[i,k] = chi2\n",
    "\n",
    "    ####################### Plotting ############################\n",
    "            if  saveplots:\n",
    "                figName = FitFigDir+'/ptResponse'+pt_string+eta_string\n",
    "                plot_response_dist(histo, xvals, p2, cov, chi2, Ndof, median, medianstd, Neff, figName)              \n",
    "\n",
    "    print(\"N converge = \", N_converge, \"N_not_converge = \", N_not_converge );\n",
    "    warnings.filterwarnings('default')\n",
    "    \n",
    "    return results  "
   ]
  },
  {
   "cell_type": "markdown",
   "metadata": {},
   "source": [
    "### Run fitting for each sample"
   ]
  },
  {
   "cell_type": "code",
   "execution_count": 122,
   "metadata": {},
   "outputs": [],
   "source": [
    "medians = []\n",
    "medianstds = []"
   ]
  },
  {
   "cell_type": "code",
   "execution_count": 123,
   "metadata": {
    "scrolled": true
   },
   "outputs": [
    {
     "name": "stdout",
     "output_type": "stream",
     "text": [
      "-------------------------\n",
      "-------------------------\n",
      "Starting to fit each flavor in: ['unmatched']\n",
      "-------------------------\n",
      "-------------------------\n",
      "Fitting flavor:  unmatched\n",
      "Response fits won't be saved\n",
      "N converge =  98 N_not_converge =  14\n",
      "Figure saved: fig/corr_vs_pt/DY-FxFx_test/corr_vs_pt_DY-FxFx_test_unmatched.pdf /.png\n"
     ]
    },
    {
     "data": {
      "image/png": "[encoded data removed]",
      "text/plain": [
       "<Figure size 600x600 with 1 Axes>"
      ]
     },
     "metadata": {},
     "output_type": "display_data"
    }
   ],
   "source": [
    "# %%time\n",
    "# load_fit_res=False\n",
    "combine_antiflavour = True\n",
    "flavors = ['b', 'c', 'u', 'd', 's', 'g', 'q', 'ud', 'all', 'unmatched']\n",
    "# flavors = ['unmatched']\n",
    "print('-'*25)\n",
    "print('-'*25)\n",
    "print(f'Starting to fit each flavor in: {flavors}')\n",
    "for flav in flavors:\n",
    "    print('-'*25)\n",
    "    print('-'*25)\n",
    "    print('Fitting flavor: ', flav)\n",
    "    if load_fit_res:\n",
    "        result = {}\n",
    "        keys = [\"Mean\", \"MeanVar\", \"Median\", \"MedianStd\", \"MeanRecoPt\"] \n",
    "        for key in keys:\n",
    "            result[key] = read_data(key, flav, tag_full)\n",
    "    \n",
    "    else:\n",
    "        result = fit_responses(output, flav)\n",
    "        medians.append(result[\"Median\"][0][0])\n",
    "        medianstds.append(result[\"MedianStd\"][0][0])\n",
    "        for key in result:\n",
    "            save_data(result[key], key, flav, tag_full, ptbins, etabins_mod)\n",
    "            pass\n",
    "            \n",
    "#     print(\"result = \", result)\n",
    "    median = result[\"Median\"]\n",
    "    medianStd = result[\"MedianStd\"]\n",
    "    \n",
    "    meanstd = np.sqrt(result[\"MeanVar\"])\n",
    "            \n",
    "    if one_bin: #or fine_etabins:\n",
    "        plot_corrections_eta(result[\"Median\"], result[\"MedianStd\"], ptbins, etabins_c, tag_full, flav)\n",
    "    else:\n",
    "        plot_corrections(result[\"Median\"], result[\"MedianStd\"], ptbins_c, etabins_mod, tag_full, flav)"
   ]
  },
  {
   "cell_type": "code",
   "execution_count": 124,
   "metadata": {},
   "outputs": [],
   "source": [
    "# fit_responses(output, 'g')"
   ]
  },
  {
   "cell_type": "code",
   "execution_count": 125,
   "metadata": {},
   "outputs": [
    {
     "name": "stdout",
     "output_type": "stream",
     "text": [
      "--------------------------------------------------\n",
      "All done. Congrats!\n"
     ]
    }
   ],
   "source": [
    "print('-----'*10)\n",
    "print(\"All done. Congrats!\")"
   ]
  },
  {
   "cell_type": "code",
   "execution_count": null,
   "metadata": {},
   "outputs": [],
   "source": []
  }
 ],
 "metadata": {
  "kernelspec": {
   "display_name": "Python 3 (ipykernel)",
   "language": "python",
   "name": "python3"
  },
  "language_info": {
   "codemirror_mode": {
    "name": "ipython",
    "version": 3
   },
   "file_extension": ".py",
   "mimetype": "text/x-python",
   "name": "python",
   "nbconvert_exporter": "python",
   "pygments_lexer": "ipython3",
   "version": "3.9.12"
  }
 },
 "nbformat": 4,
 "nbformat_minor": 4
}
