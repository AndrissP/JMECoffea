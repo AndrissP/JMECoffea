{
 "cells": [
  {
   "cell_type": "code",
   "execution_count": 1,
   "metadata": {},
   "outputs": [],
   "source": [
    " %load_ext autoreload\n",
    "# Set extension to reload modules every time before executing code\n",
    "%autoreload 2  #0 to turn of reloading"
   ]
  },
  {
   "cell_type": "code",
   "execution_count": 2,
   "metadata": {},
   "outputs": [],
   "source": [
    "from IPython.core.interactiveshell import InteractiveShell\n",
    "InteractiveShell.ast_node_interactivity = \"all\""
   ]
  },
  {
   "cell_type": "code",
   "execution_count": 3,
   "metadata": {},
   "outputs": [
    {
     "name": "stderr",
     "output_type": "stream",
     "text": [
      "/opt/conda/lib/python3.8/site-packages/coffea/util.py:154: FutureWarning: In coffea version v0.8.0 (target date: 31 Dec 2022), this will be an error.\n",
      "(Set coffea.deprecations_as_errors = True to get a stack trace now.)\n",
      "ImportError: coffea.hist is deprecated\n",
      "  warnings.warn(message, FutureWarning)\n"
     ]
    }
   ],
   "source": [
    "import bokeh\n",
    "import time\n",
    "import copy\n",
    "import scipy.stats as ss\n",
    "from scipy.optimize import curve_fit\n",
    "from coffea import hist, processor, nanoevents, util\n",
    "from coffea.nanoevents.methods import candidate\n",
    "from coffea.nanoevents import NanoAODSchema, BaseSchema\n",
    "\n",
    "import awkward as ak\n",
    "import numpy as np\n",
    "import glob as glob\n",
    "import itertools\n",
    "import pandas as pd\n",
    "from numpy.random import RandomState\n",
    "\n",
    "from dask.distributed import Client\n",
    "import inspect\n",
    "import matplotlib.pyplot as plt\n",
    "\n",
    "from pltStyle import pltStyle\n",
    "import os\n",
    "# %matplotlib notebook \n",
    "# %matplotlib notebook "
   ]
  },
  {
   "cell_type": "markdown",
   "metadata": {},
   "source": [
    "### Import processor"
   ]
  },
  {
   "cell_type": "code",
   "execution_count": 4,
   "metadata": {},
   "outputs": [],
   "source": [
    "from CoffeaJERCProcessor_L5 import Processor"
   ]
  },
  {
   "cell_type": "markdown",
   "metadata": {},
   "source": [
    "Parameters of the run"
   ]
  },
  {
   "cell_type": "code",
   "execution_count": 5,
   "metadata": {},
   "outputs": [],
   "source": [
    "UsingDaskExecutor = True\n",
    "CoffeaCasaEnv     = False\n",
    "load_preexisting  = False    ### True if don't repeat the processing of files and use preexisting JER from output\n",
    "test_run          = True     ### True if run only on one file\n",
    "load_fit_res      = False\n",
    "\n",
    "tag = '_L5'\n",
    "\n",
    "exec('from CoffeaJERCProcessor'+tag+' import Processor') \n",
    "\n",
    "add_tag = '_QCD' # '_testing_19UL18' # ''\n",
    "tag_full = tag+add_tag\n",
    "\n",
    "outname = 'out/CoffeaJERCOutputs'+tag_full+'.coffea'\n",
    "outname = outname+'_test' if test_run else outname\n",
    "\n",
    "if load_preexisting == True:\n",
    "    UsingDaskExecutor = False"
   ]
  },
  {
   "cell_type": "code",
   "execution_count": 6,
   "metadata": {},
   "outputs": [],
   "source": [
    "## assume running on the LPC\n",
    "xrootdstr = 'root://cmsxrootd.fnal.gov/'\n",
    "# assume running on the lxplus\n",
    "# xrootdstr = 'root://cms-xrd-global.cern.ch//'\n",
    "\n",
    "# if running on coffea casa instead...\n",
    "if CoffeaCasaEnv:\n",
    "    xrootdstr = 'root://xcache/'\n",
    "    \n",
    "dataset = 'fileNames_QCD20UL18.txt'\n",
    "# dataset = 'dataset.txt'\n",
    "\n",
    "\n",
    "rootfiles = open(dataset).read().split()\n",
    "\n",
    "fileslist = [xrootdstr + file for file in rootfiles]"
   ]
  },
  {
   "cell_type": "code",
   "execution_count": 7,
   "metadata": {},
   "outputs": [],
   "source": [
    "# to test on one file, uncomment the line below\n",
    "\n",
    "fileslist = fileslist\n",
    "if test_run:\n",
    "    fileslist = [fileslist[0]]\n",
    "    ### The smallest file in the RunIISummer20UL18NanoAODv9 dataset\n",
    "#     fileslist = ['root://cms-xrd-global.cern.ch//'+\n",
    "#                  '/store/mc/RunIISummer20UL18NanoAODv9/QCD_Pt-15to7000_TuneCP5_Flat2018_13TeV_pythia8/NANOAODSIM/20UL18JMENano_106X_upgrade2018_realistic_v16_L1v1-v1/30000/792B4CD3-A001-F94F-9AAB-D74D532DE610.root']\n",
    "# fileslist\n"
   ]
  },
  {
   "cell_type": "markdown",
   "metadata": {},
   "source": [
    "Test if certificate works opening the file"
   ]
  },
  {
   "cell_type": "code",
   "execution_count": 8,
   "metadata": {},
   "outputs": [
    {
     "name": "stdout",
     "output_type": "stream",
     "text": [
      "Found proxy at /afs/cern.ch/user/a/anpotreb/k5-ca-proxy.pem\n"
     ]
    }
   ],
   "source": [
    "import os\n",
    "### RUN THIS CELL ONLY IF YOU ARE USING SWAN \n",
    "\n",
    "##### REMEMBER TO MANUALLY COPY THE PROXY TO YOUR CERNBOX FOLDER AND TO MODIFY THE NEXT LINE\n",
    "os.environ['X509_USER_PROXY'] = '/afs/cern.ch/user/a/anpotreb/k5-ca-proxy.pem'\n",
    "if os.path.isfile(os.environ['X509_USER_PROXY']):\n",
    "    print(\"Found proxy at {}\".format(os.environ['X509_USER_PROXY']))\n",
    "else:\n",
    "    print(\"os.environ['X509_USER_PROXY'] \",os.environ['X509_USER_PROXY'])\n",
    "os.environ['X509_CERT_DIR'] = '/cvmfs/cms.cern.ch/grid/etc/grid-security/certificates'\n",
    "os.environ['X509_VOMS_DIR'] = '/cvmfs/cms.cern.ch/grid/etc/grid-security/vomsdir'"
   ]
  },
  {
   "cell_type": "code",
   "execution_count": 9,
   "metadata": {},
   "outputs": [],
   "source": [
    "import uproot"
   ]
  },
  {
   "cell_type": "code",
   "execution_count": 10,
   "metadata": {},
   "outputs": [
    {
     "name": "stderr",
     "output_type": "stream",
     "text": [
      "220810 14:08:26 14959 secgsi_Init: Secgsi: ErrError: CA directory non existing: /cvmfs/cms.cern.ch/grid/etc/grid-security/certificates\n",
      "220810 14:08:26 14959 secgsi_Init: Secgsi: ErrError: CRL directory non existing:: /cvmfs/cms.cern.ch/grid/etc/grid-security/certificates\n"
     ]
    },
    {
     "data": {
      "text/plain": [
       "['tag;1',\n",
       " 'Events;1',\n",
       " 'LuminosityBlocks;1',\n",
       " 'Runs;1',\n",
       " 'MetaData;1',\n",
       " 'ParameterSets;1']"
      ]
     },
     "execution_count": 10,
     "metadata": {},
     "output_type": "execute_result"
    }
   ],
   "source": [
    "ff = uproot.open(fileslist[0])\n",
    "ff.keys()\n",
    "ff.close()"
   ]
  },
  {
   "cell_type": "markdown",
   "metadata": {},
   "source": [
    "# Dask Setup:\n",
    "---\n",
    "### For Coffea-Casa, the client must be specified according to the user that is logged into the Coffea-Casa Environment.\n",
    "#### 1.) go to the left of this coffea-casa session to the task bar and click the orange-red button; it will say \"Dask\" if you hover your cursor over it\n",
    "#### 2.) scroll down to the blue box where it shows the \"Scheduler Address\"\n",
    "#### 3.) write that full address into the dask Client function \n",
    "#### Example: `client = Client(\"tls://ac-2emalik-2ewilliams-40cern-2ech.dask.coffea.casa:8786\")`\n",
    "---\n",
    "### For CMSLPC, the client must be specified with the LPCCondorCluster\n",
    "#### 1.) follow installation instructions from https://github.com/CoffeaTeam/lpcjobqueue, if you have not already done so, to get a working singularity environment with access to lpcjobqueue and LPCCondorCluster class\n",
    "#### 2.) import LPCCondorCluster: `from lpcjobqueue import LPCCondorCluster`\n",
    "#### 3.) define the client\n",
    "#### Example: \n",
    "`cluster = LPCCondorCluster()`\n",
    "\n",
    "`client = Client(cluster)`\n"
   ]
  },
  {
   "cell_type": "code",
   "execution_count": 23,
   "metadata": {},
   "outputs": [],
   "source": [
    "# Dask set up for Coffea-Casa only\n",
    "if(UsingDaskExecutor and CoffeaCasaEnv):\n",
    "    client = Client(\"tls://ac-2emalik-2ewilliams-40cern-2ech.dask.coffea.casa:8786\")\n",
    "    client.upload_file('CoffeaJERCProcessor.py')"
   ]
  },
  {
   "cell_type": "code",
   "execution_count": 24,
   "metadata": {},
   "outputs": [
    {
     "name": "stderr",
     "output_type": "stream",
     "text": [
      "2022-08-10 14:08:30,264 - distributed.diskutils - INFO - Found stale lock file and directory '/tmp/anpotreb/dask-worker-space/worker-h5v69gvk', purging\n",
      "2022-08-10 14:08:30,264 - distributed.diskutils - INFO - Found stale lock file and directory '/tmp/anpotreb/dask-worker-space/worker-pghyih67', purging\n",
      "2022-08-10 14:08:30,264 - distributed.diskutils - INFO - Found stale lock file and directory '/tmp/anpotreb/dask-worker-space/worker-x1i9_qoc', purging\n",
      "2022-08-10 14:08:30,265 - distributed.diskutils - INFO - Found stale lock file and directory '/tmp/anpotreb/dask-worker-space/worker-2rk7j2rv', purging\n"
     ]
    },
    {
     "data": {
      "text/plain": [
       "{'tcp://127.0.0.1:32915': {'status': 'OK'},\n",
       " 'tcp://127.0.0.1:39135': {'status': 'OK'},\n",
       " 'tcp://127.0.0.1:39644': {'status': 'OK'},\n",
       " 'tcp://127.0.0.1:39777': {'status': 'OK'},\n",
       " 'tcp://127.0.0.1:41985': {'status': 'OK'}}"
      ]
     },
     "execution_count": 24,
     "metadata": {},
     "output_type": "execute_result"
    }
   ],
   "source": [
    "# Dask set up for LPC only \n",
    "if(UsingDaskExecutor and not CoffeaCasaEnv):\n",
    "#     from lpcjobqueue import LPCCondorCluster\n",
    "#     cluster = LPCCondorCluster()\n",
    "#     cluster.adapt(minimum=1, maximum=10)\n",
    "#     client = Client(cluster)\n",
    "#     client.upload_file('CoffeaJERCProcessor.py')\n",
    "    \n",
    "    \n",
    "    from dask.distributed import Client\n",
    "#     client=Client()\n",
    "#     cluster.adapt(minimum=1, maximum=10)\n",
    "    client = Client()\n",
    "    client.upload_file('CoffeaJERCProcessor'+tag+'.py')\n",
    "# client"
   ]
  },
  {
   "cell_type": "code",
   "execution_count": 25,
   "metadata": {},
   "outputs": [],
   "source": [
    "# dataset_axis = hist.Cat(\"dataset\", \"Primary dataset\")\n",
    "# cats_axis = hist.Cat(\"anacat\", \"Analysis Category\")\n",
    "\n",
    "# jetpt_axis = hist.Bin(\"pt\", r\"$p_T$\", ptbins)\n",
    "# ptresponse_axis = hist.Bin(\"ptresponse\", \"RECO / GEN response\", 100, 0, 5)\n",
    "# jetmass_axis = hist.Bin(\"jetmass\", r\"Jet $m$ [GeV]\", 50, 0, 500)\n",
    "# jeteta_axis = hist.Bin(\"jeteta\", r\"Jet $\\eta$\", etabins)\n",
    "# jetphi_axis = hist.Bin(\"jetphi\", r\"Jet $\\phi$\", 50, -np.pi, np.pi)"
   ]
  },
  {
   "cell_type": "code",
   "execution_count": 26,
   "metadata": {
    "scrolled": true
   },
   "outputs": [
    {
     "name": "stdout",
     "output_type": "stream",
     "text": [
      "<coffea.lookup_tools.evaluator.evaluator object at 0x7f3d281cc520>\n",
      "dict_keys(['Summer20UL18_V2_MC_L1FastJet_AK4PFchs', 'Summer20UL18_V2_MC_L2Relative_AK4PFchs', 'Summer20UL18_V2_MC_L3Absolute_AK4PFchs'])\n",
      "['Summer20UL18_V2_MC_L1FastJet_AK4PFchs', 'Summer20UL18_V2_MC_L2Relative_AK4PFchs', 'Summer20UL18_V2_MC_L3Absolute_AK4PFchs']\n",
      "\n",
      "[                                        ] | 0% Completed |  0.9s"
     ]
    },
    {
     "name": "stderr",
     "output_type": "stream",
     "text": [
      "220810 14:08:33 15200 secgsi_Init: Secgsi: ErrError: CA directory non existing: /cvmfs/cms.cern.ch/grid/etc/grid-security/certificates\n",
      "220810 14:08:33 15200 secgsi_Init: Secgsi: ErrError: CRL directory non existing:: /cvmfs/cms.cern.ch/grid/etc/grid-security/certificates\n"
     ]
    },
    {
     "name": "stdout",
     "output_type": "stream",
     "text": [
      "[                                        ] | 1% Completed |  0.9s7s"
     ]
    },
    {
     "name": "stderr",
     "output_type": "stream",
     "text": [
      "220810 14:08:36 15225 secgsi_Init: Secgsi: ErrError: CA directory non existing: /cvmfs/cms.cern.ch/grid/etc/grid-security/certificates\n",
      "220810 14:08:36 15225 secgsi_Init: Secgsi: ErrError: CRL directory non existing:: /cvmfs/cms.cern.ch/grid/etc/grid-security/certificates\n",
      "220810 14:08:36 15238 secgsi_Init: Secgsi: ErrError: CA directory non existing: /cvmfs/cms.cern.ch/grid/etc/grid-security/certificates\n",
      "220810 14:08:36 15238 secgsi_Init: Secgsi: ErrError: CRL directory non existing:: /cvmfs/cms.cern.ch/grid/etc/grid-security/certificates\n"
     ]
    },
    {
     "name": "stdout",
     "output_type": "stream",
     "text": [
      "[                                        ] | 1% Completed |  1.9s"
     ]
    },
    {
     "name": "stderr",
     "output_type": "stream",
     "text": [
      "220810 14:08:37 15233 secgsi_Init: Secgsi: ErrError: CA directory non existing: /cvmfs/cms.cern.ch/grid/etc/grid-security/certificates\n",
      "220810 14:08:37 15243 220810 14:08:37 15233 secgsi_secgsi_InitInit: : Secgsi: ErrError: CRL directory non existing:: /cvmfs/cms.cern.ch/grid/etc/grid-security/certificates\n",
      "Secgsi: ErrError: CA directory non existing: /cvmfs/cms.cern.ch/grid/etc/grid-security/certificates\n",
      "220810 14:08:37 15243 secgsi_Init: Secgsi: ErrError: CRL directory non existing:: /cvmfs/cms.cern.ch/grid/etc/grid-security/certificates\n"
     ]
    },
    {
     "name": "stdout",
     "output_type": "stream",
     "text": [
      "QCD unweighted output loaded#############] | 100% Completed |  1min  1.6s\n"
     ]
    }
   ],
   "source": [
    "tstart = time.time()\n",
    "\n",
    "outputs_unweighted = {}\n",
    "\n",
    "seed = 1234577890\n",
    "prng = RandomState(seed)\n",
    "Chunk = [10000, 5] # [chunksize, maxchunks]\n",
    "\n",
    "filesets = {'QCD': fileslist}\n",
    "\n",
    "if not load_preexisting:\n",
    "    for name,files in filesets.items(): \n",
    "        if not UsingDaskExecutor:\n",
    "            chosen_exec = 'futures'\n",
    "            output = processor.run_uproot_job({name:files},\n",
    "                                              treename='Events',\n",
    "                                              processor_instance=Processor(),\n",
    "                                              executor=processor.iterative_executor,\n",
    "        #                                        executor=processor.futures_executor,\n",
    "                                              executor_args={\n",
    "                                                  'skipbadfiles':False,\n",
    "                                                  'schema': NanoAODSchema, #BaseSchema\n",
    "                                                  'workers': 2},\n",
    "                                              chunksize=Chunk[0])#, maxchunks=Chunk[1])\n",
    "        else:\n",
    "            chosen_exec = 'dask'\n",
    "            output = processor.run_uproot_job({name:files},\n",
    "                                              treename='Events',\n",
    "                                              processor_instance=Processor(),\n",
    "                                              executor=processor.dask_executor,\n",
    "                                              executor_args={\n",
    "                                                  'client': client,\n",
    "                                                  'skipbadfiles':False,\n",
    "                                                  'schema': NanoAODSchema, #BaseSchema\n",
    "    #                                               'workers': 2\n",
    "                                              },\n",
    "                                              chunksize=Chunk[0])#, maxchunks=Chunk[1])\n",
    "\n",
    "    elapsed = time.time() - tstart\n",
    "    outputs_unweighted[name] = output\n",
    "    util.save(output, outname)\n",
    "    outputs_unweighted[name] = output\n",
    "    print(name + ' unweighted output loaded')\n",
    "else:\n",
    "    # output = util.load('out/CoffeaJERCOutputs_binned.coffea')\n",
    "    output = util.load(outname)\n",
    "    \n",
    "elapsed = time.time() - tstart"
   ]
  },
  {
   "cell_type": "markdown",
   "metadata": {},
   "source": [
    "### Fit responses"
   ]
  },
  {
   "cell_type": "code",
   "execution_count": 27,
   "metadata": {},
   "outputs": [],
   "source": [
    "# define gaussian function for fitting the responses\n",
    "def gauss(x, *p):\n",
    "    A, mu, sigma = p\n",
    "    return A*np.exp(-(x-mu)**2/(2.*sigma**2))"
   ]
  },
  {
   "cell_type": "code",
   "execution_count": 28,
   "metadata": {},
   "outputs": [],
   "source": [
    "# ptbins = output['ptresponse'].axis('pt').edges()\n",
    "# ptbins;\n",
    "# etabins = output['ptresponse'].axis('jeteta').edges()[:-1]\n",
    "# etabins;"
   ]
  },
  {
   "cell_type": "code",
   "execution_count": 29,
   "metadata": {},
   "outputs": [],
   "source": [
    "# # jetpt_length = len(output['jetpt'].axis('pt')[1:-1])\n",
    "# jetpt_length = len(ptbins)\n",
    "# # jeteta_length = len(output['jeteta'].axis('jeteta')[1:-1])\n",
    "# jeteta_length = len(etabins)\n",
    "\n",
    "# mean = np.zeros((jetpt_length, jeteta_length))\n",
    "# median = np.zeros((jetpt_length, jeteta_length))\n",
    "# width = np.zeros((jetpt_length, jeteta_length))\n",
    "# idx = []"
   ]
  },
  {
   "cell_type": "code",
   "execution_count": 30,
   "metadata": {
    "scrolled": true
   },
   "outputs": [],
   "source": [
    "# for k in range(len(etabins)-1):\n",
    "#     print(hist.Interval(etabins[k], etabins[k+1]))\n",
    "# print()    \n",
    "# for k, etaBin in enumerate(output['jeteta'].axis('jeteta')[1:-1]):\n",
    "#     print(etaBin)"
   ]
  },
  {
   "cell_type": "markdown",
   "metadata": {},
   "source": [
    "Define some global variables for the fit"
   ]
  },
  {
   "cell_type": "code",
   "execution_count": 31,
   "metadata": {
    "scrolled": true
   },
   "outputs": [],
   "source": [
    "f_xvals = np.linspace(0,5,5001)\n",
    "ptbins = output['ptresponse'].axis('pt').edges()\n",
    "etabins = output['ptresponse'].axis('jeteta').edges()\n",
    "jetpt_length = len(ptbins)-1\n",
    "jeteta_length = (len(etabins)-1)//2\n",
    "\n",
    "etabins_mod = etabins[(len(etabins)-1)//2:]\n"
   ]
  },
  {
   "cell_type": "code",
   "execution_count": 32,
   "metadata": {},
   "outputs": [],
   "source": [
    "from pltStyle import pltStyle\n",
    "pltStyle(style='paper')\n",
    "plt.rcParams['figure.subplot.left'] = 0.160"
   ]
  },
  {
   "cell_type": "code",
   "execution_count": 33,
   "metadata": {},
   "outputs": [],
   "source": [
    "import warnings\n",
    "# warnings.filterwarnings('ignore') ### To suppress warnings with bad \n",
    "\n",
    "\n",
    "# xvals = output['ptresponse'+samp].axis('ptresponse').centers()\n",
    "\n",
    "# FitFigDir = 'fig/response_pt_eta'+samp+tag\n",
    "# if not os.path.exists(FitFigDir):\n",
    "#     os.mkdir(FitFigDir)\n",
    "\n",
    "def fit_responses(output, samp='_b'):\n",
    "    warnings.filterwarnings('ignore')\n",
    "\n",
    "    mean = np.zeros((jetpt_length, jeteta_length))\n",
    "    median = np.zeros((jetpt_length, jeteta_length))\n",
    "    width = np.zeros((jetpt_length, jeteta_length))\n",
    "    chi2s = np.zeros((jetpt_length, jeteta_length))\n",
    "    meanvar = np.zeros((jetpt_length, jeteta_length))\n",
    "#     idx = []\n",
    "    \n",
    "    N_converge = 0\n",
    "    N_not_converge = 0\n",
    "\n",
    "    FitFigDir = 'fig/response_pt_eta'+samp+tag_full\n",
    "    print(\"Images will be saved under \", FitFigDir)\n",
    "    if not os.path.exists(FitFigDir):\n",
    "        os.mkdir(FitFigDir)\n",
    "    plot_pt_edges = output['ptresponse'+samp].axis('ptresponse').edges()[0:42] ##Put plotting limits to the histogram\n",
    "    hist_pt_edges = plot_pt_edges[1:-1]   #for plotting. To explude overflow from the plot\n",
    "    plot_response_axis = hist.Bin(\"jeteta\", r\"Jet $\\eta$\", hist_pt_edges)\n",
    "\n",
    "    xvals = output['ptresponse'+samp].axis('ptresponse').centers()[1:] #[1:] to exclude the second peak for low pt\n",
    "    f_xvals = np.linspace(0,5,5001)\n",
    "\n",
    "\n",
    "    for i in range(len(ptbins)-1):\n",
    "        ptBin = hist.Interval(ptbins[i], ptbins[i+1])\n",
    "        print('-'*25)\n",
    "        print('pt bin '+str(ptBin))\n",
    "        print('-'*25)\n",
    "\n",
    "        if not 'inf' in str(ptBin):\n",
    "            pt_string = '_pT'+str(int(ptBin.lo))+'to'+str(int(ptBin.hi))\n",
    "        else:\n",
    "            pt_string = '_pT'+str(ptBin.lo) + 'to' + str(ptBin.hi)\n",
    "            pt_string = pt_string.replace('.0','').replace('-infto','0to')\n",
    "\n",
    "        for k in range(jeteta_length):\n",
    "            etaBinPl = hist.Interval(etabins[k+jeteta_length], etabins[k+1+jeteta_length])\n",
    "            etaBinMi = hist.Interval(etabins[jeteta_length-k-1], etabins[jeteta_length-k])\n",
    "#             etaBin = hist.Interval(etabins[k], etabins[k+1])\n",
    "            print(\"etaBin = \", etaBinPl ,\", ptBin = \", ptBin )\n",
    "            eta_string = '_eta'+str(etaBinPl.lo)+'to'+str(etaBinPl.hi)\n",
    "            eta_string = eta_string.replace('.','')\n",
    "            \n",
    "            # The name integrate is a bit misleasding in this line. Is there another way to \"slice\" a histogram? //Andris\n",
    "            histoMi = output['ptresponse'+samp].integrate('jeteta', etaBinMi).integrate('pt', ptBin)\n",
    "            histoPl = output['ptresponse'+samp].integrate('jeteta', etaBinPl).integrate('pt', ptBin)\n",
    "            histo = (histoMi+histoPl)\n",
    "            histvals = np.repeat(histo.axis('ptresponse').centers(), np.array(histo.values()[('QCD',)],dtype='int'))\n",
    "            yvals = histo.values()[('QCD',)][1:]  #[1:] to exclude the second peak for low pt\n",
    "\n",
    "            try:\n",
    "                p, arr = curve_fit(gauss, xvals, yvals, p0=[10,1,1])\n",
    "                N_converge += 1\n",
    "\n",
    "                            ### Second Gaussian\n",
    "                xfit_l = np.where(xvals>=p[1]-np.abs(p[2])*1.5)[0][0]\n",
    "                xfit_h = np.where(xvals>=p[1]+np.abs(p[2])*1.5)[0][0]\n",
    "                if len(range(xfit_l,xfit_h))<4: #if there are only 3pnts, the uncertainty is infty\n",
    "                    xfit_l = xfit_l-1\n",
    "                    xfit_h = xfit_h+1\n",
    "                    if len(range(xfit_l,xfit_h))<4:\n",
    "                        xfit_l = xfit_l-1\n",
    "                        xfit_h = xfit_h+1\n",
    "                xvals2 = xvals[xfit_l: xfit_h]\n",
    "                yvals2 = yvals[xfit_l: xfit_h]\n",
    "                p2, arr = curve_fit(gauss, xvals2, yvals2, p0=p)\n",
    "\n",
    "                ygaus = gauss(xvals, *p2)\n",
    "                chi2 = sum((yvals-ygaus)**2/(yvals+1E-9))\n",
    "                Ndof = len(xvals2)-3\n",
    "                if chi2<50000:\n",
    "                    pass\n",
    "                    print(\"Fit converged, p = \", p2, \", chi2 = \", chi2 )\n",
    "                else:\n",
    "                    print(\"Fit failed because of high chi2, p = \", p2, \", chi2 = \", chi2 )\n",
    "            except:\n",
    "    #             print(\"Fit failed because of non-convergance, p = \", p)\n",
    "                N_not_converge += 1\n",
    "                continue\n",
    "\n",
    "\n",
    "#             fgaus = gauss(f_xvals, *p)\n",
    "            fgaus2 = gauss(f_xvals, *p2)\n",
    "\n",
    "            median[i,k] = np.median(histvals)\n",
    "            mean[i,k] = p2[1] # - (scal-1)\n",
    "            width[i,k] = p2[2]\n",
    "            chi2s[i,k] = chi2\n",
    "            meanvar[i,k] = arr[1,1]\n",
    "#             idx.append(i)\n",
    "\n",
    "   ####################### Plotting ############################\n",
    "            if not test_run:\n",
    "                N = histo.integrate('ptresponse').values()[('QCD',)]\n",
    "                histo = histo.rebin('ptresponse', plot_response_axis)\n",
    "\n",
    "                fig, ax2 = plt.subplots();\n",
    "                hist.plot1d(histo, ax=ax2, overlay='dataset', overflow='all',\n",
    "                            fill_opts={'alpha': .5, 'edgecolor': (0,0,0,0.3), 'linewidth': 1.4})\n",
    "                # ax2.plot(f_xvals, fgaus, label='Gaus',linewidth=1.8)\n",
    "                ax2.plot(f_xvals, fgaus2, label='Gaus',linewidth=1.8)\n",
    "                ax2.set_xlabel(\"Response ($E_{RECO}/E_{GEN}$)\")\n",
    "                ax2.set_xlim(plot_pt_edges[[0,-1]])\n",
    "                h = ax2.get_ylim()[1]/1.05\n",
    "                plt.text(0.03,0.95*h,'Mean {0:0.3f}$\\pm${1:0.3f}'.format(p2[1],np.sqrt(arr[1,1])))\n",
    "                plt.text(0.03,0.88*h,'Width {0:0.3f}$\\pm${1:0.3f}'.format(p2[2],np.sqrt(arr[2,2])))\n",
    "                plt.text(0.03,0.81*h,'Median {0:0.3f}'.format(np.median(histvals)))\n",
    "                plt.text(0.03,0.73*h,'$\\chi^2/ndof$ {0:0.2g}/{1:0.0f}'.format(chi2, Ndof))\n",
    "                plt.text(0.03,0.66*h,'N data = {0:0.3g}'.format(N))\n",
    "                ax2.legend();\n",
    "\n",
    "                plt.savefig(FitFigDir+'/ptResponse'+pt_string+eta_string+'.png');\n",
    "                plt.savefig(FitFigDir+'/ptResponse'+pt_string+eta_string+'.pdf');\n",
    "                plt.close();                \n",
    "\n",
    "    warnings.filterwarnings('default')\n",
    "    print(\"N converge = \", N_converge, \"N_not_converge = \", N_not_converge );\n",
    "    warnings.filterwarnings('default')\n",
    "    \n",
    "    return [mean, width, median, chi2s, meanvar]\n",
    "    "
   ]
  },
  {
   "cell_type": "code",
   "execution_count": 34,
   "metadata": {},
   "outputs": [],
   "source": [
    "df_csv = pd.read_csv('out_txt/Closure_L5_QCD.csv').set_index('etaBins')\n",
    "closure_corr = df_csv.to_numpy().transpose()\n",
    "closure_corr = np.pad(closure_corr,1,constant_values=1)"
   ]
  },
  {
   "cell_type": "code",
   "execution_count": 35,
   "metadata": {},
   "outputs": [],
   "source": [
    "ab = np.array([[1,2,3,4,5,10,1], [2,3,2,3,2,3,5]]).transpose()"
   ]
  },
  {
   "cell_type": "code",
   "execution_count": 36,
   "metadata": {},
   "outputs": [
    {
     "data": {
      "text/plain": [
       "array([1.        , 1.        , 1.        , 1.        , 1.        ,\n",
       "       1.67401754, 1.        ])"
      ]
     },
     "execution_count": 36,
     "metadata": {},
     "output_type": "execute_result"
    }
   ],
   "source": [
    "closure_corr[[1,2,3,4,5,10,1], [2,3,2,3,2,3,5]]\n"
   ]
  },
  {
   "cell_type": "code",
   "execution_count": 37,
   "metadata": {},
   "outputs": [
    {
     "data": {
      "text/plain": [
       "[0, 1, 2, 3, 4]"
      ]
     },
     "execution_count": 37,
     "metadata": {},
     "output_type": "execute_result"
    }
   ],
   "source": [
    "[0,1,2,3,4,5][:-1]"
   ]
  },
  {
   "cell_type": "code",
   "execution_count": 38,
   "metadata": {},
   "outputs": [
    {
     "data": {
      "text/plain": [
       "array([0. , 1.3, 2.5, 3. , 5. ])"
      ]
     },
     "execution_count": 38,
     "metadata": {},
     "output_type": "execute_result"
    }
   ],
   "source": [
    "etabins_mod"
   ]
  },
  {
   "cell_type": "code",
   "execution_count": 39,
   "metadata": {},
   "outputs": [],
   "source": [
    "def plot_corrections(mean, samp, meanvar):\n",
    "    ### To ignore the points with 0 on y axis when setting the y axis limits\n",
    "    mean_p = mean.copy()\n",
    "    mean_p[mean_p==0] = np.nan\n",
    "\n",
    "    # h = np.max(histo.values()[('QCD',)])\n",
    "    fig, ax = plt.subplots()\n",
    "    start = 17\n",
    "    \n",
    "#     etabins_mod = np.flip(etabins[(len(etabins)-1)//2:])\n",
    "    \n",
    "#     k1 = np.where(etabins<=-1.3)[0][-1]\n",
    "    k2 = np.where(etabins_mod<=0)[0][-1]\n",
    "#     k3 = np.where(etabins<=-2.5)[0][-1]\n",
    "    k4 = np.where(etabins_mod<=1.3)[0][-1]\n",
    "#     k5 = np.where(etabins<=-3)[0][-1]\n",
    "    k6 = np.where(etabins_mod<=2.5)[0][-1]\n",
    "#     k7 = np.where(etabins<=-5)[0][-1]\n",
    "    k8 = np.where(etabins_mod<=3.0)[0][-1]\n",
    "#     print(\"mean_p = \", mean_p[start:,k2])\n",
    "#     print(\"mean_p = \", mean[start:,k2])\n",
    "\n",
    "#     print(\"Shapes = \", ptbins.shape, mean_p.shape, meanvar.shape  )\n",
    "    \n",
    "    # ax.plot(ptbins[start:],mean_p[start:,k0], 'o', label=f'${etabins[k0]}<\\eta<{etabins[k0+1]}$')\n",
    "#     plt.errorbar(ptbins[start:],mean_p[start:,k1], yerr=np.sqrt(meanvar[start:,k1]), marker='o',\n",
    "#                  linestyle=\"none\", label=f'${etabins[k1]}<\\eta<{etabins[k1+1]}$')\n",
    "    plt.errorbar(ptbins[start:-1],mean_p[start:,k2], yerr=np.sqrt(meanvar[start:,k2]), marker='o',\n",
    "                 linestyle=\"none\", label=f'${etabins_mod[k2]}<\\eta<{etabins_mod[k2+1]}$')\n",
    "#     plt.errorbar(ptbins[start:],mean_p[start:,k3], yerr=np.sqrt(meanvar[start:,k3]), marker='o',\n",
    "#                  linestyle=\"none\", label=f'${etabins[k3]}<\\eta<{etabins[k3+1]}$')\n",
    "    plt.errorbar(ptbins[start:-1],mean_p[start:,k4], yerr=np.sqrt(meanvar[start:,k4]), marker='o',\n",
    "             linestyle=\"none\", label=f'${etabins_mod[k4]}<\\eta<{etabins_mod[k4+1]}$')\n",
    "#     plt.errorbar(ptbins[start:],mean_p[start:,k5], yerr=np.sqrt(meanvar[start:,k5]), marker='o',\n",
    "#                  linestyle=\"none\", label=f'${etabins[k5]}<\\eta<{etabins[k5+1]}$')\n",
    "    plt.errorbar(ptbins[start:-1],mean_p[start:,k6], yerr=np.sqrt(meanvar[start:,k6]), marker='o',\n",
    "             linestyle=\"none\", label=f'${etabins_mod[k6]}<\\eta<{etabins_mod[k6+1]}$')\n",
    "#     plt.errorbar(ptbins[start:],mean_p[start:,k7], yerr=np.sqrt(meanvar[start:,k7]), marker='o',\n",
    "#              linestyle=\"none\", label=f'${etabins[k7]}<\\eta<{etabins[k7+1]}$')\n",
    "    plt.errorbar(ptbins[start:-1],mean_p[start:,k8], yerr=np.sqrt(meanvar[start:,k8]), marker='o',\n",
    "             linestyle=\"none\", label=f'${etabins_mod[k8]}<\\eta<{etabins_mod[k8+1]}$')\n",
    "# ax.plot(ptbins[start:],mean_p[start:,k2], 'o', label=f'${etabins[k2]}<\\eta<{etabins[k2+1]}$')\n",
    "    # ax.plot(ptbins[start:],mean_p[start:,k3], 'o', label=f'${etabins[k3]}<\\eta<{etabins[k3+1]}$')\n",
    "\n",
    "    ### Calculate resonable limits excluding the few points with insane errors\n",
    "    yerr_norm = np.concatenate([np.sqrt(meanvar[start:,[k2, k4, k6, k8]]) ])\n",
    "    y_norm = np.concatenate([mean_p[start:,[k2, k4, k6, k8]]])\n",
    "#     print(\"ynorm = \", y_norm)\n",
    "#     print(\"yerr = \", yerr_norm)\n",
    "    norm_pos = (yerr_norm<0.02) &  (yerr_norm != np.inf) & (y_norm>-0.1)\n",
    "#     print(\"(yerr_norm+y_norm)[norm_pos]) = \", (yerr_norm+y_norm)[norm_pos])\n",
    "    ax.set_ylim(np.min((y_norm-yerr_norm)[norm_pos]) ,np.max((yerr_norm+y_norm)[norm_pos]))\n",
    "    ax.set_ylim(0.988 , 1.011)\n",
    "    \n",
    "    ax.set_xlabel(r'$p_T$ (GeV)');\n",
    "    ax.set_ylabel(r'mean response');\n",
    "    ax.set_xscale('log')\n",
    "    # ax.set_ylim([0.8,1.1])\n",
    "    ax.legend()\n",
    "    if test_run:\n",
    "        plt.savefig('fig//corr_vs_pt'+samp+tag_full+'_test.pdf');\n",
    "        plt.savefig('fig/corr_vs_pt'+samp+tag_full+'_test.png');\n",
    "    else:\n",
    "        plt.savefig('fig/corr_vs_pt'+samp+tag_full+'.pdf');\n",
    "        plt.savefig('fig/corr_vs_pt'+samp+tag_full+'.png');\n",
    "\n",
    "    plt.show();\n",
    "    \n",
    "# plotCorrections()"
   ]
  },
  {
   "cell_type": "code",
   "execution_count": 40,
   "metadata": {},
   "outputs": [],
   "source": [
    "def save_data(data, name, samp):\n",
    "    # data = {str(ptBin):mean[i] for i, ptBin in enumerate(output['jetpt'].axis('pt')[1:-1])}\n",
    "    data_dict = {str(ptBin):data[i] for i, ptBin in enumerate(ptbins[:-1])}\n",
    "\n",
    "    # data['etaBins'] = [str(etaBin) for etaBin in output['jeteta'].axis('jeteta')[1:-1]]\n",
    "    data_dict['etaBins'] = np.array([str(etaBin) for etaBin in etabins_mod[:-1]])\n",
    "\n",
    "    df = pd.DataFrame(data=data_dict)\n",
    "    df = df.set_index('etaBins')\n",
    "    if not test_run:\n",
    "        df.to_csv('out_txt/EtaBinsvsPtBins'+name+samp+tag_full+'.csv')\n",
    "    else:\n",
    "        df.to_csv('out_txt/EtaBinsvsPtBins'+name+tag+'_test.csv')\n",
    "#     return df"
   ]
  },
  {
   "cell_type": "code",
   "execution_count": 46,
   "metadata": {},
   "outputs": [],
   "source": [
    "def read_data(name, samp):\n",
    "    if not test_run:\n",
    "        df_csv = pd.read_csv('out_txt/EtaBinsvsPtBins'+name+samp+tag_full+'.csv').set_index('etaBins')\n",
    "#         df.to_csv('out_txt/EtaBinsvsPtBins'+name+samp+tag_full+'.csv')\n",
    "    else: #before_closure/\n",
    "        df_csv = pd.read_csv('before_closure/out_txt/EtaBinsvsPtBins'+name+tag+'_test.csv').set_index('etaBins')\n",
    "#         df.to_csv('out_txt/EtaBinsvsPtBins'+name+tag+'_test.csv')\n",
    "    \n",
    "#     df_csv = pd.read_csv('out_txt/EtaBinsvsPtBinsMean_L5.csv').set_index('etaBins')\n",
    "    data = df_csv.to_numpy().transpose()\n",
    "    return data"
   ]
  },
  {
   "cell_type": "code",
   "execution_count": null,
   "metadata": {},
   "outputs": [],
   "source": []
  },
  {
   "cell_type": "markdown",
   "metadata": {},
   "source": [
    "### Run fitting for each sample"
   ]
  },
  {
   "cell_type": "code",
   "execution_count": 48,
   "metadata": {
    "scrolled": true
   },
   "outputs": [
    {
     "name": "stdout",
     "output_type": "stream",
     "text": [
      "-------------------------\n",
      "-------------------------\n",
      "Fitting subsample:  \n"
     ]
    },
    {
     "data": {
      "image/png": "[encoded data removed]",
      "text/plain": [
       "<Figure size 432x288 with 1 Axes>"
      ]
     },
     "metadata": {
      "needs_background": "light"
     },
     "output_type": "display_data"
    }
   ],
   "source": [
    "# load_fit_res=True\n",
    "# subsamples = ['', '_b', '_c', '_l', '_g']\n",
    "subsamples = ['']\n",
    "for samp in subsamples:\n",
    "    print('-'*25)\n",
    "    print('-'*25)\n",
    "    print('Fitting subsample: ', samp)\n",
    "    if load_fit_res:\n",
    "        mean = read_data(\"Mean\", samp)\n",
    "        meanvar = read_data(\"MeanVar\", samp)\n",
    "#         width = read_data(\"Width\")\n",
    "#         median = read_data(median, \"Median\")\n",
    "    else:\n",
    "        mean, width, median, chi2s, meanvar = fit_responses(output, samp)\n",
    "        for data, name in zip([mean, width, median, meanvar],[\"Mean\", \"Width\", \"Median\", \"MeanVar\"]):\n",
    "            save_data(data, name, samp)\n",
    "            \n",
    "    plot_corrections(mean, samp, meanvar)"
   ]
  },
  {
   "cell_type": "code",
   "execution_count": null,
   "metadata": {},
   "outputs": [],
   "source": [
    "### To scale the histograms to the closure\n",
    "# scalings = pd.read_csv('out_txt/EtaBinsvsPtBinsMean_L5_scale.csv').set_index('etaBins')"
   ]
  },
  {
   "cell_type": "code",
   "execution_count": 199,
   "metadata": {
    "scrolled": true
   },
   "outputs": [],
   "source": [
    "# import warnings\n",
    "# warnings.filterwarnings('ignore') ### To suppress warnings with bad \n",
    "\n",
    "# N_converge = 0\n",
    "# N_not_converge = 0\n",
    "# chi2s = np.zeros((jetpt_length, jeteta_length))\n",
    "# plot_pt_edges = output['ptresponse'+samp].axis('ptresponse').edges()[0:42]\n",
    "# hist_pt_edges = plot_pt_edges[1:-1]\n",
    "# plot_response_axis = hist.Bin(\"jeteta\", r\"Jet $\\eta$\", hist_pt_edges)\n",
    "\n",
    "# xvals = output['ptresponse'+samp].axis('ptresponse').centers()[1:] #[1:] to exclude the second peak for low pt\n",
    "# # xvals = xvals[1:]\n",
    "# f_xvals = np.linspace(0,5,5001)\n",
    "\n",
    "# FitFigDir = 'fig/response_pt_eta'+samp+tag_full\n",
    "# print(\"Images will be saved under \", FitFigDir)\n",
    "# if not os.path.exists(FitFigDir):\n",
    "#     os.mkdir(FitFigDir)\n",
    "\n",
    "\n",
    "\n",
    "# for i in range(len(ptbins)-1):\n",
    "        \n",
    "#     ptBin = hist.Interval(ptbins[i], ptbins[i+1])\n",
    "#     print('-'*25)\n",
    "#     print('pt bin '+str(ptBin))\n",
    "#     print('-'*25)\n",
    "    \n",
    "#     if not 'inf' in str(ptBin):\n",
    "#         pt_string = '_pT'+str(int(ptBin.lo))+'to'+str(int(ptBin.hi))\n",
    "#     else:\n",
    "#         pt_string = '_pT'+str(ptBin.lo) + 'to' + str(ptBin.hi)\n",
    "#         pt_string = pt_string.replace('.0','').replace('-infto','0to')\n",
    "    \n",
    "#     for k in range(len(etabins)-1):\n",
    "        \n",
    "#         etaBin = hist.Interval(etabins[k], etabins[k+1])\n",
    "#         eta_string = '_eta'+str(etaBin.lo)+'to'+str(etaBin.hi)\n",
    "#         eta_string = eta_string.replace('.','')\n",
    "   \n",
    "#         # The name integrate is a bit misleasding in this line. Is there another way to \"slice\" a histogram? //Andris\n",
    "#         histo = output['ptresponse'+samp].integrate('jeteta', etaBin).integrate('pt', ptBin) \n",
    "        \n",
    "#         histvals = np.repeat(histo.axis('ptresponse').centers(), np.array(histo.values()[('QCD',)],dtype='int'))\n",
    "\n",
    "#         yvals = histo.values()[('QCD',)][1:]\n",
    "# #         yvals = yvals\n",
    "# #         scal = scalings.loc[etaBin.lo,str(ptBin.lo)]\n",
    "# #         xvals2 = xvals-(scal-1)\n",
    "        \n",
    "#         print(\"etaBin = \", etaBin ,\", ptBin = \", ptBin )\n",
    "        \n",
    "#         try:\n",
    "#             p, arr = curve_fit(gauss, xvals, yvals, p0=[10,1,1])\n",
    "#             N_converge += 1\n",
    "            \n",
    "            \n",
    "#                         ### Second Gaussian\n",
    "#             xfit_l = np.where(xvals>=p[1]-np.abs(p[2])*1.5)[0][0]\n",
    "#             xfit_h = np.where(xvals>=p[1]+np.abs(p[2])*1.5)[0][0]\n",
    "#             xvals2 = xvals[xfit_l: xfit_h]\n",
    "#             yvals2 = yvals[xfit_l: xfit_h]\n",
    "#             p2, arr = curve_fit(gauss, xvals2, yvals2, p0=p)\n",
    "            \n",
    "#             ygaus = gauss(xvals, *p2)\n",
    "#             chi2 = sum((yvals-ygaus)**2/(yvals+1E-9))\n",
    "#             Ndof = len(xvals)-3\n",
    "#             if chi2<50000:\n",
    "#                 pass\n",
    "#                 print(\"Fit converged, p = \", p2, \", chi2 = \", chi2 )\n",
    "#             else:\n",
    "#                 print(\"Fit failed because of high chi2, p = \", p2, \", chi2 = \", chi2 )\n",
    "\n",
    "#         except:\n",
    "# #             print(\"Fit failed because of non-convergance, p = \", p)\n",
    "#             N_not_converge += 1\n",
    "#             continue\n",
    "        \n",
    "        \n",
    "#         fgaus = gauss(f_xvals, *p)\n",
    "#         fgaus2 = gauss(f_xvals, *p2)\n",
    "        \n",
    "#         median[i,k] = np.median(histvals)\n",
    "#         mean[i,k] = p[1] # - (scal-1)\n",
    "#         width[i,k] = p[2]\n",
    "#         chi2s[i,k] = chi2\n",
    "#         idx.append(i)\n",
    "        \n",
    "#         N = histo.integrate('ptresponse').values()[('QCD',)]\n",
    "#         histo = histo.rebin('ptresponse', plot_response_axis)\n",
    "\n",
    "#         if not test_run:\n",
    "#             h = np.max(histo.values()[('QCD',)]);\n",
    "#             h = h if h!=0 else 0.05\n",
    "#             fig, ax2 = plt.subplots();\n",
    "#             hist.plot1d(histo, ax=ax2, overlay='dataset', overflow='all',\n",
    "#                         fill_opts={'alpha': .5, 'edgecolor': (0,0,0,0.3), 'linewidth': 1.4})\n",
    "#             ax2.plot(f_xvals, fgaus, label='Gaus',linewidth=1.8)\n",
    "#             ax2.plot(f_xvals, fgaus2, label='Gaus, 2nd fit',linewidth=1.8)\n",
    "#             ax2.set_xlabel(\"JER ($E_{RECO}/E_{GEN}$)\")\n",
    "#             ax2.set_xlim(plot_pt_edges[[0,-1]])\n",
    "#             plt.text(1.4,0.75*h,'Mean {0:0.2f}'.format(p[1]))\n",
    "#             plt.text(1.4,0.68*h,'Median {0:0.2f}'.format(np.median(histvals)))\n",
    "#             plt.text(1.4,0.61*h,'Width {0:0.2f}'.format(p[2]))\n",
    "#             plt.text(1.3,0.53*h,'$\\chi^2/ndof$ {0:0.1f}/{0:0.1f}'.format(chi2, Ndof))\n",
    "#             plt.text(1.3,0.46*h,'N data = {0:0.0f}'.format(N))\n",
    "#             ax2.legend(ncol=2);\n",
    "            \n",
    "# #             hist.plot1d(histo, ax=ax2, overlay='dataset');\n",
    "# #             ax2.plot(f_xvals, fgaus, label='Gaus');\n",
    "# #             plt.text(3.8,0.75*h,'Mean {0:0.2f}'.format(p[1]));\n",
    "# #             plt.text(3.8,0.68*h,'Median {0:0.2f}'.format(np.median(histvals)));\n",
    "# #             plt.text(3.8,0.61*h,'Width {0:0.2f}'.format(p[2]));\n",
    "# #             ax2.legend();\n",
    "\n",
    "#             # plt.show();\n",
    "#             plt.savefig(FitFigDir+'/ptResponse'+pt_string+eta_string+'.png');\n",
    "#             plt.savefig(FitFigDir+'/ptResponse'+pt_string+eta_string+'.pdf');\n",
    "#             plt.close();                \n",
    "        \n",
    "# warnings.filterwarnings('default')\n",
    "# print(\"N converge = \", N_converge, \"N_not_converge = \", N_not_converge );    "
   ]
  },
  {
   "cell_type": "markdown",
   "metadata": {},
   "source": [
    "### Playground with fitting and plotting"
   ]
  },
  {
   "cell_type": "code",
   "execution_count": 95,
   "metadata": {},
   "outputs": [],
   "source": [
    "# scalings.to_numpy()[0,2]"
   ]
  },
  {
   "cell_type": "code",
   "execution_count": 96,
   "metadata": {},
   "outputs": [],
   "source": [
    "# mean[2,0]"
   ]
  },
  {
   "cell_type": "code",
   "execution_count": null,
   "metadata": {},
   "outputs": [],
   "source": []
  },
  {
   "cell_type": "code",
   "execution_count": 269,
   "metadata": {},
   "outputs": [
    {
     "data": {
      "image/png": "[encoded data removed]",
      "text/plain": [
       "<Figure size 420x280 with 1 Axes>"
      ]
     },
     "metadata": {},
     "output_type": "display_data"
    }
   ],
   "source": [
    "\n",
    "### To ignore the points with 0 on y axis when setting the y axis limits\n",
    "mean_p = mean.copy()\n",
    "mean_p[mean_p==0] = np.nan\n",
    "\n",
    "# h = np.max(histo.values()[('QCD',)])\n",
    "fig, ax = plt.subplots()\n",
    "start = 17\n",
    "k0 = np.where(etabins<=-5)[0][-1]\n",
    "k4 = np.where(etabins<=-3)[0][-1]\n",
    "k1 = np.where(etabins<=-2.5)[0][-1]\n",
    "k5 = np.where(etabins<=-1.3)[0][-1]\n",
    "k2 = np.where(etabins<=0)[0][-1]\n",
    "k3 = np.where(etabins<=1.3)[0][-1]\n",
    "\n",
    "\n",
    "# ax.plot(ptbins[start:],mean_p[start:,k0], 'o', label=f'${etabins[k0]}<\\eta<{etabins[k0+1]}$')\n",
    "# ax.plot(ptbins[start:],mean_p[start:,k4], 'o', label=f'${etabins[k4]}<\\eta<{etabins[k4+1]}$')\n",
    "# ax.plot(ptbins[start:],mean_p[start:,k1], 'o', label=f'${etabins[k1]}<\\eta<{etabins[k1+1]}$')\n",
    "plt.errorbar(ptbins[start:],mean_p[start:,k5], yerr=np.sqrt(meanvar[start:,k5]), marker='o',\n",
    "             linestyle=\"none\", label=f'${etabins[k5]}<\\eta<{etabins[k5+1]}$')\n",
    "plt.errorbar(ptbins[start:]+0.4,mean_p[start:,k2], yerr=np.sqrt(meanvar[start:,k2]), marker='o',\n",
    "             linestyle=\"none\", label=f'${etabins[k2]}<\\eta<{etabins[k2+1]}$')\n",
    "\n",
    "plt.errorbar(ptbins[start:],mean_p[start:,k1], yerr=np.sqrt(meanvar[start:,k1]), marker='o',\n",
    "             linestyle=\"none\", label=f'${etabins[k1]}<\\eta<{etabins[k1+1]}$')\n",
    "plt.errorbar(ptbins[start:]+0.4,mean_p[start:,k3], yerr=np.sqrt(meanvar[start:,k3]), marker='o',\n",
    "             linestyle=\"none\", label=f'${etabins[k3]}<\\eta<{etabins[k3+1]}$')\n",
    "# plt.errorbar(ptbins[start:],mean_p[start:,k3], yerr=np.sqrt(meanvar[start:,k3]), marker='o',\n",
    "#              linestyle=\"none\", label=f'${etabins[k3]}<\\eta<{etabins[k3+1]}$')\n",
    "# ax.plot(ptbins[start:],mean_p[start:,k5], 'o', label=f'${etabins[k5]}<\\eta<{etabins[k5+1]}$')\n",
    "\n",
    "# ax.plot(ptbins[start:],mean_p[start:,k2], 'o', label=f'${etabins[k2]}<\\eta<{etabins[k2+1]}$')\n",
    "# ax.plot(ptbins[start:],mean_p[start:,k3], 'o', label=f'${etabins[k3]}<\\eta<{etabins[k3+1]}$')\n",
    "\n",
    "ax.set_xlabel(r'$p_T$ (GeV)');\n",
    "ax.set_ylabel(r'mean response');\n",
    "ax.set_xscale('log')\n",
    "# ax.set_ylim([0.8,1.1])\n",
    "ax.legend(loc='lower right')\n",
    "# if test_run:\n",
    "#     plt.savefig('fig/corr_vs_pt'+samp+tag_full+'_test.pdf');\n",
    "# else:\n",
    "#     plt.savefig('fig/corr_vs_pt'+samp+tag_full+'.pdf');\n",
    "\n",
    "plt.show();"
   ]
  },
  {
   "cell_type": "markdown",
   "metadata": {},
   "source": [
    "### Fit a specific $\\eta$ $p_T$ bin"
   ]
  },
  {
   "cell_type": "code",
   "execution_count": 317,
   "metadata": {},
   "outputs": [
    {
     "name": "stdout",
     "output_type": "stream",
     "text": [
      "Images will be saved under  fig/response_pt_eta_L5_QCD\n"
     ]
    }
   ],
   "source": [
    "\n",
    "mean = np.zeros((jetpt_length, jeteta_length))\n",
    "median = np.zeros((jetpt_length, jeteta_length))\n",
    "width = np.zeros((jetpt_length, jeteta_length))\n",
    "chi2s = np.zeros((jetpt_length, jeteta_length))\n",
    "meanvar = np.zeros((jetpt_length, jeteta_length))\n",
    "#     idx = []\n",
    "\n",
    "N_converge = 0\n",
    "N_not_converge = 0\n",
    "\n",
    "FitFigDir = 'fig/response_pt_eta'+samp+tag_full\n",
    "print(\"Images will be saved under \", FitFigDir)\n",
    "if not os.path.exists(FitFigDir):\n",
    "    os.mkdir(FitFigDir)\n",
    "plot_pt_edges = output['ptresponse'+samp].axis('ptresponse').edges()[0:42] ##Put plotting limits to the histogram\n",
    "hist_pt_edges = plot_pt_edges[1:-1]   #for plotting. To explude overflow from the plot\n",
    "plot_response_axis = hist.Bin(\"jeteta\", r\"Jet $\\eta$\", hist_pt_edges)\n",
    "\n",
    "xvals = output['ptresponse'+samp].axis('ptresponse').centers()[1:] #[1:] to exclude the second peak for low pt\n",
    "f_xvals = np.linspace(0,5,5001)"
   ]
  },
  {
   "cell_type": "code",
   "execution_count": 391,
   "metadata": {},
   "outputs": [
    {
     "data": {
      "text/plain": [
       "array([1.0e+00, 2.0e+00, 3.0e+00, 4.0e+00, 5.0e+00, 6.0e+00, 7.0e+00,\n",
       "       8.0e+00, 9.0e+00, 1.0e+01, 1.1e+01, 1.2e+01, 1.3e+01, 1.4e+01,\n",
       "       1.5e+01, 1.7e+01, 2.0e+01, 2.3e+01, 2.7e+01, 3.0e+01, 3.5e+01,\n",
       "       4.0e+01, 4.5e+01, 5.7e+01, 7.2e+01, 9.0e+01, 1.2e+02, 1.5e+02,\n",
       "       2.0e+02, 3.0e+02, 4.0e+02, 5.5e+02, 7.5e+02, 1.0e+03, 1.5e+03,\n",
       "       2.0e+03, 2.5e+03, 3.0e+03, 3.5e+03, 4.0e+03, 4.5e+03, 5.0e+03,\n",
       "       1.0e+04])"
      ]
     },
     "execution_count": 391,
     "metadata": {},
     "output_type": "execute_result"
    }
   ],
   "source": [
    "ptbins"
   ]
  },
  {
   "cell_type": "code",
   "execution_count": 516,
   "metadata": {},
   "outputs": [
    {
     "name": "stdout",
     "output_type": "stream",
     "text": [
      "Fit failed because of high chi2, p =  [8.55247816 1.63012268 0.28794495] , chi2 =  24241679199.88787\n"
     ]
    },
    {
     "data": {
      "text/plain": [
       "array([0., 0., 0., 0., 0., 0., 0., 0., 0., 0., 0., 0., 0., 0., 0., 0., 0.,\n",
       "       0., 0., 0., 0., 0., 0., 0., 0., 1., 3., 8., 8., 6., 5., 3., 5., 6.,\n",
       "       3., 4., 3., 1., 4., 6., 1., 3., 2., 1., 0., 2., 0., 0., 0., 2., 0.,\n",
       "       0., 0., 1., 0., 0., 0., 1., 0., 0., 1., 0., 0., 0., 0., 0., 0., 0.,\n",
       "       0., 0., 0., 0., 0., 0., 0., 0., 0., 0., 0., 0., 0., 0., 0., 0., 0.,\n",
       "       0., 0., 0., 0., 0., 0., 0., 0., 0., 0., 0., 0., 0., 0.])"
      ]
     },
     "execution_count": 516,
     "metadata": {},
     "output_type": "execute_result"
    }
   ],
   "source": [
    "# histo = output['ptresponse'].integrate('jeteta', hist.Interval(-2.5, -1.3)).integrate('pt', hist.Interval(300, 350))\n",
    "histoMi = output['ptresponse_b'+samp].integrate('jeteta', hist.Interval(-3.0, -2.5)).integrate('pt', hist.Interval(11, 12))\n",
    "histoPl = output['ptresponse_b'+samp].integrate('jeteta', hist.Interval(2.5, 3.0)).integrate('pt', hist.Interval(11, 12))\n",
    "histo = (histoMi+histoPl)\n",
    "histvals = np.repeat(histo.axis('ptresponse').centers(), np.array(histo.values()[('QCD',)],dtype='int'))\n",
    "yvals = histo.values()[('QCD',)][1:]  #[1:] to exclude the second peak for low pt\n",
    "\n",
    "p, arr = curve_fit(gauss, xvals, yvals, p0=[10,1,1])\n",
    "N_converge += 1\n",
    "\n",
    "            ### Second Gaussian\n",
    "xfit_l = np.where(xvals>=p[1]-np.abs(p[2])*1.5)[0][0]-1\n",
    "xfit_h = np.where(xvals>=p[1]+np.abs(p[2])*1.5)[0][0]\n",
    "if len(range(xfit_l,xfit_h))<5: #if there are only 3pnts, the uncertainty is infty\n",
    "#     print(len(range(xfit_l,xfit_h)))\n",
    "    xfit_l = xfit_l-1\n",
    "    xfit_h = xfit_h+1\n",
    "    if len(range(xfit_l,xfit_h))<5:\n",
    "#         print(len(range(xfit_l,xfit_h)))\n",
    "        xfit_l = xfit_l-1\n",
    "        xfit_h = xfit_h+1\n",
    "xvals2 = xvals[xfit_l: xfit_h]\n",
    "yvals2 = yvals[xfit_l: xfit_h]\n",
    "# p2, arr = curve_fit(gauss, xvals2, yvals2, p0=p)\n",
    "\n",
    "ygaus = gauss(xvals, *p2)\n",
    "chi2 = sum((yvals-ygaus)**2/(yvals+1E-9))\n",
    "Ndof = len(xvals2)-3\n",
    "if chi2<50000:\n",
    "    pass\n",
    "    print(\"Fit converged, p = \", p2, \", chi2 = \", chi2 )\n",
    "else:\n",
    "    print(\"Fit failed because of high chi2, p = \", p2, \", chi2 = \", chi2 )\n",
    "#             print(\"Fit failed because of non-convergance, p = \", p)\n",
    "\n",
    "\n",
    "fgaus = gauss(f_xvals, *p)\n",
    "fgaus2 = gauss(f_xvals, *p2)\n",
    "\n",
    "histo.values()[('QCD',)][:-1]\n",
    "N = histo.integrate('ptresponse').values()[('QCD',)]\n",
    "histo = histo.rebin('ptresponse', plot_response_axis)\n"
   ]
  },
  {
   "cell_type": "code",
   "execution_count": 521,
   "metadata": {},
   "outputs": [
    {
     "name": "stderr",
     "output_type": "stream",
     "text": [
      "<>:12: DeprecationWarning: invalid escape sequence \\p\n",
      "<>:13: DeprecationWarning: invalid escape sequence \\p\n",
      "<>:15: DeprecationWarning: invalid escape sequence \\c\n",
      "<>:12: DeprecationWarning: invalid escape sequence \\p\n",
      "<>:13: DeprecationWarning: invalid escape sequence \\p\n",
      "<>:15: DeprecationWarning: invalid escape sequence \\c\n",
      "/tmp/anpotreb/ipykernel_22787/1377357775.py:12: DeprecationWarning: invalid escape sequence \\p\n",
      "  plt.text(0.03,0.95*h,'Mean {0:0.3f}$\\pm${1:0.3f}'.format(p2[1],np.sqrt(arr[1,1])))\n",
      "/tmp/anpotreb/ipykernel_22787/1377357775.py:13: DeprecationWarning: invalid escape sequence \\p\n",
      "  plt.text(0.03,0.88*h,'Width {0:0.3f}$\\pm${1:0.3f}'.format(p2[2],np.sqrt(arr[2,2])))\n",
      "/tmp/anpotreb/ipykernel_22787/1377357775.py:15: DeprecationWarning: invalid escape sequence \\c\n",
      "  plt.text(0.03,0.73*h,'$\\chi^2/ndof$ {0:0.2g}/{1:0.0f}'.format(chi2, Ndof))\n"
     ]
    },
    {
     "data": {
      "image/png": "[encoded data removed]",
      "text/plain": [
       "<Figure size 420x280 with 1 Axes>"
      ]
     },
     "metadata": {},
     "output_type": "display_data"
    }
   ],
   "source": [
    "\n",
    "\n",
    "# h = np.max(histo.values()[('QCD',)][:-1]);\n",
    "# h = h if h!=0 else 0.05\n",
    "fig, ax2 = plt.subplots();\n",
    "hist.plot1d(histo, ax=ax2, overlay='dataset', overflow='all',\n",
    "            fill_opts={'alpha': .5, 'edgecolor': (0,0,0,0.3), 'linewidth': 1.4})\n",
    "ax2.plot(f_xvals, fgaus, label='Gaus',linewidth=1.8)\n",
    "ax2.plot(f_xvals, fgaus2, label='Gaus',linewidth=1.8)\n",
    "ax2.set_xlabel(\"Response ($E_{RECO}/E_{GEN}$)\")\n",
    "ax2.set_xlim(plot_pt_edges[[0,-1]])\n",
    "h = ax2.get_ylim()[1]/1.05\n",
    "# ax2.set_ylim(0,h)\n",
    "plt.text(0.03,0.95*h,'Mean {0:0.3f}$\\pm${1:0.3f}'.format(p2[1],np.sqrt(arr[1,1])))\n",
    "plt.text(0.03,0.88*h,'Width {0:0.3f}$\\pm${1:0.3f}'.format(p2[2],np.sqrt(arr[2,2])))\n",
    "plt.text(0.03,0.81*h,'Median {0:0.3f}'.format(np.median(histvals)))\n",
    "plt.text(0.03,0.73*h,'$\\chi^2/ndof$ {0:0.2g}/{1:0.0f}'.format(chi2, Ndof))\n",
    "plt.text(0.03,0.66*h,'N data = {0:0.3g}'.format(N))\n",
    "ax2.legend();\n"
   ]
  },
  {
   "cell_type": "code",
   "execution_count": 522,
   "metadata": {},
   "outputs": [
    {
     "data": {
      "text/plain": [
       "array([1.175, 1.225, 1.275, 1.325, 1.375, 1.425, 1.475, 1.525, 1.575,\n",
       "       1.625, 1.675, 1.725, 1.775, 1.825, 1.875, 1.925, 1.975, 2.025])"
      ]
     },
     "execution_count": 522,
     "metadata": {},
     "output_type": "execute_result"
    }
   ],
   "source": [
    "xvals2"
   ]
  },
  {
   "cell_type": "code",
   "execution_count": 389,
   "metadata": {},
   "outputs": [
    {
     "name": "stderr",
     "output_type": "stream",
     "text": [
      "<>:13: DeprecationWarning: invalid escape sequence \\p\n",
      "<>:14: DeprecationWarning: invalid escape sequence \\p\n",
      "<>:16: DeprecationWarning: invalid escape sequence \\c\n",
      "<>:13: DeprecationWarning: invalid escape sequence \\p\n",
      "<>:14: DeprecationWarning: invalid escape sequence \\p\n",
      "<>:16: DeprecationWarning: invalid escape sequence \\c\n",
      "/tmp/anpotreb/ipykernel_22787/3758398721.py:13: DeprecationWarning: invalid escape sequence \\p\n",
      "  plt.text(0.03,0.95*h,'Mean {0:0.3f}$\\pm${1:0.3f}'.format(p2[1],np.sqrt(arr[1,1])))\n",
      "/tmp/anpotreb/ipykernel_22787/3758398721.py:14: DeprecationWarning: invalid escape sequence \\p\n",
      "  plt.text(0.03,0.88*h,'Width {0:0.3f}$\\pm${1:0.3f}'.format(p2[2],np.sqrt(arr[2,2])))\n",
      "/tmp/anpotreb/ipykernel_22787/3758398721.py:16: DeprecationWarning: invalid escape sequence \\c\n",
      "  plt.text(0.03,0.73*h,'$\\chi^2/ndof$ {0:0.2g}/{1:0.0f}'.format(chi2, Ndof))\n"
     ]
    },
    {
     "data": {
      "image/png": "[encoded data removed]",
      "text/plain": [
       "<Figure size 420x280 with 1 Axes>"
      ]
     },
     "metadata": {},
     "output_type": "display_data"
    }
   ],
   "source": [
    "# N = histo.integrate('ptresponse').values()[('QCD',)]\n",
    "# histo = histo.rebin('ptresponse', plot_response_axis)\n",
    "\n",
    "h = np.max(yvals[:-1]);\n",
    "h = h if h!=0 else 0.05\n",
    "fig, ax2 = plt.subplots();\n",
    "hist.plot1d(histo, ax=ax2, overlay='dataset', overflow='all',\n",
    "            fill_opts={'alpha': .5, 'edgecolor': (0,0,0,0.3), 'linewidth': 1.4})\n",
    "ax2.plot(f_xvals, fgaus, label='Gaus',linewidth=1.8)\n",
    "ax2.plot(f_xvals, fgaus2, label='Gaus',linewidth=1.8)\n",
    "ax2.set_xlabel(\"Response ($E_{RECO}/E_{GEN}$)\")\n",
    "ax2.set_xlim(plot_pt_edges[[0,-1]])\n",
    "plt.text(0.03,0.95*h,'Mean {0:0.3f}$\\pm${1:0.3f}'.format(p2[1],np.sqrt(arr[1,1])))\n",
    "plt.text(0.03,0.88*h,'Width {0:0.3f}$\\pm${1:0.3f}'.format(p2[2],np.sqrt(arr[2,2])))\n",
    "plt.text(0.03,0.81*h,'Median {0:0.3f}'.format(np.median(histvals)))\n",
    "plt.text(0.03,0.73*h,'$\\chi^2/ndof$ {0:0.2g}/{1:0.0f}'.format(chi2, Ndof))\n",
    "plt.text(0.03,0.66*h,'N data = {0:0.3g}'.format(N))\n",
    "ax2.legend();\n"
   ]
  },
  {
   "cell_type": "code",
   "execution_count": 390,
   "metadata": {
    "scrolled": false
   },
   "outputs": [
    {
     "name": "stderr",
     "output_type": "stream",
     "text": [
      "<>:10: DeprecationWarning: invalid escape sequence \\c\n",
      "<>:10: DeprecationWarning: invalid escape sequence \\c\n",
      "/tmp/anpotreb/ipykernel_22787/380541488.py:10: DeprecationWarning: invalid escape sequence \\c\n",
      "  plt.text(1.3,0.53*h,'$\\chi^2/ndof$ {0:0.1f}/97'.format(chi2))\n"
     ]
    },
    {
     "data": {
      "image/png": "[encoded data removed]",
      "text/plain": [
       "<Figure size 420x280 with 1 Axes>"
      ]
     },
     "metadata": {},
     "output_type": "display_data"
    }
   ],
   "source": [
    "all# %%capture\n",
    "fig, ax2 = plt.subplots()\n",
    "hist.plot1d(histo, ax=ax2, overlay='dataset', overflow='all',\n",
    "            fill_opts={'alpha': .5, 'edgecolor': (0,0,0,0.3), 'linewidth': 1.4})\n",
    "ax2.plot(f_xvals, fgaus, label='Gaus',linewidth=1.8)\n",
    "ax2.set_xlim(plot_pt_edges[[0,-1]])\n",
    "plt.text(1.4,0.75*h,'Mean {0:0.2f}'.format(p[1]))\n",
    "plt.text(1.4,0.68*h,'Median {0:0.2f}'.format(np.median(histvals)))\n",
    "plt.text(1.4,0.61*h,'Width {0:0.2f}'.format(p[2]))\n",
    "plt.text(1.3,0.53*h,'$\\chi^2/ndof$ {0:0.1f}/97'.format(chi2))\n",
    "plt.text(1.3,0.46*h,'N data = {0:0.0f}'.format(N))\n",
    "ax2.legend();\n",
    "\n",
    "plt.show();\n",
    "# plt.savefig('fig/ptResponse_test'+pt_string+eta_string+'.png');\n",
    "# plt.savefig('fig/ptResponse_test'+pt_string+eta_string+'.eps');\n",
    "# plt.savefig('fig/ptResponse_test'+pt_string+eta_string+'.pdf');\n",
    "plt.close();"
   ]
  },
  {
   "cell_type": "markdown",
   "metadata": {},
   "source": [
    "### Save fit data to csv's"
   ]
  },
  {
   "cell_type": "markdown",
   "metadata": {},
   "source": [
    "### Read csv\n",
    "\n",
    "\n",
    " \n",
    "\n",
    "format for example $ 20 \\text{ GeV} < p_T < 25 \\text{ GeV} $ and $ 3.5 < \\eta < 4.0 $\n",
    "\n",
    "\n",
    "```\n",
    "df = pd.read_csv('EtaBinsvsPtBinsMean.csv).set_index('etaBins')\n",
    "ptBin='[20, 25)'\n",
    "etaBin='[3.5, 4)'\n",
    "mean = df[ptBin][etaBin]\n",
    "```\n",
    "\n",
    "\n"
   ]
  },
  {
   "cell_type": "code",
   "execution_count": 270,
   "metadata": {},
   "outputs": [],
   "source": [
    "# df_csv = pd.read_csv('out_txt/EtaBinsvsPtBinsMean_L5.csv').set_index('etaBins')"
   ]
  },
  {
   "cell_type": "code",
   "execution_count": 39,
   "metadata": {},
   "outputs": [],
   "source": [
    "# with pd.option_context('display.max_rows', None, 'display.max_columns', None):  # more options can be specified also\n",
    "#     print(df_csv)"
   ]
  },
  {
   "cell_type": "code",
   "execution_count": null,
   "metadata": {},
   "outputs": [],
   "source": []
  },
  {
   "cell_type": "code",
   "execution_count": null,
   "metadata": {},
   "outputs": [],
   "source": []
  }
 ],
 "metadata": {
  "kernelspec": {
   "display_name": "Python 3 (ipykernel)",
   "language": "python",
   "name": "python3"
  },
  "language_info": {
   "codemirror_mode": {
    "name": "ipython",
    "version": 3
   },
   "file_extension": ".py",
   "mimetype": "text/x-python",
   "name": "python",
   "nbconvert_exporter": "python",
   "pygments_lexer": "ipython3",
   "version": "3.8.13"
  }
 },
 "nbformat": 4,
 "nbformat_minor": 4
}
