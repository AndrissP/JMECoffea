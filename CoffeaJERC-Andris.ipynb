{
 "cells": [
  {
   "cell_type": "code",
   "execution_count": 413,
   "metadata": {},
   "outputs": [
    {
     "name": "stdout",
     "output_type": "stream",
     "text": [
      "The autoreload extension is already loaded. To reload it, use:\n",
      "  %reload_ext autoreload\n"
     ]
    }
   ],
   "source": [
    " %load_ext autoreload\n",
    "# Set extension to reload modules every time before executing code\n",
    "%autoreload 2  #0 to turn of reloading"
   ]
  },
  {
   "cell_type": "code",
   "execution_count": 414,
   "metadata": {},
   "outputs": [],
   "source": [
    "from IPython.core.interactiveshell import InteractiveShell\n",
    "InteractiveShell.ast_node_interactivity = \"all\""
   ]
  },
  {
   "cell_type": "code",
   "execution_count": 415,
   "metadata": {},
   "outputs": [],
   "source": [
    "import bokeh\n",
    "import time\n",
    "import copy\n",
    "import scipy.stats as ss\n",
    "from scipy.optimize import curve_fit\n",
    "from coffea import hist, processor, nanoevents, util\n",
    "from coffea.nanoevents.methods import candidate\n",
    "from coffea.nanoevents import NanoAODSchema, BaseSchema\n",
    "\n",
    "import awkward as ak\n",
    "import numpy as np\n",
    "import glob as glob\n",
    "import itertools\n",
    "import pandas as pd\n",
    "from numpy.random import RandomState\n",
    "\n",
    "from dask.distributed import Client\n",
    "import inspect\n",
    "import matplotlib.pyplot as plt\n",
    "\n",
    "from pltStyle import pltStyle\n",
    "import os\n",
    "# %matplotlib notebook \n",
    "# %matplotlib notebook "
   ]
  },
  {
   "cell_type": "markdown",
   "metadata": {},
   "source": [
    "### Import processor"
   ]
  },
  {
   "cell_type": "code",
   "execution_count": 416,
   "metadata": {},
   "outputs": [],
   "source": [
    "from CoffeaJERCProcessor_L5 import Processor"
   ]
  },
  {
   "cell_type": "markdown",
   "metadata": {},
   "source": [
    "Parameters of the run"
   ]
  },
  {
   "cell_type": "code",
   "execution_count": 417,
   "metadata": {},
   "outputs": [],
   "source": [
    "UsingDaskExecutor = True\n",
    "CoffeaCasaEnv     = False\n",
    "load_preexisting  = True    ### True if don't repeat the processing of files and use preexisting JER from output\n",
    "test_run          = False     ### True if run only on one file\n",
    "\n",
    "tag = '_L5'\n",
    "\n",
    "exec('from CoffeaJERCProcessor'+tag+' import Processor') \n",
    "\n",
    "add_tag = '_QCD' # '_testing_19UL18' # ''\n",
    "tag_full = tag+add_tag\n",
    "\n",
    "outname = 'out/CoffeaJERCOutputs'+tag_full+'.coffea'\n",
    "outname = outname+'_test' if test_run else outname"
   ]
  },
  {
   "cell_type": "code",
   "execution_count": 418,
   "metadata": {},
   "outputs": [
    {
     "name": "stderr",
     "output_type": "stream",
     "text": [
      "/tmp/anpotreb/ipykernel_22787/3855411968.py:14: ResourceWarning: unclosed file <_io.TextIOWrapper name='fileNames_QCD20UL18.txt' mode='r' encoding='UTF-8'>\n",
      "  rootfiles = open(dataset).read().split()\n"
     ]
    }
   ],
   "source": [
    "## assume running on the LPC\n",
    "xrootdstr = 'root://cmsxrootd.fnal.gov/'\n",
    "# assume running on the lxplus\n",
    "# xrootdstr = 'root://cms-xrd-global.cern.ch//'\n",
    "\n",
    "# if running on coffea casa instead...\n",
    "if CoffeaCasaEnv:\n",
    "    xrootdstr = 'root://xcache/'\n",
    "    \n",
    "dataset = 'fileNames_QCD20UL18.txt'\n",
    "# dataset = 'dataset.txt'\n",
    "\n",
    "\n",
    "rootfiles = open(dataset).read().split()\n",
    "\n",
    "fileslist = [xrootdstr + file for file in rootfiles]"
   ]
  },
  {
   "cell_type": "code",
   "execution_count": 419,
   "metadata": {},
   "outputs": [],
   "source": [
    "# to test on one file, uncomment the line below\n",
    "\n",
    "fileslist = fileslist\n",
    "if test_run:\n",
    "    fileslist = [fileslist[0]]\n",
    "    ### The smallest file in the RunIISummer20UL18NanoAODv9 dataset\n",
    "#     fileslist = ['root://cms-xrd-global.cern.ch//'+\n",
    "#                  '/store/mc/RunIISummer20UL18NanoAODv9/QCD_Pt-15to7000_TuneCP5_Flat2018_13TeV_pythia8/NANOAODSIM/20UL18JMENano_106X_upgrade2018_realistic_v16_L1v1-v1/30000/792B4CD3-A001-F94F-9AAB-D74D532DE610.root']\n",
    "# fileslist\n"
   ]
  },
  {
   "cell_type": "markdown",
   "metadata": {},
   "source": [
    "Test if certificate works opening the file"
   ]
  },
  {
   "cell_type": "code",
   "execution_count": 420,
   "metadata": {},
   "outputs": [
    {
     "name": "stdout",
     "output_type": "stream",
     "text": [
      "Found proxy at /afs/cern.ch/user/a/anpotreb/k5-ca-proxy.pem\n"
     ]
    }
   ],
   "source": [
    "import os\n",
    "### RUN THIS CELL ONLY IF YOU ARE USING SWAN \n",
    "\n",
    "##### REMEMBER TO MANUALLY COPY THE PROXY TO YOUR CERNBOX FOLDER AND TO MODIFY THE NEXT LINE\n",
    "os.environ['X509_USER_PROXY'] = '/afs/cern.ch/user/a/anpotreb/k5-ca-proxy.pem'\n",
    "if os.path.isfile(os.environ['X509_USER_PROXY']):\n",
    "    print(\"Found proxy at {}\".format(os.environ['X509_USER_PROXY']))\n",
    "else:\n",
    "    print(\"os.environ['X509_USER_PROXY'] \",os.environ['X509_USER_PROXY'])\n",
    "os.environ['X509_CERT_DIR'] = '/cvmfs/cms.cern.ch/grid/etc/grid-security/certificates'\n",
    "os.environ['X509_VOMS_DIR'] = '/cvmfs/cms.cern.ch/grid/etc/grid-security/vomsdir'"
   ]
  },
  {
   "cell_type": "code",
   "execution_count": 421,
   "metadata": {},
   "outputs": [],
   "source": [
    "import uproot"
   ]
  },
  {
   "cell_type": "code",
   "execution_count": 422,
   "metadata": {},
   "outputs": [
    {
     "data": {
      "text/plain": [
       "['tag;1',\n",
       " 'Events;1',\n",
       " 'LuminosityBlocks;1',\n",
       " 'Runs;1',\n",
       " 'MetaData;1',\n",
       " 'ParameterSets;1']"
      ]
     },
     "execution_count": 422,
     "metadata": {},
     "output_type": "execute_result"
    }
   ],
   "source": [
    "ff = uproot.open(fileslist[0])\n",
    "ff.keys()\n",
    "ff.close()"
   ]
  },
  {
   "cell_type": "markdown",
   "metadata": {},
   "source": [
    "### Test if certificate works (but this doesn't work on singularity :()"
   ]
  },
  {
   "cell_type": "code",
   "execution_count": 423,
   "metadata": {},
   "outputs": [],
   "source": [
    "# fileslist2 = ['root://cms-xrd-global.cern.ch//'+\n",
    "#                  '/store/mc/RunIISummer20UL18NanoAODv9/QCD_Pt-15to7000_TuneCP5_Flat2018_13TeV_pythia8/NANOAODSIM/20UL18JMENano_106X_upgrade2018_realistic_v16_L1v1-v1/30000/792B4CD3-A001-F94F-9AAB-D74D532DE610.root']\n"
   ]
  },
  {
   "cell_type": "code",
   "execution_count": 424,
   "metadata": {},
   "outputs": [],
   "source": [
    "# fileslist2"
   ]
  },
  {
   "cell_type": "code",
   "execution_count": 425,
   "metadata": {},
   "outputs": [],
   "source": [
    "# import awkward as ak\n",
    "# from coffea.nanoevents import NanoEventsFactory, NanoAODSchema\n",
    "# events = NanoEventsFactory.from_root(fileslist2[0], schemaclass=NanoAODSchema).events()\n",
    "\n",
    "# events\n",
    "# events.Generator.fields\n",
    "\n",
    "# events.GenJet\n",
    "# events.GenJet.fields\n",
    "# events.GenJet.partonFlavour\n",
    "# np.where((events.GenJet.hadronFlavour!=0).to_numpy)\n",
    "\n",
    "# a = np.array([1,0,2,3,0])\n",
    "# b = np.array([2,0,1,3,0])\n"
   ]
  },
  {
   "cell_type": "code",
   "execution_count": 426,
   "metadata": {},
   "outputs": [],
   "source": [
    "# events.GenJet.fields"
   ]
  },
  {
   "cell_type": "code",
   "execution_count": 427,
   "metadata": {},
   "outputs": [],
   "source": [
    "# arr = (events.GenJet.partonFlavour==5) | (events.GenJet.partonFlavour==-5)\n",
    "# arra = np.array(arr.tolist())"
   ]
  },
  {
   "cell_type": "code",
   "execution_count": 428,
   "metadata": {},
   "outputs": [],
   "source": [
    "# arra = np.array((events.GenJet.hadronFlavour!=0).tolist())"
   ]
  },
  {
   "cell_type": "code",
   "execution_count": 429,
   "metadata": {},
   "outputs": [],
   "source": [
    "# fin = []\n",
    "# for nn, li in enumerate(arra):\n",
    "#     bla = np.where(li)\n",
    "#     if len(bla[0])!=0:\n",
    "#         fin.append([nn,bla])"
   ]
  },
  {
   "cell_type": "code",
   "execution_count": 430,
   "metadata": {},
   "outputs": [],
   "source": [
    "# events.GenJet.hadronFlavour[18]"
   ]
  },
  {
   "cell_type": "code",
   "execution_count": 431,
   "metadata": {},
   "outputs": [],
   "source": [
    "# fin"
   ]
  },
  {
   "cell_type": "code",
   "execution_count": 432,
   "metadata": {},
   "outputs": [],
   "source": [
    "# len(arra)"
   ]
  },
  {
   "cell_type": "code",
   "execution_count": 433,
   "metadata": {},
   "outputs": [],
   "source": [
    "# import ROOT as R"
   ]
  },
  {
   "cell_type": "code",
   "execution_count": 434,
   "metadata": {},
   "outputs": [],
   "source": [
    "# R.TFile.Open(fileslist[0])"
   ]
  },
  {
   "cell_type": "markdown",
   "metadata": {},
   "source": [
    "# Dask Setup:\n",
    "---\n",
    "### For Coffea-Casa, the client must be specified according to the user that is logged into the Coffea-Casa Environment.\n",
    "#### 1.) go to the left of this coffea-casa session to the task bar and click the orange-red button; it will say \"Dask\" if you hover your cursor over it\n",
    "#### 2.) scroll down to the blue box where it shows the \"Scheduler Address\"\n",
    "#### 3.) write that full address into the dask Client function \n",
    "#### Example: `client = Client(\"tls://ac-2emalik-2ewilliams-40cern-2ech.dask.coffea.casa:8786\")`\n",
    "---\n",
    "### For CMSLPC, the client must be specified with the LPCCondorCluster\n",
    "#### 1.) follow installation instructions from https://github.com/CoffeaTeam/lpcjobqueue, if you have not already done so, to get a working singularity environment with access to lpcjobqueue and LPCCondorCluster class\n",
    "#### 2.) import LPCCondorCluster: `from lpcjobqueue import LPCCondorCluster`\n",
    "#### 3.) define the client\n",
    "#### Example: \n",
    "`cluster = LPCCondorCluster()`\n",
    "\n",
    "`client = Client(cluster)`\n"
   ]
  },
  {
   "cell_type": "code",
   "execution_count": 435,
   "metadata": {},
   "outputs": [],
   "source": [
    "# Dask set up for Coffea-Casa only\n",
    "if(UsingDaskExecutor and CoffeaCasaEnv):\n",
    "    client = Client(\"tls://ac-2emalik-2ewilliams-40cern-2ech.dask.coffea.casa:8786\")\n",
    "    client.upload_file('CoffeaJERCProcessor.py')"
   ]
  },
  {
   "cell_type": "code",
   "execution_count": 436,
   "metadata": {},
   "outputs": [
    {
     "name": "stderr",
     "output_type": "stream",
     "text": [
      "/opt/conda/lib/python3.8/site-packages/distributed/node.py:166: ResourceWarning: unclosed <socket.socket fd=238, family=AddressFamily.AF_INET, type=SocketKind.SOCK_STREAM, proto=6, laddr=('0.0.0.0', 0)>\n",
      "  raise\n",
      "/opt/conda/lib/python3.8/site-packages/distributed/node.py:179: UserWarning: Port 8787 is already in use.\n",
      "Perhaps you already have a cluster running?\n",
      "Hosting the HTTP server on port 32788 instead\n",
      "  warnings.warn(\n"
     ]
    },
    {
     "data": {
      "text/plain": [
       "{'tcp://127.0.0.1:33922': {'status': 'OK'},\n",
       " 'tcp://127.0.0.1:36366': {'status': 'OK'},\n",
       " 'tcp://127.0.0.1:37864': {'status': 'OK'},\n",
       " 'tcp://127.0.0.1:38263': {'status': 'OK'},\n",
       " 'tcp://127.0.0.1:45487': {'status': 'OK'}}"
      ]
     },
     "execution_count": 436,
     "metadata": {},
     "output_type": "execute_result"
    }
   ],
   "source": [
    "# Dask set up for LPC only \n",
    "if(UsingDaskExecutor and not CoffeaCasaEnv):\n",
    "#     from lpcjobqueue import LPCCondorCluster\n",
    "#     cluster = LPCCondorCluster()\n",
    "#     cluster.adapt(minimum=1, maximum=10)\n",
    "#     client = Client(cluster)\n",
    "#     client.upload_file('CoffeaJERCProcessor.py')\n",
    "    \n",
    "    \n",
    "    from dask.distributed import Client\n",
    "#     client=Client()\n",
    "#     cluster.adapt(minimum=1, maximum=10)\n",
    "    client = Client()\n",
    "    client.upload_file('CoffeaJERCProcessor'+tag+'.py')\n",
    "# client"
   ]
  },
  {
   "cell_type": "code",
   "execution_count": 437,
   "metadata": {},
   "outputs": [],
   "source": [
    "# dataset_axis = hist.Cat(\"dataset\", \"Primary dataset\")\n",
    "# cats_axis = hist.Cat(\"anacat\", \"Analysis Category\")\n",
    "\n",
    "# jetpt_axis = hist.Bin(\"pt\", r\"$p_T$\", ptbins)\n",
    "# ptresponse_axis = hist.Bin(\"ptresponse\", \"RECO / GEN response\", 100, 0, 5)\n",
    "# jetmass_axis = hist.Bin(\"jetmass\", r\"Jet $m$ [GeV]\", 50, 0, 500)\n",
    "# jeteta_axis = hist.Bin(\"jeteta\", r\"Jet $\\eta$\", etabins)\n",
    "# jetphi_axis = hist.Bin(\"jetphi\", r\"Jet $\\phi$\", 50, -np.pi, np.pi)"
   ]
  },
  {
   "cell_type": "code",
   "execution_count": 438,
   "metadata": {
    "scrolled": true
   },
   "outputs": [],
   "source": [
    "tstart = time.time()\n",
    "\n",
    "outputs_unweighted = {}\n",
    "\n",
    "seed = 1234577890\n",
    "prng = RandomState(seed)\n",
    "Chunk = [10000, 5] # [chunksize, maxchunks]\n",
    "\n",
    "filesets = {'QCD': fileslist}\n",
    "\n",
    "if not load_preexisting:\n",
    "    for name,files in filesets.items(): \n",
    "        if not UsingDaskExecutor:\n",
    "            chosen_exec = 'futures'\n",
    "            output = processor.run_uproot_job({name:files},\n",
    "                                              treename='Events',\n",
    "                                              processor_instance=Processor(),\n",
    "                                              executor=processor.iterative_executor,\n",
    "        #                                        executor=processor.futures_executor,\n",
    "                                              executor_args={\n",
    "                                                  'skipbadfiles':False,\n",
    "                                                  'schema': NanoAODSchema, #BaseSchema\n",
    "                                                  'workers': 2},\n",
    "                                              chunksize=Chunk[0])#, maxchunks=Chunk[1])\n",
    "        else:\n",
    "            chosen_exec = 'dask'\n",
    "            output = processor.run_uproot_job({name:files},\n",
    "                                              treename='Events',\n",
    "                                              processor_instance=Processor(),\n",
    "                                              executor=processor.dask_executor,\n",
    "                                              executor_args={\n",
    "                                                  'client': client,\n",
    "                                                  'skipbadfiles':False,\n",
    "                                                  'schema': NanoAODSchema, #BaseSchema\n",
    "    #                                               'workers': 2\n",
    "                                              },\n",
    "                                              chunksize=Chunk[0])#, maxchunks=Chunk[1])\n",
    "\n",
    "    elapsed = time.time() - tstart\n",
    "    outputs_unweighted[name] = output\n",
    "    util.save(output, outname)\n",
    "    outputs_unweighted[name] = output\n",
    "    print(name + ' unweighted output loaded')\n",
    "else:\n",
    "    # output = util.load('out/CoffeaJERCOutputs_binned.coffea')\n",
    "    output = util.load(outname)\n",
    "    \n",
    "elapsed = time.time() - tstart"
   ]
  },
  {
   "cell_type": "code",
   "execution_count": 439,
   "metadata": {},
   "outputs": [
    {
     "name": "stdout",
     "output_type": "stream",
     "text": [
      "Output:\n",
      "{'ptresponse_b': <Hist (dataset,pt,jeteta,ptresponse) instance at 0x7f65b8567730>, 'ptresponse_c': <Hist (dataset,pt,jeteta,ptresponse) instance at 0x7f65b8567f70>, 'ptresponse_l': <Hist (dataset,pt,jeteta,ptresponse) instance at 0x7f65b959b6d0>, 'ptresponse_g': <Hist (dataset,pt,jeteta,ptresponse) instance at 0x7f66f154e040>, 'ptresponse': <Hist (dataset,pt,jeteta,ptresponse) instance at 0x7f66f154e070>, 'jetpt': <Hist (dataset,pt) instance at 0x7f66f154e0a0>, 'jeteta': <Hist (dataset,jeteta) instance at 0x7f66f154e0d0>, 'cutflow': defaultdict_accumulator(<class 'int'>, {})}\n"
     ]
    }
   ],
   "source": [
    "print(\"Output:\")\n",
    "print(output)"
   ]
  },
  {
   "cell_type": "markdown",
   "metadata": {},
   "source": [
    "### Fit responses"
   ]
  },
  {
   "cell_type": "code",
   "execution_count": 440,
   "metadata": {},
   "outputs": [],
   "source": [
    "# define gaussian function for fitting the responses\n",
    "def gauss(x, *p):\n",
    "    A, mu, sigma = p\n",
    "    return A*np.exp(-(x-mu)**2/(2.*sigma**2))"
   ]
  },
  {
   "cell_type": "code",
   "execution_count": 441,
   "metadata": {},
   "outputs": [],
   "source": [
    "# ptbins = output['ptresponse'].axis('pt').edges()\n",
    "# ptbins;\n",
    "# etabins = output['ptresponse'].axis('jeteta').edges()[:-1]\n",
    "# etabins;"
   ]
  },
  {
   "cell_type": "code",
   "execution_count": 442,
   "metadata": {},
   "outputs": [],
   "source": [
    "# # jetpt_length = len(output['jetpt'].axis('pt')[1:-1])\n",
    "# jetpt_length = len(ptbins)\n",
    "# # jeteta_length = len(output['jeteta'].axis('jeteta')[1:-1])\n",
    "# jeteta_length = len(etabins)\n",
    "\n",
    "# mean = np.zeros((jetpt_length, jeteta_length))\n",
    "# median = np.zeros((jetpt_length, jeteta_length))\n",
    "# width = np.zeros((jetpt_length, jeteta_length))\n",
    "# idx = []"
   ]
  },
  {
   "cell_type": "code",
   "execution_count": 443,
   "metadata": {
    "scrolled": true
   },
   "outputs": [],
   "source": [
    "# for k in range(len(etabins)-1):\n",
    "#     print(hist.Interval(etabins[k], etabins[k+1]))\n",
    "# print()    \n",
    "# for k, etaBin in enumerate(output['jeteta'].axis('jeteta')[1:-1]):\n",
    "#     print(etaBin)"
   ]
  },
  {
   "cell_type": "markdown",
   "metadata": {},
   "source": [
    "Define some global variables for the fit"
   ]
  },
  {
   "cell_type": "code",
   "execution_count": 444,
   "metadata": {
    "scrolled": true
   },
   "outputs": [],
   "source": [
    "f_xvals = np.linspace(0,5,5001)\n",
    "ptbins = output['ptresponse'].axis('pt').edges()\n",
    "etabins = output['ptresponse'].axis('jeteta').edges()\n",
    "jetpt_length = len(ptbins)-1\n",
    "jeteta_length = (len(etabins)-1)//2\n",
    "\n",
    "etabins_mod = etabins[(len(etabins)-1)//2:]\n"
   ]
  },
  {
   "cell_type": "code",
   "execution_count": 445,
   "metadata": {},
   "outputs": [],
   "source": [
    "from pltStyle import pltStyle\n",
    "pltStyle(style='paper')\n",
    "plt.rcParams['figure.subplot.left'] = 0.160"
   ]
  },
  {
   "cell_type": "code",
   "execution_count": 291,
   "metadata": {},
   "outputs": [
    {
     "name": "stderr",
     "output_type": "stream",
     "text": [
      "<>:115: DeprecationWarning: invalid escape sequence \\p\n",
      "<>:116: DeprecationWarning: invalid escape sequence \\p\n",
      "<>:118: DeprecationWarning: invalid escape sequence \\c\n",
      "<>:115: DeprecationWarning: invalid escape sequence \\p\n",
      "<>:116: DeprecationWarning: invalid escape sequence \\p\n",
      "<>:118: DeprecationWarning: invalid escape sequence \\c\n",
      "/tmp/anpotreb/ipykernel_22787/2333043173.py:115: DeprecationWarning: invalid escape sequence \\p\n",
      "  plt.text(0.03,0.95*h,'Mean {0:0.3f}$\\pm${1:0.3f}'.format(p2[1],np.sqrt(arr[1,1])))\n",
      "/tmp/anpotreb/ipykernel_22787/2333043173.py:116: DeprecationWarning: invalid escape sequence \\p\n",
      "  plt.text(0.03,0.88*h,'Width {0:0.3f}$\\pm${1:0.3f}'.format(p2[2],np.sqrt(arr[2,2])))\n",
      "/tmp/anpotreb/ipykernel_22787/2333043173.py:118: DeprecationWarning: invalid escape sequence \\c\n",
      "  plt.text(0.03,0.73*h,'$\\chi^2/ndof$ {0:0.2g}/{1:0.0f}'.format(chi2, Ndof))\n"
     ]
    }
   ],
   "source": [
    "import warnings\n",
    "# warnings.filterwarnings('ignore') ### To suppress warnings with bad \n",
    "\n",
    "\n",
    "# xvals = output['ptresponse'+samp].axis('ptresponse').centers()\n",
    "\n",
    "# FitFigDir = 'fig/response_pt_eta'+samp+tag\n",
    "# if not os.path.exists(FitFigDir):\n",
    "#     os.mkdir(FitFigDir)\n",
    "\n",
    "def fit_responses(output, samp='_b'):\n",
    "    warnings.filterwarnings('ignore')\n",
    "\n",
    "    mean = np.zeros((jetpt_length, jeteta_length))\n",
    "    median = np.zeros((jetpt_length, jeteta_length))\n",
    "    width = np.zeros((jetpt_length, jeteta_length))\n",
    "    chi2s = np.zeros((jetpt_length, jeteta_length))\n",
    "    meanvar = np.zeros((jetpt_length, jeteta_length))\n",
    "#     idx = []\n",
    "    \n",
    "    N_converge = 0\n",
    "    N_not_converge = 0\n",
    "\n",
    "    FitFigDir = 'fig/response_pt_eta'+samp+tag_full\n",
    "    print(\"Images will be saved under \", FitFigDir)\n",
    "    if not os.path.exists(FitFigDir):\n",
    "        os.mkdir(FitFigDir)\n",
    "    plot_pt_edges = output['ptresponse'+samp].axis('ptresponse').edges()[0:42] ##Put plotting limits to the histogram\n",
    "    hist_pt_edges = plot_pt_edges[1:-1]   #for plotting. To explude overflow from the plot\n",
    "    plot_response_axis = hist.Bin(\"jeteta\", r\"Jet $\\eta$\", hist_pt_edges)\n",
    "\n",
    "    xvals = output['ptresponse'+samp].axis('ptresponse').centers()[1:] #[1:] to exclude the second peak for low pt\n",
    "    f_xvals = np.linspace(0,5,5001)\n",
    "\n",
    "\n",
    "    for i in range(len(ptbins)-1):\n",
    "        ptBin = hist.Interval(ptbins[i], ptbins[i+1])\n",
    "        print('-'*25)\n",
    "        print('pt bin '+str(ptBin))\n",
    "        print('-'*25)\n",
    "\n",
    "        if not 'inf' in str(ptBin):\n",
    "            pt_string = '_pT'+str(int(ptBin.lo))+'to'+str(int(ptBin.hi))\n",
    "        else:\n",
    "            pt_string = '_pT'+str(ptBin.lo) + 'to' + str(ptBin.hi)\n",
    "            pt_string = pt_string.replace('.0','').replace('-infto','0to')\n",
    "\n",
    "        for k in range(jeteta_length):\n",
    "            etaBinPl = hist.Interval(etabins[k+jeteta_length], etabins[k+1+jeteta_length])\n",
    "            etaBinMi = hist.Interval(etabins[jeteta_length-k-1], etabins[jeteta_length-k])\n",
    "#             etaBin = hist.Interval(etabins[k], etabins[k+1])\n",
    "            print(\"etaBin = \", etaBinPl ,\", ptBin = \", ptBin )\n",
    "            eta_string = '_eta'+str(etaBinPl.lo)+'to'+str(etaBinPl.hi)\n",
    "            eta_string = eta_string.replace('.','')\n",
    "            \n",
    "            # The name integrate is a bit misleasding in this line. Is there another way to \"slice\" a histogram? //Andris\n",
    "            histoMi = output['ptresponse'+samp].integrate('jeteta', etaBinMi).integrate('pt', ptBin)\n",
    "            histoPl = output['ptresponse'+samp].integrate('jeteta', etaBinPl).integrate('pt', ptBin)\n",
    "            histo = (histoMi+histoPl)\n",
    "            histvals = np.repeat(histo.axis('ptresponse').centers(), np.array(histo.values()[('QCD',)],dtype='int'))\n",
    "            yvals = histo.values()[('QCD',)][1:]  #[1:] to exclude the second peak for low pt\n",
    "\n",
    "            try:\n",
    "                p, arr = curve_fit(gauss, xvals, yvals, p0=[10,1,1])\n",
    "                N_converge += 1\n",
    "\n",
    "                            ### Second Gaussian\n",
    "                xfit_l = np.where(xvals>=p[1]-np.abs(p[2])*1.5)[0][0]\n",
    "                xfit_h = np.where(xvals>=p[1]+np.abs(p[2])*1.5)[0][0]\n",
    "                if len(range(xfit_l,xfit_h))<4: #if there are only 3pnts, the uncertainty is infty\n",
    "                    xfit_l = xfit_l-1\n",
    "                    xfit_h = xfit_h+1\n",
    "                    if len(range(xfit_l,xfit_h))<4:\n",
    "                        xfit_l = xfit_l-1\n",
    "                        xfit_h = xfit_h+1\n",
    "                xvals2 = xvals[xfit_l: xfit_h]\n",
    "                yvals2 = yvals[xfit_l: xfit_h]\n",
    "                p2, arr = curve_fit(gauss, xvals2, yvals2, p0=p)\n",
    "\n",
    "                ygaus = gauss(xvals, *p2)\n",
    "                chi2 = sum((yvals-ygaus)**2/(yvals+1E-9))\n",
    "                Ndof = len(xvals2)-3\n",
    "                if chi2<50000:\n",
    "                    pass\n",
    "                    print(\"Fit converged, p = \", p2, \", chi2 = \", chi2 )\n",
    "                else:\n",
    "                    print(\"Fit failed because of high chi2, p = \", p2, \", chi2 = \", chi2 )\n",
    "            except:\n",
    "    #             print(\"Fit failed because of non-convergance, p = \", p)\n",
    "                N_not_converge += 1\n",
    "                continue\n",
    "\n",
    "\n",
    "#             fgaus = gauss(f_xvals, *p)\n",
    "            fgaus2 = gauss(f_xvals, *p2)\n",
    "\n",
    "            median[i,k] = np.median(histvals)\n",
    "            mean[i,k] = p2[1] # - (scal-1)\n",
    "            width[i,k] = p2[2]\n",
    "            chi2s[i,k] = chi2\n",
    "            meanvar[i,k] = arr[1,1]\n",
    "#             idx.append(i)\n",
    "\n",
    "   ####################### Plotting ############################\n",
    "            if not test_run:\n",
    "                N = histo.integrate('ptresponse').values()[('QCD',)]\n",
    "                histo = histo.rebin('ptresponse', plot_response_axis)\n",
    "\n",
    "                fig, ax2 = plt.subplots();\n",
    "                hist.plot1d(histo, ax=ax2, overlay='dataset', overflow='all',\n",
    "                            fill_opts={'alpha': .5, 'edgecolor': (0,0,0,0.3), 'linewidth': 1.4})\n",
    "                # ax2.plot(f_xvals, fgaus, label='Gaus',linewidth=1.8)\n",
    "                ax2.plot(f_xvals, fgaus2, label='Gaus',linewidth=1.8)\n",
    "                ax2.set_xlabel(\"Response ($E_{RECO}/E_{GEN}$)\")\n",
    "                ax2.set_xlim(plot_pt_edges[[0,-1]])\n",
    "                h = ax2.get_ylim()[1]/1.05\n",
    "                plt.text(0.03,0.95*h,'Mean {0:0.3f}$\\pm${1:0.3f}'.format(p2[1],np.sqrt(arr[1,1])))\n",
    "                plt.text(0.03,0.88*h,'Width {0:0.3f}$\\pm${1:0.3f}'.format(p2[2],np.sqrt(arr[2,2])))\n",
    "                plt.text(0.03,0.81*h,'Median {0:0.3f}'.format(np.median(histvals)))\n",
    "                plt.text(0.03,0.73*h,'$\\chi^2/ndof$ {0:0.2g}/{1:0.0f}'.format(chi2, Ndof))\n",
    "                plt.text(0.03,0.66*h,'N data = {0:0.3g}'.format(N))\n",
    "                ax2.legend();\n",
    "\n",
    "                plt.savefig(FitFigDir+'/ptResponse'+pt_string+eta_string+'.png');\n",
    "                plt.savefig(FitFigDir+'/ptResponse'+pt_string+eta_string+'.pdf');\n",
    "                plt.close();                \n",
    "\n",
    "    warnings.filterwarnings('default')\n",
    "    print(\"N converge = \", N_converge, \"N_not_converge = \", N_not_converge );\n",
    "    warnings.filterwarnings('default')\n",
    "    \n",
    "    return [mean, width, median, chi2s, meanvar]\n",
    "    "
   ]
  },
  {
   "cell_type": "code",
   "execution_count": 405,
   "metadata": {},
   "outputs": [
    {
     "data": {
      "text/plain": [
       "[0, 1, 2, 3, 4]"
      ]
     },
     "execution_count": 405,
     "metadata": {},
     "output_type": "execute_result"
    }
   ],
   "source": [
    "[0,1,2,3,4,5][:-1]"
   ]
  },
  {
   "cell_type": "code",
   "execution_count": 292,
   "metadata": {},
   "outputs": [
    {
     "data": {
      "text/plain": [
       "array([0. , 1.3, 2.5, 3. , 5. ])"
      ]
     },
     "execution_count": 292,
     "metadata": {},
     "output_type": "execute_result"
    }
   ],
   "source": [
    "etabins_mod"
   ]
  },
  {
   "cell_type": "code",
   "execution_count": 311,
   "metadata": {},
   "outputs": [
    {
     "name": "stderr",
     "output_type": "stream",
     "text": [
      "<>:29: DeprecationWarning: invalid escape sequence \\e\n",
      "<>:33: DeprecationWarning: invalid escape sequence \\e\n",
      "<>:37: DeprecationWarning: invalid escape sequence \\e\n",
      "<>:41: DeprecationWarning: invalid escape sequence \\e\n",
      "<>:29: DeprecationWarning: invalid escape sequence \\e\n",
      "<>:33: DeprecationWarning: invalid escape sequence \\e\n",
      "<>:37: DeprecationWarning: invalid escape sequence \\e\n",
      "<>:41: DeprecationWarning: invalid escape sequence \\e\n",
      "/tmp/anpotreb/ipykernel_22787/3609003139.py:29: DeprecationWarning: invalid escape sequence \\e\n",
      "  linestyle=\"none\", label=f'${etabins_mod[k2]}<\\eta<{etabins_mod[k2+1]}$')\n",
      "/tmp/anpotreb/ipykernel_22787/3609003139.py:33: DeprecationWarning: invalid escape sequence \\e\n",
      "  linestyle=\"none\", label=f'${etabins_mod[k4]}<\\eta<{etabins_mod[k4+1]}$')\n",
      "/tmp/anpotreb/ipykernel_22787/3609003139.py:37: DeprecationWarning: invalid escape sequence \\e\n",
      "  linestyle=\"none\", label=f'${etabins_mod[k6]}<\\eta<{etabins_mod[k6+1]}$')\n",
      "/tmp/anpotreb/ipykernel_22787/3609003139.py:41: DeprecationWarning: invalid escape sequence \\e\n",
      "  linestyle=\"none\", label=f'${etabins_mod[k8]}<\\eta<{etabins_mod[k8+1]}$')\n"
     ]
    }
   ],
   "source": [
    "def plot_corrections(mean, samp, meanvar):\n",
    "    ### To ignore the points with 0 on y axis when setting the y axis limits\n",
    "    mean_p = mean.copy()\n",
    "    mean_p[mean_p==0] = np.nan\n",
    "\n",
    "    # h = np.max(histo.values()[('QCD',)])\n",
    "    fig, ax = plt.subplots()\n",
    "    start = 17\n",
    "    \n",
    "#     etabins_mod = np.flip(etabins[(len(etabins)-1)//2:])\n",
    "    \n",
    "#     k1 = np.where(etabins<=-1.3)[0][-1]\n",
    "    k2 = np.where(etabins_mod<=0)[0][-1]\n",
    "#     k3 = np.where(etabins<=-2.5)[0][-1]\n",
    "    k4 = np.where(etabins_mod<=1.3)[0][-1]\n",
    "#     k5 = np.where(etabins<=-3)[0][-1]\n",
    "    k6 = np.where(etabins_mod<=2.5)[0][-1]\n",
    "#     k7 = np.where(etabins<=-5)[0][-1]\n",
    "    k8 = np.where(etabins_mod<=3.0)[0][-1]\n",
    "#     print(\"mean_p = \", mean_p[start:,k2])\n",
    "#     print(\"mean_p = \", mean[start:,k2])\n",
    "\n",
    "#     print(\"Shapes = \", ptbins.shape, mean_p.shape, meanvar.shape  )\n",
    "    \n",
    "    # ax.plot(ptbins[start:],mean_p[start:,k0], 'o', label=f'${etabins[k0]}<\\eta<{etabins[k0+1]}$')\n",
    "#     plt.errorbar(ptbins[start:],mean_p[start:,k1], yerr=np.sqrt(meanvar[start:,k1]), marker='o',\n",
    "#                  linestyle=\"none\", label=f'${etabins[k1]}<\\eta<{etabins[k1+1]}$')\n",
    "    plt.errorbar(ptbins[start:-1],mean_p[start:,k2], yerr=np.sqrt(meanvar[start:,k2]), marker='o',\n",
    "                 linestyle=\"none\", label=f'${etabins_mod[k2]}<\\eta<{etabins_mod[k2+1]}$')\n",
    "#     plt.errorbar(ptbins[start:],mean_p[start:,k3], yerr=np.sqrt(meanvar[start:,k3]), marker='o',\n",
    "#                  linestyle=\"none\", label=f'${etabins[k3]}<\\eta<{etabins[k3+1]}$')\n",
    "    plt.errorbar(ptbins[start:-1],mean_p[start:,k4], yerr=np.sqrt(meanvar[start:,k4]), marker='o',\n",
    "             linestyle=\"none\", label=f'${etabins_mod[k4]}<\\eta<{etabins_mod[k4+1]}$')\n",
    "#     plt.errorbar(ptbins[start:],mean_p[start:,k5], yerr=np.sqrt(meanvar[start:,k5]), marker='o',\n",
    "#                  linestyle=\"none\", label=f'${etabins[k5]}<\\eta<{etabins[k5+1]}$')\n",
    "    plt.errorbar(ptbins[start:-1],mean_p[start:,k6], yerr=np.sqrt(meanvar[start:,k6]), marker='o',\n",
    "             linestyle=\"none\", label=f'${etabins_mod[k6]}<\\eta<{etabins_mod[k6+1]}$')\n",
    "#     plt.errorbar(ptbins[start:],mean_p[start:,k7], yerr=np.sqrt(meanvar[start:,k7]), marker='o',\n",
    "#              linestyle=\"none\", label=f'${etabins[k7]}<\\eta<{etabins[k7+1]}$')\n",
    "    plt.errorbar(ptbins[start:-1],mean_p[start:,k8], yerr=np.sqrt(meanvar[start:,k8]), marker='o',\n",
    "             linestyle=\"none\", label=f'${etabins_mod[k8]}<\\eta<{etabins_mod[k8+1]}$')\n",
    "# ax.plot(ptbins[start:],mean_p[start:,k2], 'o', label=f'${etabins[k2]}<\\eta<{etabins[k2+1]}$')\n",
    "    # ax.plot(ptbins[start:],mean_p[start:,k3], 'o', label=f'${etabins[k3]}<\\eta<{etabins[k3+1]}$')\n",
    "\n",
    "    ### Calculate resonable limits excluding the few points with insane errors\n",
    "    yerr_norm = np.concatenate([np.sqrt(meanvar[start:,[k2, k4, k6, k8]]) ])\n",
    "    y_norm = np.concatenate([mean_p[start:,[k2, k4, k6, k8]]])\n",
    "#     print(\"ynorm = \", y_norm)\n",
    "#     print(\"yerr = \", yerr_norm)\n",
    "    norm_pos = (yerr_norm<0.02) &  (yerr_norm != np.inf) & (y_norm>-0.1)\n",
    "#     print(\"(yerr_norm+y_norm)[norm_pos]) = \", (yerr_norm+y_norm)[norm_pos])\n",
    "    ax.set_ylim(np.min((y_norm-yerr_norm)[norm_pos]) ,np.max((yerr_norm+y_norm)[norm_pos]))\n",
    "    \n",
    "    ax.set_xlabel(r'$p_T$ (GeV)');\n",
    "    ax.set_ylabel(r'mean response');\n",
    "    ax.set_xscale('log')\n",
    "    # ax.set_ylim([0.8,1.1])\n",
    "    ax.legend()\n",
    "    if test_run:\n",
    "        plt.savefig('fig//corr_vs_pt'+samp+tag_full+'_test.pdf');\n",
    "        plt.savefig('fig/corr_vs_pt'+samp+tag_full+'_test.png');\n",
    "    else:\n",
    "        plt.savefig('fig/corr_vs_pt'+samp+tag_full+'.pdf');\n",
    "        plt.savefig('fig/corr_vs_pt'+samp+tag_full+'.png');\n",
    "\n",
    "    plt.show();\n",
    "    \n",
    "# plotCorrections()"
   ]
  },
  {
   "cell_type": "code",
   "execution_count": 312,
   "metadata": {},
   "outputs": [],
   "source": [
    "def save_data(data, name, samp):\n",
    "    # data = {str(ptBin):mean[i] for i, ptBin in enumerate(output['jetpt'].axis('pt')[1:-1])}\n",
    "    data_dict = {str(ptBin):data[i] for i, ptBin in enumerate(ptbins[:-1])}\n",
    "\n",
    "    # data['etaBins'] = [str(etaBin) for etaBin in output['jeteta'].axis('jeteta')[1:-1]]\n",
    "    data_dict['etaBins'] = np.array([str(etaBin) for etaBin in etabins_mod[:-1]])\n",
    "\n",
    "    df = pd.DataFrame(data=data_dict)\n",
    "    df = df.set_index('etaBins')\n",
    "    if not test_run:\n",
    "        df.to_csv('out_txt/EtaBinsvsPtBins'+name+samp+tag_full+'.csv')\n",
    "    else:\n",
    "        df.to_csv('out_txt/EtaBinsvsPtBins'+name+tag+'_test.csv')\n",
    "#     return df"
   ]
  },
  {
   "cell_type": "code",
   "execution_count": 313,
   "metadata": {},
   "outputs": [],
   "source": [
    "def read_data(name, samp):\n",
    "    if not test_run:\n",
    "        df_csv = pd.read_csv('out_txt/EtaBinsvsPtBins'+name+samp+tag_full+'.csv').set_index('etaBins')\n",
    "#         df.to_csv('out_txt/EtaBinsvsPtBins'+name+samp+tag_full+'.csv')\n",
    "    else:\n",
    "        df_csv = pd.read_csv('out_txt/EtaBinsvsPtBins'+name+tag+'_test.csv').set_index('etaBins')\n",
    "#         df.to_csv('out_txt/EtaBinsvsPtBins'+name+tag+'_test.csv')\n",
    "    \n",
    "#     df_csv = pd.read_csv('out_txt/EtaBinsvsPtBinsMean_L5.csv').set_index('etaBins')\n",
    "    data = df_csv.to_numpy().transpose()\n",
    "    return data"
   ]
  },
  {
   "cell_type": "markdown",
   "metadata": {},
   "source": [
    "### Run fitting for each sample"
   ]
  },
  {
   "cell_type": "code",
   "execution_count": 314,
   "metadata": {
    "scrolled": true
   },
   "outputs": [
    {
     "name": "stdout",
     "output_type": "stream",
     "text": [
      "-------------------------\n",
      "-------------------------\n",
      "Fitting subsample:  \n",
      "Images will be saved under  fig/response_pt_eta_L5_QCD\n",
      "-------------------------\n",
      "pt bin [1, 2)\n",
      "-------------------------\n",
      "etaBin =  [0, 1.3) , ptBin =  [1, 2)\n",
      "Fit converged, p =  [-6.16569531e-36  1.00000000e+00  1.00000000e+00] , chi2 =  1.2269999930102548e-60\n",
      "etaBin =  [1.3, 2.5) , ptBin =  [1, 2)\n",
      "Fit converged, p =  [-6.16569531e-36  1.00000000e+00  1.00000000e+00] , chi2 =  1.2269999930102548e-60\n",
      "etaBin =  [2.5, 3) , ptBin =  [1, 2)\n",
      "Fit converged, p =  [-6.16569531e-36  1.00000000e+00  1.00000000e+00] , chi2 =  1.2269999930102548e-60\n",
      "etaBin =  [3, 5) , ptBin =  [1, 2)\n",
      "Fit converged, p =  [-6.16569531e-36  1.00000000e+00  1.00000000e+00] , chi2 =  1.2269999930102548e-60\n",
      "-------------------------\n",
      "pt bin [2, 3)\n",
      "-------------------------\n",
      "etaBin =  [0, 1.3) , ptBin =  [2, 3)\n",
      "Fit converged, p =  [-6.16569531e-36  1.00000000e+00  1.00000000e+00] , chi2 =  1.2269999930102548e-60\n",
      "etaBin =  [1.3, 2.5) , ptBin =  [2, 3)\n",
      "Fit converged, p =  [-6.16569531e-36  1.00000000e+00  1.00000000e+00] , chi2 =  1.2269999930102548e-60\n",
      "etaBin =  [2.5, 3) , ptBin =  [2, 3)\n",
      "Fit converged, p =  [-6.16569531e-36  1.00000000e+00  1.00000000e+00] , chi2 =  1.2269999930102548e-60\n",
      "etaBin =  [3, 5) , ptBin =  [2, 3)\n",
      "Fit converged, p =  [-6.16569531e-36  1.00000000e+00  1.00000000e+00] , chi2 =  1.2269999930102548e-60\n",
      "-------------------------\n",
      "pt bin [3, 4)\n",
      "-------------------------\n",
      "etaBin =  [0, 1.3) , ptBin =  [3, 4)\n",
      "Fit converged, p =  [-6.16569531e-36  1.00000000e+00  1.00000000e+00] , chi2 =  1.2269999930102548e-60\n",
      "etaBin =  [1.3, 2.5) , ptBin =  [3, 4)\n",
      "Fit converged, p =  [-6.16569531e-36  1.00000000e+00  1.00000000e+00] , chi2 =  1.2269999930102548e-60\n",
      "etaBin =  [2.5, 3) , ptBin =  [3, 4)\n",
      "Fit converged, p =  [-6.16569531e-36  1.00000000e+00  1.00000000e+00] , chi2 =  1.2269999930102548e-60\n",
      "etaBin =  [3, 5) , ptBin =  [3, 4)\n",
      "Fit converged, p =  [-6.16569531e-36  1.00000000e+00  1.00000000e+00] , chi2 =  1.2269999930102548e-60\n",
      "-------------------------\n",
      "pt bin [4, 5)\n",
      "-------------------------\n",
      "etaBin =  [0, 1.3) , ptBin =  [4, 5)\n",
      "Fit converged, p =  [-6.16569531e-36  1.00000000e+00  1.00000000e+00] , chi2 =  1.2269999930102548e-60\n",
      "etaBin =  [1.3, 2.5) , ptBin =  [4, 5)\n",
      "Fit converged, p =  [-6.16569531e-36  1.00000000e+00  1.00000000e+00] , chi2 =  1.2269999930102548e-60\n",
      "etaBin =  [2.5, 3) , ptBin =  [4, 5)\n",
      "Fit converged, p =  [-6.16569531e-36  1.00000000e+00  1.00000000e+00] , chi2 =  1.2269999930102548e-60\n",
      "etaBin =  [3, 5) , ptBin =  [4, 5)\n",
      "Fit converged, p =  [-6.16569531e-36  1.00000000e+00  1.00000000e+00] , chi2 =  1.2269999930102548e-60\n",
      "-------------------------\n",
      "pt bin [5, 6)\n",
      "-------------------------\n",
      "etaBin =  [0, 1.3) , ptBin =  [5, 6)\n",
      "Fit converged, p =  [-6.16569531e-36  1.00000000e+00  1.00000000e+00] , chi2 =  1.2269999930102548e-60\n",
      "etaBin =  [1.3, 2.5) , ptBin =  [5, 6)\n",
      "Fit converged, p =  [-6.16569531e-36  1.00000000e+00  1.00000000e+00] , chi2 =  1.2269999930102548e-60\n",
      "etaBin =  [2.5, 3) , ptBin =  [5, 6)\n",
      "Fit converged, p =  [-6.16569531e-36  1.00000000e+00  1.00000000e+00] , chi2 =  1.2269999930102548e-60\n",
      "etaBin =  [3, 5) , ptBin =  [5, 6)\n",
      "Fit converged, p =  [-6.16569531e-36  1.00000000e+00  1.00000000e+00] , chi2 =  1.2269999930102548e-60\n",
      "-------------------------\n",
      "pt bin [6, 7)\n",
      "-------------------------\n",
      "etaBin =  [0, 1.3) , ptBin =  [6, 7)\n",
      "Fit converged, p =  [-6.16569531e-36  1.00000000e+00  1.00000000e+00] , chi2 =  1.2269999930102548e-60\n",
      "etaBin =  [1.3, 2.5) , ptBin =  [6, 7)\n",
      "Fit converged, p =  [-6.16569531e-36  1.00000000e+00  1.00000000e+00] , chi2 =  1.2269999930102548e-60\n",
      "etaBin =  [2.5, 3) , ptBin =  [6, 7)\n",
      "Fit converged, p =  [-6.16569531e-36  1.00000000e+00  1.00000000e+00] , chi2 =  1.2269999930102548e-60\n",
      "etaBin =  [3, 5) , ptBin =  [6, 7)\n",
      "Fit converged, p =  [-6.16569531e-36  1.00000000e+00  1.00000000e+00] , chi2 =  1.2269999930102548e-60\n",
      "-------------------------\n",
      "pt bin [7, 8)\n",
      "-------------------------\n",
      "etaBin =  [0, 1.3) , ptBin =  [7, 8)\n",
      "Fit converged, p =  [-6.16569531e-36  1.00000000e+00  1.00000000e+00] , chi2 =  1.2269999930102548e-60\n",
      "etaBin =  [1.3, 2.5) , ptBin =  [7, 8)\n",
      "Fit converged, p =  [-6.16569531e-36  1.00000000e+00  1.00000000e+00] , chi2 =  1.2269999930102548e-60\n",
      "etaBin =  [2.5, 3) , ptBin =  [7, 8)\n",
      "Fit converged, p =  [-6.16569531e-36  1.00000000e+00  1.00000000e+00] , chi2 =  1.2269999930102548e-60\n",
      "etaBin =  [3, 5) , ptBin =  [7, 8)\n",
      "Fit converged, p =  [-6.16569531e-36  1.00000000e+00  1.00000000e+00] , chi2 =  1.2269999930102548e-60\n",
      "-------------------------\n",
      "pt bin [8, 9)\n",
      "-------------------------\n",
      "etaBin =  [0, 1.3) , ptBin =  [8, 9)\n",
      "Fit converged, p =  [-6.16569531e-36  1.00000000e+00  1.00000000e+00] , chi2 =  1.2269999930102548e-60\n",
      "etaBin =  [1.3, 2.5) , ptBin =  [8, 9)\n",
      "Fit converged, p =  [-6.16569531e-36  1.00000000e+00  1.00000000e+00] , chi2 =  1.2269999930102548e-60\n",
      "etaBin =  [2.5, 3) , ptBin =  [8, 9)\n",
      "Fit converged, p =  [-6.16569531e-36  1.00000000e+00  1.00000000e+00] , chi2 =  1.2269999930102548e-60\n",
      "etaBin =  [3, 5) , ptBin =  [8, 9)\n",
      "Fit converged, p =  [-6.16569531e-36  1.00000000e+00  1.00000000e+00] , chi2 =  1.2269999930102548e-60\n",
      "-------------------------\n",
      "pt bin [9, 10)\n",
      "-------------------------\n",
      "etaBin =  [0, 1.3) , ptBin =  [9, 10)\n",
      "Fit converged, p =  [-6.16569531e-36  1.00000000e+00  1.00000000e+00] , chi2 =  1.2269999930102548e-60\n",
      "etaBin =  [1.3, 2.5) , ptBin =  [9, 10)\n",
      "Fit converged, p =  [-6.16569531e-36  1.00000000e+00  1.00000000e+00] , chi2 =  1.2269999930102548e-60\n",
      "etaBin =  [2.5, 3) , ptBin =  [9, 10)\n",
      "Fit converged, p =  [-6.16569531e-36  1.00000000e+00  1.00000000e+00] , chi2 =  1.2269999930102548e-60\n",
      "etaBin =  [3, 5) , ptBin =  [9, 10)\n",
      "Fit converged, p =  [-6.16569531e-36  1.00000000e+00  1.00000000e+00] , chi2 =  1.2269999930102548e-60\n",
      "-------------------------\n",
      "pt bin [10, 11)\n",
      "-------------------------\n",
      "etaBin =  [0, 1.3) , ptBin =  [10, 11)\n",
      "Fit failed because of high chi2, p =  [13.25413266  1.57842907  0.1710415 ] , chi2 =  30427567740.06185\n",
      "etaBin =  [1.3, 2.5) , ptBin =  [10, 11)\n",
      "Fit failed because of high chi2, p =  [19.05891549  1.5395845   0.12174815] , chi2 =  19994420460.280464\n",
      "etaBin =  [2.5, 3) , ptBin =  [10, 11)\n",
      "Fit failed because of high chi2, p =  [5.23193876 1.65511286 0.26573034] , chi2 =  13726701984.452892\n",
      "etaBin =  [3, 5) , ptBin =  [10, 11)\n",
      "Fit failed because of high chi2, p =  [14.21216296  1.63694952  0.26350785] , chi2 =  116104719692.90823\n",
      "-------------------------\n",
      "pt bin [11, 12)\n",
      "-------------------------\n",
      "etaBin =  [0, 1.3) , ptBin =  [11, 12)\n",
      "Fit failed because of high chi2, p =  [27.68282506  1.4291693   0.16328521] , chi2 =  261273775581.94186\n",
      "etaBin =  [1.3, 2.5) , ptBin =  [11, 12)\n",
      "Fit failed because of high chi2, p =  [22.18502644  1.48505969  0.18751663] , chi2 =  121911231698.52951\n",
      "etaBin =  [2.5, 3) , ptBin =  [11, 12)\n",
      "Fit failed because of high chi2, p =  [8.40146672 1.62150186 0.30772605] , chi2 =  20180935810.00648\n",
      "etaBin =  [3, 5) , ptBin =  [11, 12)\n",
      "Fit failed because of high chi2, p =  [25.31490726  1.45266975  0.20923117] , chi2 =  204769454811.93716\n",
      "-------------------------\n",
      "pt bin [12, 13)\n",
      "-------------------------\n",
      "etaBin =  [0, 1.3) , ptBin =  [12, 13)\n",
      "Fit failed because of high chi2, p =  [59.16886749  1.30600599  0.13583904] , chi2 =  846431365493.3424\n",
      "etaBin =  [1.3, 2.5) , ptBin =  [12, 13)\n",
      "Fit failed because of high chi2, p =  [45.53881162  1.32806034  0.10931396] , chi2 =  76564673186.16492\n",
      "etaBin =  [2.5, 3) , ptBin =  [12, 13)\n",
      "Fit failed because of high chi2, p =  [11.20536577  1.41764743  0.21100108] , chi2 =  15230541307.582253\n",
      "etaBin =  [3, 5) , ptBin =  [12, 13)\n",
      "Fit failed because of high chi2, p =  [41.08358786  1.35531482  0.1794155 ] , chi2 =  229754024767.94955\n",
      "-------------------------\n",
      "pt bin [13, 14)\n",
      "-------------------------\n",
      "etaBin =  [0, 1.3) , ptBin =  [13, 14)\n",
      "Fit failed because of high chi2, p =  [96.62626601  1.22756747  0.09697003] , chi2 =  129992176532.87617\n",
      "etaBin =  [1.3, 2.5) , ptBin =  [13, 14)\n",
      "Fit failed because of high chi2, p =  [56.10630905  1.2689908   0.17537869] , chi2 =  737895060873.388\n",
      "etaBin =  [2.5, 3) , ptBin =  [13, 14)\n",
      "Fit failed because of high chi2, p =  [16.17144135  1.32960853  0.23691171] , chi2 =  103084809484.07935\n",
      "etaBin =  [3, 5) , ptBin =  [13, 14)\n",
      "Fit failed because of high chi2, p =  [48.05942626  1.28549597  0.20233506] , chi2 =  812090292527.4531\n",
      "-------------------------\n",
      "pt bin [14, 15)\n",
      "-------------------------\n",
      "etaBin =  [0, 1.3) , ptBin =  [14, 15)\n",
      "Fit failed because of high chi2, p =  [113.25317492   1.15950909   0.14211962] , chi2 =  3513219319173.7734\n",
      "etaBin =  [1.3, 2.5) , ptBin =  [14, 15)\n",
      "Fit failed because of high chi2, p =  [73.56976043  1.20788446  0.18799911] , chi2 =  2086610173548.474\n",
      "etaBin =  [2.5, 3) , ptBin =  [14, 15)\n",
      "Fit failed because of high chi2, p =  [17.9771482   1.31452313  0.26064439] , chi2 =  70567110126.7391\n",
      "etaBin =  [3, 5) , ptBin =  [14, 15)\n",
      "Fit failed because of high chi2, p =  [72.34646537  1.21187652  0.17212051] , chi2 =  482852909647.01337\n",
      "-------------------------\n",
      "pt bin [15, 17)\n",
      "-------------------------\n",
      "etaBin =  [0, 1.3) , ptBin =  [15, 17)\n",
      "Fit failed because of high chi2, p =  [3.44710039e+02 1.08894529e+00 1.52656676e-01] , chi2 =  8202113945716.094\n",
      "etaBin =  [1.3, 2.5) , ptBin =  [15, 17)\n",
      "Fit failed because of high chi2, p =  [1.99004618e+02 1.14349606e+00 1.85669903e-01] , chi2 =  3193838015683.603\n",
      "etaBin =  [2.5, 3) , ptBin =  [15, 17)\n",
      "Fit failed because of high chi2, p =  [45.55293662  1.19528188  0.25467041] , chi2 =  509621438337.74066\n",
      "etaBin =  [3, 5) , ptBin =  [15, 17)\n",
      "Fit failed because of high chi2, p =  [185.54201601   1.14404359   0.18781095] , chi2 =  2971181526981.2095\n",
      "-------------------------\n",
      "pt bin [17, 20)\n",
      "-------------------------\n",
      "etaBin =  [0, 1.3) , ptBin =  [17, 20)\n",
      "Fit failed because of high chi2, p =  [ 6.43229187e+02  1.03870593e+00 -1.84665240e-01] , chi2 =  35357881701267.69\n",
      "etaBin =  [1.3, 2.5) , ptBin =  [17, 20)\n",
      "Fit failed because of high chi2, p =  [4.07501218e+02 1.06794051e+00 2.06108018e-01] , chi2 =  17202321578021.762\n",
      "etaBin =  [2.5, 3) , ptBin =  [17, 20)\n",
      "Fit failed because of high chi2, p =  [100.62949871   1.11476177   0.26120958] , chi2 =  1138998980512.0745\n",
      "etaBin =  [3, 5) , ptBin =  [17, 20)\n"
     ]
    },
    {
     "name": "stdout",
     "output_type": "stream",
     "text": [
      "Fit failed because of high chi2, p =  [3.21712292e+02 1.04814897e+00 2.18742412e-01] , chi2 =  3903535208190.2676\n",
      "-------------------------\n",
      "pt bin [20, 23)\n",
      "-------------------------\n",
      "etaBin =  [0, 1.3) , ptBin =  [20, 23)\n",
      "Fit failed because of high chi2, p =  [ 7.30586641e+02  1.00306959e+00 -2.07586148e-01] , chi2 =  30730932241254.133\n",
      "etaBin =  [1.3, 2.5) , ptBin =  [20, 23)\n",
      "Fit failed because of high chi2, p =  [ 4.51975037e+02  1.01222242e+00 -2.59826841e-01] , chi2 =  45127134998125.086\n",
      "etaBin =  [2.5, 3) , ptBin =  [20, 23)\n",
      "Fit failed because of high chi2, p =  [116.2287849    1.03488707   0.28442515] , chi2 =  2054254306474.7483\n",
      "etaBin =  [3, 5) , ptBin =  [20, 23)\n",
      "Fit failed because of high chi2, p =  [ 3.37606910e+02  1.01453408e+00 -2.47901663e-01] , chi2 =  8840065594065.598\n",
      "-------------------------\n",
      "pt bin [23, 27)\n",
      "-------------------------\n",
      "etaBin =  [0, 1.3) , ptBin =  [23, 27)\n",
      "Fit failed because of high chi2, p =  [ 1.10616589e+03  9.99493827e-01 -1.87903535e-01] , chi2 =  2716663663559.99\n",
      "etaBin =  [1.3, 2.5) , ptBin =  [23, 27)\n",
      "Fit failed because of high chi2, p =  [6.55255404e+02 1.00795956e+00 2.48905436e-01] , chi2 =  17111844067905.932\n",
      "etaBin =  [2.5, 3) , ptBin =  [23, 27)\n",
      "Fit failed because of high chi2, p =  [166.24314059   0.99816464   0.29382221] , chi2 =  4403174982393.501\n",
      "etaBin =  [3, 5) , ptBin =  [23, 27)\n",
      "Fit failed because of high chi2, p =  [ 4.31824306e+02  1.00299039e+00 -2.31740205e-01] , chi2 =  4226022555868.5327\n",
      "-------------------------\n",
      "pt bin [27, 30)\n",
      "-------------------------\n",
      "etaBin =  [0, 1.3) , ptBin =  [27, 30)\n",
      "Fit failed because of high chi2, p =  [ 8.34483444e+02  9.99820485e-01 -1.81502089e-01] , chi2 =  199246734400.42682\n",
      "etaBin =  [1.3, 2.5) , ptBin =  [27, 30)\n",
      "Fit failed because of high chi2, p =  [ 5.12043832e+02  1.00738582e+00 -2.25323936e-01] , chi2 =  1451037559357.7312\n",
      "etaBin =  [2.5, 3) , ptBin =  [27, 30)\n",
      "Fit failed because of high chi2, p =  [124.8714733    0.99310874   0.31033083] , chi2 =  2085227314291.0127\n",
      "etaBin =  [3, 5) , ptBin =  [27, 30)\n",
      "Fit failed because of high chi2, p =  [3.33920023e+02 1.00651987e+00 2.01706743e-01] , chi2 =  142594002831.4682\n",
      "-------------------------\n",
      "pt bin [30, 35)\n",
      "-------------------------\n",
      "etaBin =  [0, 1.3) , ptBin =  [30, 35)\n",
      "Fit failed because of high chi2, p =  [ 1.43366602e+03  1.00120808e+00 -1.61883307e-01] , chi2 =  7176860984.518431\n",
      "etaBin =  [1.3, 2.5) , ptBin =  [30, 35)\n",
      "Fit failed because of high chi2, p =  [ 8.42163419e+02  1.00416068e+00 -2.17655075e-01] , chi2 =  220429672644.62097\n",
      "etaBin =  [2.5, 3) , ptBin =  [30, 35)\n",
      "Fit failed because of high chi2, p =  [217.00966798   0.99276508   0.25842202] , chi2 =  245394285136.07632\n",
      "etaBin =  [3, 5) , ptBin =  [30, 35)\n",
      "Fit failed because of high chi2, p =  [ 4.90372934e+02  9.94889588e-01 -2.00379222e-01] , chi2 =  20849516738.31375\n",
      "-------------------------\n",
      "pt bin [35, 40)\n",
      "-------------------------\n",
      "etaBin =  [0, 1.3) , ptBin =  [35, 40)\n",
      "Fit failed because of high chi2, p =  [ 1.44303047e+03  1.00305548e+00 -1.55100801e-01] , chi2 =  11020930.37583531\n",
      "etaBin =  [1.3, 2.5) , ptBin =  [35, 40)\n",
      "Fit failed because of high chi2, p =  [ 8.26169257e+02  1.00474087e+00 -1.94794076e-01] , chi2 =  4147560090.2951035\n",
      "etaBin =  [2.5, 3) , ptBin =  [35, 40)\n",
      "Fit failed because of high chi2, p =  [208.35718261   0.99648426   0.22744631] , chi2 =  9539733930.089325\n",
      "etaBin =  [3, 5) , ptBin =  [35, 40)\n",
      "Fit failed because of high chi2, p =  [4.06644413e+02 1.00294043e+00 1.98663369e-01] , chi2 =  1734294175.1600907\n",
      "-------------------------\n",
      "pt bin [40, 45)\n",
      "-------------------------\n",
      "etaBin =  [0, 1.3) , ptBin =  [40, 45)\n",
      "Fit failed because of high chi2, p =  [ 1.35044281e+03  1.00188329e+00 -1.49760909e-01] , chi2 =  111593.76547686839\n",
      "etaBin =  [1.3, 2.5) , ptBin =  [40, 45)\n",
      "Fit failed because of high chi2, p =  [ 7.98302061e+02  1.00283576e+00 -1.86576553e-01] , chi2 =  1357773689.1078544\n",
      "etaBin =  [2.5, 3) , ptBin =  [40, 45)\n",
      "Fit failed because of high chi2, p =  [200.20140584   1.00659396   0.21066263] , chi2 =  707303007.0208585\n",
      "etaBin =  [3, 5) , ptBin =  [40, 45)\n",
      "Fit failed because of high chi2, p =  [3.89476992e+02 9.94356363e-01 1.79759065e-01] , chi2 =  162972561.96697405\n",
      "-------------------------\n",
      "pt bin [45, 57)\n",
      "-------------------------\n",
      "etaBin =  [0, 1.3) , ptBin =  [45, 57)\n",
      "Fit converged, p =  [ 3.14181142e+03  1.00172791e+00 -1.34468399e-01] , chi2 =  947.1824037009318\n",
      "etaBin =  [1.3, 2.5) , ptBin =  [45, 57)\n",
      "Fit failed because of high chi2, p =  [1.85074349e+03 1.00457242e+00 1.62959019e-01] , chi2 =  414548.54371836444\n",
      "etaBin =  [2.5, 3) , ptBin =  [45, 57)\n",
      "Fit failed because of high chi2, p =  [4.49838262e+02 9.98747903e-01 1.85620095e-01] , chi2 =  62091632.16504604\n",
      "etaBin =  [3, 5) , ptBin =  [45, 57)\n",
      "Fit failed because of high chi2, p =  [ 7.48768091e+02  1.00440307e+00 -1.60976010e-01] , chi2 =  780894.3913306661\n",
      "-------------------------\n",
      "pt bin [57, 72)\n",
      "-------------------------\n",
      "etaBin =  [0, 1.3) , ptBin =  [57, 72)\n",
      "Fit converged, p =  [ 3.48589683e+03  1.00130838e+00 -1.24134693e-01] , chi2 =  747.0141715912276\n",
      "etaBin =  [1.3, 2.5) , ptBin =  [57, 72)\n",
      "Fit converged, p =  [ 2.03661762e+03  1.00295062e+00 -1.49193084e-01] , chi2 =  516.9660215012765\n",
      "etaBin =  [2.5, 3) , ptBin =  [57, 72)\n",
      "Fit failed because of high chi2, p =  [5.23551609e+02 9.92842532e-01 1.53177701e-01] , chi2 =  10998029.377872849\n",
      "etaBin =  [3, 5) , ptBin =  [57, 72)\n",
      "Fit converged, p =  [ 6.63970649e+02  9.96457327e-01 -1.48478034e-01] , chi2 =  24770.549717070557\n",
      "-------------------------\n",
      "pt bin [72, 90)\n",
      "-------------------------\n",
      "etaBin =  [0, 1.3) , ptBin =  [72, 90)\n",
      "Fit converged, p =  [ 3.75001302e+03  1.00002311e+00 -1.17316436e-01] , chi2 =  541.7721089161831\n",
      "etaBin =  [1.3, 2.5) , ptBin =  [72, 90)\n",
      "Fit converged, p =  [ 2.17873854e+03  1.00626839e+00 -1.30698609e-01] , chi2 =  439.5752472117799\n",
      "etaBin =  [2.5, 3) , ptBin =  [72, 90)\n",
      "Fit converged, p =  [5.09729975e+02 9.97208807e-01 1.38108863e-01] , chi2 =  9433.134133303722\n",
      "etaBin =  [3, 5) , ptBin =  [72, 90)\n",
      "Fit failed because of high chi2, p =  [ 5.28488912e+02  1.00110060e+00 -1.40674196e-01] , chi2 =  724655.4376482562\n",
      "-------------------------\n",
      "pt bin [90, 120)\n",
      "-------------------------\n",
      "etaBin =  [0, 1.3) , ptBin =  [90, 120)\n",
      "Fit converged, p =  [ 5.41902456e+03  1.00314957e+00 -1.05863500e-01] , chi2 =  872.1358127321348\n",
      "etaBin =  [1.3, 2.5) , ptBin =  [90, 120)\n",
      "Fit converged, p =  [ 3.02591741e+03  1.00295509e+00 -1.19976462e-01] , chi2 =  611.8375308492485\n",
      "etaBin =  [2.5, 3) , ptBin =  [90, 120)\n",
      "Fit converged, p =  [ 7.06993602e+02  9.98182706e-01 -1.20103634e-01] , chi2 =  1849.513553213705\n",
      "etaBin =  [3, 5) , ptBin =  [90, 120)\n",
      "Fit converged, p =  [ 5.30433170e+02  1.00388092e+00 -1.31481330e-01] , chi2 =  2236.6108471981265\n",
      "-------------------------\n",
      "pt bin [120, 150)\n",
      "-------------------------\n",
      "etaBin =  [0, 1.3) , ptBin =  [120, 150)\n",
      "Fit converged, p =  [4.66733310e+03 1.00341906e+00 1.00811661e-01] , chi2 =  451.3102145274211\n",
      "etaBin =  [1.3, 2.5) , ptBin =  [120, 150)\n",
      "Fit converged, p =  [ 2.54494016e+03  1.00347031e+00 -1.05901354e-01] , chi2 =  341.02024339031635\n",
      "etaBin =  [2.5, 3) , ptBin =  [120, 150)\n",
      "Fit failed because of high chi2, p =  [5.33201420e+02 1.00188488e+00 1.10272982e-01] , chi2 =  114795368.68483295\n",
      "etaBin =  [3, 5) , ptBin =  [120, 150)\n",
      "Fit failed because of high chi2, p =  [2.92746816e+02 1.00136746e+00 1.30123428e-01] , chi2 =  136290438.95331046\n",
      "-------------------------\n",
      "pt bin [150, 200)\n",
      "-------------------------\n",
      "etaBin =  [0, 1.3) , ptBin =  [150, 200)\n",
      "Fit converged, p =  [6.81841704e+03 1.00263696e+00 8.91721940e-02] , chi2 =  633.0942744348108\n",
      "etaBin =  [1.3, 2.5) , ptBin =  [150, 200)\n",
      "Fit converged, p =  [ 3.48497538e+03  1.00522855e+00 -9.78971696e-02] , chi2 =  448.36643335094567\n",
      "etaBin =  [2.5, 3) , ptBin =  [150, 200)\n",
      "Fit failed because of high chi2, p =  [6.66896188e+02 1.00293418e+00 9.64266545e-02] , chi2 =  2143689.4749417915\n",
      "etaBin =  [3, 5) , ptBin =  [150, 200)\n",
      "Fit failed because of high chi2, p =  [2.18078287e+02 1.00243685e+00 1.33599715e-01] , chi2 =  144156834.43157896\n",
      "-------------------------\n",
      "pt bin [200, 300)\n",
      "-------------------------\n",
      "etaBin =  [0, 1.3) , ptBin =  [200, 300)\n",
      "Fit converged, p =  [1.13857855e+04 1.00356881e+00 7.92559293e-02] , chi2 =  909.6065485417259\n",
      "etaBin =  [1.3, 2.5) , ptBin =  [200, 300)\n",
      "Fit converged, p =  [ 5.38167772e+03  1.00412979e+00 -8.26522268e-02] , chi2 =  782.5328321255997\n",
      "etaBin =  [2.5, 3) , ptBin =  [200, 300)\n",
      "Fit converged, p =  [7.48278913e+02 1.00112711e+00 8.46868993e-02] , chi2 =  77.77335529956751\n",
      "etaBin =  [3, 5) , ptBin =  [200, 300)\n",
      "Fit converged, p =  [114.81668444   1.00536371   0.13419181] , chi2 =  11009.447612150874\n",
      "-------------------------\n",
      "pt bin [300, 400)\n",
      "-------------------------\n",
      "etaBin =  [0, 1.3) , ptBin =  [300, 400)\n",
      "Fit converged, p =  [9.50710959e+03 1.00271839e+00 6.99477840e-02] , chi2 =  646.8241808257238\n",
      "etaBin =  [1.3, 2.5) , ptBin =  [300, 400)\n",
      "Fit converged, p =  [ 3.76670179e+03  1.00404801e+00 -7.47042132e-02] , chi2 =  521.2484332933411\n",
      "etaBin =  [2.5, 3) , ptBin =  [300, 400)\n",
      "Fit converged, p =  [3.35022184e+02 9.98036536e-01 6.57733597e-02] , chi2 =  59.18075417417788\n",
      "etaBin =  [3, 5) , ptBin =  [300, 400)\n",
      "Fit failed because of high chi2, p =  [16.89465777  0.99717258  0.12277179] , chi2 =  344992300.6613505\n",
      "-------------------------\n",
      "pt bin [400, 550)\n",
      "-------------------------\n",
      "etaBin =  [0, 1.3) , ptBin =  [400, 550)\n",
      "Fit converged, p =  [1.25778710e+04 1.00261682e+00 6.27501775e-02] , chi2 =  869.246290946094\n",
      "etaBin =  [1.3, 2.5) , ptBin =  [400, 550)\n",
      "Fit converged, p =  [ 3.98071499e+03  1.00466290e+00 -6.97505475e-02] , chi2 =  568.5699982905616\n",
      "etaBin =  [2.5, 3) , ptBin =  [400, 550)\n",
      "Fit failed because of high chi2, p =  [1.52579813e+02 9.96485889e-01 6.10389987e-02] , chi2 =  8710861597.533228\n"
     ]
    },
    {
     "name": "stdout",
     "output_type": "stream",
     "text": [
      "etaBin =  [3, 5) , ptBin =  [400, 550)\n",
      "Fit failed because of high chi2, p =  [ 1.09455105  0.95556368 -0.34967378] , chi2 =  7736932353.493788\n",
      "-------------------------\n",
      "pt bin [550, 750)\n",
      "-------------------------\n",
      "etaBin =  [0, 1.3) , ptBin =  [550, 750)\n",
      "Fit converged, p =  [1.44881515e+04 1.00119867e+00 5.76013705e-02] , chi2 =  935.9008889540787\n",
      "etaBin =  [1.3, 2.5) , ptBin =  [550, 750)\n",
      "Fit converged, p =  [ 3.28236877e+03  1.00459992e+00 -6.43620175e-02] , chi2 =  497.0026044466833\n",
      "etaBin =  [2.5, 3) , ptBin =  [550, 750)\n",
      "Fit failed because of high chi2, p =  [22.34917409  0.99456193 -0.06244066] , chi2 =  313867592.08857745\n",
      "etaBin =  [3, 5) , ptBin =  [550, 750)\n",
      "Fit converged, p =  [-6.16569531e-36  1.00000000e+00  1.00000000e+00] , chi2 =  1.2269999930102548e-60\n",
      "-------------------------\n",
      "pt bin [750, 1000)\n",
      "-------------------------\n",
      "etaBin =  [0, 1.3) , ptBin =  [750, 1000)\n",
      "Fit converged, p =  [ 1.58292793e+04  1.00090324e+00 -5.34151852e-02] , chi2 =  1122.909491000517\n",
      "etaBin =  [1.3, 2.5) , ptBin =  [750, 1000)\n",
      "Fit converged, p =  [ 2.24947418e+03  1.00257272e+00 -6.22790399e-02] , chi2 =  337.3298942803853\n",
      "etaBin =  [2.5, 3) , ptBin =  [750, 1000)\n",
      "etaBin =  [3, 5) , ptBin =  [750, 1000)\n",
      "Fit converged, p =  [-6.16569531e-36  1.00000000e+00  1.00000000e+00] , chi2 =  1.2269999930102548e-60\n",
      "-------------------------\n",
      "pt bin [1000, 1500)\n",
      "-------------------------\n",
      "etaBin =  [0, 1.3) , ptBin =  [1000, 1500)\n",
      "Fit converged, p =  [ 2.73696422e+04  1.00070361e+00 -5.02898071e-02] , chi2 =  1931.4548040564596\n",
      "etaBin =  [1.3, 2.5) , ptBin =  [1000, 1500)\n",
      "Fit converged, p =  [ 1.78263290e+03  1.00222162e+00 -5.90400926e-02] , chi2 =  325.66072601936844\n",
      "etaBin =  [2.5, 3) , ptBin =  [1000, 1500)\n",
      "Fit converged, p =  [-6.16569531e-36  1.00000000e+00  1.00000000e+00] , chi2 =  1.2269999930102548e-60\n",
      "etaBin =  [3, 5) , ptBin =  [1000, 1500)\n",
      "Fit converged, p =  [-6.16569531e-36  1.00000000e+00  1.00000000e+00] , chi2 =  1.2269999930102548e-60\n",
      "-------------------------\n",
      "pt bin [1500, 2000)\n",
      "-------------------------\n",
      "etaBin =  [0, 1.3) , ptBin =  [1500, 2000)\n",
      "Fit converged, p =  [2.32321472e+04 1.00256882e+00 4.87111877e-02] , chi2 =  1804.9873392982383\n",
      "etaBin =  [1.3, 2.5) , ptBin =  [1500, 2000)\n",
      "Fit converged, p =  [3.71582998e+02 1.00017848e+00 6.36342986e-02] , chi2 =  62.48861316615884\n",
      "etaBin =  [2.5, 3) , ptBin =  [1500, 2000)\n",
      "Fit converged, p =  [-6.16569531e-36  1.00000000e+00  1.00000000e+00] , chi2 =  1.2269999930102548e-60\n",
      "etaBin =  [3, 5) , ptBin =  [1500, 2000)\n",
      "Fit converged, p =  [-6.16569531e-36  1.00000000e+00  1.00000000e+00] , chi2 =  1.2269999930102548e-60\n",
      "-------------------------\n",
      "pt bin [2000, 2500)\n",
      "-------------------------\n",
      "etaBin =  [0, 1.3) , ptBin =  [2000, 2500)\n",
      "Fit converged, p =  [1.93892844e+04 1.00434702e+00 4.88255660e-02] , chi2 =  2342.680695808195\n",
      "etaBin =  [1.3, 2.5) , ptBin =  [2000, 2500)\n",
      "Fit failed because of high chi2, p =  [66.32826278  0.99835566  0.06792125] , chi2 =  64219527.78383587\n",
      "etaBin =  [2.5, 3) , ptBin =  [2000, 2500)\n",
      "Fit converged, p =  [-6.16569531e-36  1.00000000e+00  1.00000000e+00] , chi2 =  1.2269999930102548e-60\n",
      "etaBin =  [3, 5) , ptBin =  [2000, 2500)\n",
      "Fit converged, p =  [-6.16569531e-36  1.00000000e+00  1.00000000e+00] , chi2 =  1.2269999930102548e-60\n",
      "-------------------------\n",
      "pt bin [2500, 3000)\n",
      "-------------------------\n",
      "etaBin =  [0, 1.3) , ptBin =  [2500, 3000)\n",
      "Fit converged, p =  [1.55692773e+04 1.00755871e+00 5.06490197e-02] , chi2 =  3877.1498583449707\n",
      "etaBin =  [1.3, 2.5) , ptBin =  [2500, 3000)\n",
      "Fit failed because of high chi2, p =  [4.30196301 0.99358723 0.06234564] , chi2 =  234031325.67208153\n",
      "etaBin =  [2.5, 3) , ptBin =  [2500, 3000)\n",
      "Fit converged, p =  [-6.16569531e-36  1.00000000e+00  1.00000000e+00] , chi2 =  1.2269999930102548e-60\n",
      "etaBin =  [3, 5) , ptBin =  [2500, 3000)\n",
      "Fit converged, p =  [-6.16569531e-36  1.00000000e+00  1.00000000e+00] , chi2 =  1.2269999930102548e-60\n",
      "-------------------------\n",
      "pt bin [3000, 3500)\n",
      "-------------------------\n",
      "etaBin =  [0, 1.3) , ptBin =  [3000, 3500)\n",
      "Fit converged, p =  [1.22921628e+04 1.01142010e+00 5.34662835e-02] , chi2 =  7684.949206584109\n",
      "etaBin =  [1.3, 2.5) , ptBin =  [3000, 3500)\n",
      "Fit converged, p =  [-6.16569531e-36  1.00000000e+00  1.00000000e+00] , chi2 =  1.2269999930102548e-60\n",
      "etaBin =  [2.5, 3) , ptBin =  [3000, 3500)\n",
      "Fit converged, p =  [-6.16569531e-36  1.00000000e+00  1.00000000e+00] , chi2 =  1.2269999930102548e-60\n",
      "etaBin =  [3, 5) , ptBin =  [3000, 3500)\n",
      "Fit converged, p =  [-6.16569531e-36  1.00000000e+00  1.00000000e+00] , chi2 =  1.2269999930102548e-60\n",
      "-------------------------\n",
      "pt bin [3500, 4000)\n",
      "-------------------------\n",
      "etaBin =  [0, 1.3) , ptBin =  [3500, 4000)\n",
      "Fit converged, p =  [9.27979011e+03 1.01808827e+00 6.02853091e-02] , chi2 =  21527.79510430266\n",
      "etaBin =  [1.3, 2.5) , ptBin =  [3500, 4000)\n",
      "Fit converged, p =  [-6.16569531e-36  1.00000000e+00  1.00000000e+00] , chi2 =  1.2269999930102548e-60\n",
      "etaBin =  [2.5, 3) , ptBin =  [3500, 4000)\n",
      "Fit converged, p =  [-6.16569531e-36  1.00000000e+00  1.00000000e+00] , chi2 =  1.2269999930102548e-60\n",
      "etaBin =  [3, 5) , ptBin =  [3500, 4000)\n",
      "Fit converged, p =  [-6.16569531e-36  1.00000000e+00  1.00000000e+00] , chi2 =  1.2269999930102548e-60\n",
      "-------------------------\n",
      "pt bin [4000, 4500)\n",
      "-------------------------\n",
      "etaBin =  [0, 1.3) , ptBin =  [4000, 4500)\n",
      "Fit converged, p =  [ 7.25466337e+03  1.00598040e+00 -4.62974391e-02] , chi2 =  1574.9356236221215\n",
      "etaBin =  [1.3, 2.5) , ptBin =  [4000, 4500)\n",
      "Fit converged, p =  [-6.16569531e-36  1.00000000e+00  1.00000000e+00] , chi2 =  1.2269999930102548e-60\n",
      "etaBin =  [2.5, 3) , ptBin =  [4000, 4500)\n",
      "Fit converged, p =  [-6.16569531e-36  1.00000000e+00  1.00000000e+00] , chi2 =  1.2269999930102548e-60\n",
      "etaBin =  [3, 5) , ptBin =  [4000, 4500)\n",
      "Fit converged, p =  [-6.16569531e-36  1.00000000e+00  1.00000000e+00] , chi2 =  1.2269999930102548e-60\n",
      "-------------------------\n",
      "pt bin [4500, 5000)\n",
      "-------------------------\n",
      "etaBin =  [0, 1.3) , ptBin =  [4500, 5000)\n",
      "Fit converged, p =  [5.89742787e+03 1.00629446e+00 4.66369393e-02] , chi2 =  1478.6342113174467\n",
      "etaBin =  [1.3, 2.5) , ptBin =  [4500, 5000)\n",
      "Fit converged, p =  [-6.16569531e-36  1.00000000e+00  1.00000000e+00] , chi2 =  1.2269999930102548e-60\n",
      "etaBin =  [2.5, 3) , ptBin =  [4500, 5000)\n",
      "Fit converged, p =  [-6.16569531e-36  1.00000000e+00  1.00000000e+00] , chi2 =  1.2269999930102548e-60\n",
      "etaBin =  [3, 5) , ptBin =  [4500, 5000)\n",
      "Fit converged, p =  [-6.16569531e-36  1.00000000e+00  1.00000000e+00] , chi2 =  1.2269999930102548e-60\n",
      "-------------------------\n",
      "pt bin [5000, 10000)\n",
      "-------------------------\n",
      "etaBin =  [0, 1.3) , ptBin =  [5000, 10000)\n",
      "Fit converged, p =  [ 9.95222512e+03  1.00355660e+00 -4.93485420e-02] , chi2 =  10566.014622946055\n",
      "etaBin =  [1.3, 2.5) , ptBin =  [5000, 10000)\n",
      "Fit converged, p =  [-6.16569531e-36  1.00000000e+00  1.00000000e+00] , chi2 =  1.2269999930102548e-60\n",
      "etaBin =  [2.5, 3) , ptBin =  [5000, 10000)\n",
      "Fit converged, p =  [-6.16569531e-36  1.00000000e+00  1.00000000e+00] , chi2 =  1.2269999930102548e-60\n",
      "etaBin =  [3, 5) , ptBin =  [5000, 10000)\n",
      "Fit converged, p =  [-6.16569531e-36  1.00000000e+00  1.00000000e+00] , chi2 =  1.2269999930102548e-60\n",
      "N converge =  167 N_not_converge =  1\n",
      "mean_p =  [0.99949383 0.99982048 1.00120808 1.00305548 1.00188329 1.00172791\n",
      " 1.00130838 1.00002311 1.00314957 1.00341906 1.00263696 1.00356881\n",
      " 1.00271839 1.00261682 1.00119867 1.00090324 1.00070361 1.00256882\n",
      " 1.00434702 1.00755871 1.0114201  1.01808827 1.0059804  1.00629446\n",
      " 1.0035566 ]\n",
      "mean_p =  [0.99949383 0.99982048 1.00120808 1.00305548 1.00188329 1.00172791\n",
      " 1.00130838 1.00002311 1.00314957 1.00341906 1.00263696 1.00356881\n",
      " 1.00271839 1.00261682 1.00119867 1.00090324 1.00070361 1.00256882\n",
      " 1.00434702 1.00755871 1.0114201  1.01808827 1.0059804  1.00629446\n",
      " 1.0035566 ]\n",
      "Shapes =  (43,) (42, 4) (42, 4)\n"
     ]
    },
    {
     "data": {
      "image/png": "[encoded data removed]",
      "text/plain": [
       "<Figure size 420x280 with 1 Axes>"
      ]
     },
     "metadata": {},
     "output_type": "display_data"
    }
   ],
   "source": [
    "load_fit_res = False\n",
    "subsamples = ['', '_b', '_c', '_l', '_g']\n",
    "subsamples = ['']\n",
    "for samp in subsamples:\n",
    "    print('-'*25)\n",
    "    print('-'*25)\n",
    "    print('Fitting subsample: ', samp)\n",
    "    if load_fit_res:\n",
    "        mean = read_data(\"Mean\", samp)\n",
    "        meanvar = read_data(\"MeanVar\", samp)\n",
    "#         width = read_data(\"Width\")\n",
    "#         median = read_data(median, \"Median\")\n",
    "    else:\n",
    "        mean, width, median, chi2s, meanvar = fit_responses(output, samp)\n",
    "        for data, name in zip([mean, width, median, meanvar],[\"Mean\", \"Width\", \"Median\", \"MeanVar\"]):\n",
    "            save_data(data, name, samp)\n",
    "            \n",
    "    plot_corrections(mean, samp, meanvar)"
   ]
  },
  {
   "cell_type": "code",
   "execution_count": null,
   "metadata": {},
   "outputs": [],
   "source": [
    "### To scale the histograms to the closure\n",
    "# scalings = pd.read_csv('out_txt/EtaBinsvsPtBinsMean_L5_scale.csv').set_index('etaBins')"
   ]
  },
  {
   "cell_type": "code",
   "execution_count": 199,
   "metadata": {
    "scrolled": true
   },
   "outputs": [],
   "source": [
    "# import warnings\n",
    "# warnings.filterwarnings('ignore') ### To suppress warnings with bad \n",
    "\n",
    "# N_converge = 0\n",
    "# N_not_converge = 0\n",
    "# chi2s = np.zeros((jetpt_length, jeteta_length))\n",
    "# plot_pt_edges = output['ptresponse'+samp].axis('ptresponse').edges()[0:42]\n",
    "# hist_pt_edges = plot_pt_edges[1:-1]\n",
    "# plot_response_axis = hist.Bin(\"jeteta\", r\"Jet $\\eta$\", hist_pt_edges)\n",
    "\n",
    "# xvals = output['ptresponse'+samp].axis('ptresponse').centers()[1:] #[1:] to exclude the second peak for low pt\n",
    "# # xvals = xvals[1:]\n",
    "# f_xvals = np.linspace(0,5,5001)\n",
    "\n",
    "# FitFigDir = 'fig/response_pt_eta'+samp+tag_full\n",
    "# print(\"Images will be saved under \", FitFigDir)\n",
    "# if not os.path.exists(FitFigDir):\n",
    "#     os.mkdir(FitFigDir)\n",
    "\n",
    "\n",
    "\n",
    "# for i in range(len(ptbins)-1):\n",
    "        \n",
    "#     ptBin = hist.Interval(ptbins[i], ptbins[i+1])\n",
    "#     print('-'*25)\n",
    "#     print('pt bin '+str(ptBin))\n",
    "#     print('-'*25)\n",
    "    \n",
    "#     if not 'inf' in str(ptBin):\n",
    "#         pt_string = '_pT'+str(int(ptBin.lo))+'to'+str(int(ptBin.hi))\n",
    "#     else:\n",
    "#         pt_string = '_pT'+str(ptBin.lo) + 'to' + str(ptBin.hi)\n",
    "#         pt_string = pt_string.replace('.0','').replace('-infto','0to')\n",
    "    \n",
    "#     for k in range(len(etabins)-1):\n",
    "        \n",
    "#         etaBin = hist.Interval(etabins[k], etabins[k+1])\n",
    "#         eta_string = '_eta'+str(etaBin.lo)+'to'+str(etaBin.hi)\n",
    "#         eta_string = eta_string.replace('.','')\n",
    "   \n",
    "#         # The name integrate is a bit misleasding in this line. Is there another way to \"slice\" a histogram? //Andris\n",
    "#         histo = output['ptresponse'+samp].integrate('jeteta', etaBin).integrate('pt', ptBin) \n",
    "        \n",
    "#         histvals = np.repeat(histo.axis('ptresponse').centers(), np.array(histo.values()[('QCD',)],dtype='int'))\n",
    "\n",
    "#         yvals = histo.values()[('QCD',)][1:]\n",
    "# #         yvals = yvals\n",
    "# #         scal = scalings.loc[etaBin.lo,str(ptBin.lo)]\n",
    "# #         xvals2 = xvals-(scal-1)\n",
    "        \n",
    "#         print(\"etaBin = \", etaBin ,\", ptBin = \", ptBin )\n",
    "        \n",
    "#         try:\n",
    "#             p, arr = curve_fit(gauss, xvals, yvals, p0=[10,1,1])\n",
    "#             N_converge += 1\n",
    "            \n",
    "            \n",
    "#                         ### Second Gaussian\n",
    "#             xfit_l = np.where(xvals>=p[1]-np.abs(p[2])*1.5)[0][0]\n",
    "#             xfit_h = np.where(xvals>=p[1]+np.abs(p[2])*1.5)[0][0]\n",
    "#             xvals2 = xvals[xfit_l: xfit_h]\n",
    "#             yvals2 = yvals[xfit_l: xfit_h]\n",
    "#             p2, arr = curve_fit(gauss, xvals2, yvals2, p0=p)\n",
    "            \n",
    "#             ygaus = gauss(xvals, *p2)\n",
    "#             chi2 = sum((yvals-ygaus)**2/(yvals+1E-9))\n",
    "#             Ndof = len(xvals)-3\n",
    "#             if chi2<50000:\n",
    "#                 pass\n",
    "#                 print(\"Fit converged, p = \", p2, \", chi2 = \", chi2 )\n",
    "#             else:\n",
    "#                 print(\"Fit failed because of high chi2, p = \", p2, \", chi2 = \", chi2 )\n",
    "\n",
    "#         except:\n",
    "# #             print(\"Fit failed because of non-convergance, p = \", p)\n",
    "#             N_not_converge += 1\n",
    "#             continue\n",
    "        \n",
    "        \n",
    "#         fgaus = gauss(f_xvals, *p)\n",
    "#         fgaus2 = gauss(f_xvals, *p2)\n",
    "        \n",
    "#         median[i,k] = np.median(histvals)\n",
    "#         mean[i,k] = p[1] # - (scal-1)\n",
    "#         width[i,k] = p[2]\n",
    "#         chi2s[i,k] = chi2\n",
    "#         idx.append(i)\n",
    "        \n",
    "#         N = histo.integrate('ptresponse').values()[('QCD',)]\n",
    "#         histo = histo.rebin('ptresponse', plot_response_axis)\n",
    "\n",
    "#         if not test_run:\n",
    "#             h = np.max(histo.values()[('QCD',)]);\n",
    "#             h = h if h!=0 else 0.05\n",
    "#             fig, ax2 = plt.subplots();\n",
    "#             hist.plot1d(histo, ax=ax2, overlay='dataset', overflow='all',\n",
    "#                         fill_opts={'alpha': .5, 'edgecolor': (0,0,0,0.3), 'linewidth': 1.4})\n",
    "#             ax2.plot(f_xvals, fgaus, label='Gaus',linewidth=1.8)\n",
    "#             ax2.plot(f_xvals, fgaus2, label='Gaus, 2nd fit',linewidth=1.8)\n",
    "#             ax2.set_xlabel(\"JER ($E_{RECO}/E_{GEN}$)\")\n",
    "#             ax2.set_xlim(plot_pt_edges[[0,-1]])\n",
    "#             plt.text(1.4,0.75*h,'Mean {0:0.2f}'.format(p[1]))\n",
    "#             plt.text(1.4,0.68*h,'Median {0:0.2f}'.format(np.median(histvals)))\n",
    "#             plt.text(1.4,0.61*h,'Width {0:0.2f}'.format(p[2]))\n",
    "#             plt.text(1.3,0.53*h,'$\\chi^2/ndof$ {0:0.1f}/{0:0.1f}'.format(chi2, Ndof))\n",
    "#             plt.text(1.3,0.46*h,'N data = {0:0.0f}'.format(N))\n",
    "#             ax2.legend(ncol=2);\n",
    "            \n",
    "# #             hist.plot1d(histo, ax=ax2, overlay='dataset');\n",
    "# #             ax2.plot(f_xvals, fgaus, label='Gaus');\n",
    "# #             plt.text(3.8,0.75*h,'Mean {0:0.2f}'.format(p[1]));\n",
    "# #             plt.text(3.8,0.68*h,'Median {0:0.2f}'.format(np.median(histvals)));\n",
    "# #             plt.text(3.8,0.61*h,'Width {0:0.2f}'.format(p[2]));\n",
    "# #             ax2.legend();\n",
    "\n",
    "#             # plt.show();\n",
    "#             plt.savefig(FitFigDir+'/ptResponse'+pt_string+eta_string+'.png');\n",
    "#             plt.savefig(FitFigDir+'/ptResponse'+pt_string+eta_string+'.pdf');\n",
    "#             plt.close();                \n",
    "        \n",
    "# warnings.filterwarnings('default')\n",
    "# print(\"N converge = \", N_converge, \"N_not_converge = \", N_not_converge );    "
   ]
  },
  {
   "cell_type": "markdown",
   "metadata": {},
   "source": [
    "### Playground with fitting and plotting"
   ]
  },
  {
   "cell_type": "code",
   "execution_count": 95,
   "metadata": {},
   "outputs": [],
   "source": [
    "# scalings.to_numpy()[0,2]"
   ]
  },
  {
   "cell_type": "code",
   "execution_count": 96,
   "metadata": {},
   "outputs": [],
   "source": [
    "# mean[2,0]"
   ]
  },
  {
   "cell_type": "code",
   "execution_count": null,
   "metadata": {},
   "outputs": [],
   "source": []
  },
  {
   "cell_type": "code",
   "execution_count": 269,
   "metadata": {},
   "outputs": [
    {
     "data": {
      "image/png": "[encoded data removed]",
      "text/plain": [
       "<Figure size 420x280 with 1 Axes>"
      ]
     },
     "metadata": {},
     "output_type": "display_data"
    }
   ],
   "source": [
    "\n",
    "### To ignore the points with 0 on y axis when setting the y axis limits\n",
    "mean_p = mean.copy()\n",
    "mean_p[mean_p==0] = np.nan\n",
    "\n",
    "# h = np.max(histo.values()[('QCD',)])\n",
    "fig, ax = plt.subplots()\n",
    "start = 17\n",
    "k0 = np.where(etabins<=-5)[0][-1]\n",
    "k4 = np.where(etabins<=-3)[0][-1]\n",
    "k1 = np.where(etabins<=-2.5)[0][-1]\n",
    "k5 = np.where(etabins<=-1.3)[0][-1]\n",
    "k2 = np.where(etabins<=0)[0][-1]\n",
    "k3 = np.where(etabins<=1.3)[0][-1]\n",
    "\n",
    "\n",
    "# ax.plot(ptbins[start:],mean_p[start:,k0], 'o', label=f'${etabins[k0]}<\\eta<{etabins[k0+1]}$')\n",
    "# ax.plot(ptbins[start:],mean_p[start:,k4], 'o', label=f'${etabins[k4]}<\\eta<{etabins[k4+1]}$')\n",
    "# ax.plot(ptbins[start:],mean_p[start:,k1], 'o', label=f'${etabins[k1]}<\\eta<{etabins[k1+1]}$')\n",
    "plt.errorbar(ptbins[start:],mean_p[start:,k5], yerr=np.sqrt(meanvar[start:,k5]), marker='o',\n",
    "             linestyle=\"none\", label=f'${etabins[k5]}<\\eta<{etabins[k5+1]}$')\n",
    "plt.errorbar(ptbins[start:]+0.4,mean_p[start:,k2], yerr=np.sqrt(meanvar[start:,k2]), marker='o',\n",
    "             linestyle=\"none\", label=f'${etabins[k2]}<\\eta<{etabins[k2+1]}$')\n",
    "\n",
    "plt.errorbar(ptbins[start:],mean_p[start:,k1], yerr=np.sqrt(meanvar[start:,k1]), marker='o',\n",
    "             linestyle=\"none\", label=f'${etabins[k1]}<\\eta<{etabins[k1+1]}$')\n",
    "plt.errorbar(ptbins[start:]+0.4,mean_p[start:,k3], yerr=np.sqrt(meanvar[start:,k3]), marker='o',\n",
    "             linestyle=\"none\", label=f'${etabins[k3]}<\\eta<{etabins[k3+1]}$')\n",
    "# plt.errorbar(ptbins[start:],mean_p[start:,k3], yerr=np.sqrt(meanvar[start:,k3]), marker='o',\n",
    "#              linestyle=\"none\", label=f'${etabins[k3]}<\\eta<{etabins[k3+1]}$')\n",
    "# ax.plot(ptbins[start:],mean_p[start:,k5], 'o', label=f'${etabins[k5]}<\\eta<{etabins[k5+1]}$')\n",
    "\n",
    "# ax.plot(ptbins[start:],mean_p[start:,k2], 'o', label=f'${etabins[k2]}<\\eta<{etabins[k2+1]}$')\n",
    "# ax.plot(ptbins[start:],mean_p[start:,k3], 'o', label=f'${etabins[k3]}<\\eta<{etabins[k3+1]}$')\n",
    "\n",
    "ax.set_xlabel(r'$p_T$ (GeV)');\n",
    "ax.set_ylabel(r'mean response');\n",
    "ax.set_xscale('log')\n",
    "# ax.set_ylim([0.8,1.1])\n",
    "ax.legend(loc='lower right')\n",
    "# if test_run:\n",
    "#     plt.savefig('fig/corr_vs_pt'+samp+tag_full+'_test.pdf');\n",
    "# else:\n",
    "#     plt.savefig('fig/corr_vs_pt'+samp+tag_full+'.pdf');\n",
    "\n",
    "plt.show();"
   ]
  },
  {
   "cell_type": "markdown",
   "metadata": {},
   "source": [
    "### Fit a specific $\\eta$ $p_T$ bin"
   ]
  },
  {
   "cell_type": "code",
   "execution_count": 317,
   "metadata": {},
   "outputs": [
    {
     "name": "stdout",
     "output_type": "stream",
     "text": [
      "Images will be saved under  fig/response_pt_eta_L5_QCD\n"
     ]
    }
   ],
   "source": [
    "\n",
    "mean = np.zeros((jetpt_length, jeteta_length))\n",
    "median = np.zeros((jetpt_length, jeteta_length))\n",
    "width = np.zeros((jetpt_length, jeteta_length))\n",
    "chi2s = np.zeros((jetpt_length, jeteta_length))\n",
    "meanvar = np.zeros((jetpt_length, jeteta_length))\n",
    "#     idx = []\n",
    "\n",
    "N_converge = 0\n",
    "N_not_converge = 0\n",
    "\n",
    "FitFigDir = 'fig/response_pt_eta'+samp+tag_full\n",
    "print(\"Images will be saved under \", FitFigDir)\n",
    "if not os.path.exists(FitFigDir):\n",
    "    os.mkdir(FitFigDir)\n",
    "plot_pt_edges = output['ptresponse'+samp].axis('ptresponse').edges()[0:42] ##Put plotting limits to the histogram\n",
    "hist_pt_edges = plot_pt_edges[1:-1]   #for plotting. To explude overflow from the plot\n",
    "plot_response_axis = hist.Bin(\"jeteta\", r\"Jet $\\eta$\", hist_pt_edges)\n",
    "\n",
    "xvals = output['ptresponse'+samp].axis('ptresponse').centers()[1:] #[1:] to exclude the second peak for low pt\n",
    "f_xvals = np.linspace(0,5,5001)"
   ]
  },
  {
   "cell_type": "code",
   "execution_count": 391,
   "metadata": {},
   "outputs": [
    {
     "data": {
      "text/plain": [
       "array([1.0e+00, 2.0e+00, 3.0e+00, 4.0e+00, 5.0e+00, 6.0e+00, 7.0e+00,\n",
       "       8.0e+00, 9.0e+00, 1.0e+01, 1.1e+01, 1.2e+01, 1.3e+01, 1.4e+01,\n",
       "       1.5e+01, 1.7e+01, 2.0e+01, 2.3e+01, 2.7e+01, 3.0e+01, 3.5e+01,\n",
       "       4.0e+01, 4.5e+01, 5.7e+01, 7.2e+01, 9.0e+01, 1.2e+02, 1.5e+02,\n",
       "       2.0e+02, 3.0e+02, 4.0e+02, 5.5e+02, 7.5e+02, 1.0e+03, 1.5e+03,\n",
       "       2.0e+03, 2.5e+03, 3.0e+03, 3.5e+03, 4.0e+03, 4.5e+03, 5.0e+03,\n",
       "       1.0e+04])"
      ]
     },
     "execution_count": 391,
     "metadata": {},
     "output_type": "execute_result"
    }
   ],
   "source": [
    "ptbins"
   ]
  },
  {
   "cell_type": "code",
   "execution_count": 516,
   "metadata": {},
   "outputs": [
    {
     "name": "stdout",
     "output_type": "stream",
     "text": [
      "Fit failed because of high chi2, p =  [8.55247816 1.63012268 0.28794495] , chi2 =  24241679199.88787\n"
     ]
    },
    {
     "data": {
      "text/plain": [
       "array([0., 0., 0., 0., 0., 0., 0., 0., 0., 0., 0., 0., 0., 0., 0., 0., 0.,\n",
       "       0., 0., 0., 0., 0., 0., 0., 0., 1., 3., 8., 8., 6., 5., 3., 5., 6.,\n",
       "       3., 4., 3., 1., 4., 6., 1., 3., 2., 1., 0., 2., 0., 0., 0., 2., 0.,\n",
       "       0., 0., 1., 0., 0., 0., 1., 0., 0., 1., 0., 0., 0., 0., 0., 0., 0.,\n",
       "       0., 0., 0., 0., 0., 0., 0., 0., 0., 0., 0., 0., 0., 0., 0., 0., 0.,\n",
       "       0., 0., 0., 0., 0., 0., 0., 0., 0., 0., 0., 0., 0., 0.])"
      ]
     },
     "execution_count": 516,
     "metadata": {},
     "output_type": "execute_result"
    }
   ],
   "source": [
    "# histo = output['ptresponse'].integrate('jeteta', hist.Interval(-2.5, -1.3)).integrate('pt', hist.Interval(300, 350))\n",
    "histoMi = output['ptresponse_b'+samp].integrate('jeteta', hist.Interval(-3.0, -2.5)).integrate('pt', hist.Interval(11, 12))\n",
    "histoPl = output['ptresponse_b'+samp].integrate('jeteta', hist.Interval(2.5, 3.0)).integrate('pt', hist.Interval(11, 12))\n",
    "histo = (histoMi+histoPl)\n",
    "histvals = np.repeat(histo.axis('ptresponse').centers(), np.array(histo.values()[('QCD',)],dtype='int'))\n",
    "yvals = histo.values()[('QCD',)][1:]  #[1:] to exclude the second peak for low pt\n",
    "\n",
    "p, arr = curve_fit(gauss, xvals, yvals, p0=[10,1,1])\n",
    "N_converge += 1\n",
    "\n",
    "            ### Second Gaussian\n",
    "xfit_l = np.where(xvals>=p[1]-np.abs(p[2])*1.5)[0][0]-1\n",
    "xfit_h = np.where(xvals>=p[1]+np.abs(p[2])*1.5)[0][0]\n",
    "if len(range(xfit_l,xfit_h))<5: #if there are only 3pnts, the uncertainty is infty\n",
    "#     print(len(range(xfit_l,xfit_h)))\n",
    "    xfit_l = xfit_l-1\n",
    "    xfit_h = xfit_h+1\n",
    "    if len(range(xfit_l,xfit_h))<5:\n",
    "#         print(len(range(xfit_l,xfit_h)))\n",
    "        xfit_l = xfit_l-1\n",
    "        xfit_h = xfit_h+1\n",
    "xvals2 = xvals[xfit_l: xfit_h]\n",
    "yvals2 = yvals[xfit_l: xfit_h]\n",
    "# p2, arr = curve_fit(gauss, xvals2, yvals2, p0=p)\n",
    "\n",
    "ygaus = gauss(xvals, *p2)\n",
    "chi2 = sum((yvals-ygaus)**2/(yvals+1E-9))\n",
    "Ndof = len(xvals2)-3\n",
    "if chi2<50000:\n",
    "    pass\n",
    "    print(\"Fit converged, p = \", p2, \", chi2 = \", chi2 )\n",
    "else:\n",
    "    print(\"Fit failed because of high chi2, p = \", p2, \", chi2 = \", chi2 )\n",
    "#             print(\"Fit failed because of non-convergance, p = \", p)\n",
    "\n",
    "\n",
    "fgaus = gauss(f_xvals, *p)\n",
    "fgaus2 = gauss(f_xvals, *p2)\n",
    "\n",
    "histo.values()[('QCD',)][:-1]\n",
    "N = histo.integrate('ptresponse').values()[('QCD',)]\n",
    "histo = histo.rebin('ptresponse', plot_response_axis)\n"
   ]
  },
  {
   "cell_type": "code",
   "execution_count": 521,
   "metadata": {},
   "outputs": [
    {
     "name": "stderr",
     "output_type": "stream",
     "text": [
      "<>:12: DeprecationWarning: invalid escape sequence \\p\n",
      "<>:13: DeprecationWarning: invalid escape sequence \\p\n",
      "<>:15: DeprecationWarning: invalid escape sequence \\c\n",
      "<>:12: DeprecationWarning: invalid escape sequence \\p\n",
      "<>:13: DeprecationWarning: invalid escape sequence \\p\n",
      "<>:15: DeprecationWarning: invalid escape sequence \\c\n",
      "/tmp/anpotreb/ipykernel_22787/1377357775.py:12: DeprecationWarning: invalid escape sequence \\p\n",
      "  plt.text(0.03,0.95*h,'Mean {0:0.3f}$\\pm${1:0.3f}'.format(p2[1],np.sqrt(arr[1,1])))\n",
      "/tmp/anpotreb/ipykernel_22787/1377357775.py:13: DeprecationWarning: invalid escape sequence \\p\n",
      "  plt.text(0.03,0.88*h,'Width {0:0.3f}$\\pm${1:0.3f}'.format(p2[2],np.sqrt(arr[2,2])))\n",
      "/tmp/anpotreb/ipykernel_22787/1377357775.py:15: DeprecationWarning: invalid escape sequence \\c\n",
      "  plt.text(0.03,0.73*h,'$\\chi^2/ndof$ {0:0.2g}/{1:0.0f}'.format(chi2, Ndof))\n"
     ]
    },
    {
     "data": {
      "image/png": "[encoded data removed]",
      "text/plain": [
       "<Figure size 420x280 with 1 Axes>"
      ]
     },
     "metadata": {},
     "output_type": "display_data"
    }
   ],
   "source": [
    "\n",
    "\n",
    "# h = np.max(histo.values()[('QCD',)][:-1]);\n",
    "# h = h if h!=0 else 0.05\n",
    "fig, ax2 = plt.subplots();\n",
    "hist.plot1d(histo, ax=ax2, overlay='dataset', overflow='all',\n",
    "            fill_opts={'alpha': .5, 'edgecolor': (0,0,0,0.3), 'linewidth': 1.4})\n",
    "ax2.plot(f_xvals, fgaus, label='Gaus',linewidth=1.8)\n",
    "ax2.plot(f_xvals, fgaus2, label='Gaus',linewidth=1.8)\n",
    "ax2.set_xlabel(\"Response ($E_{RECO}/E_{GEN}$)\")\n",
    "ax2.set_xlim(plot_pt_edges[[0,-1]])\n",
    "h = ax2.get_ylim()[1]/1.05\n",
    "# ax2.set_ylim(0,h)\n",
    "plt.text(0.03,0.95*h,'Mean {0:0.3f}$\\pm${1:0.3f}'.format(p2[1],np.sqrt(arr[1,1])))\n",
    "plt.text(0.03,0.88*h,'Width {0:0.3f}$\\pm${1:0.3f}'.format(p2[2],np.sqrt(arr[2,2])))\n",
    "plt.text(0.03,0.81*h,'Median {0:0.3f}'.format(np.median(histvals)))\n",
    "plt.text(0.03,0.73*h,'$\\chi^2/ndof$ {0:0.2g}/{1:0.0f}'.format(chi2, Ndof))\n",
    "plt.text(0.03,0.66*h,'N data = {0:0.3g}'.format(N))\n",
    "ax2.legend();\n"
   ]
  },
  {
   "cell_type": "code",
   "execution_count": 522,
   "metadata": {},
   "outputs": [
    {
     "data": {
      "text/plain": [
       "array([1.175, 1.225, 1.275, 1.325, 1.375, 1.425, 1.475, 1.525, 1.575,\n",
       "       1.625, 1.675, 1.725, 1.775, 1.825, 1.875, 1.925, 1.975, 2.025])"
      ]
     },
     "execution_count": 522,
     "metadata": {},
     "output_type": "execute_result"
    }
   ],
   "source": [
    "xvals2"
   ]
  },
  {
   "cell_type": "code",
   "execution_count": 389,
   "metadata": {},
   "outputs": [
    {
     "name": "stderr",
     "output_type": "stream",
     "text": [
      "<>:13: DeprecationWarning: invalid escape sequence \\p\n",
      "<>:14: DeprecationWarning: invalid escape sequence \\p\n",
      "<>:16: DeprecationWarning: invalid escape sequence \\c\n",
      "<>:13: DeprecationWarning: invalid escape sequence \\p\n",
      "<>:14: DeprecationWarning: invalid escape sequence \\p\n",
      "<>:16: DeprecationWarning: invalid escape sequence \\c\n",
      "/tmp/anpotreb/ipykernel_22787/3758398721.py:13: DeprecationWarning: invalid escape sequence \\p\n",
      "  plt.text(0.03,0.95*h,'Mean {0:0.3f}$\\pm${1:0.3f}'.format(p2[1],np.sqrt(arr[1,1])))\n",
      "/tmp/anpotreb/ipykernel_22787/3758398721.py:14: DeprecationWarning: invalid escape sequence \\p\n",
      "  plt.text(0.03,0.88*h,'Width {0:0.3f}$\\pm${1:0.3f}'.format(p2[2],np.sqrt(arr[2,2])))\n",
      "/tmp/anpotreb/ipykernel_22787/3758398721.py:16: DeprecationWarning: invalid escape sequence \\c\n",
      "  plt.text(0.03,0.73*h,'$\\chi^2/ndof$ {0:0.2g}/{1:0.0f}'.format(chi2, Ndof))\n"
     ]
    },
    {
     "data": {
      "image/png": "[encoded data removed]",
      "text/plain": [
       "<Figure size 420x280 with 1 Axes>"
      ]
     },
     "metadata": {},
     "output_type": "display_data"
    }
   ],
   "source": [
    "# N = histo.integrate('ptresponse').values()[('QCD',)]\n",
    "# histo = histo.rebin('ptresponse', plot_response_axis)\n",
    "\n",
    "h = np.max(yvals[:-1]);\n",
    "h = h if h!=0 else 0.05\n",
    "fig, ax2 = plt.subplots();\n",
    "hist.plot1d(histo, ax=ax2, overlay='dataset', overflow='all',\n",
    "            fill_opts={'alpha': .5, 'edgecolor': (0,0,0,0.3), 'linewidth': 1.4})\n",
    "ax2.plot(f_xvals, fgaus, label='Gaus',linewidth=1.8)\n",
    "ax2.plot(f_xvals, fgaus2, label='Gaus',linewidth=1.8)\n",
    "ax2.set_xlabel(\"Response ($E_{RECO}/E_{GEN}$)\")\n",
    "ax2.set_xlim(plot_pt_edges[[0,-1]])\n",
    "plt.text(0.03,0.95*h,'Mean {0:0.3f}$\\pm${1:0.3f}'.format(p2[1],np.sqrt(arr[1,1])))\n",
    "plt.text(0.03,0.88*h,'Width {0:0.3f}$\\pm${1:0.3f}'.format(p2[2],np.sqrt(arr[2,2])))\n",
    "plt.text(0.03,0.81*h,'Median {0:0.3f}'.format(np.median(histvals)))\n",
    "plt.text(0.03,0.73*h,'$\\chi^2/ndof$ {0:0.2g}/{1:0.0f}'.format(chi2, Ndof))\n",
    "plt.text(0.03,0.66*h,'N data = {0:0.3g}'.format(N))\n",
    "ax2.legend();\n"
   ]
  },
  {
   "cell_type": "code",
   "execution_count": 390,
   "metadata": {
    "scrolled": false
   },
   "outputs": [
    {
     "name": "stderr",
     "output_type": "stream",
     "text": [
      "<>:10: DeprecationWarning: invalid escape sequence \\c\n",
      "<>:10: DeprecationWarning: invalid escape sequence \\c\n",
      "/tmp/anpotreb/ipykernel_22787/380541488.py:10: DeprecationWarning: invalid escape sequence \\c\n",
      "  plt.text(1.3,0.53*h,'$\\chi^2/ndof$ {0:0.1f}/97'.format(chi2))\n"
     ]
    },
    {
     "data": {
      "image/png": "[encoded data removed]",
      "text/plain": [
       "<Figure size 420x280 with 1 Axes>"
      ]
     },
     "metadata": {},
     "output_type": "display_data"
    }
   ],
   "source": [
    "all# %%capture\n",
    "fig, ax2 = plt.subplots()\n",
    "hist.plot1d(histo, ax=ax2, overlay='dataset', overflow='all',\n",
    "            fill_opts={'alpha': .5, 'edgecolor': (0,0,0,0.3), 'linewidth': 1.4})\n",
    "ax2.plot(f_xvals, fgaus, label='Gaus',linewidth=1.8)\n",
    "ax2.set_xlim(plot_pt_edges[[0,-1]])\n",
    "plt.text(1.4,0.75*h,'Mean {0:0.2f}'.format(p[1]))\n",
    "plt.text(1.4,0.68*h,'Median {0:0.2f}'.format(np.median(histvals)))\n",
    "plt.text(1.4,0.61*h,'Width {0:0.2f}'.format(p[2]))\n",
    "plt.text(1.3,0.53*h,'$\\chi^2/ndof$ {0:0.1f}/97'.format(chi2))\n",
    "plt.text(1.3,0.46*h,'N data = {0:0.0f}'.format(N))\n",
    "ax2.legend();\n",
    "\n",
    "plt.show();\n",
    "# plt.savefig('fig/ptResponse_test'+pt_string+eta_string+'.png');\n",
    "# plt.savefig('fig/ptResponse_test'+pt_string+eta_string+'.eps');\n",
    "# plt.savefig('fig/ptResponse_test'+pt_string+eta_string+'.pdf');\n",
    "plt.close();"
   ]
  },
  {
   "cell_type": "markdown",
   "metadata": {},
   "source": [
    "### Save fit data to csv's"
   ]
  },
  {
   "cell_type": "markdown",
   "metadata": {},
   "source": [
    "### Read csv\n",
    "\n",
    "\n",
    " \n",
    "\n",
    "format for example $ 20 \\text{ GeV} < p_T < 25 \\text{ GeV} $ and $ 3.5 < \\eta < 4.0 $\n",
    "\n",
    "\n",
    "```\n",
    "df = pd.read_csv('EtaBinsvsPtBinsMean.csv).set_index('etaBins')\n",
    "ptBin='[20, 25)'\n",
    "etaBin='[3.5, 4)'\n",
    "mean = df[ptBin][etaBin]\n",
    "```\n",
    "\n",
    "\n"
   ]
  },
  {
   "cell_type": "code",
   "execution_count": 270,
   "metadata": {},
   "outputs": [],
   "source": [
    "# df_csv = pd.read_csv('out_txt/EtaBinsvsPtBinsMean_L5.csv').set_index('etaBins')"
   ]
  },
  {
   "cell_type": "code",
   "execution_count": 39,
   "metadata": {},
   "outputs": [],
   "source": [
    "# with pd.option_context('display.max_rows', None, 'display.max_columns', None):  # more options can be specified also\n",
    "#     print(df_csv)"
   ]
  },
  {
   "cell_type": "code",
   "execution_count": null,
   "metadata": {},
   "outputs": [],
   "source": []
  },
  {
   "cell_type": "code",
   "execution_count": null,
   "metadata": {},
   "outputs": [],
   "source": []
  }
 ],
 "metadata": {
  "kernelspec": {
   "display_name": "Python 3 (ipykernel)",
   "language": "python",
   "name": "python3"
  },
  "language_info": {
   "codemirror_mode": {
    "name": "ipython",
    "version": 3
   },
   "file_extension": ".py",
   "mimetype": "text/x-python",
   "name": "python",
   "nbconvert_exporter": "python",
   "pygments_lexer": "ipython3",
   "version": "3.8.13"
  }
 },
 "nbformat": 4,
 "nbformat_minor": 4
}
