{
 "cells": [
  {
   "cell_type": "code",
   "execution_count": 107,
   "metadata": {},
   "outputs": [
    {
     "name": "stdout",
     "output_type": "stream",
     "text": [
      "The autoreload extension is already loaded. To reload it, use:\n",
      "  %reload_ext autoreload\n"
     ]
    }
   ],
   "source": [
    "%load_ext autoreload\n",
    "# Set extension to reload modules every time before executing code\n",
    "%autoreload 2  #0 to turn of reloading"
   ]
  },
  {
   "cell_type": "code",
   "execution_count": 108,
   "metadata": {},
   "outputs": [],
   "source": [
    "### Print not only the last line in a cell\n",
    "from IPython.core.interactiveshell import InteractiveShell\n",
    "InteractiveShell.ast_node_interactivity = \"all\""
   ]
  },
  {
   "cell_type": "code",
   "execution_count": 109,
   "metadata": {},
   "outputs": [
    {
     "data": {
      "text/plain": [
       "{'Cell': {'cm_config': {'lineNumbers': True}},\n",
       " 'CodeCell': {'cm_config': {'autoCloseBrackets': False}}}"
      ]
     },
     "execution_count": 109,
     "metadata": {},
     "output_type": "execute_result"
    }
   ],
   "source": [
    "### Don't autoclose brackets\n",
    "from notebook.services.config import ConfigManager\n",
    "c = ConfigManager()\n",
    "c.update('notebook', {\"CodeCell\": {\"cm_config\": {\"autoCloseBrackets\": False}}})"
   ]
  },
  {
   "cell_type": "markdown",
   "metadata": {},
   "source": [
    "### Imports"
   ]
  },
  {
   "cell_type": "code",
   "execution_count": 110,
   "metadata": {},
   "outputs": [],
   "source": [
    "import bokeh\n",
    "import time\n",
    "import copy\n",
    "import scipy.stats as ss\n",
    "from scipy.optimize import curve_fit\n",
    "from coffea import processor, nanoevents, util\n",
    "from coffea.nanoevents.methods import candidate\n",
    "from coffea.nanoevents import NanoAODSchema, BaseSchema\n",
    "\n",
    "import awkward as ak\n",
    "import numpy as np\n",
    "import glob as glob\n",
    "import itertools\n",
    "import pandas as pd\n",
    "from numpy.random import RandomState\n",
    "import importlib\n",
    "\n",
    "from dask.distributed import Client\n",
    "import inspect\n",
    "import matplotlib.pyplot as plt\n",
    "import matplotlib as mpl\n",
    "import hist\n",
    "\n",
    "from pltStyle import pltStyle\n",
    "import os\n",
    "# %matplotlib notebook "
   ]
  },
  {
   "cell_type": "markdown",
   "metadata": {},
   "source": [
    "### Parameters of the run"
   ]
  },
  {
   "cell_type": "code",
   "execution_count": 111,
   "metadata": {},
   "outputs": [],
   "source": [
    "UsingDaskExecutor = False\n",
    "CERNCondorCluster = False\n",
    "CoffeaCasaEnv     = False\n",
    "load_preexisting  = True    ### True if don't repeat the processing of files and use preexisting JER from output\n",
    "test_run          = True   ### True if run only on one file\n",
    "load_fit_res      = False   ### True if don't repeat the response fits\n",
    "\n",
    "fine_etabins      = False   ### Don't merge eta bins together when fitting responses. Preprocessing always done in many bins\n",
    "one_bin           = False   ### Unite all eta and pt bins in one\n",
    "\n",
    "Nfiles = 100                 ### -1 for all files\n",
    "\n",
    "tag = '_L5'                 ### L5 or L23, but L23 not supported since ages\n",
    "\n",
    "### name of the specific run:\n",
    "# add_tag = '_LHEflav1_TTBAR-Summer16-cFlip' #'_LHEflav1_TTBAR-JME' #'_LHEflav1_TTBAR-Summer16-cFlip' #'_Herwig-TTBAR' # '_TTBAR' #'_QCD' # '_testing_19UL18' # '' #fine_etaBins\n",
    "# add_tag='_fine_etaBins'+add_tag\n",
    "add_tag = '_DY-JME'"
   ]
  },
  {
   "cell_type": "markdown",
   "metadata": {},
   "source": [
    "### Dataset parameters"
   ]
  },
  {
   "cell_type": "code",
   "execution_count": 112,
   "metadata": {},
   "outputs": [],
   "source": [
    "### Choose the correct redirector\n",
    "## assume running on the LPC\n",
    "# xrootdstr = 'root://cmsxrootd.fnal.gov/'\n",
    "## assume running on the lxplus\n",
    "# xrootdstr = 'root://cms-xrd-global.cern.ch//'\n",
    "xrootdstr = 'root://xrootd-cms.infn.it/'\n",
    "\n",
    "# if running on coffea casa instead...\n",
    "if CoffeaCasaEnv:\n",
    "    xrootdstr = 'root://xcache/'\n",
    "    \n",
    "### Not completelly sure if needed\n",
    "prixydir = '/afs/cern.ch/user/a/anpotreb/k5-ca-proxy.pem'\n",
    "    \n",
    "# dataset = 'fileNames/fileNames_QCD20UL18.txt'\n",
    "# dataset = 'fileNames/fileNames_Herwig_20UL18.txt'\n",
    "dataset = 'fileNames/fileNames_TTToSemi20UL18_JMENano.txt'\n",
    "# dataset = 'fileNames/fileNames_QCD20UL18.txt'\n",
    "# dataset = 'fileNames/fileNames_QCD20UL18_JMENano.txt'\n",
    "# # dataset = 'fileNames/fileNames_TTToSemi20UL18_JMENano.txt'\n",
    "# # dataset = 'fileNames/fileNames_TTToDilep20UL18_JMENano.txt'\n",
    "# # dataset = 'fileNames/fileNames_TTToHad20UL18_JMENano.txt'\n",
    "# dataset = 'fileNames/fileNames_Herwig_20UL18_JMENano.txt'\n",
    "# dataset = 'fileNames/fileNames_TT_Summer16cFlip.txt'\n",
    "# dataset = 'fileNames/fileNames_DYJets.txt'\n",
    "\n",
    "with open(dataset) as f:\n",
    "    rootfiles = f.read().split()\n",
    "\n",
    "\n",
    "# dataset = 'fileNames/fileNames_TTToSemi20UL18_JMENano_redi.txt'\n",
    "\n",
    "# #### dataset with files already with redirectors of the corresponding tiers\n",
    "# with open(dataset) as f:\n",
    "#     rootfiles = f.read().split()\n",
    "# fileslist = rootfiles[:Nfiles]\n",
    "\n",
    "#### If manyally adding fileslist\n",
    "# fileslist = ['root://cms-xrd-global.cern.ch///store/mc/RunIISummer16NanoAODv7/TT_TuneCUETP8M2T4_13TeV-powheg-colourFlip-pythia8/NANOAODSIM/PUMoriond17_Nano02Apr2020_102X_mcRun2_asymptotic_v8_ext1-v1/20000/8033E2A6-04CC-2A4B-9636-BF2A51214156.root', #good file\n",
    "#              'root://cms-xrd-global.cern.ch///store/mc/RunIISummer16NanoAODv7/TT_TuneCUETP8M2T4_13TeV-powheg-colourFlip-pythia8/NANOAODSIM/PUMoriond17_Nano02Apr2020_102X_mcRun2_asymptotic_v8_ext1-v1/230000/55E72333-8846-D040-90FF-266FCA3EF67B.root', #bad file\n",
    "#              'root://grid-dcache.physik.rwth-aachen.de:1094////store/mc/RunIISummer16NanoAODv7/TT_TuneCUETP8M2T4_13TeV-powheg-colourFlip-pythia8/NANOAODSIM/PUMoriond17_Nano02Apr2020_102X_mcRun2_asymptotic_v8_ext1-v1/230000/E6694A4B-483C-BB42-AC66-187B1FE69CCF.root' #bad file2\n",
    "#             ] "
   ]
  },
  {
   "cell_type": "code",
   "execution_count": 113,
   "metadata": {},
   "outputs": [
    {
     "name": "stdout",
     "output_type": "stream",
     "text": [
      "Runing on dataset fileNames/fileNames_TTToSemi20UL18_JMENano.txt\n",
      " Number of files: 1\n",
      " Job with the full tag _L5_DY-JME\n",
      " Outname = out/CoffeaJERCOutputs_L5_DY-JME.coffea_test\n"
     ]
    }
   ],
   "source": [
    "#Import the correct processor\n",
    "Processor = importlib.import_module('CoffeaJERCProcessor'+tag).Processor\n",
    "\n",
    "tag_full = tag+add_tag\n",
    "\n",
    "outname = 'out/CoffeaJERCOutputs'+tag_full+'.coffea'\n",
    "outname = outname+'_test' if test_run else outname\n",
    "\n",
    "# if fine_etabins:\n",
    "#     tag_full='_oneBin'+tag_full\n",
    "\n",
    "if one_bin:\n",
    "    tag_full='_oneBin'+tag_full\n",
    "    \n",
    "if load_preexisting == True:\n",
    "    UsingDaskExecutor = False\n",
    "    \n",
    "if UsingDaskExecutor == False:\n",
    "    CERNCondorCluster = False\n",
    "    \n",
    "if not os.path.exists(\"out\"):\n",
    "    os.mkdir(\"out\")\n",
    "    \n",
    "if not os.path.exists(\"out_txt\"):\n",
    "    os.mkdir(\"out_txt\")\n",
    "    \n",
    "if not os.path.exists(\"fig\"):\n",
    "    os.mkdir(\"fig/\")\n",
    "    os.mkdir(\"fig/responses/\")\n",
    "    \n",
    "if test_run and not os.path.exists(\"test\"):\n",
    "    os.mkdir(\"test/\")\n",
    "    os.mkdir(\"test/out_txt\")\n",
    "    os.mkdir(\"test/fig\")\n",
    "    \n",
    "if test_run:\n",
    "    Nfiles = 1\n",
    "    \n",
    "fileslist = [xrootdstr + file for file in rootfiles]\n",
    "fileslist = fileslist[:Nfiles] # if add_tag=='QCD' else fileslist # :20 to skim the events\n",
    "    \n",
    "print(f'Runing on dataset {dataset}\\n Number of files: {Nfiles}\\n Job with the full tag {tag_full}\\n Outname = {outname}')\n",
    "\n"
   ]
  },
  {
   "cell_type": "markdown",
   "metadata": {},
   "source": [
    "### For the attempt to correctly combine three ttbar channels. Not fully tested"
   ]
  },
  {
   "cell_type": "code",
   "execution_count": 114,
   "metadata": {},
   "outputs": [],
   "source": [
    "def find_xsec(key):\n",
    "    semilepxsec = 0.108*3*0.337*2*2\n",
    "    dilepxsec = 0.108*3*0.108*3\n",
    "    hadxsec = 0.337*2*0.337*2\n",
    "\n",
    "    if \"TTToSemi\" in key:\n",
    "        xsec = semilepxsec\n",
    "    elif \"TTToDilep\" in key:\n",
    "        xsec = dilepxsec\n",
    "    elif \"TTToHad\" in key:\n",
    "        xsec = hadxsec\n",
    "    else:\n",
    "        xsec = 1\n",
    "    return xsec\n",
    "\n",
    "xsec = find_xsec(dataset)"
   ]
  },
  {
   "cell_type": "code",
   "execution_count": 115,
   "metadata": {},
   "outputs": [],
   "source": [
    "combineTTbar = False\n",
    "\n",
    "# datasets = ['fileNames/fileNames_TTToSemi20UL18_JMENano.txt',\n",
    "#            'fileNames/fileNames_TTToDilep20UL18_JMENano.txt',\n",
    "#            'fileNames/fileNames_TTToHad20UL18_JMENano.txt'\n",
    "#            ]\n",
    "file_tags = ['Semi', 'Dilep', 'Had']\n",
    "\n",
    "filesets = {}\n",
    "if combineTTbar:\n",
    "    for ftag in file_tags:\n",
    "        data_name = f'fileNames/fileNames_TTTo{ftag}20UL18_JMENano.txt'\n",
    "        with open(data_name) as f:\n",
    "            rootfiles = f.read().split()\n",
    "        fileslist = [xrootdstr + file for file in rootfiles]\n",
    "        fileslist = fileslist[:Nfiles]\n",
    "        xsec = find_xsec(data_name)\n",
    "        filesets[ftag] = {\"files\": fileslist, \"metadata\": {\"xsec\": xsec}}\n",
    "else:\n",
    "    filesets = {'QCD': {\"files\": fileslist, \"metadata\": {\"xsec\": xsec}}}\n",
    "# fileslist = fileslist\n",
    "# if test_run:\n",
    "#     fileslist = [fileslist[1]]"
   ]
  },
  {
   "cell_type": "markdown",
   "metadata": {},
   "source": [
    "Test if certificate works to open the file"
   ]
  },
  {
   "cell_type": "code",
   "execution_count": 116,
   "metadata": {},
   "outputs": [
    {
     "name": "stdout",
     "output_type": "stream",
     "text": [
      "Found proxy at /afs/cern.ch/user/a/anpotreb/k5-ca-proxy.pem\n"
     ]
    }
   ],
   "source": [
    "import os\n",
    "### RUN THIS CELL ONLY IF YOU ARE USING SWAN \n",
    "\n",
    "##### REMEMBER TO MANUALLY COPY THE PROXY TO YOUR CERNBOX FOLDER AND TO MODIFY THE NEXT LINE\n",
    "os.environ['X509_USER_PROXY'] = '/afs/cern.ch/user/a/anpotreb/k5-ca-proxy.pem'\n",
    "if os.path.isfile(os.environ['X509_USER_PROXY']):\n",
    "    print(\"Found proxy at {}\".format(os.environ['X509_USER_PROXY']))\n",
    "else:\n",
    "    print(\"os.environ['X509_USER_PROXY'] \",os.environ['X509_USER_PROXY'])\n",
    "os.environ['X509_CERT_DIR'] = '/cvmfs/cms.cern.ch/grid/etc/grid-security/certificates'\n",
    "os.environ['X509_VOMS_DIR'] = '/cvmfs/cms.cern.ch/grid/etc/grid-security/vomsdir'\n",
    "os.environ['X509_USER_CERT'] = '/afs/cern.ch/user/a/anpotreb/k5-ca-proxy.pem'"
   ]
  },
  {
   "cell_type": "code",
   "execution_count": 117,
   "metadata": {},
   "outputs": [],
   "source": [
    "import uproot"
   ]
  },
  {
   "cell_type": "code",
   "execution_count": 118,
   "metadata": {},
   "outputs": [
    {
     "data": {
      "text/plain": [
       "['tag;1',\n",
       " 'Events;1',\n",
       " 'LuminosityBlocks;1',\n",
       " 'Runs;1',\n",
       " 'MetaData;1',\n",
       " 'ParameterSets;1']"
      ]
     },
     "execution_count": 118,
     "metadata": {},
     "output_type": "execute_result"
    }
   ],
   "source": [
    "ff = uproot.open(fileslist[0])\n",
    "ff.keys()\n",
    "ff.close()"
   ]
  },
  {
   "cell_type": "markdown",
   "metadata": {},
   "source": [
    "# Dask Setup:\n",
    "---\n",
    "### For Dask+Condor setup on lxplus\n",
    "#### 1.) The wrapper needs to be installed following https://github.com/cernops/dask-lxplus\n",
    "#### 2.) Source lcg environment in bash\n",
    "#### `source /cvmfs/sft-nightlies.cern.ch/lcg/views/dev4/latest/x86_64-centos7-gcc11-opt/setup.sh`\n",
    "#### Singularity could work but not confirmed.\n",
    "---\n",
    "### For Coffea-Casa, the client must be specified according to the user that is logged into the Coffea-Casa Environment.\n",
    "#### 1.) go to the left of this coffea-casa session to the task bar and click the orange-red button; it will say \"Dask\" if you hover your cursor over it\n",
    "#### 2.) scroll down to the blue box where it shows the \"Scheduler Address\"\n",
    "#### 3.) write that full address into the dask Client function \n",
    "#### Example: `client = Client(\"tls://ac-2emalik-2ewilliams-40cern-2ech.dask.coffea.casa:8786\")`\n",
    "---\n",
    "### For CMSLPC, the client must be specified with the LPCCondorCluster\n",
    "#### 1.) follow installation instructions from https://github.com/CoffeaTeam/lpcjobqueue, if you have not already done so, to get a working singularity environment with access to lpcjobqueue and LPCCondorCluster class\n",
    "#### 2.) import LPCCondorCluster: `from lpcjobqueue import LPCCondorCluster`\n",
    "#### 3.) define the client\n",
    "#### Example: \n",
    "`cluster = LPCCondorCluster()`\n",
    "\n",
    "`client = Client(cluster)`\n"
   ]
  },
  {
   "cell_type": "code",
   "execution_count": 119,
   "metadata": {},
   "outputs": [],
   "source": [
    "# Dask set up for Coffea-Casa only\n",
    "if(UsingDaskExecutor and CoffeaCasaEnv):\n",
    "    client = Client(\"tls://ac-2emalik-2ewilliams-40cern-2ech.dask.coffea.casa:8786\")\n",
    "    client.upload_file('CoffeaJERCProcessor.py')"
   ]
  },
  {
   "cell_type": "code",
   "execution_count": 120,
   "metadata": {},
   "outputs": [],
   "source": [
    "env_extra = [\n",
    "            'export XRD_RUNFORKHANDLER=1',\n",
    "            f'export X509_USER_PROXY=/afs/cern.ch/user/a/anpotreb/k5-ca-proxy.pem',\n",
    "            f'export X509_CERT_DIR={os.environ[\"X509_CERT_DIR\"]}',\n",
    "#             'source /etc/profile.d/conda.sh',\n",
    "#             f'export PATH={os.environ[\"CONDA_PREFIX\"]}/bin:$PATH',\n",
    "#             f'conda activate {os.environ[\"CONDA_DEFAULT_ENV\"]}',\n",
    "        ]"
   ]
  },
  {
   "cell_type": "code",
   "execution_count": 121,
   "metadata": {
    "scrolled": true
   },
   "outputs": [],
   "source": [
    "if(UsingDaskExecutor and not CoffeaCasaEnv):\n",
    "    from dask.distributed import Client \n",
    "# Dask set up for LPC only \n",
    "    if not CERNCondorCluster:\n",
    "        client = Client()\n",
    "        client.get_versions(check=True)\n",
    "#         client.nanny = False\n",
    "\n",
    "    else:\n",
    "        from dask_lxplus import CernCluster\n",
    "        import socket\n",
    "\n",
    "        cluster = CernCluster(\n",
    "# #             memory=config.run_options['mem_per_worker'],\n",
    "# #             disk=config.run_options.get('disk_per_worker', \"20GB\"),\n",
    "            env_extra=env_extra,\n",
    "            cores = 4,\n",
    "            memory = '4000MB',\n",
    "            disk = '2000MB',\n",
    "            death_timeout = '60',\n",
    "            lcg = True,\n",
    "            nanny = False,\n",
    "            container_runtime = 'none',\n",
    "            log_directory = '/eos/user/a/anpotreb/condor/log',\n",
    "            scheduler_options = {\n",
    "                'port': 8786,\n",
    "                'host': socket.gethostname(),\n",
    "            },\n",
    "            job_extra = {\n",
    "                'MY.JobFlavour': '\"longlunch\"',\n",
    "                'transfer_input_files': '/afs/cern.ch/user/a/anpotreb/top/JERC/JMECoffea/count_2d.py',\n",
    "            },\n",
    "        )\n",
    "        cluster.adapt(minimum=2, maximum=50)\n",
    "        cluster.scale(8)\n",
    "        client = Client(cluster)\n",
    "    \n",
    "    client.upload_file('CoffeaJERCProcessor'+tag+'.py')\n",
    "\n",
    "    client"
   ]
  },
  {
   "cell_type": "markdown",
   "metadata": {},
   "source": [
    "### Run the processor"
   ]
  },
  {
   "cell_type": "code",
   "execution_count": 122,
   "metadata": {
    "scrolled": true
   },
   "outputs": [
    {
     "name": "stdout",
     "output_type": "stream",
     "text": [
      "Loaded histograms from:  out/CoffeaJERCOutputs_L5_DY-JME.coffea_test\n"
     ]
    }
   ],
   "source": [
    "tstart = time.time()\n",
    "\n",
    "outputs_unweighted = {}\n",
    "\n",
    "seed = 1234577890\n",
    "prng = RandomState(seed)\n",
    "Chunk = [10000, 5] # [chunksize, maxchunks]\n",
    "\n",
    "if not load_preexisting:\n",
    "    if not UsingDaskExecutor:\n",
    "        chosen_exec = 'futures'\n",
    "        output = processor.run_uproot_job(filesets,\n",
    "                                          treename='Events',\n",
    "                                          processor_instance=Processor(),\n",
    "                                          executor=processor.iterative_executor,\n",
    "    #                                        executor=processor.futures_executor,\n",
    "                                          executor_args={\n",
    "                                              'skipbadfiles':True,\n",
    "                                              'schema': NanoAODSchema, #BaseSchema\n",
    "                                              'workers': 2},\n",
    "                                          chunksize=Chunk[0])#, maxchunks=Chunk[1])\n",
    "    else:\n",
    "        chosen_exec = 'dask'\n",
    "        output = processor.run_uproot_job(filesets,\n",
    "                                          treename='Events',\n",
    "                                          processor_instance=Processor(),\n",
    "                                          executor=processor.dask_executor,\n",
    "                                          executor_args={\n",
    "                                              'client': client,\n",
    "                                              'skipbadfiles':True,\n",
    "                                              'schema': NanoAODSchema, #BaseSchema\n",
    "                                              'xrootdtimeout': 60,\n",
    "                                              'retries': 2,\n",
    "#                                               'workers': 2\n",
    "                                          },\n",
    "                                          chunksize=Chunk[0])#, maxchunks=Chunk[1])\n",
    "\n",
    "    elapsed = time.time() - tstart\n",
    "    print(\"Processor finished. Time elapsed: \", elapsed)\n",
    "#     outputs_unweighted[name] = output\n",
    "    print(\"Saving the output histograms under: \", outname)\n",
    "    util.save(output, outname)\n",
    "#     outputs_unweighted[name] = output\n",
    "else:\n",
    "    output = util.load(outname)\n",
    "    print(\"Loaded histograms from: \", outname)\n",
    "\n",
    "#### Attempt to prevent the error when the cluster closes. Doesn't always work.\n",
    "if UsingDaskExecutor:\n",
    "    client.close()\n",
    "    time.sleep(5)\n",
    "    if CERNCondorCluster or CoffeaCasaEnv:\n",
    "        cluster.close()"
   ]
  },
  {
   "cell_type": "code",
   "execution_count": 123,
   "metadata": {},
   "outputs": [],
   "source": [
    "if UsingDaskExecutor:\n",
    "    client.close()\n",
    "    time.sleep(5)\n",
    "    if CERNCondorCluster or CoffeaCasaEnv:\n",
    "        cluster.close()"
   ]
  },
  {
   "cell_type": "markdown",
   "metadata": {},
   "source": [
    "### Fit responses"
   ]
  },
  {
   "cell_type": "markdown",
   "metadata": {},
   "source": [
    "define gaussian function for fitting the responses"
   ]
  },
  {
   "cell_type": "code",
   "execution_count": 124,
   "metadata": {},
   "outputs": [],
   "source": [
    "def gauss(x, *p):\n",
    "    A, mu, sigma = p\n",
    "    return A*np.exp(-(x-mu)**2/(2.*sigma**2))"
   ]
  },
  {
   "cell_type": "markdown",
   "metadata": {},
   "source": [
    "Define some global variables for the fit"
   ]
  },
  {
   "cell_type": "code",
   "execution_count": 125,
   "metadata": {
    "scrolled": true
   },
   "outputs": [],
   "source": [
    "# f_xvals = np.linspace(0,5,5001)\n",
    "# fine_etabins = False\n",
    "\n",
    "if fine_etabins==True:\n",
    "    ptbins = np.array([15, 40, 150, 400, 4000, 10000])\n",
    "    ptbins_c = (ptbins[:-1]+ptbins[1:])/2\n",
    "    etabins = output['ptresponse'].axes[\"jeteta\"].edges #output['ptresponse'].axis('jeteta').edges()\n",
    "elif one_bin==True:\n",
    "    ptbins = np.array([15, 10000])\n",
    "    ptbins_c = (ptbins[:-1]+ptbins[1:])/2\n",
    "    etabins = np.array([-5, -3, -2.5, -1.3, 0, 1.3, 2.5, 3, 5])\n",
    "    etabins = np.array([etabins[0], 0, etabins[-1]])\n",
    "#     etabins = np.array([etabins[3], 0, etabins[-4]])\n",
    "else:\n",
    "    ptbins = output['ptresponse'].axes[\"pt_gen\"].edges \n",
    "#     ptbins = ptbins[2:] #because there is a pt cut on pt gen and no point of fitting and plotting below that\n",
    "    ptbins_c = output['ptresponse'].axes['pt_gen'].centers\n",
    "    etabins = np.array([-5, -3, -2.5, -1.3, 0, 1.3, 2.5, 3, 5])\n",
    "\n",
    "    \n",
    "jetpt_length = len(ptbins)-1\n",
    "jeteta_length = (len(etabins)-1)//2\n",
    "\n",
    "etabins_mod = etabins[(len(etabins)-1)//2:]\n",
    "etabins_c = (etabins_mod[:-1]+etabins_mod[1:])/2 #output['ptresponse'].axis('jeteta').centers()\n",
    "\n",
    "ptresp_edd = output['ptresponse'].axes['ptresponse'].edges\n",
    "plot_pt_edges = ptresp_edd[0:np.nonzero(ptresp_edd>=2.0)[0][0]]\n",
    "hist_pt_edges = plot_pt_edges[1:-1]   #for plotting. To exclude overflow from the plot\n",
    "# plot_response_axis = hist.Bin(\"jeteta\", r\"Jet $\\eta$\", hist_pt_edges)\n",
    "# plot_response_axis = hist.axis.Variable( hist_pt_edges, overflow=False, underflow=False, name=\"ptresponse\", label=\"RECO / GEN response\")"
   ]
  },
  {
   "cell_type": "code",
   "execution_count": 126,
   "metadata": {},
   "outputs": [],
   "source": [
    "from pltStyle import pltStyle\n",
    "pltStyle(style='paper')\n",
    "plt.rcParams['figure.subplot.left'] = 0.162\n",
    "plt.rcParams['figure.dpi'] = 150"
   ]
  },
  {
   "cell_type": "markdown",
   "metadata": {},
   "source": [
    "### Testing adding hists"
   ]
  },
  {
   "cell_type": "markdown",
   "metadata": {},
   "source": [
    "#### To do: update after the change from coffea.hist to hist"
   ]
  },
  {
   "cell_type": "code",
   "execution_count": 127,
   "metadata": {},
   "outputs": [],
   "source": [
    "# combineTTbar = False\n",
    "if combineTTbar:\n",
    "    ids = output[list(output.keys())[0]].axis('dataset').identifiers()\n",
    "    names = [idii.name for idii in ids  ]\n",
    "\n",
    "    output_comb = {}\n",
    "\n",
    "    N = {}\n",
    "    for s in names:\n",
    "        N[s] = output['cutflow'][s+': all events']\n",
    "    N_av = sum(N.values())/3\n",
    "\n",
    "    for key in output.keys():\n",
    "        if key!='cutflow':\n",
    "            hist_comb = output[key].integrate('dataset', ids[0])\n",
    "            hist_comb.scale(find_xsec(names[0])*N[names[0]]/N_av)\n",
    "            for ii in range(1,len(ids)-1):\n",
    "                hist2 = output[key].integrate('dataset', ids[ii])\n",
    "                hist2.scale(find_xsec(ids[ii].name)*N[names[ii]]/N_av)\n",
    "                hist_comb = hist_comb+hist2\n",
    "            output_comb[key] = hist_comb\n",
    "        else:\n",
    "            cut_keys = list(output[key].keys())\n",
    "            len_new_keys = len(cut_keys)//3\n",
    "            output_comb[\"cutflow\"] = {}\n",
    "            for cut in range(len_new_keys):\n",
    "                output_comb[\"cutflow\"][\"Inclusive\"+cut_keys[cut][4:]] = (output[key][cut_keys[cut]]*find_xsec(names[0])*N[names[0]]/N_av +\n",
    "                                                               output[key][cut_keys[cut+len_new_keys]]*find_xsec(names[1])*N[names[1]]/N_av +\n",
    "                                                               output[key][cut_keys[cut+2*len_new_keys]]*find_xsec(names[2])*N[names[2]]/N_av \n",
    "                                                              )\n",
    "                \n",
    "    output = output_comb\n",
    "    tag_full = tag + '_LHEflav1_TTBAR-Inclusive-JME'"
   ]
  },
  {
   "cell_type": "code",
   "execution_count": 128,
   "metadata": {},
   "outputs": [],
   "source": [
    "# if combineTTbar:\n",
    "#     histoMi = outputs[0]['ptresponse'+samp].integrate('jeteta', etaBinMi).integrate('pt', ptBin).copy()\n",
    "#     histoPl = outputs[0]['ptresponse'+samp].integrate('jeteta', etaBinPl).integrate('pt', ptBin).copy()\n",
    "#     histo = (histoMi+histoPl)\n",
    "#     histo.values()[('QCD',)][1:10] \n",
    "#     histo.scale(weights[0])\n",
    "    \n",
    "#     histo.values()[('QCD',)][1:10] \n",
    "    \n",
    "\n",
    "#     for out, wg in zip(outputs[1:], weights[1:]):\n",
    "#         histoMi = out['ptresponse'+samp].integrate('jeteta', etaBinMi).integrate('pt', ptBin).copy()\n",
    "#         histoPl = out['ptresponse'+samp].integrate('jeteta', etaBinPl).integrate('pt', ptBin).copy()\n",
    "#         histo2 = histoMi+histoPl\n",
    "#         histo2.scale(wg)\n",
    "#         histo2.values()[('QCD',)][1:10]\n",
    "#         histo.add(histo2)\n",
    "        \n",
    "#     histo.values()[('QCD',)][1:10]"
   ]
  },
  {
   "cell_type": "code",
   "execution_count": 129,
   "metadata": {},
   "outputs": [],
   "source": [
    "# combine_antiflavour = True"
   ]
  },
  {
   "cell_type": "code",
   "execution_count": 157,
   "metadata": {},
   "outputs": [],
   "source": [
    "def get_median(xvals, yvals, bin_edges):\n",
    "    ''' Calculate median and median error (assuming Gaussian distribution).\n",
    "    This is the binned median, not the real data median\n",
    "    Extrapolation withing bins is performed.\n",
    "    '''\n",
    "    yvals_cumsum = np.cumsum(yvals)\n",
    "    N = np.sum(yvals)\n",
    "    med_bin = np.nonzero(yvals_cumsum>N/2)[0][0] if N>200 else 0\n",
    "    \n",
    "    median = bin_edges[med_bin] + (N/2 - yvals_cumsum[med_bin-1])/yvals[med_bin]*(bin_edges[med_bin+1]\n",
    "                                                                                 - bin_edges[med_bin])\n",
    "    \n",
    "    hist_mean = np.sum(xvals*yvals)/sum(yvals) \n",
    "    hist_rms = np.sqrt(np.sum(yvals*((hist_mean-xvals)**2))/sum(yvals))\n",
    "    medianstd = 1.253 * hist_rms/np.sqrt(N)\n",
    "    \n",
    "    return median, medianstd"
   ]
  },
  {
   "cell_type": "code",
   "execution_count": 158,
   "metadata": {},
   "outputs": [],
   "source": [
    "def fit_response(xvals, yvals, N):\n",
    "    if_failed = False\n",
    "    \n",
    "    nonzero_bins = np.sum(yvals>0)\n",
    "    if nonzero_bins<2 or N<50:\n",
    "        p2=[0,0,0]\n",
    "        chi2 = np.nan\n",
    "        cov = np.array([[np.nan]*3]*3)\n",
    "        Ndof = 0\n",
    "    #                 print(\"Too little data points, skipping p = \", p2)\n",
    "    else:\n",
    "        try:\n",
    "            p, cov = curve_fit(gauss, xvals, yvals, p0=[10,1,1])\n",
    "                 ######## Second Gaussian ########\n",
    "            xfit_l = np.where(xvals>=p[1]-np.abs(p[2])*1.5)[0][0]\n",
    "            xfit_hs = np.where(xvals>=p[1]+np.abs(p[2])*1.5)[0]\n",
    "            xfit_h = xfit_hs[0] if len(xfit_hs)>0 else len(xvals)\n",
    "    #                     print(\"xfit_l = \", xfit_l, \", xfit_h = \", xfit_h)\n",
    "\n",
    "            if len(range(xfit_l,xfit_h))<6: #if there are only 3pnts, the uncertainty is infty\n",
    "                xfit_l = xfit_l-1\n",
    "                xfit_h = xfit_h+1\n",
    "                if len(range(xfit_l,xfit_h))<6:\n",
    "                    xfit_l = xfit_l-1\n",
    "                    xfit_h = xfit_h+1\n",
    "            if xfit_l<0:\n",
    "                xfit_h-=xfit_l\n",
    "                xfit_l = 0\n",
    "            xvals2 = xvals[xfit_l: xfit_h]\n",
    "            yvals2 = yvals[xfit_l: xfit_h]\n",
    "    #                     if ptBin.lo>290:\n",
    "    #                         print(\"xfit_l = \", xfit_l, \", h = \", xfit_h)\n",
    "    #                         print(\"yvals = \", yvals)\n",
    "    #                         print(\"yvals2 = \", yvals2)\n",
    "            p2, cov = curve_fit(gauss, xvals2, yvals2, p0=p)\n",
    "                         ######## End second Gaussian ########\n",
    "\n",
    "            ygaus = gauss(xvals, *p2)\n",
    "            chi2 = sum((yvals-ygaus)**2/(yvals+1E-9))\n",
    "            Ndof = len(xvals2)-3\n",
    "    #                     if chi2<50000:\n",
    "    #                         pass\n",
    "    #                         print(\"Fit converged, p = \", p2, \", chi2 = \", chi2 )\n",
    "    #                     else:\n",
    "    #                         print(\"Fit failed because of high chi2, p = \", p2, \", chi2 = \", chi2 )\n",
    "        except(RuntimeError):   #When fit failed\n",
    "            p2=[0,0,0]\n",
    "    #                     print(\"Fit failed because of non-convergance, p = \", p2)\n",
    "            chi2 = np.nan\n",
    "            cov = np.array([[np.nan]*3]*3)\n",
    "            Ndof = 0\n",
    "            if_failed = True\n",
    "            \n",
    "    return [p2, cov, chi2, Ndof, if_failed]"
   ]
  },
  {
   "cell_type": "code",
   "execution_count": 159,
   "metadata": {},
   "outputs": [],
   "source": [
    "def plot_response_dist(histo, xvals, p2, cov, chi2, Ndof, median, medianstd, N, figName ):\n",
    "    width_ik = np.abs(p2[2])\n",
    "    f_xvals = np.linspace(0,max(xvals),5001)\n",
    "    fgaus2 = gauss(f_xvals, *p2)\n",
    "    edd = histo.axes['ptresponse'].edges\n",
    "    histo = histo[1:len(edd)-2] \n",
    "    #remove the underflow, overflow. Not sure if in hist.hist it is stored in the last and first bin like in coffea.hist\n",
    "#     histo = histo[{'ptresponse', blah}]\n",
    "    \n",
    "    fig, ax2 = plt.subplots();\n",
    "#     hist.plot1d(histo, ax=ax2, overlay='dataset', overflow='all',\n",
    "#                 fill_opts={'alpha': .5, 'edgecolor': (0,0,0,0.3), 'linewidth': 1.4})\n",
    "    histo.plot1d(ax=ax2, overlay='dataset', histtype='fill', alpha=0.6)\n",
    "    # ax2.plot(f_xvals, fgaus, label='Gaus',linewidth=1.8)\n",
    "    ax2.plot(f_xvals, fgaus2, label='Gaus',linewidth=1.8)\n",
    "    ax2.set_xlabel(\"Response ($p_{T,reco}/p_{T,ptcl}$)\")\n",
    "    ax2.set_xlim(plot_pt_edges[[0,-1]])\n",
    "    h = ax2.get_ylim()[1]/1.05\n",
    "    plt.text(0.03,0.95*h,r'Mean {0:0.3f}$\\pm${1:0.3f}'.format(p2[1], np.sqrt(cov[1,1])))\n",
    "    plt.text(0.03,0.88*h,r'Width {0:0.3f}$\\pm${1:0.3f}'.format(width_ik, np.sqrt(cov[2,2])))\n",
    "    plt.text(0.03,0.81*h,r'Median {0:0.3f}$\\pm${1:0.3f}'.format(median, medianstd))\n",
    "    plt.text(0.03,0.73*h,r'$\\chi^2/ndof$ {0:0.2g}/{1:0.0f}'.format(chi2, Ndof))\n",
    "    plt.text(0.03,0.66*h,r'N data = {0:0.3g}'.format(N))\n",
    "    ax2.legend();\n",
    "\n",
    "    \n",
    "    plt.savefig(figName+'.png', dpi=plt.rcParamsDefault['figure.dpi']);\n",
    "    plt.savefig(figName+'.pdf', dpi=plt.rcParamsDefault['figure.dpi']);\n",
    "#     print(\"Saving to: \", figName+'.png')\n",
    "    plt.close();   "
   ]
  },
  {
   "cell_type": "code",
   "execution_count": 167,
   "metadata": {},
   "outputs": [],
   "source": [
    "import warnings\n",
    "# warnings.filterwarnings('ignore') ### To suppress warnings with bad\n",
    "barable_samples = ['b', 'c', 's', 'u', 'd']\n",
    "\n",
    "def fit_responses(output, samp='_b'):\n",
    "    warnings.filterwarnings('ignore')\n",
    "    saveplots = False\n",
    "    if test_run or fine_etabins:\n",
    "        saveplots = False\n",
    "    saveplots = True\n",
    "\n",
    "    \n",
    "    response_hist_all_samp = output['ptresponse'][{\"pt_reco\":sum}]\n",
    "    recopt_hist_all_samp = output['ptresponse'][{\"ptresponse\":sum}]\n",
    "    \n",
    "    if combine_antiflavour and (samp in barable_samples):\n",
    "        response_hist = response_hist_all_samp[{\"jet_flav\":samp}] + response_hist_all_samp[{\"jet_flav\":samp+'bar'}]\n",
    "        recopt_hist = recopt_hist_all_samp[{\"jet_flav\":samp}] + recopt_hist_all_samp[{\"jet_flav\":samp+'bar'}]\n",
    "    else:\n",
    "        response_hist = response_hist_all_samp[{\"jet_flav\":samp}]\n",
    "        recopt_hist = recopt_hist_all_samp[{\"jet_flav\":samp}]\n",
    "\n",
    "    results = {}\n",
    "    results[\"Mean\"] = np.zeros((jetpt_length, jeteta_length))\n",
    "    results[\"Median\"] = np.zeros((jetpt_length, jeteta_length))\n",
    "    results[\"MedianStd\"] = np.zeros((jetpt_length, jeteta_length))\n",
    "    results[\"MeanVar\"] = np.zeros((jetpt_length, jeteta_length))\n",
    "    results[\"MeanRecoPt\"] = np.zeros((jetpt_length, jeteta_length))\n",
    "\n",
    "\n",
    "    N_converge = 0\n",
    "    N_not_converge = 0\n",
    "\n",
    "    FitFigDir1 = 'fig/responses/responses'+tag_full\n",
    "    if saveplots and not os.path.exists(FitFigDir1):\n",
    "        os.mkdir(FitFigDir1)\n",
    "    \n",
    "    FitFigDir = FitFigDir1+'/response_pt_eta'+samp+tag_full\n",
    "    if saveplots and not os.path.exists(FitFigDir):\n",
    "        os.mkdir(FitFigDir)\n",
    "        print(\"Images will be saved under \", FitFigDir)\n",
    "\n",
    "    xvals = response_hist.axes['ptresponse'].centers[1:] #[1:] to exclude the second peak for low pt\n",
    "    response_edges = response_hist.axes['ptresponse'].edges[1:]\n",
    "\n",
    "    for i in range(jetpt_length):\n",
    "        pt_lo = ptbins[i]\n",
    "        pt_hi = ptbins[i+1]\n",
    "    #         print('-'*25)\n",
    "\n",
    "        if not np.isinf(pt_hi):\n",
    "            pt_string = '_pT'+str(int(pt_lo))+'to'+str(int(pt_hi))\n",
    "        else:\n",
    "            pt_string = '_pT'+str(pt_lo) + 'to' + str(pt_hi)\n",
    "            pt_string = pt_string.replace('.0','').replace('-infto','0to')\n",
    "\n",
    "        for k in range(jeteta_length):\n",
    "            etaPl_lo = etabins[k+jeteta_length]\n",
    "            etaPl_hi = etabins[k+1+jeteta_length]\n",
    "            etaMi_lo = etabins[jeteta_length-k-1]\n",
    "            etaMi_hi = etabins[jeteta_length-k]\n",
    "            eta_string = '_eta'+str(etaPl_lo)+'to'+str(etaPl_hi)\n",
    "            eta_string = eta_string.replace('.','')\n",
    "\n",
    "                \n",
    "            sliceMi = {'jeteta': slice(hist.loc(etaMi_lo),hist.loc(etaMi_hi),sum),\n",
    "                        'pt_gen': slice(hist.loc(pt_lo),hist.loc(pt_hi),sum)}\n",
    "            slicePl = {'jeteta': slice(hist.loc(etaPl_lo),hist.loc(etaPl_hi),sum),\n",
    "                        'pt_gen': slice(hist.loc(pt_lo),hist.loc(pt_hi),sum)}\n",
    "\n",
    "            histoMi = response_hist[sliceMi]\n",
    "            histoPl = response_hist[slicePl]\n",
    "            histo = (histoMi+histoPl)\n",
    "            \n",
    "            histoptMi = recopt_hist[sliceMi]\n",
    "            histoptPl = recopt_hist[slicePl]\n",
    "            histopt = (histoptMi+histoptPl)\n",
    "\n",
    "            yvals = histo.values()[1:]     #[1:] to exclude the second peak for low pt\n",
    "            N = np.sum(yvals)\n",
    "\n",
    "            median, medianstd = get_median(xvals, yvals, response_edges)\n",
    "            \n",
    "            ##################### Mean of the pt_reco  ######################\n",
    "            ### (this is the binned mean, not the real data mean)  \n",
    "            y = histopt.counts()\n",
    "            x = histopt.axes['pt_reco'].centers\n",
    "            mean_reco_pt = np.sum(x*y)/sum(y)\n",
    "\n",
    "            ####################### Fitting ############################\n",
    "            p2, cov, chi2, Ndof, if_failed = fit_response(xvals, yvals, N)\n",
    "            if if_failed:\n",
    "                N_not_converge += 1\n",
    "            else:\n",
    "                N_converge += 1\n",
    "            \n",
    "            results[\"Mean\"][i,k] = p2[1]\n",
    "            results[\"MeanVar\"][i,k] = cov[1,1]\n",
    "            results[\"Median\"][i,k] = median\n",
    "            results[\"MedianStd\"][i,k] = medianstd\n",
    "            results[\"MeanRecoPt\"][i,k] = mean_reco_pt\n",
    "    #             chi2s[i,k] = chi2\n",
    "\n",
    "    ####################### Plotting ############################\n",
    "            if  saveplots:\n",
    "                figName = FitFigDir+'/ptResponse'+pt_string+eta_string\n",
    "                plot_response_dist(histo, xvals, p2, cov, chi2, Ndof, median, medianstd, N, figName)              \n",
    "\n",
    "    print(\"N converge = \", N_converge, \"N_not_converge = \", N_not_converge );\n",
    "    warnings.filterwarnings('default')\n",
    "    \n",
    "    return results  "
   ]
  },
  {
   "cell_type": "code",
   "execution_count": 168,
   "metadata": {},
   "outputs": [],
   "source": [
    "def plot_corrections(mean, meanstd, samp):\n",
    "    ### To ignore the points with 0 on y axis when setting the y axis limits\n",
    "    mean_p = mean.copy()\n",
    "    mean_p[mean_p==0] = np.nan\n",
    "\n",
    "    fig, ax = plt.subplots()\n",
    "    start = np.searchsorted(ptbins_c, 20, side='left') #np.where(ptbins<=20)[0][-1]\n",
    "    \n",
    "    k2 = np.where(etabins_mod<=0)[0][-1]\n",
    "    k4 = np.where(etabins_mod<=1.3)[0][-1]\n",
    "    k6 = np.where(etabins_mod<=2.5)[0][-1]\n",
    "    k8 = np.where(etabins_mod<=3.0)[0][-1]\n",
    "    lastbin = np.where(~ np.isnan(mean_p[:, k2]*mean_p[:, k4]*mean_p[:, k6]*mean_p[:, k8]))[0][-1]\n",
    "    \n",
    "    ptbins_plot = ptbins_c[start:lastbin]\n",
    "    meanstd = meanstd[start:lastbin,:]\n",
    "    \n",
    "    mean_p = mean_p[start:lastbin]\n",
    "    \n",
    "    plt.errorbar(ptbins_plot, mean_p[:,k2], yerr=meanstd[:,k2], marker='o',\n",
    "                 linestyle=\"none\", label=f'{etabins_mod[k2]}'+r'$<\\eta<$'+f'{etabins_mod[k2+1]}')\n",
    "    plt.errorbar(ptbins_plot, mean_p[:,k4], yerr=meanstd[:,k4], marker='o',\n",
    "             linestyle=\"none\", label=f'{etabins_mod[k4]}'+r'$<\\eta<$'+f'{etabins_mod[k4+1]}')\n",
    "    plt.errorbar(ptbins_plot, mean_p[:,k6], yerr=meanstd[:,k6], marker='o',\n",
    "             linestyle=\"none\", label=f'{etabins_mod[k6]}'+r'$<\\eta<$'+f'{etabins_mod[k6+1]}')\n",
    "    plt.errorbar(ptbins_plot, mean_p[:,k8], yerr=meanstd[:,k8], marker='o',\n",
    "             linestyle=\"none\", label=f'{etabins_mod[k8]}'+r'$<\\eta<$'+f'{etabins_mod[k8+1]}')\n",
    "\n",
    "    ### Calculate resonable limits excluding the few points with insane errors\n",
    "    yerr_norm = np.concatenate([meanstd[:,[k2, k4, k6, k8]] ])\n",
    "    y_norm = np.concatenate([mean_p[:,[k2, k4, k6, k8]]])\n",
    "    norm_pos = (yerr_norm<0.02) &  (yerr_norm != np.inf) & (y_norm>-0.1)\n",
    "    \n",
    "    left_lim = np.min((y_norm-yerr_norm)[norm_pos])\n",
    "    right_lim = np.max((yerr_norm+y_norm)[norm_pos])\n",
    "    lim_pad = (right_lim - left_lim)/20\n",
    "    ax.set_ylim(left_lim-lim_pad, right_lim+lim_pad)\n",
    "#     ax.set_ylim(np.min((y_norm-yerr_norm)[norm_pos]) ,np.max((yerr_norm+y_norm)[norm_pos]))\n",
    "    \n",
    "    ax.set_xscale('log')\n",
    "    \n",
    "    \n",
    "    \n",
    "    good_xlims = ax.get_xlim()\n",
    "    ax.set_xticks([20, 50, 100, 500, 1000, 5000])\n",
    "    ax.set_xlim(good_xlims)\n",
    "    ax.get_xaxis().set_major_formatter(mpl.ticker.ScalarFormatter())\n",
    "    ax.set_xlabel(r'$p_T$ (GeV)');\n",
    "    ax.set_ylabel(r'median response');\n",
    "    ax.legend()\n",
    "    if test_run:\n",
    "        plt.savefig('test/fig/corr_vs_pt'+samp+tag_full+'_test.pdf', dpi=plt.rcParamsDefault['figure.dpi']);\n",
    "        plt.savefig('test/fig/corr_vs_pt'+samp+tag_full+'_test.png', dpi=plt.rcParamsDefault['figure.dpi']);\n",
    "    else:\n",
    "        plt.savefig('fig/corr_vs_pt'+samp+tag_full+'.pdf');\n",
    "        plt.savefig('fig/corr_vs_pt'+samp+tag_full+'.png');\n",
    "\n",
    "    plt.show();\n",
    "    \n",
    "# plotCorrections()"
   ]
  },
  {
   "cell_type": "code",
   "execution_count": 169,
   "metadata": {},
   "outputs": [],
   "source": [
    "def plot_corrections_eta(mean, meanstd, samp):\n",
    "    ### To ignore the points with 0 on y axis when setting the y axis limits\n",
    "    mean_p = mean.copy()\n",
    "    mean_p[mean_p==0] = np.nan\n",
    "\n",
    "    fig, ax = plt.subplots()\n",
    "#     start = np.where(ptbins<=20)[0][-1]\n",
    "    \n",
    "#     ptbins_plot = ptbins_c[start:]\n",
    "#     meanstd = meanstd[start:,:]\n",
    "#     mean_p = mean_p[start:]\n",
    "    \n",
    "    k2 = np.where(ptbins<=15)[0][-1]\n",
    "    k4 = np.where(ptbins<=40)[0][-1]\n",
    "    k6 = np.where(ptbins<=150)[0][-1]\n",
    "    k8 = np.where(ptbins<=400)[0][-1]\n",
    "    \n",
    "#     np.isnan(mean_p[k2,:]*mean_p[k4,:]*mean_p[k6,:]*mean_p[k8,:])\n",
    "    \n",
    "    plt.errorbar(etabins_c, mean_p[k2,:], yerr=meanstd[k2], marker='o',\n",
    "                 linestyle=\"none\", label=f'{ptbins[k2]}'+r'$<p_t<$'+f'{ptbins[k2+1]}')\n",
    "    plt.errorbar(etabins_c, mean_p[k4,:], yerr=meanstd[k4], marker='o',\n",
    "             linestyle=\"none\", label=f'{ptbins[k4]}'+r'$<p_t<$'+f'{ptbins[k4+1]}')\n",
    "    plt.errorbar(etabins_c, mean_p[k6], yerr=meanstd[k6], marker='o',\n",
    "             linestyle=\"none\", label=f'{ptbins[k6]}'+r'$<p_t<$'+f'{ptbins[k6+1]}')\n",
    "    plt.errorbar(etabins_c, mean_p[k8], yerr=meanstd[k8], marker='o',\n",
    "             linestyle=\"none\", label=f'{ptbins[k8]}'+r'$<p_t<$'+f'{ptbins[k8+1]}')\n",
    "\n",
    "    ### Calculate resonable limits excluding the few points with insane errors\n",
    "    yerr_norm = np.concatenate([np.sqrt(meanvar[[k2, k4, k6, k8]]) ])\n",
    "    y_norm = np.concatenate([mean_p[[k2, k4, k6, k8]]])\n",
    "    norm_pos = (yerr_norm<0.02) &  (yerr_norm != np.inf) & (y_norm>-0.1)\n",
    "    ax.set_ylim(np.min((y_norm-yerr_norm)[norm_pos]) ,np.max((yerr_norm+y_norm)[norm_pos]))\n",
    "    ax.set_xlabel(r'$\\eta$');\n",
    "    ax.set_ylabel(r'median response');\n",
    "#     ax.set_xscale('log')\n",
    "    ax.legend()\n",
    "    if test_run:\n",
    "        plt.savefig('test/fig/corr_vs_eta'+samp+tag_full+'_test.pdf', dpi=plt.rcParamsDefault['figure.dpi']);\n",
    "        plt.savefig('test/fig/corr_vs_eta'+samp+tag_full+'_test.png', dpi=plt.rcParamsDefault['figure.dpi']);\n",
    "    else:\n",
    "        plt.savefig('fig/corr_vs_eta'+samp+tag_full+'.pdf');\n",
    "        plt.savefig('fig/corr_vs_eta'+samp+tag_full+'.png');\n",
    "\n",
    "    plt.show();\n",
    "    \n",
    "# plotCorrections()"
   ]
  },
  {
   "cell_type": "code",
   "execution_count": 170,
   "metadata": {},
   "outputs": [],
   "source": [
    "def save_data(data, name, samp):\n",
    "    # data = {str(ptBin):mean[i] for i, ptBin in enumerate(output['jetpt'].axis('pt')[1:-1])}\n",
    "    data_dict = {str(ptBin):data[i] for i, ptBin in enumerate(ptbins[:-1])}\n",
    "\n",
    "    # data['etaBins'] = [str(etaBin) for etaBin in output['jeteta'].axis('jeteta')[1:-1]]\n",
    "    data_dict['etaBins'] = np.array([str(etaBin) for etaBin in etabins_mod[:-1]])\n",
    "\n",
    "    df = pd.DataFrame(data=data_dict)\n",
    "    df = df.set_index('etaBins')\n",
    "    if not test_run:\n",
    "        df.to_csv('out_txt/EtaBinsvsPtBins'+name+samp+tag_full+'.csv')\n",
    "    else:\n",
    "        df.to_csv('test/out_txt/EtaBinsvsPtBins'+name+samp+tag_full+'_test.csv')\n",
    "#     return df"
   ]
  },
  {
   "cell_type": "code",
   "execution_count": 171,
   "metadata": {},
   "outputs": [],
   "source": [
    "def read_data(name, samp):\n",
    "    if not test_run:\n",
    "        df_csv = pd.read_csv('out_txt/EtaBinsvsPtBins'+name+samp+tag_full+'.csv').set_index('etaBins')\n",
    "#         df.to_csv('out_txt/EtaBinsvsPtBins'+name+samp+tag_full+'.csv')\n",
    "    else: #before_closure/\n",
    "        df_csv = pd.read_csv('test/out_txt/EtaBinsvsPtBins'+name+samp+tag_full+'_test.csv').set_index('etaBins')\n",
    "#         df.to_csv('out_txt/EtaBinsvsPtBins'+name+tag+'_test.csv')\n",
    "    \n",
    "#     df_csv = pd.read_csv('out_txt/EtaBinsvsPtBinsMean_L5.csv').set_index('etaBins')\n",
    "    data = df_csv.to_numpy().transpose()\n",
    "    return data"
   ]
  },
  {
   "cell_type": "markdown",
   "metadata": {},
   "source": [
    "### Run fitting for each sample"
   ]
  },
  {
   "cell_type": "code",
   "execution_count": 172,
   "metadata": {},
   "outputs": [],
   "source": [
    "medians = []\n",
    "medianstds = []"
   ]
  },
  {
   "cell_type": "code",
   "execution_count": 173,
   "metadata": {},
   "outputs": [
    {
     "name": "stdout",
     "output_type": "stream",
     "text": [
      "-------------------------\n",
      "-------------------------\n",
      "Fitting subsample:  b\n",
      "N converge =  112 N_not_converge =  0\n"
     ]
    },
    {
     "data": {
      "image/png": "[encoded data removed]",
      "text/plain": [
       "<Figure size 630x420 with 1 Axes>"
      ]
     },
     "metadata": {},
     "output_type": "display_data"
    },
    {
     "name": "stdout",
     "output_type": "stream",
     "text": [
      "CPU times: user 1min 20s, sys: 39.2 s, total: 1min 59s\n",
      "Wall time: 1min 20s\n"
     ]
    }
   ],
   "source": [
    "# %%time\n",
    "# load_fit_res=False\n",
    "combine_antiflavour = True\n",
    "# subsamples = ['', '_b', '_c', '_u', '_d', '_s', '_g', '_bbar', '_cbar', '_ubar', '_dbar','_sbar']\n",
    "subsamples = ['b', 'c', 'u', 'd', 's', 'g', 'bbar', 'cbar', 'ubar', 'dbar','sbar']\n",
    "subsamples = ['b']\n",
    "# subsamples = ['_b', '_c', '_ud', '_s', '_g']\n",
    "# subsamples = ['', '_ud', '_g'] # , '_b']\n",
    "for samp in subsamples:\n",
    "    print('-'*25)\n",
    "    print('-'*25)\n",
    "    print('Fitting subsample: ', samp)\n",
    "    if load_fit_res:\n",
    "        samp = \"_\"+samp\n",
    "        result = {}\n",
    "        keys = [\"Median\", \"MedianVar\", \"Median\", \"MedianStd\", \"MeanRecoPt\"] \n",
    "        for key in keys:\n",
    "            result[key] = read_data(key, samp)\n",
    "    \n",
    "    else:\n",
    "        result = fit_responses(output, samp)\n",
    "        samp = \"_\"+samp\n",
    "        medians.append(result[\"Median\"][0][0])\n",
    "        medianstds.append(result[\"MedianStd\"][0][0])\n",
    "        for key in result:\n",
    "            save_data(result[key], key, samp)\n",
    "            pass\n",
    "            \n",
    "    median = result[\"Median\"]\n",
    "    medianStd = result[\"MedianStd\"]\n",
    "    \n",
    "    meanstd = np.sqrt(result[\"MeanVar\"])\n",
    "            \n",
    "    if fine_etabins or one_bin:\n",
    "        plot_corrections_eta(result[\"Median\"], result[\"MedianStd\"], samp)\n",
    "    else:\n",
    "        plot_corrections(result[\"Median\"], result[\"MedianStd\"], samp)"
   ]
  },
  {
   "cell_type": "code",
   "execution_count": null,
   "metadata": {},
   "outputs": [],
   "source": []
  },
  {
   "cell_type": "code",
   "execution_count": null,
   "metadata": {},
   "outputs": [],
   "source": [
    "print('-----'*10)\n",
    "print(\"All done. Congrats!\")"
   ]
  }
 ],
 "metadata": {
  "kernelspec": {
   "display_name": "Python 3 (ipykernel)",
   "language": "python",
   "name": "python3"
  },
  "language_info": {
   "codemirror_mode": {
    "name": "ipython",
    "version": 3
   },
   "file_extension": ".py",
   "mimetype": "text/x-python",
   "name": "python",
   "nbconvert_exporter": "python",
   "pygments_lexer": "ipython3",
   "version": "3.9.12"
  }
 },
 "nbformat": 4,
 "nbformat_minor": 4
}
