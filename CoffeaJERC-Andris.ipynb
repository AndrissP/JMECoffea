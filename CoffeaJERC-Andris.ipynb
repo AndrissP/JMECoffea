{
 "cells": [
  {
   "cell_type": "markdown",
   "metadata": {},
   "source": [
    "#### Notebook options"
   ]
  },
  {
   "cell_type": "code",
   "execution_count": 1,
   "metadata": {},
   "outputs": [],
   "source": [
    "%load_ext autoreload\n",
    "# Set extension to reload modules every time before executing code\n",
    "%autoreload 2  #0 to turn of reloading"
   ]
  },
  {
   "cell_type": "code",
   "execution_count": 2,
   "metadata": {},
   "outputs": [],
   "source": [
    "### Print not only the last line in a cell\n",
    "from IPython.core.interactiveshell import InteractiveShell\n",
    "InteractiveShell.ast_node_interactivity = \"all\""
   ]
  },
  {
   "cell_type": "code",
   "execution_count": 3,
   "metadata": {},
   "outputs": [
    {
     "data": {
      "text/plain": [
       "{'Cell': {'cm_config': {'lineNumbers': True}},\n",
       " 'CodeCell': {'cm_config': {'autoCloseBrackets': False}}}"
      ]
     },
     "execution_count": 3,
     "metadata": {},
     "output_type": "execute_result"
    }
   ],
   "source": [
    "### Don't autoclose brackets\n",
    "from notebook.services.config import ConfigManager\n",
    "c = ConfigManager()\n",
    "c.update('notebook', {\"CodeCell\": {\"cm_config\": {\"autoCloseBrackets\": False}}})"
   ]
  },
  {
   "cell_type": "code",
   "execution_count": 4,
   "metadata": {},
   "outputs": [],
   "source": [
    "# try:\n",
    "#     uproot.open(\"root://sbgse1.in2p3.fr////store/mc/RunIISummer20UL18NanoAODv9/TTToSemiLeptonic_TuneCP5_13TeV-powheg-pythia8/NANOAODSIM/20UL18JMENano_106X_upgrade2018_realistic_v16_L1v1-v1/100000/60FACB8A-9C78-344B-BDAB-33308633D19C.root\")\n",
    "# except Exception as e:\n",
    "#     if \"Operationsadfds\" in str(e):\n",
    "#         print(\"Hee\")\n",
    "#     else:\n",
    "#         print(\"foo\")\n",
    "# except:\n",
    "#     print(\"Shhii\")\n",
    "        \n",
    "\n",
    "    "
   ]
  },
  {
   "cell_type": "code",
   "execution_count": 5,
   "metadata": {},
   "outputs": [],
   "source": [
    "# from coffea import some_test_func"
   ]
  },
  {
   "cell_type": "markdown",
   "metadata": {},
   "source": [
    "#### Imports"
   ]
  },
  {
   "cell_type": "code",
   "execution_count": 6,
   "metadata": {},
   "outputs": [],
   "source": [
    "import bokeh\n",
    "import time\n",
    "import copy\n",
    "import scipy.stats as ss\n",
    "from scipy.optimize import curve_fit\n",
    "from coffea import hist, processor, nanoevents, util\n",
    "from coffea.nanoevents.methods import candidate\n",
    "from coffea.nanoevents import NanoAODSchema, BaseSchema\n",
    "\n",
    "import awkward as ak\n",
    "import numpy as np\n",
    "import glob as glob\n",
    "import itertools\n",
    "import pandas as pd\n",
    "from numpy.random import RandomState\n",
    "\n",
    "from dask.distributed import Client\n",
    "import inspect\n",
    "import matplotlib.pyplot as plt\n",
    "import matplotlib as mpl\n",
    "\n",
    "from pltStyle import pltStyle\n",
    "import os\n",
    "import importlib\n",
    "# %matplotlib notebook \n",
    "# %matplotlib notebook "
   ]
  },
  {
   "cell_type": "code",
   "execution_count": 7,
   "metadata": {},
   "outputs": [],
   "source": [
    "# from CoffeaJERCProcessor_L5 import Processor"
   ]
  },
  {
   "cell_type": "markdown",
   "metadata": {},
   "source": [
    "#### Parameters of the run"
   ]
  },
  {
   "cell_type": "code",
   "execution_count": 8,
   "metadata": {},
   "outputs": [],
   "source": [
    "UsingDaskExecutor = True\n",
    "CERNCondorCluster = False\n",
    "CoffeaCasaEnv     = False\n",
    "load_preexisting  = True    ### True if don't repeat the processing of files and use preexisting JER from output\n",
    "test_run          = False   ### True if run only on one file\n",
    "load_fit_res      = False   ### True if don't repeat the response fits\n",
    "\n",
    "fine_etabins      = False   ### Don't merge eta bins together when fitting responses. Preprocessing always done in many bins\n",
    "one_bin           = False   ### Unite all eta and pt bins in one\n",
    "\n",
    "Nfiles = 100                 ### -1 for all files\n",
    "\n",
    "tag = '_L5'                 ### L5 or L23, but L23 not supported since ages\n",
    "\n",
    "### name of the specific run:\n",
    "# add_tag = '_LHEflav1_TTBAR-Summer16-cFlip' #'_LHEflav1_TTBAR-JME' #'_LHEflav1_TTBAR-Summer16-cFlip' #'_Herwig-TTBAR' # '_TTBAR' #'_QCD' # '_testing_19UL18' # '' #fine_etaBins\n",
    "# add_tag='_fine_etaBins'+add_tag\n",
    "add_tag = '_DY-JME'"
   ]
  },
  {
   "cell_type": "markdown",
   "metadata": {},
   "source": [
    "#### Dataset parameters"
   ]
  },
  {
   "cell_type": "code",
   "execution_count": 9,
   "metadata": {},
   "outputs": [],
   "source": [
    "### Choose the correct redirector\n",
    "## assume running on the LPC\n",
    "# xrootdstr = 'root://cmsxrootd.fnal.gov/'\n",
    "## assume running on the lxplus\n",
    "xrootdstr = 'root://cms-xrd-global.cern.ch//'\n",
    "# xrootdstr = 'root://xrootd-cms.infn.it/'\n",
    "\n",
    "# if running on coffea casa instead...\n",
    "if CoffeaCasaEnv:\n",
    "    xrootdstr = 'root://xcache/'\n",
    "    \n",
    "### Not completelly sure if needed\n",
    "prixydir = '/afs/cern.ch/user/a/anpotreb/k5-ca-proxy.pem'\n",
    "    \n",
    "# dataset = 'fileNames/fileNames_QCD20UL18.txt'\n",
    "# dataset = 'fileNames/fileNames_Herwig_20UL18.txt'\n",
    "dataset = 'fileNames/fileNames_TTToSemi20UL18.txt'\n",
    "dataset = 'fileNames/fileNames_QCD20UL18.txt'\n",
    "dataset = 'fileNames/fileNames_QCD20UL18_JMENano.txt'\n",
    "# dataset = 'fileNames/fileNames_TTToSemi20UL18_JMENano.txt'\n",
    "# dataset = 'fileNames/fileNames_TTToDilep20UL18_JMENano.txt'\n",
    "# dataset = 'fileNames/fileNames_TTToHad20UL18_JMENano.txt'\n",
    "dataset = 'fileNames/fileNames_Herwig_20UL18_JMENano.txt'\n",
    "dataset = 'fileNames/fileNames_TT_Summer16cFlip.txt'\n",
    "dataset = 'fileNames/fileNames_DYJets.txt'\n",
    "\n",
    "with open(dataset) as f:\n",
    "    rootfiles = f.read().split()\n",
    "\n",
    "\n",
    "# dataset = 'fileNames/fileNames_TTToSemi20UL18_JMENano_redi.txt'\n",
    "\n",
    "# #### dataset with files already with redirectors of the corresponding tiers\n",
    "# with open(dataset) as f:\n",
    "#     rootfiles = f.read().split()\n",
    "# fileslist = rootfiles[:Nfiles]\n",
    "\n",
    "#### If manyally adding fileslist\n",
    "# fileslist = ['root://cms-xrd-global.cern.ch///store/mc/RunIISummer16NanoAODv7/TT_TuneCUETP8M2T4_13TeV-powheg-colourFlip-pythia8/NANOAODSIM/PUMoriond17_Nano02Apr2020_102X_mcRun2_asymptotic_v8_ext1-v1/20000/8033E2A6-04CC-2A4B-9636-BF2A51214156.root', #good file\n",
    "#              'root://cms-xrd-global.cern.ch///store/mc/RunIISummer16NanoAODv7/TT_TuneCUETP8M2T4_13TeV-powheg-colourFlip-pythia8/NANOAODSIM/PUMoriond17_Nano02Apr2020_102X_mcRun2_asymptotic_v8_ext1-v1/230000/55E72333-8846-D040-90FF-266FCA3EF67B.root', #bad file\n",
    "#              'root://grid-dcache.physik.rwth-aachen.de:1094////store/mc/RunIISummer16NanoAODv7/TT_TuneCUETP8M2T4_13TeV-powheg-colourFlip-pythia8/NANOAODSIM/PUMoriond17_Nano02Apr2020_102X_mcRun2_asymptotic_v8_ext1-v1/230000/E6694A4B-483C-BB42-AC66-187B1FE69CCF.root' #bad file2\n",
    "#             ] "
   ]
  },
  {
   "cell_type": "code",
   "execution_count": 10,
   "metadata": {},
   "outputs": [
    {
     "name": "stdout",
     "output_type": "stream",
     "text": [
      "Runing on dataset fileNames/fileNames_DYJets.txt\n",
      " Number of files: 100\n",
      " Job with the full tag _L5_DY-JME\n",
      " Outname = out/CoffeaJERCOutputs_L5_DY-JME.coffea\n"
     ]
    }
   ],
   "source": [
    "#Import the correct processor\n",
    "Processor = importlib.import_module('CoffeaJERCProcessor'+tag).Processor\n",
    "# exec('from CoffeaJERCProcessor'+tag+' import Processor')\n",
    "\n",
    "tag_full = tag+add_tag\n",
    "\n",
    "outname = 'out/CoffeaJERCOutputs'+tag_full+'.coffea'\n",
    "outname = outname+'_test' if test_run else outname\n",
    "\n",
    "# if fine_etabins:\n",
    "#     tag_full='_oneBin'+tag_full\n",
    "\n",
    "if one_bin:\n",
    "    tag_full='_oneBin'+tag_full\n",
    "    \n",
    "if load_preexisting == True:\n",
    "    UsingDaskExecutor = False\n",
    "    \n",
    "if UsingDaskExecutor == False:\n",
    "    CERNCondorCluster = False\n",
    "    \n",
    "if not os.path.exists(\"out\"):\n",
    "    os.mkdir(\"out\")\n",
    "    \n",
    "if not os.path.exists(\"out_txt\"):\n",
    "    os.mkdir(\"out_txt\")\n",
    "    \n",
    "if not os.path.exists(\"fig\"):\n",
    "    os.mkdir(\"fig/\")\n",
    "    os.mkdir(\"fig/responses/\")\n",
    "    \n",
    "if test_run and not os.path.exists(\"test\"):\n",
    "    os.mkdir(\"test/\")\n",
    "    os.mkdir(\"test/out_txt\")\n",
    "    os.mkdir(\"test/fig\")\n",
    "    \n",
    "if test_run:\n",
    "    Nfiles = 1\n",
    "    \n",
    "fileslist = [xrootdstr + file for file in rootfiles]\n",
    "fileslist = fileslist[:Nfiles] # if add_tag=='QCD' else fileslist # :20 to skim the events\n",
    "    \n",
    "print(f'Runing on dataset {dataset}\\n Number of files: {Nfiles}\\n Job with the full tag {tag_full}\\n Outname = {outname}')"
   ]
  },
  {
   "cell_type": "markdown",
   "metadata": {},
   "source": [
    "### For the attempt to correctly combine three ttbar channels. Not fully tested"
   ]
  },
  {
   "cell_type": "code",
   "execution_count": 11,
   "metadata": {},
   "outputs": [],
   "source": [
    "def find_xsec(key):\n",
    "    semilepxsec = 0.108*3*0.337*2*2\n",
    "    dilepxsec = 0.108*3*0.108*3\n",
    "    hadxsec = 0.337*2*0.337*2\n",
    "\n",
    "    if \"TTToSemi\" in key:\n",
    "        xsec = semilepxsec\n",
    "    elif \"TTToDilep\" in key:\n",
    "        xsec = dilepxsec\n",
    "    elif \"TTToHad\" in key:\n",
    "        xsec = hadxsec\n",
    "    else:\n",
    "        xsec = 1\n",
    "    return xsec\n",
    "\n",
    "xsec = find_xsec(dataset)\n"
   ]
  },
  {
   "cell_type": "code",
   "execution_count": 12,
   "metadata": {},
   "outputs": [],
   "source": [
    "combineTTbar = False\n",
    "\n",
    "# datasets = ['fileNames/fileNames_TTToSemi20UL18_JMENano.txt',\n",
    "#            'fileNames/fileNames_TTToDilep20UL18_JMENano.txt',\n",
    "#            'fileNames/fileNames_TTToHad20UL18_JMENano.txt'\n",
    "#            ]\n",
    "file_tags = ['Semi', 'Dilep', 'Had']\n",
    "\n",
    "filesets = {}\n",
    "if combineTTbar:\n",
    "    for ftag in file_tags:\n",
    "        data_name = f'fileNames/fileNames_TTTo{ftag}20UL18_JMENano.txt'\n",
    "        with open(data_name) as f:\n",
    "            rootfiles = f.read().split()\n",
    "        fileslist = [xrootdstr + file for file in rootfiles]\n",
    "        fileslist = fileslist[:Nfiles]\n",
    "        fileslist = ['root://cms-xrd-global.cern.ch///store/mc/RunIISummer20UL18NanoAODv9/DYJetsToLL_M-50_TuneCP5_13TeV-amcatnloFXFX-pythia8/NANOAODSIM/20UL18JMENano_106X_upgrade2018_realistic_v16_L1v1-v1/2820000/7F3155C8-D127-7D44-947B-000D5CE02C8C.root']\n",
    "        xsec = find_xsec(data_name)\n",
    "        filesets[ftag] = {\"files\": fileslist, \"metadata\": {\"xsec\": xsec}}\n",
    "else:\n",
    "    filesets = {'QCD': {\"files\": fileslist, \"metadata\": {\"xsec\": xsec}}}\n",
    "# fileslist = fileslist\n",
    "# if test_run:\n",
    "#     fileslist = [fileslist[1]]"
   ]
  },
  {
   "cell_type": "markdown",
   "metadata": {},
   "source": [
    "Test if certificate works to open the file"
   ]
  },
  {
   "cell_type": "code",
   "execution_count": 13,
   "metadata": {},
   "outputs": [
    {
     "name": "stdout",
     "output_type": "stream",
     "text": [
      "Found proxy at /afs/cern.ch/user/a/anpotreb/k5-ca-proxy.pem\n"
     ]
    }
   ],
   "source": [
    "### Cell copied to CMS DAS tutorial when trying to solve certificate issues. Not fully sure if needed.\n",
    "\n",
    "import os\n",
    "### RUN THIS CELL ONLY IF YOU ARE USING SWAN \n",
    "\n",
    "##### REMEMBER TO MANUALLY COPY THE PROXY TO YOUR CERNBOX FOLDER AND TO MODIFY THE NEXT LINE\n",
    "os.environ['X509_USER_PROXY'] = '/afs/cern.ch/user/a/anpotreb/k5-ca-proxy.pem'\n",
    "if os.path.isfile(os.environ['X509_USER_PROXY']):\n",
    "    print(\"Found proxy at {}\".format(os.environ['X509_USER_PROXY']))\n",
    "else:\n",
    "    print(\"os.environ['X509_USER_PROXY'] \",os.environ['X509_USER_PROXY'])\n",
    "os.environ['X509_CERT_DIR'] = '/cvmfs/cms.cern.ch/grid/etc/grid-security/certificates'\n",
    "os.environ['X509_VOMS_DIR'] = '/cvmfs/cms.cern.ch/grid/etc/grid-security/vomsdir'\n",
    "os.environ['X509_USER_CERT'] = '/afs/cern.ch/user/a/anpotreb/k5-ca-proxy.pem'"
   ]
  },
  {
   "cell_type": "markdown",
   "metadata": {},
   "source": [
    "# Dask Setup:\n",
    "---\n",
    "### For Dask+Condor setup on lxplus,\n",
    "#### 1.) The wrapper needs to be installed following https://github.com/cernops/dask-lxplus\n",
    "#### 2.) Source lcg environment in bash\n",
    "#### `source /cvmfs/sft-nightlies.cern.ch/lcg/views/dev4/latest/x86_64-centos7-gcc11-opt/setup.sh`\n",
    "#### Singularity could work but not confirmed.\n",
    "---\n",
    "### For Coffea-Casa, the client must be specified according to the user that is logged into the Coffea-Casa Environment.\n",
    "#### 1.) go to the left of this coffea-casa session to the task bar and click the orange-red button; it will say \"Dask\" if you hover your cursor over it\n",
    "#### 2.) scroll down to the blue box where it shows the \"Scheduler Address\"\n",
    "#### 3.) write that full address into the dask Client function \n",
    "#### Example: `client = Client(\"tls://ac-2emalik-2ewilliams-40cern-2ech.dask.coffea.casa:8786\")`\n",
    "---\n",
    "### For CMSLPC, the client must be specified with the LPCCondorCluster\n",
    "#### 1.) follow installation instructions from https://github.com/CoffeaTeam/lpcjobqueue, if you have not already done so, to get a working singularity environment with access to lpcjobqueue and LPCCondorCluster class\n",
    "#### 2.) import LPCCondorCluster: `from lpcjobqueue import LPCCondorCluster`\n",
    "#### 3.) define the client\n",
    "#### Example: \n",
    "`cluster = LPCCondorCluster()`\n",
    "\n",
    "`client = Client(cluster)`\n"
   ]
  },
  {
   "cell_type": "code",
   "execution_count": 14,
   "metadata": {},
   "outputs": [],
   "source": [
    "# ak.type(light_match_candidates.pt)\n",
    "# bla.pdgId"
   ]
  },
  {
   "cell_type": "code",
   "execution_count": 15,
   "metadata": {},
   "outputs": [],
   "source": [
    "# Dask set up for Coffea-Casa only\n",
    "if(UsingDaskExecutor and CoffeaCasaEnv):\n",
    "    client = Client(\"tls://ac-2emalik-2ewilliams-40cern-2ech.dask.coffea.casa:8786\")\n",
    "    client.upload_file('CoffeaJERCProcessor.py')"
   ]
  },
  {
   "cell_type": "code",
   "execution_count": 16,
   "metadata": {},
   "outputs": [],
   "source": [
    "# import logging\n",
    "# logging.basicConfig(format='%(levelname)s:%(message)s', level=logging.WARNING)"
   ]
  },
  {
   "cell_type": "code",
   "execution_count": 17,
   "metadata": {},
   "outputs": [],
   "source": [
    "env_extra = [\n",
    "            'export XRD_RUNFORKHANDLER=1',\n",
    "            f'export X509_USER_PROXY='+prixydir,\n",
    "            f'export X509_CERT_DIR={os.environ[\"X509_CERT_DIR\"]}',\n",
    "        ]"
   ]
  },
  {
   "cell_type": "code",
   "execution_count": 18,
   "metadata": {
    "scrolled": true
   },
   "outputs": [],
   "source": [
    "if(UsingDaskExecutor and not CoffeaCasaEnv):\n",
    "    from dask.distributed import Client \n",
    "## Dask set up for LPC only \n",
    "    if not CERNCondorCluster:\n",
    "        client = Client()\n",
    "        client.get_versions(check=True)\n",
    "#         client.nanny = False\n",
    "## Dask set up for lxplus only\n",
    "    else:\n",
    "        from dask_lxplus import CernCluster\n",
    "        import socket\n",
    "\n",
    "        cluster = CernCluster(\n",
    "# #             memory=config.run_options['mem_per_worker'],\n",
    "# #             disk=config.run_options.get('disk_per_worker', \"20GB\"),\n",
    "            env_extra=env_extra,\n",
    "            cores = 4,\n",
    "            memory = '4000MB',\n",
    "            disk = '2000MB',\n",
    "            death_timeout = '60',\n",
    "            lcg = True,\n",
    "            nanny = False,\n",
    "            container_runtime = 'none',\n",
    "            log_directory = '/eos/user/a/anpotreb/condor/log',\n",
    "            scheduler_options = {\n",
    "                'port': 8786,\n",
    "                'host': socket.gethostname(),\n",
    "            },\n",
    "            job_extra = {\n",
    "                'MY.JobFlavour': '\"longlunch\"',\n",
    "                'transfer_input_files': '/afs/cern.ch/user/a/anpotreb/top/JERC/JMECoffea/count_2d.py',\n",
    "            },\n",
    "        )\n",
    "        cluster.adapt(minimum=2, maximum=50)\n",
    "        cluster.scale(8)\n",
    "        client = Client(cluster)\n",
    "    \n",
    "    client.upload_file('CoffeaJERCProcessor'+tag+'.py')\n",
    "\n",
    "    client"
   ]
  },
  {
   "cell_type": "code",
   "execution_count": 19,
   "metadata": {},
   "outputs": [],
   "source": [
    "# import re\n",
    "# import sys\n",
    "# aa = re.match('^/cvmfs/sft(?:-nightlies)?.cern.ch/lcg+/python[2,3]?$', sys.executable)"
   ]
  },
  {
   "cell_type": "code",
   "execution_count": 20,
   "metadata": {},
   "outputs": [],
   "source": [
    "# sys.executable"
   ]
  },
  {
   "cell_type": "code",
   "execution_count": 21,
   "metadata": {},
   "outputs": [],
   "source": [
    "# import sys\n",
    "# import re\n",
    "# if not re.match('^/cvmfs/sft(?:-nightlies)?.cern.ch/lcg/latest/.+/python[2,3]?$', sys.executable):\n",
    "#     \"print\"\n",
    "# sys.executable"
   ]
  },
  {
   "cell_type": "markdown",
   "metadata": {},
   "source": [
    "### Run the processor"
   ]
  },
  {
   "cell_type": "code",
   "execution_count": 22,
   "metadata": {},
   "outputs": [],
   "source": [
    "# uproot.open('root://cms-xrd-global.cern.ch///store/mc/RunIISummer20UL18NanoAODv9/TTToSemiLeptonic_TuneCP5_13TeV-powheg-pythia8/NANOAODSIM/20UL18JMENano_106X_upgrade2018_realistic_v16_L1v1-v1/2510000/04DDE5C7-7697-2F4A-8DDB-EB2A407DB99.root')"
   ]
  },
  {
   "cell_type": "code",
   "execution_count": 23,
   "metadata": {},
   "outputs": [],
   "source": [
    "# aa = uproot.open(\"root://sbgse1.in2p3.fr/////store/mc/RunIISummer20UL18NanoAODv9/TTToSemiLeptonic_TuneCP5_13TeV-powheg-pythia8/NANOAODSIM/20UL18JMENano_106X_upgrade2018_realistic_v16_L1v1-v1/2500000/FCFC874A-415B-9E44-A4AF-F6C8FE7477FA.root\")"
   ]
  },
  {
   "cell_type": "markdown",
   "metadata": {},
   "source": [
    "Originally \"OSError: XRootD error: [ERROR] Operation expired\" Later became \"OSError: XRootD error: [ERROR] Invalid redirect URL\""
   ]
  },
  {
   "cell_type": "code",
   "execution_count": 24,
   "metadata": {},
   "outputs": [],
   "source": [
    "# filesets = {'QCD': {\"files\": [\"root://cms-xrd-global.cern.ch///store/mc/RunIISummer16NanoAODv7/TT_TuneCUETP8M2T4_13TeV-powheg-colourFlip-pythia8/NANOAODSIM/PUMoriond17_Nano02Apr2020_102X_mcRun2_asymptotic_v8_ext1-v1/230000/55E72333-8846-D040-90FF-266FCA3EF67B.root\"], \"metadata\": {\"xsec\": xsec}}}"
   ]
  },
  {
   "cell_type": "code",
   "execution_count": 25,
   "metadata": {},
   "outputs": [],
   "source": [
    "# filesets = {'QCD': {\"files\": [\"root://cms-xrd-global.cern.ch///store/mc/RunIISummer20UL18NanoAODv9/DYJetsToLL_M-50_TuneCP5_13TeV-amcatnloFXFX-pythia8/NANOAODSIM/20UL18JMENano_106X_upgrade2018_realistic_v16_L1v1-v1/2820000/72CFC7D6-A773-1B49-84CF-07E9001E46A2.root\"], \"metadata\": {\"xsec\": xsec}}}"
   ]
  },
  {
   "cell_type": "code",
   "execution_count": 192,
   "metadata": {
    "scrolled": true
   },
   "outputs": [
    {
     "name": "stdout",
     "output_type": "stream",
     "text": [
      "Loaded histograms from:  out/CoffeaJERCOutputs_L5_DY-JME.coffea\n"
     ]
    }
   ],
   "source": [
    "tstart = time.time()\n",
    "\n",
    "outputs_unweighted = {}\n",
    "\n",
    "seed = 1234577890\n",
    "prng = RandomState(seed)\n",
    "Chunk = [10000, 5] # [chunksize, maxchunks]\n",
    "\n",
    "# filedict = {f\"MC\": {\"files\": fileslist, \"metadata\": {\"xsec\": xsec}}}\n",
    "# filesets = {'QCD': {\"files\": fileslist, \"metadata\": {\"xsec\": xsec}}}\n",
    "\n",
    "if not load_preexisting:\n",
    "#     for name,files in filesets.items(): \n",
    "    if not UsingDaskExecutor:\n",
    "        chosen_exec = 'futures'\n",
    "        output = processor.run_uproot_job({'QCD':filesets},\n",
    "                                          treename='Events',\n",
    "                                          processor_instance=Processor(),\n",
    "                                          executor=processor.iterative_executor,\n",
    "    #                                        executor=processor.futures_executor,\n",
    "                                          executor_args={\n",
    "                                              'skipbadfiles':True,\n",
    "                                              'schema': NanoAODSchema, #BaseSchema\n",
    "                                              'workers': 2},\n",
    "                                          chunksize=Chunk[0])#, maxchunks=Chunk[1])\n",
    "    else:\n",
    "        chosen_exec = 'dask'\n",
    "        output = processor.run_uproot_job(filesets,\n",
    "                                          treename='Events',\n",
    "                                          processor_instance=Processor(),\n",
    "                                          executor=processor.dask_executor,\n",
    "                                          executor_args={\n",
    "                                              'client': client,\n",
    "                                              'skipbadfiles':True,\n",
    "                                              'schema': NanoAODSchema, #BaseSchema\n",
    "                                              'xrootdtimeout': 60,\n",
    "                                              'retries': 2,\n",
    "#                                               'workers': 2\n",
    "                                          },\n",
    "                                          chunksize=Chunk[0])#, maxchunks=Chunk[1])\n",
    "\n",
    "    elapsed = time.time() - tstart\n",
    "    print(\"Processor finished. Time elapsed: \", elapsed)\n",
    "#     outputs_unweighted[name] = output\n",
    "    print(\"Saving the output histograms under: \", outname)\n",
    "    util.save(output, outname)\n",
    "#     outputs_unweighted[name] = output\n",
    "else:\n",
    "    output = util.load(outname)\n",
    "    print(\"Loaded histograms from: \", outname)\n",
    "\n",
    "#### Attempt to prevent the error when the cluster closes. Doesn't always work.\n",
    "if UsingDaskExecutor:\n",
    "    client.close()\n",
    "    time.sleep(5)\n",
    "    if CERNCondorCluster or CoffeaCasaEnv:\n",
    "        cluster.close()"
   ]
  },
  {
   "cell_type": "code",
   "execution_count": 193,
   "metadata": {},
   "outputs": [
    {
     "data": {
      "text/plain": [
       "{'QCD': {'files': ['root://cms-xrd-global.cern.ch///store/mc/RunIISummer20UL18NanoAODv9/DYJetsToLL_M-50_TuneCP5_13TeV-amcatnloFXFX-pythia8/NANOAODSIM/20UL18JMENano_106X_upgrade2018_realistic_v16_L1v1-v1/2820000/97F62886-8BCE-2C48-B03B-3860503BB987.root',\n",
       "   'root://cms-xrd-global.cern.ch///store/mc/RunIISummer20UL18NanoAODv9/DYJetsToLL_M-50_TuneCP5_13TeV-amcatnloFXFX-pythia8/NANOAODSIM/20UL18JMENano_106X_upgrade2018_realistic_v16_L1v1-v1/2820000/87883FBB-5E12-B346-8A36-362473B4BC9D.root',\n",
       "   'root://cms-xrd-global.cern.ch///store/mc/RunIISummer20UL18NanoAODv9/DYJetsToLL_M-50_TuneCP5_13TeV-amcatnloFXFX-pythia8/NANOAODSIM/20UL18JMENano_106X_upgrade2018_realistic_v16_L1v1-v1/2820000/BF1201F9-7E5A-5645-9A5A-E165B736B9CB.root',\n",
       "   'root://cms-xrd-global.cern.ch///store/mc/RunIISummer20UL18NanoAODv9/DYJetsToLL_M-50_TuneCP5_13TeV-amcatnloFXFX-pythia8/NANOAODSIM/20UL18JMENano_106X_upgrade2018_realistic_v16_L1v1-v1/2820000/F2BD3BD1-F5E4-4849-AE13-AD08A3E7740D.root',\n",
       "   'root://cms-xrd-global.cern.ch///store/mc/RunIISummer20UL18NanoAODv9/DYJetsToLL_M-50_TuneCP5_13TeV-amcatnloFXFX-pythia8/NANOAODSIM/20UL18JMENano_106X_upgrade2018_realistic_v16_L1v1-v1/2820000/02A64E57-CABC-844A-8245-43715AC716D2.root',\n",
       "   'root://cms-xrd-global.cern.ch///store/mc/RunIISummer20UL18NanoAODv9/DYJetsToLL_M-50_TuneCP5_13TeV-amcatnloFXFX-pythia8/NANOAODSIM/20UL18JMENano_106X_upgrade2018_realistic_v16_L1v1-v1/2820000/81E01B43-9CEA-324A-ACA8-D5A8B2071724.root',\n",
       "   'root://cms-xrd-global.cern.ch///store/mc/RunIISummer20UL18NanoAODv9/DYJetsToLL_M-50_TuneCP5_13TeV-amcatnloFXFX-pythia8/NANOAODSIM/20UL18JMENano_106X_upgrade2018_realistic_v16_L1v1-v1/2820000/BF4E0023-9C23-DA44-B9A1-6C61A079828F.root',\n",
       "   'root://cms-xrd-global.cern.ch///store/mc/RunIISummer20UL18NanoAODv9/DYJetsToLL_M-50_TuneCP5_13TeV-amcatnloFXFX-pythia8/NANOAODSIM/20UL18JMENano_106X_upgrade2018_realistic_v16_L1v1-v1/2820000/194607B9-FF0F-3F48-95CE-D3E905B2DF30.root',\n",
       "   'root://cms-xrd-global.cern.ch///store/mc/RunIISummer20UL18NanoAODv9/DYJetsToLL_M-50_TuneCP5_13TeV-amcatnloFXFX-pythia8/NANOAODSIM/20UL18JMENano_106X_upgrade2018_realistic_v16_L1v1-v1/2820000/A8A8D11A-C64B-5E49-9E6A-9B841851DCAE.root',\n",
       "   'root://cms-xrd-global.cern.ch///store/mc/RunIISummer20UL18NanoAODv9/DYJetsToLL_M-50_TuneCP5_13TeV-amcatnloFXFX-pythia8/NANOAODSIM/20UL18JMENano_106X_upgrade2018_realistic_v16_L1v1-v1/2820000/50A612D9-AF49-6849-943E-8F2B364CAF7B.root',\n",
       "   'root://cms-xrd-global.cern.ch///store/mc/RunIISummer20UL18NanoAODv9/DYJetsToLL_M-50_TuneCP5_13TeV-amcatnloFXFX-pythia8/NANOAODSIM/20UL18JMENano_106X_upgrade2018_realistic_v16_L1v1-v1/2820000/952074C8-AB74-F547-BCE2-839A5A0A0564.root',\n",
       "   'root://cms-xrd-global.cern.ch///store/mc/RunIISummer20UL18NanoAODv9/DYJetsToLL_M-50_TuneCP5_13TeV-amcatnloFXFX-pythia8/NANOAODSIM/20UL18JMENano_106X_upgrade2018_realistic_v16_L1v1-v1/2820000/ACEB80A7-626A-0F44-A8E2-968701399C37.root',\n",
       "   'root://cms-xrd-global.cern.ch///store/mc/RunIISummer20UL18NanoAODv9/DYJetsToLL_M-50_TuneCP5_13TeV-amcatnloFXFX-pythia8/NANOAODSIM/20UL18JMENano_106X_upgrade2018_realistic_v16_L1v1-v1/2820000/2D78B9FE-24DD-634D-A21B-AEC4A03C8B14.root',\n",
       "   'root://cms-xrd-global.cern.ch///store/mc/RunIISummer20UL18NanoAODv9/DYJetsToLL_M-50_TuneCP5_13TeV-amcatnloFXFX-pythia8/NANOAODSIM/20UL18JMENano_106X_upgrade2018_realistic_v16_L1v1-v1/2820000/5CEC3203-29C0-F943-BA92-98C50DA24FA0.root',\n",
       "   'root://cms-xrd-global.cern.ch///store/mc/RunIISummer20UL18NanoAODv9/DYJetsToLL_M-50_TuneCP5_13TeV-amcatnloFXFX-pythia8/NANOAODSIM/20UL18JMENano_106X_upgrade2018_realistic_v16_L1v1-v1/2820000/1977610C-D9B4-C24A-A728-E88B800BD962.root',\n",
       "   'root://cms-xrd-global.cern.ch///store/mc/RunIISummer20UL18NanoAODv9/DYJetsToLL_M-50_TuneCP5_13TeV-amcatnloFXFX-pythia8/NANOAODSIM/20UL18JMENano_106X_upgrade2018_realistic_v16_L1v1-v1/2820000/C7301D4D-4020-8C43-B4DD-41B4653F1C66.root',\n",
       "   'root://cms-xrd-global.cern.ch///store/mc/RunIISummer20UL18NanoAODv9/DYJetsToLL_M-50_TuneCP5_13TeV-amcatnloFXFX-pythia8/NANOAODSIM/20UL18JMENano_106X_upgrade2018_realistic_v16_L1v1-v1/2820000/16DB02EC-6723-2541-8D69-5222088E9FAF.root',\n",
       "   'root://cms-xrd-global.cern.ch///store/mc/RunIISummer20UL18NanoAODv9/DYJetsToLL_M-50_TuneCP5_13TeV-amcatnloFXFX-pythia8/NANOAODSIM/20UL18JMENano_106X_upgrade2018_realistic_v16_L1v1-v1/2820000/768C3C83-D762-574D-ABC2-36C9A4910A26.root',\n",
       "   'root://cms-xrd-global.cern.ch///store/mc/RunIISummer20UL18NanoAODv9/DYJetsToLL_M-50_TuneCP5_13TeV-amcatnloFXFX-pythia8/NANOAODSIM/20UL18JMENano_106X_upgrade2018_realistic_v16_L1v1-v1/2820000/7FA11911-D1B3-2646-8D44-A8BEA1369D85.root',\n",
       "   'root://cms-xrd-global.cern.ch///store/mc/RunIISummer20UL18NanoAODv9/DYJetsToLL_M-50_TuneCP5_13TeV-amcatnloFXFX-pythia8/NANOAODSIM/20UL18JMENano_106X_upgrade2018_realistic_v16_L1v1-v1/2820000/41B5F533-6C29-2042-A040-83BF56A43E26.root',\n",
       "   'root://cms-xrd-global.cern.ch///store/mc/RunIISummer20UL18NanoAODv9/DYJetsToLL_M-50_TuneCP5_13TeV-amcatnloFXFX-pythia8/NANOAODSIM/20UL18JMENano_106X_upgrade2018_realistic_v16_L1v1-v1/2820000/638CBBB1-A598-FD46-BAF2-FD85FB82D375.root',\n",
       "   'root://cms-xrd-global.cern.ch///store/mc/RunIISummer20UL18NanoAODv9/DYJetsToLL_M-50_TuneCP5_13TeV-amcatnloFXFX-pythia8/NANOAODSIM/20UL18JMENano_106X_upgrade2018_realistic_v16_L1v1-v1/2820000/79597C82-F27F-C644-B620-626428DEEA9F.root',\n",
       "   'root://cms-xrd-global.cern.ch///store/mc/RunIISummer20UL18NanoAODv9/DYJetsToLL_M-50_TuneCP5_13TeV-amcatnloFXFX-pythia8/NANOAODSIM/20UL18JMENano_106X_upgrade2018_realistic_v16_L1v1-v1/2820000/2A40AD7B-85A0-2943-AF64-7A0135880F6E.root',\n",
       "   'root://cms-xrd-global.cern.ch///store/mc/RunIISummer20UL18NanoAODv9/DYJetsToLL_M-50_TuneCP5_13TeV-amcatnloFXFX-pythia8/NANOAODSIM/20UL18JMENano_106X_upgrade2018_realistic_v16_L1v1-v1/2820000/8F04D598-D1A2-5F49-AF78-4E41363A7330.root',\n",
       "   'root://cms-xrd-global.cern.ch///store/mc/RunIISummer20UL18NanoAODv9/DYJetsToLL_M-50_TuneCP5_13TeV-amcatnloFXFX-pythia8/NANOAODSIM/20UL18JMENano_106X_upgrade2018_realistic_v16_L1v1-v1/2820000/0FE614C9-4058-B140-BD72-56255CA59791.root',\n",
       "   'root://cms-xrd-global.cern.ch///store/mc/RunIISummer20UL18NanoAODv9/DYJetsToLL_M-50_TuneCP5_13TeV-amcatnloFXFX-pythia8/NANOAODSIM/20UL18JMENano_106X_upgrade2018_realistic_v16_L1v1-v1/2820000/AD504AE7-1BE8-C64E-8099-66391CF86E9A.root',\n",
       "   'root://cms-xrd-global.cern.ch///store/mc/RunIISummer20UL18NanoAODv9/DYJetsToLL_M-50_TuneCP5_13TeV-amcatnloFXFX-pythia8/NANOAODSIM/20UL18JMENano_106X_upgrade2018_realistic_v16_L1v1-v1/2820000/A7CCDEE1-4A87-6243-8E5E-ED3F5FA46D5A.root',\n",
       "   'root://cms-xrd-global.cern.ch///store/mc/RunIISummer20UL18NanoAODv9/DYJetsToLL_M-50_TuneCP5_13TeV-amcatnloFXFX-pythia8/NANOAODSIM/20UL18JMENano_106X_upgrade2018_realistic_v16_L1v1-v1/2820000/DDADD56E-BF2B-104F-92C2-381265BCD9C5.root',\n",
       "   'root://cms-xrd-global.cern.ch///store/mc/RunIISummer20UL18NanoAODv9/DYJetsToLL_M-50_TuneCP5_13TeV-amcatnloFXFX-pythia8/NANOAODSIM/20UL18JMENano_106X_upgrade2018_realistic_v16_L1v1-v1/2820000/CB8ED446-3F15-E94A-8CD0-4D24621653E8.root',\n",
       "   'root://cms-xrd-global.cern.ch///store/mc/RunIISummer20UL18NanoAODv9/DYJetsToLL_M-50_TuneCP5_13TeV-amcatnloFXFX-pythia8/NANOAODSIM/20UL18JMENano_106X_upgrade2018_realistic_v16_L1v1-v1/2820000/3B9D1433-58FB-B34B-AAF1-C6985E82E804.root',\n",
       "   'root://cms-xrd-global.cern.ch///store/mc/RunIISummer20UL18NanoAODv9/DYJetsToLL_M-50_TuneCP5_13TeV-amcatnloFXFX-pythia8/NANOAODSIM/20UL18JMENano_106X_upgrade2018_realistic_v16_L1v1-v1/2820000/4E391A42-1C07-644D-9851-BE11EEBF1880.root',\n",
       "   'root://cms-xrd-global.cern.ch///store/mc/RunIISummer20UL18NanoAODv9/DYJetsToLL_M-50_TuneCP5_13TeV-amcatnloFXFX-pythia8/NANOAODSIM/20UL18JMENano_106X_upgrade2018_realistic_v16_L1v1-v1/2820000/CCCE5955-936E-A442-BE94-CCFC7605820A.root',\n",
       "   'root://cms-xrd-global.cern.ch///store/mc/RunIISummer20UL18NanoAODv9/DYJetsToLL_M-50_TuneCP5_13TeV-amcatnloFXFX-pythia8/NANOAODSIM/20UL18JMENano_106X_upgrade2018_realistic_v16_L1v1-v1/2820000/7F4A4D44-E779-E247-AA2F-42C52C3D4505.root',\n",
       "   'root://cms-xrd-global.cern.ch///store/mc/RunIISummer20UL18NanoAODv9/DYJetsToLL_M-50_TuneCP5_13TeV-amcatnloFXFX-pythia8/NANOAODSIM/20UL18JMENano_106X_upgrade2018_realistic_v16_L1v1-v1/2820000/973FA01C-1297-E447-A09D-8A7B30541206.root',\n",
       "   'root://cms-xrd-global.cern.ch///store/mc/RunIISummer20UL18NanoAODv9/DYJetsToLL_M-50_TuneCP5_13TeV-amcatnloFXFX-pythia8/NANOAODSIM/20UL18JMENano_106X_upgrade2018_realistic_v16_L1v1-v1/2820000/DC3CE3BD-ACB1-BA40-B4CE-9C362AA774C9.root',\n",
       "   'root://cms-xrd-global.cern.ch///store/mc/RunIISummer20UL18NanoAODv9/DYJetsToLL_M-50_TuneCP5_13TeV-amcatnloFXFX-pythia8/NANOAODSIM/20UL18JMENano_106X_upgrade2018_realistic_v16_L1v1-v1/2820000/BEF8BCB4-7A7A-7C40-A45F-A7B41F84D1D1.root',\n",
       "   'root://cms-xrd-global.cern.ch///store/mc/RunIISummer20UL18NanoAODv9/DYJetsToLL_M-50_TuneCP5_13TeV-amcatnloFXFX-pythia8/NANOAODSIM/20UL18JMENano_106X_upgrade2018_realistic_v16_L1v1-v1/2820000/1CC70A38-C98F-3B49-BA3E-1F686D3E1063.root',\n",
       "   'root://cms-xrd-global.cern.ch///store/mc/RunIISummer20UL18NanoAODv9/DYJetsToLL_M-50_TuneCP5_13TeV-amcatnloFXFX-pythia8/NANOAODSIM/20UL18JMENano_106X_upgrade2018_realistic_v16_L1v1-v1/2820000/72CFC7D6-A773-1B49-84CF-07E9001E46A2.root',\n",
       "   'root://cms-xrd-global.cern.ch///store/mc/RunIISummer20UL18NanoAODv9/DYJetsToLL_M-50_TuneCP5_13TeV-amcatnloFXFX-pythia8/NANOAODSIM/20UL18JMENano_106X_upgrade2018_realistic_v16_L1v1-v1/2820000/1DA6222D-EA7B-5F49-A64C-F5742B60EEC5.root',\n",
       "   'root://cms-xrd-global.cern.ch///store/mc/RunIISummer20UL18NanoAODv9/DYJetsToLL_M-50_TuneCP5_13TeV-amcatnloFXFX-pythia8/NANOAODSIM/20UL18JMENano_106X_upgrade2018_realistic_v16_L1v1-v1/2820000/F0D978CE-A324-FB45-80BA-0E7B97897920.root',\n",
       "   'root://cms-xrd-global.cern.ch///store/mc/RunIISummer20UL18NanoAODv9/DYJetsToLL_M-50_TuneCP5_13TeV-amcatnloFXFX-pythia8/NANOAODSIM/20UL18JMENano_106X_upgrade2018_realistic_v16_L1v1-v1/2820000/275761A3-E5F1-5E4C-BADD-91F166A7E2E7.root',\n",
       "   'root://cms-xrd-global.cern.ch///store/mc/RunIISummer20UL18NanoAODv9/DYJetsToLL_M-50_TuneCP5_13TeV-amcatnloFXFX-pythia8/NANOAODSIM/20UL18JMENano_106X_upgrade2018_realistic_v16_L1v1-v1/2820000/2CAF5E19-D885-7D4D-83C5-F54EACED5ABE.root',\n",
       "   'root://cms-xrd-global.cern.ch///store/mc/RunIISummer20UL18NanoAODv9/DYJetsToLL_M-50_TuneCP5_13TeV-amcatnloFXFX-pythia8/NANOAODSIM/20UL18JMENano_106X_upgrade2018_realistic_v16_L1v1-v1/2820000/F3D9E61F-B313-0840-B961-9A0590DAB055.root',\n",
       "   'root://cms-xrd-global.cern.ch///store/mc/RunIISummer20UL18NanoAODv9/DYJetsToLL_M-50_TuneCP5_13TeV-amcatnloFXFX-pythia8/NANOAODSIM/20UL18JMENano_106X_upgrade2018_realistic_v16_L1v1-v1/2820000/5B55BA41-315A-4E4B-9CA0-1CD446105815.root',\n",
       "   'root://cms-xrd-global.cern.ch///store/mc/RunIISummer20UL18NanoAODv9/DYJetsToLL_M-50_TuneCP5_13TeV-amcatnloFXFX-pythia8/NANOAODSIM/20UL18JMENano_106X_upgrade2018_realistic_v16_L1v1-v1/2820000/C01D03C0-9F80-C34D-9706-23D2C247B8B3.root',\n",
       "   'root://cms-xrd-global.cern.ch///store/mc/RunIISummer20UL18NanoAODv9/DYJetsToLL_M-50_TuneCP5_13TeV-amcatnloFXFX-pythia8/NANOAODSIM/20UL18JMENano_106X_upgrade2018_realistic_v16_L1v1-v1/2820000/E21E5309-3EF0-8541-9431-E690AB21F702.root',\n",
       "   'root://cms-xrd-global.cern.ch///store/mc/RunIISummer20UL18NanoAODv9/DYJetsToLL_M-50_TuneCP5_13TeV-amcatnloFXFX-pythia8/NANOAODSIM/20UL18JMENano_106X_upgrade2018_realistic_v16_L1v1-v1/2820000/14BC0F4C-5794-EC4D-8B08-24F7C4929743.root',\n",
       "   'root://cms-xrd-global.cern.ch///store/mc/RunIISummer20UL18NanoAODv9/DYJetsToLL_M-50_TuneCP5_13TeV-amcatnloFXFX-pythia8/NANOAODSIM/20UL18JMENano_106X_upgrade2018_realistic_v16_L1v1-v1/2820000/274459FA-8F3E-E041-B6D2-75E66321EFBC.root',\n",
       "   'root://cms-xrd-global.cern.ch///store/mc/RunIISummer20UL18NanoAODv9/DYJetsToLL_M-50_TuneCP5_13TeV-amcatnloFXFX-pythia8/NANOAODSIM/20UL18JMENano_106X_upgrade2018_realistic_v16_L1v1-v1/2820000/D777D562-F20A-AB49-88DC-BAA37DC378F5.root',\n",
       "   'root://cms-xrd-global.cern.ch///store/mc/RunIISummer20UL18NanoAODv9/DYJetsToLL_M-50_TuneCP5_13TeV-amcatnloFXFX-pythia8/NANOAODSIM/20UL18JMENano_106X_upgrade2018_realistic_v16_L1v1-v1/2820000/569AFB7C-ED33-3C43-8176-0E312CBD8DA7.root',\n",
       "   'root://cms-xrd-global.cern.ch///store/mc/RunIISummer20UL18NanoAODv9/DYJetsToLL_M-50_TuneCP5_13TeV-amcatnloFXFX-pythia8/NANOAODSIM/20UL18JMENano_106X_upgrade2018_realistic_v16_L1v1-v1/2820000/85E501B5-B831-784D-BA82-52DF07FB8F62.root',\n",
       "   'root://cms-xrd-global.cern.ch///store/mc/RunIISummer20UL18NanoAODv9/DYJetsToLL_M-50_TuneCP5_13TeV-amcatnloFXFX-pythia8/NANOAODSIM/20UL18JMENano_106X_upgrade2018_realistic_v16_L1v1-v1/2820000/84973E9C-AB7B-9941-9B87-6D1F3AC4F005.root',\n",
       "   'root://cms-xrd-global.cern.ch///store/mc/RunIISummer20UL18NanoAODv9/DYJetsToLL_M-50_TuneCP5_13TeV-amcatnloFXFX-pythia8/NANOAODSIM/20UL18JMENano_106X_upgrade2018_realistic_v16_L1v1-v1/2820000/8AFB05E0-1242-CD46-83ED-3B1301C89649.root',\n",
       "   'root://cms-xrd-global.cern.ch///store/mc/RunIISummer20UL18NanoAODv9/DYJetsToLL_M-50_TuneCP5_13TeV-amcatnloFXFX-pythia8/NANOAODSIM/20UL18JMENano_106X_upgrade2018_realistic_v16_L1v1-v1/2820000/ED4455C9-E481-4C42-B63F-47C60C94EF1E.root',\n",
       "   'root://cms-xrd-global.cern.ch///store/mc/RunIISummer20UL18NanoAODv9/DYJetsToLL_M-50_TuneCP5_13TeV-amcatnloFXFX-pythia8/NANOAODSIM/20UL18JMENano_106X_upgrade2018_realistic_v16_L1v1-v1/2820000/8FA34AEF-6E8F-3049-B3B7-A003514A3088.root',\n",
       "   'root://cms-xrd-global.cern.ch///store/mc/RunIISummer20UL18NanoAODv9/DYJetsToLL_M-50_TuneCP5_13TeV-amcatnloFXFX-pythia8/NANOAODSIM/20UL18JMENano_106X_upgrade2018_realistic_v16_L1v1-v1/2820000/958563A4-0EA9-6948-A6DA-EFD8F9C96C38.root',\n",
       "   'root://cms-xrd-global.cern.ch///store/mc/RunIISummer20UL18NanoAODv9/DYJetsToLL_M-50_TuneCP5_13TeV-amcatnloFXFX-pythia8/NANOAODSIM/20UL18JMENano_106X_upgrade2018_realistic_v16_L1v1-v1/2820000/751D0738-2D1D-064B-A1DB-B55C650CACAE.root',\n",
       "   'root://cms-xrd-global.cern.ch///store/mc/RunIISummer20UL18NanoAODv9/DYJetsToLL_M-50_TuneCP5_13TeV-amcatnloFXFX-pythia8/NANOAODSIM/20UL18JMENano_106X_upgrade2018_realistic_v16_L1v1-v1/2820000/9998E73B-9B77-134B-B73E-F964087607CF.root',\n",
       "   'root://cms-xrd-global.cern.ch///store/mc/RunIISummer20UL18NanoAODv9/DYJetsToLL_M-50_TuneCP5_13TeV-amcatnloFXFX-pythia8/NANOAODSIM/20UL18JMENano_106X_upgrade2018_realistic_v16_L1v1-v1/2820000/77CDCB65-E3CB-C541-86D3-BD7926826EDB.root',\n",
       "   'root://cms-xrd-global.cern.ch///store/mc/RunIISummer20UL18NanoAODv9/DYJetsToLL_M-50_TuneCP5_13TeV-amcatnloFXFX-pythia8/NANOAODSIM/20UL18JMENano_106X_upgrade2018_realistic_v16_L1v1-v1/2820000/D580A155-9D7F-B44F-85EC-D642F021D3C0.root',\n",
       "   'root://cms-xrd-global.cern.ch///store/mc/RunIISummer20UL18NanoAODv9/DYJetsToLL_M-50_TuneCP5_13TeV-amcatnloFXFX-pythia8/NANOAODSIM/20UL18JMENano_106X_upgrade2018_realistic_v16_L1v1-v1/2820000/37AD04D2-A6B1-4443-BAB9-3843B9E92D38.root',\n",
       "   'root://cms-xrd-global.cern.ch///store/mc/RunIISummer20UL18NanoAODv9/DYJetsToLL_M-50_TuneCP5_13TeV-amcatnloFXFX-pythia8/NANOAODSIM/20UL18JMENano_106X_upgrade2018_realistic_v16_L1v1-v1/2820000/80E82F60-5A0D-6E4E-93C5-31DDA71F78BC.root',\n",
       "   'root://cms-xrd-global.cern.ch///store/mc/RunIISummer20UL18NanoAODv9/DYJetsToLL_M-50_TuneCP5_13TeV-amcatnloFXFX-pythia8/NANOAODSIM/20UL18JMENano_106X_upgrade2018_realistic_v16_L1v1-v1/2820000/90E97E8C-E139-6145-B80B-9E65B0A6734A.root',\n",
       "   'root://cms-xrd-global.cern.ch///store/mc/RunIISummer20UL18NanoAODv9/DYJetsToLL_M-50_TuneCP5_13TeV-amcatnloFXFX-pythia8/NANOAODSIM/20UL18JMENano_106X_upgrade2018_realistic_v16_L1v1-v1/2820000/CA7AFB07-08F7-9349-9816-44526AA5BC53.root',\n",
       "   'root://cms-xrd-global.cern.ch///store/mc/RunIISummer20UL18NanoAODv9/DYJetsToLL_M-50_TuneCP5_13TeV-amcatnloFXFX-pythia8/NANOAODSIM/20UL18JMENano_106X_upgrade2018_realistic_v16_L1v1-v1/2820000/46E551AE-3BBE-0A4E-A330-CDACA942E1E0.root',\n",
       "   'root://cms-xrd-global.cern.ch///store/mc/RunIISummer20UL18NanoAODv9/DYJetsToLL_M-50_TuneCP5_13TeV-amcatnloFXFX-pythia8/NANOAODSIM/20UL18JMENano_106X_upgrade2018_realistic_v16_L1v1-v1/2820000/7E10DAEB-DDDE-1A41-8A3F-D5FEC1CC40FA.root',\n",
       "   'root://cms-xrd-global.cern.ch///store/mc/RunIISummer20UL18NanoAODv9/DYJetsToLL_M-50_TuneCP5_13TeV-amcatnloFXFX-pythia8/NANOAODSIM/20UL18JMENano_106X_upgrade2018_realistic_v16_L1v1-v1/2820000/13724DE8-77B1-4245-9861-655D51DBD95A.root',\n",
       "   'root://cms-xrd-global.cern.ch///store/mc/RunIISummer20UL18NanoAODv9/DYJetsToLL_M-50_TuneCP5_13TeV-amcatnloFXFX-pythia8/NANOAODSIM/20UL18JMENano_106X_upgrade2018_realistic_v16_L1v1-v1/2820000/99DBCFC6-3EF8-5F46-9F07-595E296E67AA.root',\n",
       "   'root://cms-xrd-global.cern.ch///store/mc/RunIISummer20UL18NanoAODv9/DYJetsToLL_M-50_TuneCP5_13TeV-amcatnloFXFX-pythia8/NANOAODSIM/20UL18JMENano_106X_upgrade2018_realistic_v16_L1v1-v1/2820000/499CAA06-9CD3-874C-BEAF-A730ED5C8654.root',\n",
       "   'root://cms-xrd-global.cern.ch///store/mc/RunIISummer20UL18NanoAODv9/DYJetsToLL_M-50_TuneCP5_13TeV-amcatnloFXFX-pythia8/NANOAODSIM/20UL18JMENano_106X_upgrade2018_realistic_v16_L1v1-v1/2820000/002B6165-1BD9-2E49-A0D4-71EE57F82011.root',\n",
       "   'root://cms-xrd-global.cern.ch///store/mc/RunIISummer20UL18NanoAODv9/DYJetsToLL_M-50_TuneCP5_13TeV-amcatnloFXFX-pythia8/NANOAODSIM/20UL18JMENano_106X_upgrade2018_realistic_v16_L1v1-v1/2820000/AEC515C7-A29A-F04A-A504-DFA48D225CA3.root',\n",
       "   'root://cms-xrd-global.cern.ch///store/mc/RunIISummer20UL18NanoAODv9/DYJetsToLL_M-50_TuneCP5_13TeV-amcatnloFXFX-pythia8/NANOAODSIM/20UL18JMENano_106X_upgrade2018_realistic_v16_L1v1-v1/2820000/F556E595-F772-F94B-B360-30357CB1FF17.root',\n",
       "   'root://cms-xrd-global.cern.ch///store/mc/RunIISummer20UL18NanoAODv9/DYJetsToLL_M-50_TuneCP5_13TeV-amcatnloFXFX-pythia8/NANOAODSIM/20UL18JMENano_106X_upgrade2018_realistic_v16_L1v1-v1/2820000/C5142AF8-D35A-0D45-A68E-10661C2C07C5.root',\n",
       "   'root://cms-xrd-global.cern.ch///store/mc/RunIISummer20UL18NanoAODv9/DYJetsToLL_M-50_TuneCP5_13TeV-amcatnloFXFX-pythia8/NANOAODSIM/20UL18JMENano_106X_upgrade2018_realistic_v16_L1v1-v1/2820000/8872DFFF-D232-BA40-A133-4D27F7A840A1.root',\n",
       "   'root://cms-xrd-global.cern.ch///store/mc/RunIISummer20UL18NanoAODv9/DYJetsToLL_M-50_TuneCP5_13TeV-amcatnloFXFX-pythia8/NANOAODSIM/20UL18JMENano_106X_upgrade2018_realistic_v16_L1v1-v1/2820000/65F508E7-BD1A-EC4E-A9F0-2726FE64C877.root',\n",
       "   'root://cms-xrd-global.cern.ch///store/mc/RunIISummer20UL18NanoAODv9/DYJetsToLL_M-50_TuneCP5_13TeV-amcatnloFXFX-pythia8/NANOAODSIM/20UL18JMENano_106X_upgrade2018_realistic_v16_L1v1-v1/2820000/07094D7D-4E9F-6C41-9EE1-A7D844D64543.root',\n",
       "   'root://cms-xrd-global.cern.ch///store/mc/RunIISummer20UL18NanoAODv9/DYJetsToLL_M-50_TuneCP5_13TeV-amcatnloFXFX-pythia8/NANOAODSIM/20UL18JMENano_106X_upgrade2018_realistic_v16_L1v1-v1/2820000/652BF659-6679-544A-8768-6F8318EB6EF9.root',\n",
       "   'root://cms-xrd-global.cern.ch///store/mc/RunIISummer20UL18NanoAODv9/DYJetsToLL_M-50_TuneCP5_13TeV-amcatnloFXFX-pythia8/NANOAODSIM/20UL18JMENano_106X_upgrade2018_realistic_v16_L1v1-v1/2820000/E0B519DF-AD6E-2F45-8990-4FB6E423287A.root',\n",
       "   'root://cms-xrd-global.cern.ch///store/mc/RunIISummer20UL18NanoAODv9/DYJetsToLL_M-50_TuneCP5_13TeV-amcatnloFXFX-pythia8/NANOAODSIM/20UL18JMENano_106X_upgrade2018_realistic_v16_L1v1-v1/2820000/4EA38E67-B5F8-7941-B0C7-F7BB1F4222FA.root',\n",
       "   'root://cms-xrd-global.cern.ch///store/mc/RunIISummer20UL18NanoAODv9/DYJetsToLL_M-50_TuneCP5_13TeV-amcatnloFXFX-pythia8/NANOAODSIM/20UL18JMENano_106X_upgrade2018_realistic_v16_L1v1-v1/2820000/F2497C0C-108D-2244-9C01-C6CE6295AD8D.root',\n",
       "   'root://cms-xrd-global.cern.ch///store/mc/RunIISummer20UL18NanoAODv9/DYJetsToLL_M-50_TuneCP5_13TeV-amcatnloFXFX-pythia8/NANOAODSIM/20UL18JMENano_106X_upgrade2018_realistic_v16_L1v1-v1/2820000/D3F71D99-4271-774C-B8B2-B53663FD990A.root',\n",
       "   'root://cms-xrd-global.cern.ch///store/mc/RunIISummer20UL18NanoAODv9/DYJetsToLL_M-50_TuneCP5_13TeV-amcatnloFXFX-pythia8/NANOAODSIM/20UL18JMENano_106X_upgrade2018_realistic_v16_L1v1-v1/2820000/9481296E-2ABB-6A4B-BCC1-CB4524F56AC8.root',\n",
       "   'root://cms-xrd-global.cern.ch///store/mc/RunIISummer20UL18NanoAODv9/DYJetsToLL_M-50_TuneCP5_13TeV-amcatnloFXFX-pythia8/NANOAODSIM/20UL18JMENano_106X_upgrade2018_realistic_v16_L1v1-v1/2820000/2ED4E25F-5E3D-7B4A-9D68-3FC8291E1B9F.root',\n",
       "   'root://cms-xrd-global.cern.ch///store/mc/RunIISummer20UL18NanoAODv9/DYJetsToLL_M-50_TuneCP5_13TeV-amcatnloFXFX-pythia8/NANOAODSIM/20UL18JMENano_106X_upgrade2018_realistic_v16_L1v1-v1/2820000/02D7BDC9-AF2C-CC4D-AAB5-2B81FE4904E7.root',\n",
       "   'root://cms-xrd-global.cern.ch///store/mc/RunIISummer20UL18NanoAODv9/DYJetsToLL_M-50_TuneCP5_13TeV-amcatnloFXFX-pythia8/NANOAODSIM/20UL18JMENano_106X_upgrade2018_realistic_v16_L1v1-v1/2820000/6FAF3CEE-4484-FE49-881E-905FCEB7BC51.root',\n",
       "   'root://cms-xrd-global.cern.ch///store/mc/RunIISummer20UL18NanoAODv9/DYJetsToLL_M-50_TuneCP5_13TeV-amcatnloFXFX-pythia8/NANOAODSIM/20UL18JMENano_106X_upgrade2018_realistic_v16_L1v1-v1/2820000/174F158D-5C6C-BA4F-93D8-56ED42D79079.root',\n",
       "   'root://cms-xrd-global.cern.ch///store/mc/RunIISummer20UL18NanoAODv9/DYJetsToLL_M-50_TuneCP5_13TeV-amcatnloFXFX-pythia8/NANOAODSIM/20UL18JMENano_106X_upgrade2018_realistic_v16_L1v1-v1/2820000/F32597BE-1C03-D940-BD78-38EC69D9A780.root',\n",
       "   'root://cms-xrd-global.cern.ch///store/mc/RunIISummer20UL18NanoAODv9/DYJetsToLL_M-50_TuneCP5_13TeV-amcatnloFXFX-pythia8/NANOAODSIM/20UL18JMENano_106X_upgrade2018_realistic_v16_L1v1-v1/2820000/4D2E3C45-87D8-7446-A4CE-494FB045AB3A.root',\n",
       "   'root://cms-xrd-global.cern.ch///store/mc/RunIISummer20UL18NanoAODv9/DYJetsToLL_M-50_TuneCP5_13TeV-amcatnloFXFX-pythia8/NANOAODSIM/20UL18JMENano_106X_upgrade2018_realistic_v16_L1v1-v1/2820000/F4BDB189-00B6-314A-9747-21ECECED753B.root',\n",
       "   'root://cms-xrd-global.cern.ch///store/mc/RunIISummer20UL18NanoAODv9/DYJetsToLL_M-50_TuneCP5_13TeV-amcatnloFXFX-pythia8/NANOAODSIM/20UL18JMENano_106X_upgrade2018_realistic_v16_L1v1-v1/2820000/53B1B264-0D09-FA48-9FB4-7610BFB352B3.root',\n",
       "   'root://cms-xrd-global.cern.ch///store/mc/RunIISummer20UL18NanoAODv9/DYJetsToLL_M-50_TuneCP5_13TeV-amcatnloFXFX-pythia8/NANOAODSIM/20UL18JMENano_106X_upgrade2018_realistic_v16_L1v1-v1/2820000/DB992D19-E06C-9045-BB85-EB2E4EFEFC55.root',\n",
       "   'root://cms-xrd-global.cern.ch///store/mc/RunIISummer20UL18NanoAODv9/DYJetsToLL_M-50_TuneCP5_13TeV-amcatnloFXFX-pythia8/NANOAODSIM/20UL18JMENano_106X_upgrade2018_realistic_v16_L1v1-v1/2820000/AB6AE919-6366-E54A-8020-0B1252264FDD.root',\n",
       "   'root://cms-xrd-global.cern.ch///store/mc/RunIISummer20UL18NanoAODv9/DYJetsToLL_M-50_TuneCP5_13TeV-amcatnloFXFX-pythia8/NANOAODSIM/20UL18JMENano_106X_upgrade2018_realistic_v16_L1v1-v1/2820000/E2724343-A40A-5C4D-BF07-77967F0F27F9.root',\n",
       "   'root://cms-xrd-global.cern.ch///store/mc/RunIISummer20UL18NanoAODv9/DYJetsToLL_M-50_TuneCP5_13TeV-amcatnloFXFX-pythia8/NANOAODSIM/20UL18JMENano_106X_upgrade2018_realistic_v16_L1v1-v1/2820000/C0B6BB9C-F017-4746-9635-79BADDBF017E.root',\n",
       "   'root://cms-xrd-global.cern.ch///store/mc/RunIISummer20UL18NanoAODv9/DYJetsToLL_M-50_TuneCP5_13TeV-amcatnloFXFX-pythia8/NANOAODSIM/20UL18JMENano_106X_upgrade2018_realistic_v16_L1v1-v1/2820000/D6619FA4-3CEF-204E-A6D9-1CBF5AFA31E3.root',\n",
       "   'root://cms-xrd-global.cern.ch///store/mc/RunIISummer20UL18NanoAODv9/DYJetsToLL_M-50_TuneCP5_13TeV-amcatnloFXFX-pythia8/NANOAODSIM/20UL18JMENano_106X_upgrade2018_realistic_v16_L1v1-v1/2820000/3694EE06-5033-1540-86FC-7C981440F206.root',\n",
       "   'root://cms-xrd-global.cern.ch///store/mc/RunIISummer20UL18NanoAODv9/DYJetsToLL_M-50_TuneCP5_13TeV-amcatnloFXFX-pythia8/NANOAODSIM/20UL18JMENano_106X_upgrade2018_realistic_v16_L1v1-v1/2820000/829EE8F2-400E-E349-8556-3185506DA12B.root',\n",
       "   'root://cms-xrd-global.cern.ch///store/mc/RunIISummer20UL18NanoAODv9/DYJetsToLL_M-50_TuneCP5_13TeV-amcatnloFXFX-pythia8/NANOAODSIM/20UL18JMENano_106X_upgrade2018_realistic_v16_L1v1-v1/2820000/EF90737A-DFDF-E04D-BA6A-A8122F663D50.root',\n",
       "   'root://cms-xrd-global.cern.ch///store/mc/RunIISummer20UL18NanoAODv9/DYJetsToLL_M-50_TuneCP5_13TeV-amcatnloFXFX-pythia8/NANOAODSIM/20UL18JMENano_106X_upgrade2018_realistic_v16_L1v1-v1/2820000/EBF3CAD7-AFD0-F044-BA71-A131D4C82922.root',\n",
       "   'root://cms-xrd-global.cern.ch///store/mc/RunIISummer20UL18NanoAODv9/DYJetsToLL_M-50_TuneCP5_13TeV-amcatnloFXFX-pythia8/NANOAODSIM/20UL18JMENano_106X_upgrade2018_realistic_v16_L1v1-v1/2820000/500CB209-2ADC-674F-8845-B4DD9329AC16.root'],\n",
       "  'metadata': {'xsec': 1}}}"
      ]
     },
     "execution_count": 193,
     "metadata": {},
     "output_type": "execute_result"
    }
   ],
   "source": [
    "filesets"
   ]
  },
  {
   "cell_type": "code",
   "execution_count": 194,
   "metadata": {},
   "outputs": [
    {
     "data": {
      "text/plain": [
       "{'ptresponse_b': <Hist (dataset,pt,jeteta,ptresponse) instance at 0x7fd900dce8b0>,\n",
       " 'ptresponse_c': <Hist (dataset,pt,jeteta,ptresponse) instance at 0x7fd9020f8b20>,\n",
       " 'ptresponse_u': <Hist (dataset,pt,jeteta,ptresponse) instance at 0x7fd9020f8fa0>,\n",
       " 'ptresponse_d': <Hist (dataset,pt,jeteta,ptresponse) instance at 0x7fd9020f8100>,\n",
       " 'ptresponse_s': <Hist (dataset,pt,jeteta,ptresponse) instance at 0x7fd9020f8f70>,\n",
       " 'ptresponse_g': <Hist (dataset,pt,jeteta,ptresponse) instance at 0x7fd9020f8eb0>,\n",
       " 'ptresponse_bbar': <Hist (dataset,pt,jeteta,ptresponse) instance at 0x7fd9020f8580>,\n",
       " 'ptresponse_cbar': <Hist (dataset,pt,jeteta,ptresponse) instance at 0x7fd8e10238e0>,\n",
       " 'ptresponse_ubar': <Hist (dataset,pt,jeteta,ptresponse) instance at 0x7fd8e10239d0>,\n",
       " 'ptresponse_dbar': <Hist (dataset,pt,jeteta,ptresponse) instance at 0x7fd8e1023370>,\n",
       " 'ptresponse_sbar': <Hist (dataset,pt,jeteta,ptresponse) instance at 0x7fd8e1023430>,\n",
       " 'ptresponse': <Hist (dataset,pt,jeteta,ptresponse) instance at 0x7fd8e10235b0>,\n",
       " 'jetpt': <Hist (dataset,pt) instance at 0x7fd8e1023d00>,\n",
       " 'jeteta': <Hist (dataset,jeteta) instance at 0x7fd8e10233a0>,\n",
       " 'cutflow': defaultdict_accumulator(int,\n",
       "                         {'QCD: all events': 45098187,\n",
       "                          'QCD: all jets': 1127831017,\n",
       "                          'QCD: gen matched + no dressed lep': 653262024,\n",
       "                          'QCD: + jetpt>20': 52231317,\n",
       "                          'QCD: iso jets': 50466063})}"
      ]
     },
     "execution_count": 194,
     "metadata": {},
     "output_type": "execute_result"
    }
   ],
   "source": [
    "output"
   ]
  },
  {
   "cell_type": "code",
   "execution_count": 195,
   "metadata": {},
   "outputs": [
    {
     "data": {
      "text/plain": [
       "479163.0"
      ]
     },
     "execution_count": 195,
     "metadata": {},
     "output_type": "execute_result"
    }
   ],
   "source": [
    "output['ptresponse_b'].values()[('QCD',)].sum()"
   ]
  },
  {
   "cell_type": "code",
   "execution_count": 196,
   "metadata": {},
   "outputs": [],
   "source": [
    "#### Attempt to prevent the error when the cluster closes. Doesn't always work.\n",
    "if UsingDaskExecutor:\n",
    "    client.close()\n",
    "    time.sleep(5)\n",
    "    if CERNCondorCluster or CoffeaCasaEnv:\n",
    "        cluster.close()"
   ]
  },
  {
   "cell_type": "markdown",
   "metadata": {},
   "source": [
    "### Fit responses"
   ]
  },
  {
   "cell_type": "markdown",
   "metadata": {},
   "source": [
    "define gaussian function for fitting the responses"
   ]
  },
  {
   "cell_type": "code",
   "execution_count": 197,
   "metadata": {},
   "outputs": [],
   "source": [
    "def gauss(x, *p):\n",
    "    A, mu, sigma = p\n",
    "    return A*np.exp(-(x-mu)**2/(2.*sigma**2))"
   ]
  },
  {
   "cell_type": "markdown",
   "metadata": {},
   "source": [
    "Define some global variables for the fit"
   ]
  },
  {
   "cell_type": "code",
   "execution_count": 199,
   "metadata": {
    "scrolled": true
   },
   "outputs": [],
   "source": [
    "f_xvals = np.linspace(0,5,5001)\n",
    "# fine_etabins = False\n",
    "\n",
    "if fine_etabins==True:\n",
    "    ptbins = np.array([15, 40, 150, 400, 4000, 10000])\n",
    "    ptbins_c = (ptbins[:-1]+ptbins[1:])/2\n",
    "    etabins = output['ptresponse'].axis('jeteta').edges()\n",
    "elif one_bin==True:\n",
    "    ptbins = np.array([15, 10000])\n",
    "    ptbins_c = (ptbins[:-1]+ptbins[1:])/2\n",
    "    etabins = np.array([-5, -3, -2.5, -1.3, 0, 1.3, 2.5, 3, 5])\n",
    "    etabins = np.array([etabins[0], 0, etabins[-1]])\n",
    "#     etabins = np.array([etabins[3], 0, etabins[-4]])\n",
    "else:\n",
    "    ptbins = output['ptresponse'].axis('pt').edges()\n",
    "    ptbins = ptbins[2:] #because there is a pt cut on pt gen and no point of fitting and plotting below that\n",
    "    ptbins_c = output['ptresponse'].axis('pt').centers()\n",
    "    etabins = np.array([-5, -3, -2.5, -1.3, 0, 1.3, 2.5, 3, 5])\n",
    "\n",
    "    \n",
    "jetpt_length = len(ptbins)-1\n",
    "jeteta_length = (len(etabins)-1)//2\n",
    "\n",
    "etabins_mod = etabins[(len(etabins)-1)//2:]\n",
    "etabins_c = (etabins_mod[:-1]+etabins_mod[1:])/2 #output['ptresponse'].axis('jeteta').centers()\n",
    "\n",
    "ptresp_edd = output['ptresponse'].axis('ptresponse').edges()\n",
    "plot_pt_edges = ptresp_edd[0:np.nonzero(ptresp_edd>=2.0)[0][0]]\n",
    "hist_pt_edges = plot_pt_edges[1:-1]   #for plotting. To exclude overflow from the plot\n",
    "plot_response_axis = hist.Bin(\"jeteta\", r\"Jet $\\eta$\", hist_pt_edges)"
   ]
  },
  {
   "cell_type": "code",
   "execution_count": 200,
   "metadata": {},
   "outputs": [],
   "source": [
    "from pltStyle import pltStyle\n",
    "pltStyle(style='paper')\n",
    "plt.rcParams['figure.subplot.left'] = 0.162\n",
    "plt.rcParams['figure.dpi'] = 150"
   ]
  },
  {
   "cell_type": "markdown",
   "metadata": {},
   "source": [
    "### Testing adding hists"
   ]
  },
  {
   "cell_type": "code",
   "execution_count": 201,
   "metadata": {},
   "outputs": [],
   "source": [
    "# combineTTbar = False\n",
    "# if combineTTbar==True:\n",
    "#     N_evts_had = 41113000\n",
    "#     N_evts_semilep = 48065000\n",
    "#     N_evts_dilep = 41160000\n",
    "\n",
    "#     N_evts = np.array([N_evts_had, N_evts_semilep, N_evts_dilep])\n",
    "\n",
    "#     N_av = (N_evts_had+N_evts_semilep+N_evts_dilep)/3\n",
    "\n",
    "#     semilepxsec = 0.108*3*0.337*2*2\n",
    "#     dilepxsec = 0.108*3*0.108*3\n",
    "#     hadxsec = 0.337*2*0.337*2\n",
    "\n",
    "#     xsec = np.array([hadxsec, semilepxsec, dilepxsec])\n",
    "#     weights = N_evts/N_av*xsec\n",
    "\n",
    "#     # (N_evts/N_av*xsec).sum()\n",
    "\n",
    "#     add_tags = ['_LHEflav1_TTBAR-Had-JME', '_LHEflav1_TTBAR-JME', '_LHEflav1_TTBAR-Dilep-JME']\n",
    "#     tag_fulls = [tag+addtag for addtag in add_tags]\n",
    "#     outnames = ['out/CoffeaJERCOutputs'+tag_full+'.coffea' for tag_full in tag_fulls]\n",
    "\n",
    "#     outputs = [util.load(outname) for outname in outnames]\n",
    "    \n",
    "#     tag_full = tag + '_LHEflav1_TTBAR-Inclusive-JME'"
   ]
  },
  {
   "cell_type": "code",
   "execution_count": 202,
   "metadata": {},
   "outputs": [],
   "source": [
    "# combineTTbar = False\n",
    "if combineTTbar:\n",
    "    ids = output[list(output.keys())[0]].axis('dataset').identifiers()\n",
    "    names = [idii.name for idii in ids  ]\n",
    "\n",
    "    output_comb = {}\n",
    "\n",
    "    N = {}\n",
    "    for s in names:\n",
    "        N[s] = output['cutflow'][s+': all events']\n",
    "    N_av = sum(N.values())/3\n",
    "\n",
    "    for key in output.keys():\n",
    "        if key!='cutflow':\n",
    "            hist_comb = output[key].integrate('dataset', ids[0])\n",
    "            hist_comb.scale(find_xsec(names[0])*N[names[0]]/N_av)\n",
    "            for ii in range(1,len(ids)-1):\n",
    "                hist2 = output[key].integrate('dataset', ids[ii])\n",
    "                hist2.scale(find_xsec(ids[ii].name)*N[names[ii]]/N_av)\n",
    "                hist_comb = hist_comb+hist2\n",
    "            output_comb[key] = hist_comb\n",
    "        else:\n",
    "            cut_keys = list(output[key].keys())\n",
    "            len_new_keys = len(cut_keys)//3\n",
    "            output_comb[\"cutflow\"] = {}\n",
    "            for cut in range(len_new_keys):\n",
    "                output_comb[\"cutflow\"][\"Inclusive\"+cut_keys[cut][4:]] = (output[key][cut_keys[cut]]*find_xsec(names[0])*N[names[0]]/N_av +\n",
    "                                                               output[key][cut_keys[cut+len_new_keys]]*find_xsec(names[1])*N[names[1]]/N_av +\n",
    "                                                               output[key][cut_keys[cut+2*len_new_keys]]*find_xsec(names[2])*N[names[2]]/N_av \n",
    "                                                              )\n",
    "                \n",
    "    output = output_comb\n",
    "    tag_full = tag + '_LHEflav1_TTBAR-Inclusive-JME'"
   ]
  },
  {
   "cell_type": "code",
   "execution_count": 203,
   "metadata": {},
   "outputs": [],
   "source": [
    "# if combineTTbar:\n",
    "#     histoMi = outputs[0]['ptresponse'+samp].integrate('jeteta', etaBinMi).integrate('pt', ptBin).copy()\n",
    "#     histoPl = outputs[0]['ptresponse'+samp].integrate('jeteta', etaBinPl).integrate('pt', ptBin).copy()\n",
    "#     histo = (histoMi+histoPl)\n",
    "#     histo.values()[('QCD',)][1:10] \n",
    "#     histo.scale(weights[0])\n",
    "    \n",
    "#     histo.values()[('QCD',)][1:10] \n",
    "    \n",
    "\n",
    "#     for out, wg in zip(outputs[1:], weights[1:]):\n",
    "#         histoMi = out['ptresponse'+samp].integrate('jeteta', etaBinMi).integrate('pt', ptBin).copy()\n",
    "#         histoPl = out['ptresponse'+samp].integrate('jeteta', etaBinPl).integrate('pt', ptBin).copy()\n",
    "#         histo2 = histoMi+histoPl\n",
    "#         histo2.scale(wg)\n",
    "#         histo2.values()[('QCD',)][1:10]\n",
    "#         histo.add(histo2)\n",
    "        \n",
    "#     histo.values()[('QCD',)][1:10]"
   ]
  },
  {
   "cell_type": "code",
   "execution_count": 204,
   "metadata": {},
   "outputs": [],
   "source": [
    "# for samp in subsamples:\n",
    "#     if combine_antiflavour and (samp in barable_samples):\n",
    "#         comb = True\n",
    "\n",
    "#     if combineTTbar:\n",
    "#         if comb==True:\n",
    "            \n",
    "        \n",
    "#     else:\n",
    "#         if comb==True:\n",
    "#             output_hist['ptresponse'+samp] = output['ptresponse'+samp] + output['ptresponse'+samp+'bar']\n",
    "#         else:\n",
    "#             output_hist['ptresponse'+samp] = output['ptresponse'+samp]\n"
   ]
  },
  {
   "cell_type": "code",
   "execution_count": 205,
   "metadata": {},
   "outputs": [],
   "source": [
    "# combine_antiflavour = True"
   ]
  },
  {
   "cell_type": "code",
   "execution_count": 206,
   "metadata": {},
   "outputs": [],
   "source": [
    "def get_median(yvals, bin_edges):\n",
    "    yvals_cumsum = np.cumsum(yvals)\n",
    "    N = np.sum(yvals)\n",
    "    med_bin = np.nonzero(yvals_cumsum>N/2)[0][0] if N>200 else 0\n",
    "    \n",
    "    median = bin_edges[med_bin] + (N/2 - yvals_cumsum[med_bin-1])/yvals[med_bin]*(bin_edges[med_bin+1]\n",
    "                                                                                 - bin_edges[med_bin])\n",
    "    return median"
   ]
  },
  {
   "cell_type": "code",
   "execution_count": 207,
   "metadata": {},
   "outputs": [],
   "source": [
    "# response_hist = output['ptresponse'+'_b']\n",
    "\n",
    "# k=0\n",
    "# etaBinPl = hist.Interval(etabins[k+jeteta_length], etabins[k+1+jeteta_length])\n",
    "# etaBinMi = hist.Interval(etabins[jeteta_length-k-1], etabins[jeteta_length-k])\n",
    "# i=14\n",
    "# ptBin = hist.Interval(ptbins[i], ptbins[i+1])\n",
    "\n",
    "# dataset_name = list(histo.values().keys())[0]\n",
    "# histoMi = response_hist.integrate('jeteta', etaBinMi).integrate('pt', ptBin)\n",
    "# histoPl = response_hist.integrate('jeteta', etaBinPl).integrate('pt', ptBin)\n",
    "# histo = (histoMi+histoPl)\n",
    "# N = histo.integrate('ptresponse').values()[dataset_name]-histo.values()[dataset_name][0]\n",
    "\n",
    "# yvals = histo.values()[dataset_name][1:]\n",
    "# yvals_cumsum = np.cumsum(yvals)"
   ]
  },
  {
   "cell_type": "code",
   "execution_count": 208,
   "metadata": {},
   "outputs": [],
   "source": [
    "# xvals = response_hist.axis('ptresponse').centers()[1:]\n",
    "\n",
    "# hist_mean = np.sum(xvals*yvals)/sum(yvals) \n",
    "# hist_rms = np.sqrt(np.sum(yvals*((hist_mean-xvals)**2))/sum(yvals))\n",
    "# medianstd = 1.253 * hist_rms/np.sqrt(N)"
   ]
  },
  {
   "cell_type": "code",
   "execution_count": 209,
   "metadata": {},
   "outputs": [],
   "source": [
    "# med_bin = np.nonzero(yvals_cumsum>N/2)[0][0] if N>200 else 0\n",
    "# response_edges = response_hist.axis('ptresponse').edges()[1:]\n",
    "# median = response_edges[med_bin] + (N/2 - yvals_cumsum[med_bin-1])/yvals[med_bin]*(response_edges[med_bin+1]\n",
    "#                                                                                       - response_edges[med_bin])"
   ]
  },
  {
   "cell_type": "code",
   "execution_count": 210,
   "metadata": {},
   "outputs": [],
   "source": [
    "# median\n",
    "# hist_mean"
   ]
  },
  {
   "cell_type": "code",
   "execution_count": 211,
   "metadata": {},
   "outputs": [],
   "source": [
    "# N\n",
    "# np.sum(yvals)"
   ]
  },
  {
   "cell_type": "code",
   "execution_count": 212,
   "metadata": {},
   "outputs": [],
   "source": [
    "import warnings\n",
    "# warnings.filterwarnings('ignore') ### To suppress warnings with bad\n",
    "barable_samples = ['_b', '_c', '_s', '_u', '_d']\n",
    "\n",
    "def fit_responses(output, samp='_b'):\n",
    "    warnings.filterwarnings('ignore')\n",
    "    saveplots = False\n",
    "    if test_run or fine_etabins:\n",
    "        saveplots = False\n",
    "    \n",
    "    if combine_antiflavour and (samp in barable_samples):\n",
    "        response_hist = output['ptresponse'+samp] + output['ptresponse'+samp+'bar']\n",
    "    else:\n",
    "        response_hist = output['ptresponse'+samp]\n",
    "\n",
    "    mean = np.zeros((jetpt_length, jeteta_length))\n",
    "    medians = np.zeros((jetpt_length, jeteta_length))\n",
    "    medianstds = np.zeros((jetpt_length, jeteta_length))\n",
    "    width = np.zeros((jetpt_length, jeteta_length))\n",
    "#     chi2s = np.zeros((jetpt_length, jeteta_length))\n",
    "    meanvar = np.zeros((jetpt_length, jeteta_length))\n",
    "#     idx = []\n",
    "    \n",
    "    N_converge = 0\n",
    "    N_not_converge = 0\n",
    "\n",
    "    FitFigDir = 'fig/responses'+tag_full+'/response_pt_eta'+samp+tag_full\n",
    "    if saveplots and not os.path.exists('fig/responses'+tag_full):\n",
    "        os.mkdir('fig/responses'+tag_full)\n",
    "        \n",
    "    print(\"Images will be saved under \", FitFigDir)\n",
    "    if not os.path.exists(FitFigDir):\n",
    "        os.mkdir(FitFigDir)\n",
    "        \n",
    "    xvals = response_hist.axis('ptresponse').centers()[1:] #[1:] to exclude the second peak for low pt\n",
    "    f_xvals = np.linspace(0,max(xvals),5001)\n",
    "    response_edges = response_hist.axis('ptresponse').edges()[1:]\n",
    "\n",
    "    for i in range(jetpt_length):\n",
    "        ptBin = hist.Interval(ptbins[i], ptbins[i+1])\n",
    "#         print('-'*25)\n",
    "#         print('-'*25)\n",
    "        \n",
    "        if not 'inf' in str(ptBin):\n",
    "            pt_string = '_pT'+str(int(ptBin.lo))+'to'+str(int(ptBin.hi))\n",
    "        else:\n",
    "            pt_string = '_pT'+str(ptBin.lo) + 'to' + str(ptBin.hi)\n",
    "            pt_string = pt_string.replace('.0','').replace('-infto','0to')\n",
    "\n",
    "        for k in range(jeteta_length):\n",
    "            etaBinPl = hist.Interval(etabins[k+jeteta_length], etabins[k+1+jeteta_length])\n",
    "            etaBinMi = hist.Interval(etabins[jeteta_length-k-1], etabins[jeteta_length-k])\n",
    "#             etaBin = hist.Interval(etabins[k], etabins[k+1])\n",
    "#             print(\"etaBin = \", etaBinPl ,\", ptBin = \", ptBin )\n",
    "            eta_string = '_eta'+str(etaBinPl.lo)+'to'+str(etaBinPl.hi)\n",
    "            eta_string = eta_string.replace('.','')\n",
    "            \n",
    "            # The name integrate is a bit misleasding in this line. Is there another way to \"slice\" a histogram? //Andris\n",
    "            histoMi = response_hist.integrate('jeteta', etaBinMi).integrate('pt', ptBin)\n",
    "            histoPl = response_hist.integrate('jeteta', etaBinPl).integrate('pt', ptBin)\n",
    "            histo = (histoMi+histoPl)\n",
    "                \n",
    "            dataset_name = list(histo.values().keys())[0]\n",
    "#             output_comb['ptresponse_b'].values()[dataset_name]\n",
    "            yvals = histo.values()[dataset_name][1:]  #[1:] to exclude the second peak for low pt\n",
    "\n",
    "            N = np.sum(yvals)\n",
    "#             N = histo.integrate('ptresponse').values()[dataset_name]-histo.values()[dataset_name][0]\n",
    "            \n",
    "           ####################### Calculate median and rms ############################\n",
    "            \n",
    "            yvals_cumsum = np.cumsum(yvals)\n",
    "#             \"yvals cumsum\"\n",
    "#             print(yvals_cumsum)\n",
    "#             print(\"N = \", N)\n",
    "#             print(\"yvals = \", yvals)\n",
    "#             print(\"np.nonzero(yvals_cumsum>N/2) = \", np.nonzero(yvals_cumsum>N/2))\n",
    "               # For N<200 too little statistics to calculate the error resonably\n",
    "            med_bin = np.nonzero(yvals_cumsum>N/2)[0][0] if N>200 else 0\n",
    "            median = response_edges[med_bin] + (N/2 - yvals_cumsum[med_bin-1])/yvals[med_bin]*(response_edges[med_bin+1]\n",
    "                                                                                      - response_edges[med_bin])\n",
    "            \n",
    "            hist_mean = np.sum(xvals*yvals)/sum(yvals) \n",
    "            hist_rms = np.sqrt(np.sum(yvals*((hist_mean-xvals)**2))/sum(yvals))\n",
    "            medianstd = 1.253 * hist_rms/np.sqrt(N)\n",
    "            \n",
    "           ####################### Fitting ############################\n",
    "            nonzero_bins = np.sum(yvals>0)\n",
    "            if nonzero_bins<2 or N<50:\n",
    "                p2=[0,0,0]\n",
    "                chi2 = np.nan\n",
    "                arr = np.array([[np.nan]*3]*3)\n",
    "                Ndof = 0\n",
    "#                 print(\"Too little data points, skipping p = \", p2)\n",
    "            else:\n",
    "                try:\n",
    "                    p, arr = curve_fit(gauss, xvals, yvals, p0=[10,1,1])\n",
    "                    N_converge += 1\n",
    "                         ######## Second Gaussian ########\n",
    "                    xfit_l = np.where(xvals>=p[1]-np.abs(p[2])*1.5)[0][0]\n",
    "                    xfit_hs = np.where(xvals>=p[1]+np.abs(p[2])*1.5)[0]\n",
    "                    xfit_h = xfit_hs[0] if len(xfit_hs)>0 else len(xvals)\n",
    "#                     print(\"xfit_l = \", xfit_l, \", xfit_h = \", xfit_h)\n",
    "                    \n",
    "                    if len(range(xfit_l,xfit_h))<6: #if there are only 3pnts, the uncertainty is infty\n",
    "                        xfit_l = xfit_l-1\n",
    "                        xfit_h = xfit_h+1\n",
    "                        if len(range(xfit_l,xfit_h))<6:\n",
    "                            xfit_l = xfit_l-1\n",
    "                            xfit_h = xfit_h+1\n",
    "                    if xfit_l<0:\n",
    "                        xfit_h-=xfit_l\n",
    "                        xfit_l = 0\n",
    "                    xvals2 = xvals[xfit_l: xfit_h]\n",
    "                    yvals2 = yvals[xfit_l: xfit_h]\n",
    "#                     if ptBin.lo>290:\n",
    "#                         print(\"xfit_l = \", xfit_l, \", h = \", xfit_h)\n",
    "#                         print(\"yvals = \", yvals)\n",
    "#                         print(\"yvals2 = \", yvals2)\n",
    "                    p2, arr = curve_fit(gauss, xvals2, yvals2, p0=p)\n",
    "\n",
    "                    ygaus = gauss(xvals, *p2)\n",
    "                    chi2 = sum((yvals-ygaus)**2/(yvals+1E-9))\n",
    "                    Ndof = len(xvals2)-3\n",
    "#                     if chi2<50000:\n",
    "#                         pass\n",
    "#                         print(\"Fit converged, p = \", p2, \", chi2 = \", chi2 )\n",
    "#                     else:\n",
    "#                         print(\"Fit failed because of high chi2, p = \", p2, \", chi2 = \", chi2 )\n",
    "                except(RuntimeError):\n",
    "                    p2=[0,0,0]\n",
    "#                     print(\"Fit failed because of non-convergance, p = \", p2)\n",
    "                    chi2 = np.nan\n",
    "                    arr = np.array([[np.nan]*3]*3)\n",
    "                    Ndof = 0\n",
    "                    N_not_converge += 1\n",
    "                    continue\n",
    "\n",
    "\n",
    "            fgaus2 = gauss(f_xvals, *p2)\n",
    "\n",
    "            width_ik = np.abs(p2[2])\n",
    "            \n",
    "            mean[i,k] = p2[1]\n",
    "            meanvar[i,k] = arr[1,1]\n",
    "            medians[i,k] = median\n",
    "            medianstds[i,k] = medianstd\n",
    "            width[i,k] = width_ik\n",
    "#             chi2s[i,k] = chi2\n",
    "\n",
    "   ####################### Plotting ############################\n",
    "#             if not os.path.exists('test/'+FitFigDir):\n",
    "#                 os.mkdir('test/'+FitFigDir)\n",
    "#             histo = histo.rebin('ptresponse', plot_response_axis)\n",
    "\n",
    "#             fig, ax2 = plt.subplots();\n",
    "#             hist.plot1d(histo, ax=ax2, overlay='dataset', overflow='all',\n",
    "#                         fill_opts={'alpha': .5, 'edgecolor': (0,0,0,0.3), 'linewidth': 1.4})\n",
    "#             # ax2.plot(f_xvals, fgaus, label='Gaus',linewidth=1.8)\n",
    "#             ax2.plot(f_xvals, fgaus2, label='Gaus',linewidth=1.8)\n",
    "#             ax2.set_xlabel(\"Response ($E_{RECO}/E_{GEN}$)\")\n",
    "#             ax2.set_xlim(plot_pt_edges[[0,-1]])\n",
    "#             h = ax2.get_ylim()[1]/1.05\n",
    "#             plt.text(0.03,0.95*h,r'Mean {0:0.3f}$\\pm${1:0.3f}'.format(p2[1], np.sqrt(arr[1,1])))\n",
    "#             plt.text(0.03,0.88*h,r'Width {0:0.3f}$\\pm${1:0.3f}'.format(width_ik, np.sqrt(arr[2,2])))\n",
    "#             plt.text(0.03,0.81*h,r'Median {0:0.3f}$\\pm${1:0.3f}'.format(median, medianstd))\n",
    "#             plt.text(0.03,0.73*h,r'$\\chi^2/ndof$ {0:0.2g}/{1:0.0f}'.format(chi2, Ndof))\n",
    "#             plt.text(0.03,0.66*h,r'N data = {0:0.3g}'.format(N))\n",
    "#             ax2.legend();\n",
    "\n",
    "#             plt.savefig('test/'+FitFigDir+'/ptResponse'+pt_string+eta_string+'.png', dpi=plt.rcParamsDefault['figure.dpi']);\n",
    "#             plt.savefig('test/'+FitFigDir+'/ptResponse'+pt_string+eta_string+'.pdf', dpi=plt.rcParamsDefault['figure.dpi']);\n",
    "#             plt.close();   \n",
    "        \n",
    "            if  saveplots:\n",
    "                histo = histo.rebin('ptresponse', plot_response_axis)\n",
    "\n",
    "                fig, ax2 = plt.subplots();\n",
    "                hist.plot1d(histo, ax=ax2, overlay='dataset', overflow='all',\n",
    "                            fill_opts={'alpha': .5, 'edgecolor': (0,0,0,0.3), 'linewidth': 1.4})\n",
    "                # ax2.plot(f_xvals, fgaus, label='Gaus',linewidth=1.8)\n",
    "                ax2.plot(f_xvals, fgaus2, label='Gaus',linewidth=1.8)\n",
    "                ax2.set_xlabel(\"Response ($p_{T,reco}/p_{T,ptcl}$)\")\n",
    "                ax2.set_xlim(plot_pt_edges[[0,-1]])\n",
    "                h = ax2.get_ylim()[1]/1.05\n",
    "                plt.text(0.03,0.95*h,r'Mean {0:0.3f}$\\pm${1:0.3f}'.format(p2[1], np.sqrt(arr[1,1])))\n",
    "                plt.text(0.03,0.88*h,r'Width {0:0.3f}$\\pm${1:0.3f}'.format(width_ik, np.sqrt(arr[2,2])))\n",
    "                plt.text(0.03,0.81*h,r'Median {0:0.3f}$\\pm${1:0.3f}'.format(median, medianstd))\n",
    "                plt.text(0.03,0.73*h,r'$\\chi^2/ndof$ {0:0.2g}/{1:0.0f}'.format(chi2, Ndof))\n",
    "                plt.text(0.03,0.66*h,r'N data = {0:0.3g}'.format(N))\n",
    "                ax2.legend();\n",
    "\n",
    "                plt.savefig(FitFigDir+'/ptResponse'+pt_string+eta_string+'.png', dpi=plt.rcParamsDefault['figure.dpi']);\n",
    "                plt.savefig(FitFigDir+'/ptResponse'+pt_string+eta_string+'.pdf', dpi=plt.rcParamsDefault['figure.dpi']);\n",
    "#                 print(\"Saving to: \", FitFigDir+'/ptResponse'+pt_string+eta_string+'.png')\n",
    "                plt.close();                \n",
    "\n",
    "    print(\"N converge = \", N_converge, \"N_not_converge = \", N_not_converge );\n",
    "    warnings.filterwarnings('default')\n",
    "    \n",
    "    return [mean, meanvar, medians, medianstds] #width, \n",
    "    "
   ]
  },
  {
   "cell_type": "code",
   "execution_count": 213,
   "metadata": {},
   "outputs": [
    {
     "data": {
      "text/plain": [
       "array([ 2,  6, 15])"
      ]
     },
     "execution_count": 213,
     "metadata": {},
     "output_type": "execute_result"
    }
   ],
   "source": [
    "np.array([1,2,3])*np.array([2,3,5])"
   ]
  },
  {
   "cell_type": "code",
   "execution_count": 214,
   "metadata": {},
   "outputs": [],
   "source": [
    "def plot_corrections(mean, samp, meanstd):\n",
    "    ### To ignore the points with 0 on y axis when setting the y axis limits\n",
    "    mean_p = mean.copy()\n",
    "    mean_p[mean_p==0] = np.nan\n",
    "\n",
    "    fig, ax = plt.subplots()\n",
    "    start = np.searchsorted(ptbins_c, 20, side='left') #np.where(ptbins<=20)[0][-1]\n",
    "    \n",
    "    k2 = np.where(etabins_mod<=0)[0][-1]\n",
    "    k4 = np.where(etabins_mod<=1.3)[0][-1]\n",
    "    k6 = np.where(etabins_mod<=2.5)[0][-1]\n",
    "    k8 = np.where(etabins_mod<=3.0)[0][-1]\n",
    "    lastbin = np.where(~ np.isnan(mean_p[:, k2]*mean_p[:, k4]*mean_p[:, k6]*mean_p[:, k8]))[0][-1]\n",
    "    \n",
    "    ptbins_plot = ptbins_c[start:lastbin]\n",
    "    meanstd = meanstd[start:lastbin,:]\n",
    "    \n",
    "    mean_p = mean_p[start:lastbin]\n",
    "    \n",
    "    plt.errorbar(ptbins_plot, mean_p[:,k2], yerr=meanstd[:,k2], marker='o',\n",
    "                 linestyle=\"none\", label=f'{etabins_mod[k2]}'+r'$<\\eta<$'+f'{etabins_mod[k2+1]}')\n",
    "    plt.errorbar(ptbins_plot, mean_p[:,k4], yerr=meanstd[:,k4], marker='o',\n",
    "             linestyle=\"none\", label=f'{etabins_mod[k4]}'+r'$<\\eta<$'+f'{etabins_mod[k4+1]}')\n",
    "    plt.errorbar(ptbins_plot, mean_p[:,k6], yerr=meanstd[:,k6], marker='o',\n",
    "             linestyle=\"none\", label=f'{etabins_mod[k6]}'+r'$<\\eta<$'+f'{etabins_mod[k6+1]}')\n",
    "    plt.errorbar(ptbins_plot, mean_p[:,k8], yerr=meanstd[:,k8], marker='o',\n",
    "             linestyle=\"none\", label=f'{etabins_mod[k8]}'+r'$<\\eta<$'+f'{etabins_mod[k8+1]}')\n",
    "\n",
    "    ### Calculate resonable limits excluding the few points with insane errors\n",
    "    yerr_norm = np.concatenate([meanstd[:,[k2, k4, k6, k8]] ])\n",
    "    y_norm = np.concatenate([mean_p[:,[k2, k4, k6, k8]]])\n",
    "    norm_pos = (yerr_norm<0.02) &  (yerr_norm != np.inf) & (y_norm>-0.1)\n",
    "    \n",
    "    left_lim = np.min((y_norm-yerr_norm)[norm_pos])\n",
    "    right_lim = np.max((yerr_norm+y_norm)[norm_pos])\n",
    "    lim_pad = (right_lim - left_lim)/20\n",
    "    ax.set_ylim(left_lim-lim_pad, right_lim+lim_pad)\n",
    "#     ax.set_ylim(np.min((y_norm-yerr_norm)[norm_pos]) ,np.max((yerr_norm+y_norm)[norm_pos]))\n",
    "    \n",
    "    ax.set_xscale('log')\n",
    "    \n",
    "    \n",
    "    \n",
    "    good_xlims = ax.get_xlim()\n",
    "    ax.set_xticks([20, 50, 100, 500, 1000, 5000])\n",
    "    ax.set_xlim(good_xlims)\n",
    "    ax.get_xaxis().set_major_formatter(mpl.ticker.ScalarFormatter())\n",
    "    ax.set_xlabel(r'$p_T$ (GeV)');\n",
    "    ax.set_ylabel(r'median response');\n",
    "    ax.legend()\n",
    "    if test_run:\n",
    "        plt.savefig('test/fig/corr_vs_pt'+samp+tag_full+'_test.pdf', dpi=plt.rcParamsDefault['figure.dpi']);\n",
    "        plt.savefig('test/fig/corr_vs_pt'+samp+tag_full+'_test.png', dpi=plt.rcParamsDefault['figure.dpi']);\n",
    "    else:\n",
    "        plt.savefig('fig/corr_vs_pt'+samp+tag_full+'.pdf');\n",
    "        plt.savefig('fig/corr_vs_pt'+samp+tag_full+'.png');\n",
    "\n",
    "    plt.show();\n",
    "    \n",
    "# plotCorrections()"
   ]
  },
  {
   "cell_type": "code",
   "execution_count": 215,
   "metadata": {},
   "outputs": [],
   "source": [
    "def plot_corrections_eta(mean, samp, meanstd):\n",
    "    ### To ignore the points with 0 on y axis when setting the y axis limits\n",
    "    mean_p = mean.copy()\n",
    "    mean_p[mean_p==0] = np.nan\n",
    "\n",
    "    fig, ax = plt.subplots()\n",
    "#     start = np.where(ptbins<=20)[0][-1]\n",
    "    \n",
    "#     ptbins_plot = ptbins_c[start:]\n",
    "#     meanstd = meanstd[start:,:]\n",
    "#     mean_p = mean_p[start:]\n",
    "    \n",
    "    k2 = np.where(ptbins<=15)[0][-1]\n",
    "    k4 = np.where(ptbins<=40)[0][-1]\n",
    "    k6 = np.where(ptbins<=150)[0][-1]\n",
    "    k8 = np.where(ptbins<=400)[0][-1]\n",
    "    \n",
    "#     np.isnan(mean_p[k2,:]*mean_p[k4,:]*mean_p[k6,:]*mean_p[k8,:])\n",
    "    \n",
    "    plt.errorbar(etabins_c, mean_p[k2,:], yerr=meanstd[k2], marker='o',\n",
    "                 linestyle=\"none\", label=f'{ptbins[k2]}'+r'$<p_t<$'+f'{ptbins[k2+1]}')\n",
    "    plt.errorbar(etabins_c, mean_p[k4,:], yerr=meanstd[k4], marker='o',\n",
    "             linestyle=\"none\", label=f'{ptbins[k4]}'+r'$<p_t<$'+f'{ptbins[k4+1]}')\n",
    "    plt.errorbar(etabins_c, mean_p[k6], yerr=meanstd[k6], marker='o',\n",
    "             linestyle=\"none\", label=f'{ptbins[k6]}'+r'$<p_t<$'+f'{ptbins[k6+1]}')\n",
    "    plt.errorbar(etabins_c, mean_p[k8], yerr=meanstd[k8], marker='o',\n",
    "             linestyle=\"none\", label=f'{ptbins[k8]}'+r'$<p_t<$'+f'{ptbins[k8+1]}')\n",
    "\n",
    "    ### Calculate resonable limits excluding the few points with insane errors\n",
    "    yerr_norm = np.concatenate([np.sqrt(meanvar[[k2, k4, k6, k8]]) ])\n",
    "    y_norm = np.concatenate([mean_p[[k2, k4, k6, k8]]])\n",
    "    norm_pos = (yerr_norm<0.02) &  (yerr_norm != np.inf) & (y_norm>-0.1)\n",
    "    ax.set_ylim(np.min((y_norm-yerr_norm)[norm_pos]) ,np.max((yerr_norm+y_norm)[norm_pos]))\n",
    "    ax.set_xlabel(r'$\\eta$');\n",
    "    ax.set_ylabel(r'median response');\n",
    "#     ax.set_xscale('log')\n",
    "    ax.legend()\n",
    "    if test_run:\n",
    "        plt.savefig('test/fig/corr_vs_eta'+samp+tag_full+'_test.pdf', dpi=plt.rcParamsDefault['figure.dpi']);\n",
    "        plt.savefig('test/fig/corr_vs_eta'+samp+tag_full+'_test.png', dpi=plt.rcParamsDefault['figure.dpi']);\n",
    "    else:\n",
    "        plt.savefig('fig/corr_vs_eta'+samp+tag_full+'.pdf');\n",
    "        plt.savefig('fig/corr_vs_eta'+samp+tag_full+'.png');\n",
    "\n",
    "    plt.show();\n",
    "    \n",
    "# plotCorrections()"
   ]
  },
  {
   "cell_type": "code",
   "execution_count": 216,
   "metadata": {},
   "outputs": [],
   "source": [
    "def save_data(data, name, samp):\n",
    "    # data = {str(ptBin):mean[i] for i, ptBin in enumerate(output['jetpt'].axis('pt')[1:-1])}\n",
    "    data_dict = {str(ptBin):data[i] for i, ptBin in enumerate(ptbins[:-1])}\n",
    "\n",
    "    # data['etaBins'] = [str(etaBin) for etaBin in output['jeteta'].axis('jeteta')[1:-1]]\n",
    "    data_dict['etaBins'] = np.array([str(etaBin) for etaBin in etabins_mod[:-1]])\n",
    "\n",
    "    df = pd.DataFrame(data=data_dict)\n",
    "    df = df.set_index('etaBins')\n",
    "    if not test_run:\n",
    "        df.to_csv('out_txt/EtaBinsvsPtBins'+name+samp+tag_full+'.csv')\n",
    "    else:\n",
    "        df.to_csv('test/out_txt/EtaBinsvsPtBins'+name+samp+tag_full+'_test.csv')\n",
    "#     return df"
   ]
  },
  {
   "cell_type": "code",
   "execution_count": 217,
   "metadata": {},
   "outputs": [],
   "source": [
    "def read_data(name, samp):\n",
    "    if not test_run:\n",
    "        df_csv = pd.read_csv('out_txt/EtaBinsvsPtBins'+name+samp+tag_full+'.csv').set_index('etaBins')\n",
    "#         df.to_csv('out_txt/EtaBinsvsPtBins'+name+samp+tag_full+'.csv')\n",
    "    else: #before_closure/\n",
    "        df_csv = pd.read_csv('test/out_txt/EtaBinsvsPtBins'+name+samp+tag_full+'_test.csv').set_index('etaBins')\n",
    "#         df.to_csv('out_txt/EtaBinsvsPtBins'+name+tag+'_test.csv')\n",
    "    \n",
    "#     df_csv = pd.read_csv('out_txt/EtaBinsvsPtBinsMean_L5.csv').set_index('etaBins')\n",
    "    data = df_csv.to_numpy().transpose()\n",
    "    return data"
   ]
  },
  {
   "cell_type": "markdown",
   "metadata": {},
   "source": [
    "### Run fitting for each sample"
   ]
  },
  {
   "cell_type": "code",
   "execution_count": 218,
   "metadata": {},
   "outputs": [],
   "source": [
    "medians = []\n",
    "medianstds = []"
   ]
  },
  {
   "cell_type": "code",
   "execution_count": 219,
   "metadata": {
    "scrolled": true
   },
   "outputs": [
    {
     "name": "stdout",
     "output_type": "stream",
     "text": [
      "-------------------------\n",
      "-------------------------\n",
      "Fitting subsample:  _b\n",
      "Images will be saved under  fig/responses/response_pt_eta_b_L5_DY-JME\n",
      "N converge =  54 N_not_converge =  0\n"
     ]
    },
    {
     "data": {
      "image/png": "[encoded data removed]",
      "text/plain": [
       "<Figure size 630x420 with 1 Axes>"
      ]
     },
     "metadata": {},
     "output_type": "display_data"
    },
    {
     "name": "stdout",
     "output_type": "stream",
     "text": [
      "-------------------------\n",
      "-------------------------\n",
      "Fitting subsample:  _c\n",
      "Images will be saved under  fig/responses/response_pt_eta_c_L5_DY-JME\n",
      "N converge =  57 N_not_converge =  0\n"
     ]
    },
    {
     "data": {
      "image/png": "[encoded data removed]",
      "text/plain": [
       "<Figure size 630x420 with 1 Axes>"
      ]
     },
     "metadata": {},
     "output_type": "display_data"
    },
    {
     "name": "stdout",
     "output_type": "stream",
     "text": [
      "-------------------------\n",
      "-------------------------\n",
      "Fitting subsample:  _d\n",
      "Images will be saved under  fig/responses/response_pt_eta_d_L5_DY-JME\n",
      "N converge =  60 N_not_converge =  0\n"
     ]
    },
    {
     "data": {
      "image/png": "[encoded data removed]",
      "text/plain": [
       "<Figure size 630x420 with 1 Axes>"
      ]
     },
     "metadata": {},
     "output_type": "display_data"
    },
    {
     "name": "stdout",
     "output_type": "stream",
     "text": [
      "-------------------------\n",
      "-------------------------\n",
      "Fitting subsample:  _u\n",
      "Images will be saved under  fig/responses/response_pt_eta_u_L5_DY-JME\n",
      "N converge =  60 N_not_converge =  0\n"
     ]
    },
    {
     "data": {
      "image/png": "[encoded data removed]",
      "text/plain": [
       "<Figure size 630x420 with 1 Axes>"
      ]
     },
     "metadata": {},
     "output_type": "display_data"
    },
    {
     "name": "stdout",
     "output_type": "stream",
     "text": [
      "-------------------------\n",
      "-------------------------\n",
      "Fitting subsample:  _s\n",
      "Images will be saved under  fig/responses/response_pt_eta_s_L5_DY-JME\n",
      "N converge =  57 N_not_converge =  0\n"
     ]
    },
    {
     "data": {
      "image/png": "[encoded data removed]",
      "text/plain": [
       "<Figure size 630x420 with 1 Axes>"
      ]
     },
     "metadata": {},
     "output_type": "display_data"
    },
    {
     "name": "stdout",
     "output_type": "stream",
     "text": [
      "-------------------------\n",
      "-------------------------\n",
      "Fitting subsample:  _g\n",
      "Images will be saved under  fig/responses/response_pt_eta_g_L5_DY-JME\n",
      "N converge =  60 N_not_converge =  0\n"
     ]
    },
    {
     "data": {
      "image/png": "[encoded data removed]",
      "text/plain": [
       "<Figure size 630x420 with 1 Axes>"
      ]
     },
     "metadata": {},
     "output_type": "display_data"
    },
    {
     "name": "stdout",
     "output_type": "stream",
     "text": [
      "-------------------------\n",
      "-------------------------\n",
      "Fitting subsample:  \n",
      "Images will be saved under  fig/responses/response_pt_eta_L5_DY-JME\n",
      "N converge =  57 N_not_converge =  6\n"
     ]
    },
    {
     "data": {
      "image/png": "[encoded data removed]",
      "text/plain": [
       "<Figure size 630x420 with 1 Axes>"
      ]
     },
     "metadata": {},
     "output_type": "display_data"
    }
   ],
   "source": [
    "# load_fit_res=False\n",
    "combine_antiflavour = True   ### combine quark and antiquark flavour in one bin\n",
    "# subsamples = ['', '_b', '_c', '_u', '_d', '_s', '_g', '_bbar', '_cbar', '_ubar', '_dbar','_sbar']\n",
    "subsamples = ['_b', '_c', '_d', '_u', '_s', '_g', '']\n",
    "# subsamples = ['_c']\n",
    "# subsamples = ['', '_ud', '_g'] # , '_b']\n",
    "for samp in subsamples:\n",
    "    print('-'*25)\n",
    "    print('-'*25)\n",
    "    print('Fitting subsample: ', samp)\n",
    "    if load_fit_res:\n",
    "        mean = read_data(\"Median\", samp)\n",
    "        meanvar = read_data(\"MedianVar\", samp)\n",
    "        median = read_data(\"Median\", samp)\n",
    "        medianstd = read_data(\"MedianStd\", samp)\n",
    "#         width = read_data(\"Width\")\n",
    "#         median = read_data(median, \"Median\")\n",
    "    else:\n",
    "        mean, meanvar, median, medianstd = fit_responses(output, samp)\n",
    "        medians.append(median[0][0])\n",
    "        medianstds.append(medianstd[0][0])\n",
    "        for data, name in zip([mean, meanvar, median, medianstd],[\"Mean\", \"MeanVar\", \"Median\", \"MedianStd\"]):\n",
    "            save_data(data, name, samp)\n",
    "            pass\n",
    "            \n",
    "    meanstd = np.sqrt(meanvar)\n",
    "            \n",
    "    if fine_etabins or one_bin:\n",
    "        plot_corrections_eta(median, samp, medianstd)\n",
    "    else:\n",
    "        plot_corrections(median, samp, medianstd)"
   ]
  },
  {
   "cell_type": "code",
   "execution_count": 82,
   "metadata": {
    "scrolled": true
   },
   "outputs": [
    {
     "data": {
      "text/plain": [
       "[nan, nan, nan, nan, nan, nan, nan, nan, nan]"
      ]
     },
     "execution_count": 82,
     "metadata": {},
     "output_type": "execute_result"
    }
   ],
   "source": [
    "medianstds"
   ]
  },
  {
   "cell_type": "code",
   "execution_count": 83,
   "metadata": {},
   "outputs": [
    {
     "data": {
      "text/plain": [
       "[nan, nan, nan, nan, nan, nan, nan, nan, nan]"
      ]
     },
     "execution_count": 83,
     "metadata": {},
     "output_type": "execute_result"
    }
   ],
   "source": [
    "medians"
   ]
  },
  {
   "cell_type": "code",
   "execution_count": 84,
   "metadata": {},
   "outputs": [],
   "source": [
    "# # load_fit_res=False\n",
    "# # combine_antiflavour = False\n",
    "# subsamples = ['', '_b', '_c', '_u', '_d', '_s', '_g', '_bbar', '_cbar', '_ubar', '_udbar','_sbar']\n",
    "# # subsamples = ['_b', '_c', '_ud', '_s', '_g']\n",
    "# # subsamples = ['', '_ud', '_g'] # , '_b']\n",
    "# for samp in subsamples:\n",
    "#     print('-'*25)\n",
    "#     print('-'*25)\n",
    "#     print('Fitting subsample: ', samp)\n",
    "#     if load_fit_res:\n",
    "#         mean = read_data(\"Median\", samp)\n",
    "#         meanvar = read_data(\"MedianVar\", samp)\n",
    "#         median = read_data(\"Median\", samp)\n",
    "#         medianstd = read_data(\"MedianStd\", samp)\n",
    "# #         width = read_data(\"Width\")\n",
    "# #         median = read_data(median, \"Median\")\n",
    "#     else:\n",
    "#         mean, meanvar, median, medianstd = fit_responses(output, samp)\n",
    "#         medians.append(median[0][0])\n",
    "#         medianstds.append(medianstd[0][0])\n",
    "#         for data, name in zip([mean, meanvar, median, medianstd],[\"Mean\", \"MeanVar\", \"Median\", \"MedianStd\"]):\n",
    "#             save_data(data, name, samp)\n",
    "#             pass\n",
    "            \n",
    "#     meanstd = np.sqrt(meanvar)\n",
    "            \n",
    "#     if fine_etabins or one_bin:\n",
    "#         plot_corrections_eta(median, samp, medianstd)\n",
    "#     else:\n",
    "#         plot_corrections(mean, samp, meanstd)"
   ]
  },
  {
   "cell_type": "code",
   "execution_count": null,
   "metadata": {},
   "outputs": [],
   "source": [
    "print('-----'*10)\n",
    "print(\"All done. Congrats!\")"
   ]
  }
 ],
 "metadata": {
  "kernelspec": {
   "display_name": "Python 3 (ipykernel)",
   "language": "python",
   "name": "python3"
  },
  "language_info": {
   "codemirror_mode": {
    "name": "ipython",
    "version": 3
   },
   "file_extension": ".py",
   "mimetype": "text/x-python",
   "name": "python",
   "nbconvert_exporter": "python",
   "pygments_lexer": "ipython3",
   "version": "3.9.12"
  }
 },
 "nbformat": 4,
 "nbformat_minor": 4
}
