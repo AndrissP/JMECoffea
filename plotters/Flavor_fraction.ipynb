{
 "cells": [
  {
   "cell_type": "code",
   "execution_count": 1,
   "id": "6ca42768",
   "metadata": {},
   "outputs": [],
   "source": [
    "### Print not only the last line in a cell\n",
    "from IPython.core.interactiveshell import InteractiveShell\n",
    "InteractiveShell.ast_node_interactivity = \"all\""
   ]
  },
  {
   "cell_type": "code",
   "execution_count": 2,
   "id": "b57f18e5",
   "metadata": {},
   "outputs": [],
   "source": [
    "import sys\n",
    "sys.path.insert(0,'/afs/cern.ch/user/a/anpotreb/top/JERC/JMECoffea')\n",
    "import numpy as np\n",
    "import matplotlib.pyplot as plt\n",
    "import matplotlib as mpl\n",
    "from coffea import util\n",
    "# %matplotlib notebook \n",
    "# %matplotlib notebook "
   ]
  },
  {
   "cell_type": "code",
   "execution_count": 4,
   "id": "ef4ab238",
   "metadata": {},
   "outputs": [
    {
     "ename": "ImportError",
     "evalue": "attempted relative import with no known parent package",
     "output_type": "error",
     "traceback": [
      "\u001b[0;31m---------------------------------------------------------------------------\u001b[0m",
      "\u001b[0;31mImportError\u001b[0m                               Traceback (most recent call last)",
      "\u001b[0;32m/tmp/anpotreb/ipykernel_25304/1820846819.py\u001b[0m in \u001b[0;36m<module>\u001b[0;34m\u001b[0m\n\u001b[0;32m----> 1\u001b[0;31m \u001b[0;32mfrom\u001b[0m \u001b[0;34m.\u001b[0m\u001b[0mplotters\u001b[0m \u001b[0;32mimport\u001b[0m \u001b[0mplotters\u001b[0m\u001b[0;34m\u001b[0m\u001b[0;34m\u001b[0m\u001b[0m\n\u001b[0m",
      "\u001b[0;31mImportError\u001b[0m: attempted relative import with no known parent package"
     ]
    }
   ],
   "source": [
    "from .plotters import plotters"
   ]
  },
  {
   "cell_type": "code",
   "execution_count": 1,
   "id": "9fccab69",
   "metadata": {},
   "outputs": [
    {
     "ename": "ImportError",
     "evalue": "attempted relative import with no known parent package",
     "output_type": "error",
     "traceback": [
      "\u001b[0;31m---------------------------------------------------------------------------\u001b[0m",
      "\u001b[0;31mImportError\u001b[0m                               Traceback (most recent call last)",
      "\u001b[0;32m/tmp/anpotreb/ipykernel_25304/3657417984.py\u001b[0m in \u001b[0;36m<module>\u001b[0;34m\u001b[0m\n\u001b[0;32m----> 1\u001b[0;31m \u001b[0;32mfrom\u001b[0m \u001b[0;34m.\u001b[0m\u001b[0;34m.\u001b[0m\u001b[0mhelpers\u001b[0m \u001b[0;32mimport\u001b[0m \u001b[0mhist_add\u001b[0m\u001b[0;34m,\u001b[0m \u001b[0mhist_mult\u001b[0m\u001b[0;34m,\u001b[0m \u001b[0mhist_div\u001b[0m\u001b[0;34m,\u001b[0m \u001b[0mdictionary_pattern\u001b[0m\u001b[0;34m,\u001b[0m \u001b[0msum_subhist\u001b[0m\u001b[0;34m,\u001b[0m \u001b[0mxsecstr2float\u001b[0m\u001b[0;34m\u001b[0m\u001b[0;34m\u001b[0m\u001b[0m\n\u001b[0m",
      "\u001b[0;31mImportError\u001b[0m: attempted relative import with no known parent package"
     ]
    }
   ],
   "source": [
    "from ..helpers import hist_add, hist_mult, hist_div, dictionary_pattern, sum_subhist, xsecstr2float"
   ]
  },
  {
   "cell_type": "code",
   "execution_count": 3,
   "id": "4d445426",
   "metadata": {},
   "outputs": [],
   "source": [
    "from helpers import hist_add, hist_mult, hist_div, dictionary_pattern, sum_subhist, xsecstr2float"
   ]
  },
  {
   "cell_type": "code",
   "execution_count": 3,
   "id": "b5a2eba9",
   "metadata": {},
   "outputs": [],
   "source": [
    "# add_tag = '_QCD-JME-leading3jets' #-etaAut18'\n",
    "# add_tag = '_QCD-JME' #-etaAut18'\n",
    "add_tag = '_QCD_MG_Py8'\n",
    "add_tag = '_Herwig-QCD'\n",
    "\n",
    "tag_full = '_L5'+add_tag\n",
    "outname = '../out/CoffeaJERCOutputs'+tag_full+'.coffea'\n",
    "output = util.load(outname)"
   ]
  },
  {
   "cell_type": "code",
   "execution_count": 5,
   "id": "85a9bfca",
   "metadata": {},
   "outputs": [],
   "source": [
    "dataset = 'fileNames/QCD_MG_Py8_20UL18/xsecs_QCD_MG_py8.txt'\n",
    "if \"Herwig-QCD\" in add_tag or \"MG\" in add_tag:\n",
    "#     dataset_list_file = '../fileNames/QCD_MG_Py8_20UL18/xsecs_QCD_MG_py8.txt'\n",
    "    dataset_list_file = '../fileNames/QCD_Herwig_20UL18/xsecs_QCD_Herwig_corrected.txt'\n",
    "#     dataset_list_file = '../fileNames/xsecs_QCD_Herwig.txt'\n",
    "    with open(dataset_list_file) as f:\n",
    "        lines = f.readlines()\n",
    "    lines_split = [line.split() for line in lines]\n",
    "    file_dict = {lineii[1]: xsecstr2float(lineii[2]) for lineii in lines_split }\n",
    "else:\n",
    "    file_dict = 1"
   ]
  },
  {
   "cell_type": "code",
   "execution_count": 6,
   "id": "5e611704",
   "metadata": {},
   "outputs": [
    {
     "data": {
      "text/plain": [
       "{'HT50to100': 56530.0,\n",
       " 'HT100to200': 10801.5,\n",
       " 'HT200to300': 971.85,\n",
       " 'HT300to500': 241.42800000000003,\n",
       " 'HT500to700': 25.0478,\n",
       " 'HT700to1000': 5.684449999999999,\n",
       " 'HT1000to1500': 1.081755,\n",
       " 'HT1500to2000': 0.10904000000000001,\n",
       " 'HT2000toInf': 0.021787499999999998}"
      ]
     },
     "execution_count": 6,
     "metadata": {},
     "output_type": "execute_result"
    }
   ],
   "source": [
    "file_dict\n",
    "file_dict2 = file_dict\n",
    "# file_dict2 = {\n",
    "#     \"HT50to100\": 56530.0,\n",
    "#     \"HT100to200\": 11370.0*0.95,\n",
    "#     \"HT200to300\": 883.5*1.1,\n",
    "#     \"HT300to500\": 259.6*0.93,\n",
    "#     \"HT500to700\": 23.63*1.06,\n",
    "#     \"HT700to1000\": 4.943*1.15,\n",
    "#     \"HT1000to1500\": 0.8013*1.35,\n",
    "#     \"HT1500to2000\": 0.06815*1.6,\n",
    "#     \"HT2000toInf\": 0.01245*1.75,\n",
    "# }"
   ]
  },
  {
   "cell_type": "code",
   "execution_count": 11,
   "id": "5465b192",
   "metadata": {},
   "outputs": [],
   "source": [
    "# get the weight sum of all the \"ptresponse_\" histograms in the sample\n",
    "response_sums = {key:sum(dictionary_pattern(output[key], \"ptresponse_\").values()).sum().value for key in output.keys()}\n",
    "scale_factors = hist_div(file_dict2, response_sums)"
   ]
  },
  {
   "cell_type": "code",
   "execution_count": 12,
   "id": "c3b38077",
   "metadata": {},
   "outputs": [],
   "source": [
    "output_orig = output\n",
    "if 'Herwig-QCD' in add_tag or \"MG\" in add_tag:\n",
    "    all_histo_keys = output[next(iter(output.keys()))].keys()\n",
    "    result = {histo_key:sum_subhist(output, histo_key, scale_factors) for histo_key in all_histo_keys }\n",
    "    output = result\n",
    "else:\n",
    "    output = output[list(output.keys())[0]]"
   ]
  },
  {
   "cell_type": "code",
   "execution_count": 13,
   "id": "e8656191",
   "metadata": {},
   "outputs": [],
   "source": [
    "# sums['b']+=2"
   ]
  },
  {
   "cell_type": "code",
   "execution_count": 14,
   "id": "961e98fd",
   "metadata": {},
   "outputs": [],
   "source": [
    "# sums = {'b':0, 'g':0}\n",
    "# sums = {key:0 for key in ['q', 'g', 'b', 'c', 'untagged']}\n",
    "# sums_hist = {key:0 for key in ['q', 'g', 'b', 'c', 'untagged']}\n",
    "# sums_hist_raw = {key:0 for key in ['q', 'g', 'b', 'c', 'untagged']}\n",
    "# for key in li:\n",
    "#     out_tmp = output_orig[key] \n",
    "#     q_hist = (out_tmp['ptresponse_u']+out_tmp['ptresponse_ubar']+out_tmp['ptresponse_d']+out_tmp['ptresponse_dbar']+out_tmp['ptresponse_s']+out_tmp['ptresponse_sbar'])[:,sum,sum]\n",
    "#     g_hist = (out_tmp['ptresponse_g'])[:,sum,sum]\n",
    "#     b_hist = (out_tmp['ptresponse_b']+out_tmp['ptresponse_bbar'])[:,sum,sum]\n",
    "#     c_hist = (out_tmp['ptresponse_c']+out_tmp['ptresponse_cbar'])[:,sum,sum]\n",
    "#     untagged_hist = (out_tmp['ptresponse_untagged'])[:,sum,sum]\n",
    "#     sums['q']+=q_hist.values()*file_dict2[key]\n",
    "#     sums['g']+=g_hist.values()*file_dict2[key]\n",
    "#     sums['b']+=b_hist.values()*file_dict2[key]\n",
    "#     sums['c']+=c_hist.values()*file_dict2[key]\n",
    "#     sums['untagged']+=untagged_hist.values()*file_dict2[key]\n",
    "    \n",
    "#     for histii, samp in zip([q_hist, g_hist, b_hist, c_hist, untagged_hist], ['q', 'g', 'b', 'c', 'untagged']):\n",
    "#         sums_hist[samp]+=histii*file_dict2[key]\n",
    "        \n",
    "#     sums_hist_raw['g']+=out_tmp['ptresponse_g']*file_dict2[key]\n",
    "    \n",
    "#     print(key, \", \" , output_orig[key]['ptresponse_b'][14:17,sum,sum].values()*file_dict2[key], \", \" , output_orig[key]['ptresponse_g'][14:17,sum,sum].values()*file_dict2[key])\n",
    "#     #     output_orig['HT50to100']['ptresponse_b'][14:17,sum,sum].values()\n",
    "# #     output_orig['HT100to200']['ptresponse_b'][14:17,sum,sum].values()\n",
    "# #     sums['b']+=output_orig[key]['ptresponse_b'][14:17,sum,sum].values()*file_dict2[key]\n",
    "# #     sums['g']+=output_orig[key]['ptresponse_g'][14:17,sum,sum].values()*file_dict2[key]"
   ]
  },
  {
   "cell_type": "code",
   "execution_count": 15,
   "id": "03678fe9",
   "metadata": {},
   "outputs": [],
   "source": [
    "for key in output.keys():\n",
    "    if 'response' in key:\n",
    "        response_key = key\n",
    "        break"
   ]
  },
  {
   "cell_type": "code",
   "execution_count": 16,
   "id": "02dc171e",
   "metadata": {},
   "outputs": [],
   "source": [
    "fine_etabins=False\n",
    "one_bin=False\n",
    "if fine_etabins==True:\n",
    "    ptbins = np.array([15, 40, 150, 400, 4000, 10000])\n",
    "    ptbins_c = (ptbins[:-1]+ptbins[1:])/2\n",
    "    etabins = output[response_key].axes[\"jeteta\"].edges #output['ptresponse'].axis('jeteta').edges()\n",
    "elif one_bin==True:\n",
    "    ptbins = np.array([15, 10000])\n",
    "    ptbins_c = (ptbins[:-1]+ptbins[1:])/2\n",
    "    etabins = np.array([-5, -3, -2.5, -1.3, 0, 1.3, 2.5, 3, 5])\n",
    "    etabins = np.array([etabins[0], 0, etabins[-1]])\n",
    "#     etabins = np.array([etabins[3], 0, etabins[-4]])\n",
    "else:\n",
    "    ptbins = output[response_key].axes[\"pt_gen\"].edges \n",
    "#     ptbins = ptbins[2:] #because there is a pt cut on pt gen and no point of fitting and plotting below that\n",
    "    ptbins_c = output[response_key].axes['pt_gen'].centers\n",
    "#     etabins = np.array([-5.191, -3.489, -3.139, -2.853,   -2.5, -2.322,  -1.93, -1.653, -1.305, -0.783,      0,  0.783,  1.305,  1.653,   1.93,  2.322,    2.5,  2.853,  3.139,  3.489, 5.191])\n",
    "    etabins = np.array([-5.191, -3, -2.5, -1.3, 0, 1.3, 2.5, 3, 5.191])"
   ]
  },
  {
   "cell_type": "markdown",
   "id": "26644246",
   "metadata": {},
   "source": [
    "### Square style"
   ]
  },
  {
   "cell_type": "code",
   "execution_count": 24,
   "id": "4f000d24",
   "metadata": {},
   "outputs": [],
   "source": [
    "all_samples = [key[11:] for key in output.keys() if 'ptresponse' in key]\n",
    "# (output['ptresponse_u']+output['ptresponse_ubar']+output['ptresponse_d']+output['ptresponse_dbar'])[:,sum,sum]\n",
    "q_hist = (output['ptresponse_u']+output['ptresponse_ubar']+output['ptresponse_d']+output['ptresponse_dbar']+output['ptresponse_s']+output['ptresponse_sbar'])[:,sum,sum]\n",
    "g_hist = (output['ptresponse_g'])[:,sum,sum]\n",
    "b_hist = (output['ptresponse_b']+output['ptresponse_bbar'])[:,sum,sum]\n",
    "c_hist = (output['ptresponse_c']+output['ptresponse_cbar'])[:,sum,sum]\n",
    "untagged_hist = (output['ptresponse_untagged'])[:,sum,sum]\n",
    "\n",
    "all_responses = {samp:output['ptresponse_'+samp] for samp in all_samples}\n",
    "all_hist = sum(all_responses.values())[:,sum,sum]"
   ]
  },
  {
   "cell_type": "code",
   "execution_count": 26,
   "id": "055e4699",
   "metadata": {},
   "outputs": [],
   "source": [
    "from pltStyle import pltStyle\n",
    "# from pltStyle import cols_cyc\n",
    "pltStyle(style='presentation-square')\n",
    "# plt.rcParams['figure.subplot.left'] = 0.162\n",
    "# plt.rcParams['figure.dpi'] = 150"
   ]
  },
  {
   "cell_type": "code",
   "execution_count": 27,
   "id": "54d36aff",
   "metadata": {},
   "outputs": [
    {
     "name": "stderr",
     "output_type": "stream",
     "text": [
      "/tmp/anpotreb/ipykernel_14393/1900336115.py:7: RuntimeWarning: invalid value encountered in true_divide\n",
      "  q_frac = (q_hist.values()/allhistval)[plot_range]\n",
      "/tmp/anpotreb/ipykernel_14393/1900336115.py:8: RuntimeWarning: invalid value encountered in true_divide\n",
      "  g_frac = (g_hist.values()/allhistval)[plot_range]\n",
      "/tmp/anpotreb/ipykernel_14393/1900336115.py:9: RuntimeWarning: invalid value encountered in true_divide\n",
      "  b_frac = (b_hist.values()/allhistval)[plot_range]\n",
      "/tmp/anpotreb/ipykernel_14393/1900336115.py:10: RuntimeWarning: invalid value encountered in true_divide\n",
      "  c_frac = (c_hist.values()/allhistval)[plot_range]\n",
      "/tmp/anpotreb/ipykernel_14393/1900336115.py:11: RuntimeWarning: invalid value encountered in true_divide\n",
      "  unt_frac = (untagged_hist.values()/allhistval)[plot_range]\n"
     ]
    },
    {
     "name": "stdout",
     "output_type": "stream",
     "text": [
      "Saving plot with the name =  ../fig/fractions/fraction_L5_Herwig-QCD\n"
     ]
    },
    {
     "data": {
      "image/png": "[encoded data removed]",
      "text/plain": [
       "<Figure size 370x350 with 1 Axes>"
      ]
     },
     "metadata": {},
     "output_type": "display_data"
    }
   ],
   "source": [
    "# allhistval = (q_hist.values()**2/q_hist.variances()+g_hist.values()**2/g_hist.variances()+b_hist.values()**2/b_hist.variances()+c_hist.values()**2/c_hist.variances()+untagged_hist.values()**2/untagged_hist.variances())\n",
    "allhistval = q_hist.values()+g_hist.values()+b_hist.values()+q_hist.values()+c_hist.values()+untagged_hist.values()\n",
    "\n",
    "plot_range = range(0, len(ptbins_c)-6)\n",
    "# ptbins_c[plot_range]\n",
    "ptbins_c_plot = ptbins_c[plot_range]\n",
    "q_frac = (q_hist.values()/allhistval)[plot_range]\n",
    "g_frac = (g_hist.values()/allhistval)[plot_range]\n",
    "b_frac = (b_hist.values()/allhistval)[plot_range]\n",
    "c_frac = (c_hist.values()/allhistval)[plot_range]\n",
    "unt_frac = (untagged_hist.values()/allhistval)[plot_range]\n",
    "\n",
    "fig, ax = plt.subplots()\n",
    "ax.plot(ptbins_c_plot, q_frac, 'o', label=\"uds\")\n",
    "ax.plot(ptbins_c_plot, c_frac, 'o', label=\"c\")\n",
    "ax.plot(ptbins_c_plot, b_frac, 'o', label=\"b\")\n",
    "ax.plot(ptbins_c_plot, g_frac, 'o', label=\"g\")\n",
    "ax.plot(ptbins_c_plot, unt_frac, 'o', label=\"untagged\")\n",
    "ax.set_xscale('log')\n",
    "ax.set_xlabel('$p_{T,Gen}$ (GeV)')\n",
    "ax.set_ylabel(\"Flavor fraction\")\n",
    "# fig.suptitle(\"Blaaah $x^2_5$\")\n",
    "\n",
    "xlims = ax.get_xlim()\n",
    "\n",
    "ax.set_xticks([])\n",
    "ax.set_xticks([10, 20, 50, 100, 200, 500, 1000, 2000, 5000])\n",
    "ax.get_xaxis().set_major_formatter(mpl.ticker.ScalarFormatter())\n",
    "leg1 = ax.legend(ncol=2)\n",
    "\n",
    "ax.set_xlim(xlims)\n",
    "\n",
    "import os\n",
    "if not os.path.exists(\"../fig/fractions\"):\n",
    "    os.mkdir(\"../fig/fractions\")\n",
    "    \n",
    "fig_name = '../fig/fractions/fraction'+tag_full\n",
    "print(\"Saving plot with the name = \", fig_name)\n",
    "plt.savefig(fig_name+'.pdf');\n",
    "plt.savefig(fig_name+'.png');\n",
    "\n",
    "# ptbins_c\n",
    "1;"
   ]
  },
  {
   "cell_type": "code",
   "execution_count": null,
   "id": "c81c10bd",
   "metadata": {},
   "outputs": [],
   "source": []
  }
 ],
 "metadata": {
  "kernelspec": {
   "display_name": "Python 3 (ipykernel)",
   "language": "python",
   "name": "python3"
  },
  "language_info": {
   "codemirror_mode": {
    "name": "ipython",
    "version": 3
   },
   "file_extension": ".py",
   "mimetype": "text/x-python",
   "name": "python",
   "nbconvert_exporter": "python",
   "pygments_lexer": "ipython3",
   "version": "3.9.12"
  }
 },
 "nbformat": 4,
 "nbformat_minor": 5
}
