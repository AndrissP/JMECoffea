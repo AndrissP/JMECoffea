{
 "cells": [
  {
   "cell_type": "code",
   "execution_count": 33,
   "id": "6ca42768",
   "metadata": {},
   "outputs": [],
   "source": [
    "### Print not only the last line in a cell\n",
    "from IPython.core.interactiveshell import InteractiveShell\n",
    "InteractiveShell.ast_node_interactivity = \"all\""
   ]
  },
  {
   "cell_type": "code",
   "execution_count": 34,
   "id": "b57f18e5",
   "metadata": {},
   "outputs": [],
   "source": [
    "import sys\n",
    "sys.path.insert(0,'/afs/cern.ch/user/a/anpotreb/top/JERC/JMECoffea')\n",
    "import numpy as np\n",
    "import matplotlib.pyplot as plt\n",
    "import matplotlib as mpl\n",
    "from coffea import util"
   ]
  },
  {
   "cell_type": "code",
   "execution_count": 35,
   "id": "b5a2eba9",
   "metadata": {},
   "outputs": [],
   "source": [
    "add_tag = '_QCD-JME-leading3jets' #-etaAut18'\n",
    "# add_tag = '_QCD-JME' #-etaAut18'\n",
    "\n",
    "tag_full = '_L5'+add_tag\n",
    "outname = '../out/CoffeaJERCOutputs'+tag_full+'.coffea'\n",
    "output = util.load(outname)"
   ]
  },
  {
   "cell_type": "code",
   "execution_count": 36,
   "id": "85a9bfca",
   "metadata": {},
   "outputs": [],
   "source": [
    "if \"Herwig-QCD\" in add_tag:\n",
    "    dataset_list_file = '../fileNames/xsecs_QCD_Herwig.txt'\n",
    "    with open(dataset_list_file) as f:\n",
    "        lines = f.readlines()\n",
    "    lines_split = [line.split() for line in lines]\n",
    "    file_dict = {lineii[0]: float(lineii[1]) for lineii in lines_split }\n",
    "else:\n",
    "    file_dict = 1"
   ]
  },
  {
   "cell_type": "code",
   "execution_count": 37,
   "id": "5e611704",
   "metadata": {},
   "outputs": [
    {
     "data": {
      "text/plain": [
       "1"
      ]
     },
     "execution_count": 37,
     "metadata": {},
     "output_type": "execute_result"
    }
   ],
   "source": [
    "file_dict\n",
    "file_dict2 = file_dict\n",
    "file_dict2 = {\n",
    "    \"HT50to100\": 56530.0,\n",
    "    \"HT100to200\": 11370.0*0.95,\n",
    "    \"HT200to300\": 883.5*1.1,\n",
    "    \"HT300to500\": 259.6*0.93,\n",
    "    \"HT500to700\": 23.63*1.06,\n",
    "    \"HT700to1000\": 4.943*1.15,\n",
    "    \"HT1000to1500\": 0.8013*1.35,\n",
    "    \"HT1500to2000\": 0.06815*1.6,\n",
    "    \"HT2000toInf\": 0.01245*1.75,\n",
    "}"
   ]
  },
  {
   "cell_type": "code",
   "execution_count": null,
   "id": "441cb226",
   "metadata": {},
   "outputs": [],
   "source": [
    "# allkeys"
   ]
  },
  {
   "cell_type": "code",
   "execution_count": 38,
   "id": "c3b38077",
   "metadata": {},
   "outputs": [],
   "source": [
    "def sum_subhist(output, hist_key, allkeys):\n",
    "    new_hist = 0\n",
    "    new_pt_hist = 0\n",
    "    for sample_key in file_dict2.keys():\n",
    "        response_hist = output[sample_key]['ptresponse'+hist_key]\n",
    "        pt_hist = output[sample_key]['reco_pt_sumwx'+hist_key]\n",
    "        hist_sum = response_hist.sum().value\n",
    "        \n",
    "        response_hist = response_hist/hist_sum*file_dict2[sample_key]\n",
    "        new_hist = new_hist + response_hist\n",
    "        pt_hist = pt_hist/hist_sum*file_dict2[sample_key]\n",
    "        new_pt_hist = new_pt_hist + pt_hist\n",
    "    return new_hist, new_pt_hist\n",
    "\n",
    "output_orig = output\n",
    "if 'Herwig-QCD' in add_tag:\n",
    "    all_samples = [key[10:] for key in output[next(iter(output.keys()))].keys() if 'ptresponse_' in key]\n",
    "    allkeys = set.union(*[set(output[key]) for key in output.keys()])\n",
    "    result = {}\n",
    "    for sample in all_samples:\n",
    "        new_hist, new_pt_hist = sum_subhist(output, sample, allkeys)\n",
    "        result['ptresponse'+sample] = new_hist\n",
    "        result['reco_pt_sumwx'+sample] = new_pt_hist  \n",
    "#     result = {key+sample: sum_subhist(output, sample, allkeys) for sample in all_samples for key in ['ptresponse', 'reco_pt_sumwx_']}\n",
    "    output = result\n",
    "else:\n",
    "    try:\n",
    "        output = output['QCD']\n",
    "    except KeyError:\n",
    "        output=output"
   ]
  },
  {
   "cell_type": "code",
   "execution_count": 39,
   "id": "03678fe9",
   "metadata": {},
   "outputs": [],
   "source": [
    "for key in output.keys():\n",
    "    if 'response' in key:\n",
    "        response_key = key\n",
    "        break"
   ]
  },
  {
   "cell_type": "code",
   "execution_count": 40,
   "id": "02dc171e",
   "metadata": {},
   "outputs": [],
   "source": [
    "fine_etabins=False\n",
    "one_bin=False\n",
    "if fine_etabins==True:\n",
    "    ptbins = np.array([15, 40, 150, 400, 4000, 10000])\n",
    "    ptbins_c = (ptbins[:-1]+ptbins[1:])/2\n",
    "    etabins = output[response_key].axes[\"jeteta\"].edges #output['ptresponse'].axis('jeteta').edges()\n",
    "elif one_bin==True:\n",
    "    ptbins = np.array([15, 10000])\n",
    "    ptbins_c = (ptbins[:-1]+ptbins[1:])/2\n",
    "    etabins = np.array([-5, -3, -2.5, -1.3, 0, 1.3, 2.5, 3, 5])\n",
    "    etabins = np.array([etabins[0], 0, etabins[-1]])\n",
    "#     etabins = np.array([etabins[3], 0, etabins[-4]])\n",
    "else:\n",
    "    ptbins = output[response_key].axes[\"pt_gen\"].edges \n",
    "#     ptbins = ptbins[2:] #because there is a pt cut on pt gen and no point of fitting and plotting below that\n",
    "    ptbins_c = output[response_key].axes['pt_gen'].centers\n",
    "#     etabins = np.array([-5.191, -3.489, -3.139, -2.853,   -2.5, -2.322,  -1.93, -1.653, -1.305, -0.783,      0,  0.783,  1.305,  1.653,   1.93,  2.322,    2.5,  2.853,  3.139,  3.489, 5.191])\n",
    "    etabins = np.array([-5.191, -3, -2.5, -1.3, 0, 1.3, 2.5, 3, 5.191])"
   ]
  },
  {
   "cell_type": "markdown",
   "id": "26644246",
   "metadata": {},
   "source": [
    "### Square style"
   ]
  },
  {
   "cell_type": "code",
   "execution_count": 41,
   "id": "55281e07",
   "metadata": {},
   "outputs": [],
   "source": [
    "from pltStyle import pltStyle\n",
    "pltStyle(style='paper')\n",
    "plt.rcParams['figure.subplot.left'] = 0.162\n",
    "plt.rcParams['figure.dpi'] = 150"
   ]
  },
  {
   "cell_type": "code",
   "execution_count": 42,
   "id": "0d852264",
   "metadata": {},
   "outputs": [],
   "source": [
    "plt.rcParams['figure.figsize'] = [3.7, 3.7]  #Latex text width =0.7*page width = 8.2 inches\n",
    "#        plt.rcParams['figure.subplot.wspace'] = 0.33\n",
    "plt.rcParams['figure.subplot.top'] = 0.87\n",
    "plt.rcParams['figure.subplot.bottom'] = 0.16\n",
    "plt.rcParams['figure.subplot.right'] = 0.97\n",
    "plt.rcParams['figure.subplot.left'] = 0.15\n",
    "# plt.rcParams['axes.prop_cycle'] = cols_cyc"
   ]
  },
  {
   "cell_type": "code",
   "execution_count": 43,
   "id": "5b6ad705",
   "metadata": {},
   "outputs": [],
   "source": [
    "all_samples = [key[10:] for key in output.keys() if 'ptresponse_' in key]"
   ]
  },
  {
   "cell_type": "code",
   "execution_count": 44,
   "id": "46a37cca",
   "metadata": {},
   "outputs": [
    {
     "data": {
      "text/plain": [
       "['_b',\n",
       " '_c',\n",
       " '_u',\n",
       " '_d',\n",
       " '_s',\n",
       " '_g',\n",
       " '_bbar',\n",
       " '_cbar',\n",
       " '_ubar',\n",
       " '_dbar',\n",
       " '_sbar',\n",
       " '_untagged']"
      ]
     },
     "execution_count": 44,
     "metadata": {},
     "output_type": "execute_result"
    }
   ],
   "source": [
    "all_samples"
   ]
  },
  {
   "cell_type": "code",
   "execution_count": 45,
   "id": "00ed5030",
   "metadata": {},
   "outputs": [],
   "source": [
    "# output.keys()"
   ]
  },
  {
   "cell_type": "code",
   "execution_count": 46,
   "id": "4f000d24",
   "metadata": {},
   "outputs": [],
   "source": [
    "# (output['ptresponse_u']+output['ptresponse_ubar']+output['ptresponse_d']+output['ptresponse_dbar'])[:,sum,sum]\n",
    "q_hist = (output['ptresponse_u']+output['ptresponse_ubar']+output['ptresponse_d']+output['ptresponse_dbar']+output['ptresponse_s']+output['ptresponse_sbar'])[:,sum,sum]\n",
    "g_hist = (output['ptresponse_g'])[:,sum,sum]\n",
    "b_hist = (output['ptresponse_b']+output['ptresponse_bbar'])[:,sum,sum]\n",
    "c_hist = (output['ptresponse_c']+output['ptresponse_cbar'])[:,sum,sum]\n",
    "untagged_hist = (output['ptresponse_untagged'])[:,sum,sum]\n",
    "\n",
    "# calculate all\n",
    "combine_samples = [samp[1:] for samp in all_samples]\n",
    "\n",
    "all_responses = {samp:output['ptresponse_'+samp] for samp in combine_samples}\n",
    "all_hist = sum(all_responses.values())[:,sum,sum]"
   ]
  },
  {
   "cell_type": "code",
   "execution_count": 47,
   "id": "f2d41adf",
   "metadata": {},
   "outputs": [],
   "source": [
    "# all_responses.keys()"
   ]
  },
  {
   "cell_type": "code",
   "execution_count": 48,
   "id": "a2b7bf75",
   "metadata": {},
   "outputs": [],
   "source": [
    "# import hist.hist\n",
    "# blah = (output['ptresponse_g'])[hist.loc(30):,sum,sum]\n",
    "# blah1 = (output['ptresponse_b']+output['ptresponse_bbar'])[hist.loc(30):,sum,sum]"
   ]
  },
  {
   "cell_type": "code",
   "execution_count": 49,
   "id": "45476bfe",
   "metadata": {},
   "outputs": [],
   "source": [
    "# blah.sum().value**2/blah.sum().variance\n",
    "\n",
    "# blah1.sum().value**2/blah1.sum().variance"
   ]
  },
  {
   "cell_type": "code",
   "execution_count": 50,
   "id": "a441e46d",
   "metadata": {},
   "outputs": [],
   "source": [
    "# (q_hist.values()**2/q_hist.variances()+g_hist.values()**2/g_hist.variances()+b_hist.values()**2/b_hist.variances()+c_hist.values()**2/c_hist.variances()+untagged_hist.values()**2/untagged_hist.variances())/allhistval\n"
   ]
  },
  {
   "cell_type": "code",
   "execution_count": 52,
   "id": "54d36aff",
   "metadata": {},
   "outputs": [
    {
     "name": "stdout",
     "output_type": "stream",
     "text": [
      "Saving plot with the name =  ../fig/fractions/fraction_L5_QCD-JME-leading3jets\n"
     ]
    },
    {
     "data": {
      "image/png": "[encoded data removed]",
      "text/plain": [
       "<Figure size 555x555 with 1 Axes>"
      ]
     },
     "metadata": {},
     "output_type": "display_data"
    }
   ],
   "source": [
    "# allhistval = all_hist.values()**2/all_hist.variances()\n",
    "# allhistval[allhistval==0] = np.nan\n",
    "allhistval = (q_hist.values()**2/q_hist.variances()+g_hist.values()**2/g_hist.variances()+b_hist.values()**2/b_hist.variances()+c_hist.values()**2/c_hist.variances()+untagged_hist.values()**2/untagged_hist.variances())\n",
    "# allhistval = (q_hist.values()**2/q_hist.variances()+g_hist.values()**2/g_hist.variances()+b_hist.values()**2/b_hist.variances()+c_hist.values()**2/c_hist.variances())\n",
    "\n",
    "\n",
    "plot_range = range(0, len(ptbins_c)-6)\n",
    "# ptbins_c[plot_range]\n",
    "ptbins_c_plot = ptbins_c[plot_range]\n",
    "q_frac = (q_hist.values()**2/q_hist.variances()/allhistval)[plot_range]\n",
    "g_frac = (g_hist.values()**2/g_hist.variances()/allhistval)[plot_range]\n",
    "b_frac = (b_hist.values()**2/b_hist.variances()/allhistval)[plot_range]\n",
    "c_frac = (c_hist.values()**2/c_hist.variances()/allhistval)[plot_range]\n",
    "unt_frac = (untagged_hist.values()**2/untagged_hist.variances()/allhistval)[plot_range]\n",
    "\n",
    "fig, ax = plt.subplots()\n",
    "ax.plot(ptbins_c_plot, q_frac, 'o', label=\"uds\")\n",
    "ax.plot(ptbins_c_plot, c_frac, 'o', label=\"c\")\n",
    "ax.plot(ptbins_c_plot, b_frac, 'o', label=\"b\")\n",
    "ax.plot(ptbins_c_plot, g_frac, 'o', label=\"g\")\n",
    "ax.plot(ptbins_c_plot, unt_frac, 'o', label=\"untagged\")\n",
    "ax.set_xscale('log')\n",
    "ax.set_xlabel('$p_{T,Gen}$ (GeV)')\n",
    "ax.set_ylabel(\"Flavor fraction\")\n",
    "\n",
    "xlims = ax.get_xlim()\n",
    "\n",
    "ax.set_xticks([])\n",
    "ax.set_xticks([10, 20, 50, 100, 200, 500, 1000, 2000, 5000])\n",
    "ax.get_xaxis().set_major_formatter(mpl.ticker.ScalarFormatter())\n",
    "leg1 = ax.legend(ncol=2)\n",
    "\n",
    "ax.set_xlim(xlims)\n",
    "\n",
    "import os\n",
    "if not os.path.exists(\"../fig/fractions\"):\n",
    "    os.mkdir(\"../fig/fractions\")\n",
    "    \n",
    "fig_name = '../fig/fractions/fraction'+tag_full\n",
    "print(\"Saving plot with the name = \", fig_name)\n",
    "plt.savefig(fig_name+'.pdf');\n",
    "plt.savefig(fig_name+'.png');\n",
    "\n",
    "# ptbins_c\n",
    "1;"
   ]
  },
  {
   "cell_type": "code",
   "execution_count": null,
   "id": "44460550",
   "metadata": {},
   "outputs": [],
   "source": []
  },
  {
   "cell_type": "code",
   "execution_count": null,
   "id": "c81c10bd",
   "metadata": {},
   "outputs": [],
   "source": []
  }
 ],
 "metadata": {
  "kernelspec": {
   "display_name": "Python 3 (ipykernel)",
   "language": "python",
   "name": "python3"
  },
  "language_info": {
   "codemirror_mode": {
    "name": "ipython",
    "version": 3
   },
   "file_extension": ".py",
   "mimetype": "text/x-python",
   "name": "python",
   "nbconvert_exporter": "python",
   "pygments_lexer": "ipython3",
   "version": "3.9.12"
  }
 },
 "nbformat": 4,
 "nbformat_minor": 5
}
