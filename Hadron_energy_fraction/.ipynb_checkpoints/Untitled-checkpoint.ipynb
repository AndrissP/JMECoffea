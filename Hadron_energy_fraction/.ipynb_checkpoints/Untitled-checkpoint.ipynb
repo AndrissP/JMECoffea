{
 "cells": [
  {
   "cell_type": "code",
   "execution_count": null,
   "id": "908ee884",
   "metadata": {},
   "outputs": [],
   "source": [
    "import pickle \n",
    "\n",
    "# with open(\"hadrons/Pythia_bad_jets.pkl\", \"wb\") as f:\n",
    "#     pickle.dump(h, f)\n",
    "\n",
    "# with open(\"hadrons/Pythia.pkl\", \"rb\") as f:\n",
    "#     h = pickle.load(f)\n",
    "# Py = True\n",
    "\n",
    "# with open(\"hadrons/Herwig.pkl\", \"rb\") as f:\n",
    "#     h = pickle.load(f)\n",
    "# Py = False"
   ]
  }
 ],
 "metadata": {
  "kernelspec": {
   "display_name": "Python 3 (ipykernel)",
   "language": "python",
   "name": "python3"
  },
  "language_info": {
   "codemirror_mode": {
    "name": "ipython",
    "version": 3
   },
   "file_extension": ".py",
   "mimetype": "text/x-python",
   "name": "python",
   "nbconvert_exporter": "python",
   "pygments_lexer": "ipython3",
   "version": "3.9.12"
  }
 },
 "nbformat": 4,
 "nbformat_minor": 5
}
